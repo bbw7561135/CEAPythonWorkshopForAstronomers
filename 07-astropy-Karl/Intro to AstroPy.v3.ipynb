{
 "metadata": {
  "kernelspec": {
   "display_name": "Python 2",
   "language": "python",
   "name": "python2"
  },
  "language_info": {
   "codemirror_mode": {
    "name": "ipython",
    "version": 2
   },
   "file_extension": ".py",
   "mimetype": "text/x-python",
   "name": "python",
   "nbconvert_exporter": "python",
   "pygments_lexer": "ipython2",
   "version": "2.7.9"
  },
  "name": ""
 },
 "nbformat": 3,
 "nbformat_minor": 0,
 "worksheets": [
  {
   "cells": [
    {
     "cell_type": "code",
     "collapsed": true,
     "input": [
      "import numpy as np\n",
      "from matplotlib import pyplot as plt\n",
      "from IPython.display import HTML\n",
      "%matplotlib inline"
     ],
     "language": "python",
     "metadata": {},
     "outputs": [],
     "prompt_number": null
    },
    {
     "cell_type": "markdown",
     "metadata": {},
     "source": [
      "<img src=\"astropy_banner_96.png\"/>\n",
      "\n",
      "# AstroPy: Basic Astronomy tools in Python\n",
      "Karl Kosack (SAp, LEPCHE)"
     ]
    },
    {
     "cell_type": "markdown",
     "metadata": {},
     "source": [
      "## What is AstroPy?\n",
      "\n",
      "WebSite and Documentation : http://www.astropy.org\n",
      "\n",
      "Previously there were a number of astronomy-realted packages that were scattered throughout the Python world. Generally each had a specific use, and they were not interoperable. \n",
      "\n",
      "<span style=\"color: darkcyan\">Recently, AstroPy changed all that! now there is a **central package with all astronomy-related modules**! It collects the best of what was available, and provides a unified interface. </span>"
     ]
    },
    {
     "cell_type": "code",
     "collapsed": false,
     "input": [
      "HTML('<iframe src=\"http://docs.astropy.org/en/stable/\" width=800 height=500></iframe>')"
     ],
     "language": "python",
     "metadata": {},
     "outputs": [],
     "prompt_number": null
    },
    {
     "cell_type": "markdown",
     "metadata": {},
     "source": [
      "###What we will cover:\n",
      "\n",
      "* Units and Constants\n",
      "* Coordinates Systems\n",
      "    * spatial \n",
      "    * time\n",
      "* Astronomical Table Access\n",
      "* Astronomical Image Access\n",
      "----------------"
     ]
    },
    {
     "cell_type": "code",
     "collapsed": false,
     "input": [
      "# CHECK THAT YOU HAVE THE CORRECT VERSION (should be >1.0)\n",
      "import astropy\n",
      "print astropy.__version__"
     ],
     "language": "python",
     "metadata": {},
     "outputs": [
      {
       "output_type": "stream",
       "stream": "stdout",
       "text": [
        "1.0.1\n"
       ]
      }
     ],
     "prompt_number": 5
    },
    {
     "cell_type": "markdown",
     "metadata": {},
     "source": [
      "if you didn't follow the install intructions, run the following in your terminal:\n",
      "```bash\n",
      "$ conda update astropy\n",
      "```\n",
      "----------------------"
     ]
    },
    {
     "cell_type": "markdown",
     "metadata": {},
     "source": [
      "## Units and Constants\n",
      "\n",
      "Very useful when doing computations in Python! Units are **convertable**, **combinable**,  and **propegate automatically**!"
     ]
    },
    {
     "cell_type": "code",
     "collapsed": true,
     "input": [
      "from astropy import units as u"
     ],
     "language": "python",
     "metadata": {},
     "outputs": [],
     "prompt_number": null
    },
    {
     "cell_type": "markdown",
     "metadata": {},
     "source": [
      "Defining a quanity that has a unit:"
     ]
    },
    {
     "cell_type": "code",
     "collapsed": false,
     "input": [
      "d = 12.3 * u.kpc\n",
      "M = np.linspace( 50,60,10 ) * u.kg\n",
      "\n",
      "print d\n",
      "print M"
     ],
     "language": "python",
     "metadata": {},
     "outputs": [],
     "prompt_number": null
    },
    {
     "cell_type": "markdown",
     "metadata": {},
     "source": [
      "Note that units are associated with a scalar or an NDArray, and are thus efficient (only one per n-dimensional vector)\n",
      "\n",
      "Now let's see the power of units:\n",
      "\n",
      "### Simple Unit Conversion"
     ]
    },
    {
     "cell_type": "code",
     "collapsed": false,
     "input": [
      "print d.to( u.m )\n",
      "print d.to( u.Angstrom )\n",
      "print d.to( u.imperial.foot )\n",
      "print d.to( u.lightyear )\n",
      "\n",
      "# can also use a string representation:\n",
      "print d.to( \"m\" )"
     ],
     "language": "python",
     "metadata": {},
     "outputs": [],
     "prompt_number": null
    },
    {
     "cell_type": "code",
     "collapsed": false,
     "input": [
      "print d.to( u.kg )   # this fails of course! "
     ],
     "language": "python",
     "metadata": {},
     "outputs": [],
     "prompt_number": null
    },
    {
     "cell_type": "markdown",
     "metadata": {},
     "source": [
      "Getting at the value directly: use the ``value`` property (useful if you need to pass something that has units into a function that doesn't understand units, like for plotting)"
     ]
    },
    {
     "cell_type": "code",
     "collapsed": false,
     "input": [
      "print \"Distance in feet=\", d.to( u.imperial.foot).value   #strips off any units"
     ],
     "language": "python",
     "metadata": {},
     "outputs": [],
     "prompt_number": null
    },
    {
     "cell_type": "heading",
     "level": 3,
     "metadata": {},
     "source": [
      "Composing units"
     ]
    },
    {
     "cell_type": "code",
     "collapsed": false,
     "input": [
      "dNdE = 1e-10 * u.TeV/u.cm**2/u.s\n",
      "print dNdE"
     ],
     "language": "python",
     "metadata": {
      "scrolled": true
     },
     "outputs": [],
     "prompt_number": null
    },
    {
     "cell_type": "code",
     "collapsed": false,
     "input": [
      "dNdE   # the IPython Notebook knows how to do it in a nicer way! "
     ],
     "language": "python",
     "metadata": {},
     "outputs": [],
     "prompt_number": null
    },
    {
     "cell_type": "code",
     "collapsed": false,
     "input": [],
     "language": "python",
     "metadata": {},
     "outputs": [],
     "prompt_number": null
    },
    {
     "cell_type": "markdown",
     "metadata": {},
     "source": [
      "You can even convert between complex units:"
     ]
    },
    {
     "cell_type": "code",
     "collapsed": false,
     "input": [
      "print dNdE.to( u.erg/u.m**2 * u.Hz)\n",
      "print dNdE.to( \"erg cm^-2 s^-1\")"
     ],
     "language": "python",
     "metadata": {},
     "outputs": [],
     "prompt_number": null
    },
    {
     "cell_type": "markdown",
     "metadata": {},
     "source": [
      "get the unit string in LaTeX:"
     ]
    },
    {
     "cell_type": "code",
     "collapsed": false,
     "input": [
      "print dNdE.unit.to_string(format='latex')\n",
      "dNdE.unit   # in notebook, automatically will \"pretty print\""
     ],
     "language": "python",
     "metadata": {
      "scrolled": false
     },
     "outputs": [],
     "prompt_number": null
    },
    {
     "cell_type": "markdown",
     "metadata": {},
     "source": [
      "Lots of astonomy-compatible string representations!"
     ]
    },
    {
     "cell_type": "code",
     "collapsed": false,
     "input": [
      "print dNdE.unit.to_string( format='vounit' )  #virtual-observatory complient\n",
      "print dNdE.unit.to_string( format='fits' )    # FITS complient\n",
      "print dNdE.unit.to_string( format='cds' )     #CDS Strasbourg table complient\n",
      "print dNdE.unit.to_string( format='console' ) # console pretty-print"
     ],
     "language": "python",
     "metadata": {},
     "outputs": [],
     "prompt_number": null
    },
    {
     "cell_type": "heading",
     "level": 4,
     "metadata": {},
     "source": [
      "Other interesting things you can do:"
     ]
    },
    {
     "cell_type": "code",
     "collapsed": false,
     "input": [
      "print dNdE.cgs\n",
      "print dNdE.si\n",
      "print u.Newton.decompose()"
     ],
     "language": "python",
     "metadata": {},
     "outputs": [],
     "prompt_number": null
    },
    {
     "cell_type": "code",
     "collapsed": false,
     "input": [
      "u.kg.find_equivalent_units()"
     ],
     "language": "python",
     "metadata": {},
     "outputs": [],
     "prompt_number": null
    },
    {
     "cell_type": "code",
     "collapsed": false,
     "input": [
      "# How much do I weigh in Solar Masses?\n",
      "(85*u.kg).to( u.M_sun )"
     ],
     "language": "python",
     "metadata": {},
     "outputs": [],
     "prompt_number": null
    },
    {
     "cell_type": "markdown",
     "metadata": {},
     "source": [
      "There are also many **CONSTANTS** that are defined in ``astropy.constants``.  Constants are  Quantities that have units units, and also have some extra metadata (a bibliographical reference, and error)"
     ]
    },
    {
     "cell_type": "code",
     "collapsed": false,
     "input": [
      "from astropy import constants"
     ],
     "language": "python",
     "metadata": {},
     "outputs": [],
     "prompt_number": null
    },
    {
     "cell_type": "code",
     "collapsed": false,
     "input": [
      "print  constants.M_sun"
     ],
     "language": "python",
     "metadata": {
      "scrolled": true
     },
     "outputs": [],
     "prompt_number": null
    },
    {
     "cell_type": "code",
     "collapsed": false,
     "input": [
      "print constants.R_jup"
     ],
     "language": "python",
     "metadata": {},
     "outputs": [],
     "prompt_number": null
    },
    {
     "cell_type": "code",
     "collapsed": false,
     "input": [
      "print \"Jupiter's radius is\",constants.R_jup.to( u.km )\n",
      "print \"Jupiter is\",constants.R_jup/constants.R_earth,\" x the radius of earth\""
     ],
     "language": "python",
     "metadata": {},
     "outputs": [],
     "prompt_number": null
    },
    {
     "cell_type": "heading",
     "level": 3,
     "metadata": {},
     "source": [
      "Advanced unit conversion:"
     ]
    },
    {
     "cell_type": "code",
     "collapsed": false,
     "input": [
      "nu = np.logspace(1,5,100) * u.Hz\n",
      "Y = 100*(nu/1*u.Hz)**(-2.0)\n",
      "\n",
      "plt.loglog( nu.value, Y.value)\n",
      "plt.xlabel(\"Frequency (Hz)\")"
     ],
     "language": "python",
     "metadata": {},
     "outputs": [],
     "prompt_number": null
    },
    {
     "cell_type": "markdown",
     "metadata": {},
     "source": [
      "Let's convert this now from frequency (Hz) to energy (erg)! "
     ]
    },
    {
     "cell_type": "code",
     "collapsed": false,
     "input": [
      "E = nu.to( u.erg )"
     ],
     "language": "python",
     "metadata": {},
     "outputs": [],
     "prompt_number": null
    },
    {
     "cell_type": "markdown",
     "metadata": {},
     "source": [
      "Of course, that fails, since there is a factor of planck's constant that we need to apply... We could do it using astropy.constants.h, but there's an even better way: **units can have some physics knowledge!**.  This is expressed by giving an *equivalencies* option:"
     ]
    },
    {
     "cell_type": "code",
     "collapsed": false,
     "input": [
      "E = nu.to( u.eV, equivalencies=u.spectral() )\n",
      "print E.unit"
     ],
     "language": "python",
     "metadata": {},
     "outputs": [],
     "prompt_number": null
    },
    {
     "cell_type": "code",
     "collapsed": false,
     "input": [
      "plt.loglog( E.value, Y.value )\n",
      "plt.xlabel( \"eV\" )"
     ],
     "language": "python",
     "metadata": {},
     "outputs": [],
     "prompt_number": null
    },
    {
     "cell_type": "code",
     "collapsed": false,
     "input": [
      "print dir(u.equivalencies)"
     ],
     "language": "python",
     "metadata": {},
     "outputs": [],
     "prompt_number": null
    },
    {
     "cell_type": "markdown",
     "metadata": {},
     "source": [
      "\n",
      "-----------------------------------------\n",
      "\n",
      "## Coordinates and Times\n",
      "Some common task in astronomy are:\n",
      "* convert positions between spatial coordinate systems\n",
      "* lookup the coordinates of an object by name\n",
      "* work with times, and convert them between time representations"
     ]
    },
    {
     "cell_type": "code",
     "collapsed": true,
     "input": [
      "from astropy import coordinates as c\n",
      "from astropy import time as t"
     ],
     "language": "python",
     "metadata": {},
     "outputs": [],
     "prompt_number": null
    },
    {
     "cell_type": "markdown",
     "metadata": {},
     "source": [
      "First, let's get a coordinate object and play with it! (let's start with the cool stuff:)"
     ]
    },
    {
     "cell_type": "code",
     "collapsed": false,
     "input": [
      "crabpos = c.SkyCoord.from_name( \"Crab Nebula\" ) \n",
      "print crabpos\n",
      "print \"--------\"\n",
      "print crabpos.ra\n",
      "print crabpos.ra.deg\n",
      "print crabpos.ra.hour"
     ],
     "language": "python",
     "metadata": {},
     "outputs": [],
     "prompt_number": null
    },
    {
     "cell_type": "markdown",
     "metadata": {},
     "source": [
      "Some cool features of SkyCoords:"
     ]
    },
    {
     "cell_type": "code",
     "collapsed": false,
     "input": [
      "etacarpos = c.SkyCoord.from_name(\"Eta Car\")\n",
      "print \"Distance from Eta Car to the Crab is: \", etacarpos.separation( crabpos )"
     ],
     "language": "python",
     "metadata": {},
     "outputs": [],
     "prompt_number": null
    },
    {
     "cell_type": "code",
     "collapsed": false,
     "input": [
      "print c.SkyCoord(\"12h16m35s\", \"-10d45m19s\") #other string formats are automaticaly understood\n",
      "\n",
      "# or we can use values directly:\n",
      "pos1 = c.SkyCoord( 10*u.hour, -20*u.deg )   \n",
      "print pos1\n",
      "\n",
      "# let's make one in another frame (default was ICRS, but let's use FK4, i.e. \"B1950\")\n",
      "pos2 = c.SkyCoord( 10*u.hour, -20*u.deg, frame=c.FK4)\n",
      "print pos2"
     ],
     "language": "python",
     "metadata": {},
     "outputs": [],
     "prompt_number": null
    },
    {
     "cell_type": "code",
     "collapsed": false,
     "input": [
      "# note that RA/Dec expressed ICRS and FK4 are not the same! \n",
      "# What is the angualr distance between our two coordinates?\n",
      "pos1.separation(pos2)"
     ],
     "language": "python",
     "metadata": {},
     "outputs": [],
     "prompt_number": null
    },
    {
     "cell_type": "code",
     "collapsed": false,
     "input": [
      "print \"sep in deg:\", pos1.separation(pos2).deg\n",
      "print \"sep in rad:\", pos1.separation(pos2).rad"
     ],
     "language": "python",
     "metadata": {},
     "outputs": [],
     "prompt_number": null
    },
    {
     "cell_type": "markdown",
     "metadata": {},
     "source": [
      "Let's do some conversion: just use the appriate property:\n",
      "* icrs\n",
      "* fk5\n",
      "* fk4\n",
      "* galactic\n",
      "* galactocentric\n",
      "* altaz (see later...)"
     ]
    },
    {
     "cell_type": "code",
     "collapsed": false,
     "input": [
      "print \"ICRS:\", pos1.icrs\n",
      "print \"GALACTIC:\", pos1.galactic  # common helper attribute\n",
      "print \"GALACTIC:\", pos1.transform_to( c.Galactic )  # more general: transform to a frame\n",
      "print \"\"\n",
      "print \"\"\n",
      "print  \"The Crab Nebula is {0:.1f} deg off-plane\"\\\n",
      "    .format(crabpos.galactic.b.deg)"
     ],
     "language": "python",
     "metadata": {
      "scrolled": true
     },
     "outputs": [],
     "prompt_number": null
    },
    {
     "cell_type": "heading",
     "level": 3,
     "metadata": {},
     "source": [
      "More complex conversion: go from RA/Dec to Alt/Az! "
     ]
    },
    {
     "cell_type": "code",
     "collapsed": false,
     "input": [
      "crab = c.SkyCoord.from_name(\"Crab Nebula\")\n",
      "\n",
      "# need to know two pieces of info: Location on Earth + time!\n",
      "paris = c.EarthLocation( lat=48.8567*u.deg, lon=2.3508*u.deg )\n",
      "print paris\n",
      "\n",
      "now = t.Time.now()  # gets the current time\n",
      "print now\n",
      "\n",
      "crab_altaz = crab.transform_to( c.AltAz(obstime=now, location=paris) )\n",
      "\n",
      "print \"CRAB IS AT ELEVATION: {0:.3f} deg , AZIMUTH: {1:.3f} deg\"\\\n",
      "    .format( crab_altaz.alt.deg, crab_altaz.az.deg)"
     ],
     "language": "python",
     "metadata": {},
     "outputs": [],
     "prompt_number": null
    },
    {
     "cell_type": "markdown",
     "metadata": {},
     "source": [
      "> NOTE: you can even give an atmospheric pressure to the AltAz frame to get even more accuracy with refraction corrections!"
     ]
    },
    {
     "cell_type": "markdown",
     "metadata": {},
     "source": [
      "### Time Conversion\n",
      "Times are similar to SkyCoordinates, so we won't go into as much detail.  \n"
     ]
    },
    {
     "cell_type": "code",
     "collapsed": false,
     "input": [
      "obs = t.Time( \"2015-10-11 15:17:45.3\", format=\"iso\", scale=\"utc\")\n",
      "print obs\n",
      "print obs.mjd  # Modified Julian Day\n",
      "print obs.gps  # GPS time\n",
      "print obs.unix # UNIX timestamp\n",
      "print obs.iso  # ISO string\n",
      "print obs.isot # ISO string with T\n",
      "print obs.tt   # Terrestrial Time\n",
      "print obs.tai  # International atomic time\n",
      "print obs.datetime # python datetime object\n",
      "# etc..."
     ],
     "language": "python",
     "metadata": {},
     "outputs": [],
     "prompt_number": null
    },
    {
     "cell_type": "markdown",
     "metadata": {},
     "source": [
      "How about differences?"
     ]
    },
    {
     "cell_type": "code",
     "collapsed": false,
     "input": [
      "t0 = t.Time( \"2000-01-01\" ) # defaults to ISO UTC\n",
      "t1 = t.Time.now()\n",
      "\n",
      "diff = t1-t0\n",
      "diff"
     ],
     "language": "python",
     "metadata": {},
     "outputs": [],
     "prompt_number": null
    },
    {
     "cell_type": "code",
     "collapsed": false,
     "input": [
      "print \"time since {0} is {1} seconds\".format( t0, diff.sec)"
     ],
     "language": "python",
     "metadata": {},
     "outputs": [],
     "prompt_number": null
    },
    {
     "cell_type": "code",
     "collapsed": false,
     "input": [
      "# Generally it's good to work with vectors of times, since it's faster.\n",
      "# let's make a time vector and add some times\n",
      "\n",
      "t0 = t.Time('1999-01-01T00:00:00.123456789')\n",
      "dt = t.TimeDelta( 1*u.day )\n",
      "deltas = dt * np.linspace(0.,1.,12)\n",
      "\n",
      "times = t0 + deltas\n",
      "print times.iso"
     ],
     "language": "python",
     "metadata": {},
     "outputs": [],
     "prompt_number": null
    },
    {
     "cell_type": "code",
     "collapsed": false,
     "input": [
      "t0 = t.Time('1999-01-01T00:00:00.123456789')\n",
      "dt = t.TimeDelta( 1*u.minute )\n",
      "deltas = dt * np.linspace(0.,5000,100)\n",
      "\n",
      "crab_altaz = crab.transform_to( c.AltAz(obstime=times, location=paris) )\n",
      "\n",
      "plt.plot( times.jd, crab_altaz.alt )\n",
      "plt.ylabel(\"Altitude of Crab\")\n"
     ],
     "language": "python",
     "metadata": {},
     "outputs": [],
     "prompt_number": null
    },
    {
     "cell_type": "markdown",
     "metadata": {},
     "source": [
      "\n",
      "-----------------------------------\n",
      "\n",
      "## Table Access\n",
      "\n",
      "One of the most powerful tools in AstroPy is the table access library.  It allows one to work with tables in many different formats with ease! You don't even normally have to care what the format is.\n",
      "\n",
      "### reading tables"
     ]
    },
    {
     "cell_type": "code",
     "collapsed": false,
     "input": [
      "from astropy import table\n",
      "\n",
      "# let's open an existing FITS table:\n",
      "\n",
      "atnf = table.Table.read( \"atnf_PSR_07.fits\" )\n"
     ],
     "language": "python",
     "metadata": {
      "scrolled": true
     },
     "outputs": [],
     "prompt_number": null
    },
    {
     "cell_type": "code",
     "collapsed": false,
     "input": [
      "atnf"
     ],
     "language": "python",
     "metadata": {
      "scrolled": true
     },
     "outputs": [],
     "prompt_number": null
    },
    {
     "cell_type": "code",
     "collapsed": false,
     "input": [
      "print \"COLUMNS:\",atnf.colnames\n",
      "print \"\"\n",
      "print \"HEADERS:\"\n",
      "for key in atnf.meta:   # headers are key=value in an OrderedDict\n",
      "    print \"    -> \",key,\"=\",atnf.meta[key]"
     ],
     "language": "python",
     "metadata": {},
     "outputs": [],
     "prompt_number": null
    },
    {
     "cell_type": "code",
     "collapsed": false,
     "input": [
      "atnf['NAME']"
     ],
     "language": "python",
     "metadata": {},
     "outputs": [],
     "prompt_number": null
    },
    {
     "cell_type": "code",
     "collapsed": false,
     "input": [
      "# make a smaller table from this table, with only the cols you want:\n",
      "small = atnf['NAME','RA_OBJ','DEC_OBJ']\n",
      "small"
     ],
     "language": "python",
     "metadata": {},
     "outputs": [],
     "prompt_number": null
    },
    {
     "cell_type": "markdown",
     "metadata": {},
     "source": [
      "The display in the Notebook is nice, but we can also do it fancier:"
     ]
    },
    {
     "cell_type": "code",
     "collapsed": true,
     "input": [
      "atnf.show_in_browser( jsviewer=True )"
     ],
     "language": "python",
     "metadata": {},
     "outputs": [],
     "prompt_number": null
    },
    {
     "cell_type": "markdown",
     "metadata": {},
     "source": [
      "> Note that it is just concidence that we loaded a FITS table. We will see later we can load   >  tables in nearly any format! ASCII (multiple formats), HDF5, HTML, LATEX, etc. Even very  >astro-specific formats like **ascii.sextractor**.\n",
      "\n",
      "###Tables and Columns act like NumPy NDArrays! "
     ]
    },
    {
     "cell_type": "code",
     "collapsed": false,
     "input": [
      "print atnf['EDOTD2'][10:15] # just entries 10 to 15\n",
      "print atnf[10:15]# just entries 10 to 15"
     ],
     "language": "python",
     "metadata": {},
     "outputs": [],
     "prompt_number": null
    },
    {
     "cell_type": "code",
     "collapsed": false,
     "input": [
      "# you can even get at just the data exactly as NumPy array:\n",
      "atnf['EDOTD2'].data"
     ],
     "language": "python",
     "metadata": {},
     "outputs": [],
     "prompt_number": null
    },
    {
     "cell_type": "markdown",
     "metadata": {},
     "source": [
      "so you can use the same slicing features of NumPy to make selections of your data!"
     ]
    },
    {
     "cell_type": "code",
     "collapsed": false,
     "input": [
      "# find just the sources that have a spin-down flux above 1e36:\n",
      "selected = atnf[ atnf['EDOTD2'] > 1e36 ]\n",
      "selected"
     ],
     "language": "python",
     "metadata": {},
     "outputs": [],
     "prompt_number": null
    },
    {
     "cell_type": "code",
     "collapsed": false,
     "input": [
      "print \"The following {0} are very powerful pulsars!\".format( len(selected) )\n",
      "print selected['NAME']"
     ],
     "language": "python",
     "metadata": {},
     "outputs": [],
     "prompt_number": null
    },
    {
     "cell_type": "markdown",
     "metadata": {},
     "source": [
      "### writing tables\n",
      "Let's now write the selected pulsars to **another FITS file**!"
     ]
    },
    {
     "cell_type": "code",
     "collapsed": false,
     "input": [
      "selected.write(\"selected1.fits\")\n",
      "#that's it!\n",
      "\n",
      "#DEMO: open that fits file in a terminal..."
     ],
     "language": "python",
     "metadata": {},
     "outputs": [],
     "prompt_number": null
    },
    {
     "cell_type": "markdown",
     "metadata": {},
     "source": [
      "But that's not all: we have **many formats** to choose from:\n",
      "\n",
      "http://docs.astropy.org/en/stable/io/unified.html#built-in-table-readers-writers\n"
     ]
    },
    {
     "cell_type": "code",
     "collapsed": false,
     "input": [
      "selected.write(\"selected1.tex\", format=\"latex\") # publication ready!\n",
      "selected.write(\"snrs1.h5\", \"/SNRs\", format=\"hdf5\") # some need extra arguments\n",
      "\n",
      "! cat selected.tex\n"
     ],
     "language": "python",
     "metadata": {
      "scrolled": true
     },
     "outputs": [],
     "prompt_number": null
    },
    {
     "cell_type": "markdown",
     "metadata": {},
     "source": [
      "note that you can **read tables from URLs** too:\n",
      "    "
     ]
    },
    {
     "cell_type": "code",
     "collapsed": false,
     "input": [
      "snrs = table.Table.read(\"ftp://cdsarc.u-strasbg.fr/pub/cats/VII/253/snrs.dat\",\n",
      "                         readme=\"ftp://cdsarc.u-strasbg.fr/pub/cats/VII/253/ReadMe\",\n",
      "                         format=\"ascii.cds\")\n",
      "\n",
      "print \"COLS: \",snrs.colnames\n",
      "snrs[:5]"
     ],
     "language": "python",
     "metadata": {},
     "outputs": [],
     "prompt_number": null
    },
    {
     "cell_type": "markdown",
     "metadata": {},
     "source": [
      "### Making a table from scratch \n",
      "\n",
      "We don't always want to load a table to work with it.. SOmetimes we want to generate some data and write it to a table"
     ]
    },
    {
     "cell_type": "code",
     "collapsed": false,
     "input": [
      "a = [1, 4, 5]\n",
      "b = [2.0, 5.0, 8.2]\n",
      "c = ['x', 'y', 'z']\n",
      "t = table.Table([a, b, c], names=('a', 'b', 'c'), meta={'name': 'first table'})\n",
      "print t\n",
      "t.meta  # header keywords"
     ],
     "language": "python",
     "metadata": {},
     "outputs": [],
     "prompt_number": null
    },
    {
     "cell_type": "code",
     "collapsed": false,
     "input": [
      "table.Table?"
     ],
     "language": "python",
     "metadata": {},
     "outputs": [],
     "prompt_number": null
    },
    {
     "cell_type": "markdown",
     "metadata": {},
     "source": [
      "### Cool stuff: that I don't have time to show you\n",
      "* joining tables\n",
      "* fancy masking tables\n",
      "* stacking tables\n"
     ]
    },
    {
     "cell_type": "markdown",
     "metadata": {},
     "source": [
      "\n",
      "---------------------------\n",
      "\n",
      "\n",
      "## FITS Image access\n",
      "\n",
      "Ok, we can access FITS tables (and other kinds as well), but what about FITS images and datacubes?  For taht we need to go to the lower-level fits interface.  \n",
      "\n",
      "SOme of you make have used ``pyfits`` in the past. Development been moved ``astropy.io.fits`` (pyfits is not longer supported)"
     ]
    },
    {
     "cell_type": "code",
     "collapsed": true,
     "input": [
      "from astropy.io import fits\n"
     ],
     "language": "python",
     "metadata": {},
     "outputs": [],
     "prompt_number": null
    },
    {
     "cell_type": "code",
     "collapsed": false,
     "input": [
      "fitsfile = fits.open(\"vela_2.0-8.0_flux.fits\")\n",
      "\n",
      "fitsfile.info()\n"
     ],
     "language": "python",
     "metadata": {},
     "outputs": [],
     "prompt_number": null
    },
    {
     "cell_type": "code",
     "collapsed": false,
     "input": [
      "image = fitsfile[0] # first HDU (there's only one in this file, but may be more)"
     ],
     "language": "python",
     "metadata": {},
     "outputs": [],
     "prompt_number": null
    },
    {
     "cell_type": "code",
     "collapsed": false,
     "input": [
      "image.header"
     ],
     "language": "python",
     "metadata": {},
     "outputs": [],
     "prompt_number": null
    },
    {
     "cell_type": "markdown",
     "metadata": {},
     "source": [
      "get a header keyword:"
     ]
    },
    {
     "cell_type": "code",
     "collapsed": false,
     "input": [
      "print image.header['MJD_OBS']"
     ],
     "language": "python",
     "metadata": {},
     "outputs": [],
     "prompt_number": null
    },
    {
     "cell_type": "code",
     "collapsed": false,
     "input": [
      "image.data"
     ],
     "language": "python",
     "metadata": {
      "scrolled": true
     },
     "outputs": [],
     "prompt_number": null
    },
    {
     "cell_type": "markdown",
     "metadata": {},
     "source": [
      "It's just a **NumPy** ``NDArray`` again!  Easy to work with..."
     ]
    },
    {
     "cell_type": "code",
     "collapsed": false,
     "input": [
      "plt.imshow( image.data, origin='lower' )\n",
      "plt.colorbar()"
     ],
     "language": "python",
     "metadata": {},
     "outputs": [],
     "prompt_number": null
    },
    {
     "cell_type": "code",
     "collapsed": false,
     "input": [
      "print \"Value Range: \",image.data.min(), image.data.max()"
     ],
     "language": "python",
     "metadata": {},
     "outputs": [],
     "prompt_number": null
    },
    {
     "cell_type": "markdown",
     "metadata": {},
     "source": [
      "Let's scale the plot nicer by taking the SQRT and changing the min/max values"
     ]
    },
    {
     "cell_type": "code",
     "collapsed": false,
     "input": [
      "plt.imshow( np.sqrt(image.data), vmin=0, vmax=np.sqrt(0.3e-5), origin='lower' )\n",
      "plt.colorbar()"
     ],
     "language": "python",
     "metadata": {},
     "outputs": [],
     "prompt_number": null
    },
    {
     "cell_type": "code",
     "collapsed": false,
     "input": [
      "clip = image.data[100:300,100:300]\n",
      "plt.imshow( np.sqrt(clip)) "
     ],
     "language": "python",
     "metadata": {},
     "outputs": [],
     "prompt_number": null
    },
    {
     "cell_type": "heading",
     "level": 4,
     "metadata": {},
     "source": [
      "Basic Image Smoothing"
     ]
    },
    {
     "cell_type": "code",
     "collapsed": false,
     "input": [
      "from astropy import convolution as conv\n",
      "from astropy import visualization as vis\n",
      "from astropy.visualization.mpl_normalize import ImageNormalize\n",
      "\n",
      "# gaussian-smooth the image with a std of 8.0 pixelsl\n",
      "gauss = conv.Gaussian2DKernel( 8.0 )\n",
      "smooth = conv.convolve_fft( clip, gauss ) \n",
      "plt.imshow( np.sqrt(smooth), vmin=0, vmax=np.sqrt(0.3e-5), origin='lower' )"
     ],
     "language": "python",
     "metadata": {},
     "outputs": [],
     "prompt_number": null
    },
    {
     "cell_type": "heading",
     "level": 4,
     "metadata": {},
     "source": [
      "Fancier image scaling/plotting (like DS9)"
     ]
    },
    {
     "cell_type": "code",
     "collapsed": false,
     "input": [
      "stretch =  vis.ContrastBiasStretch(0.2,0.9)  # there are many other types\n",
      "interval = vis.PercentileInterval(95.0)   # many other types too\n",
      "\n",
      "limits = interval.get_limits( image.data )\n",
      "norm = ImageNormalize( vmin=limits[0], vmax=limits[1], \n",
      "                        stretch=stretch, clip=False )\n",
      "\n",
      "fig, ax = plt.subplots(1,2)\n",
      "im1 = ax[0].imshow( clip, norm=norm, origin='lower' )\n",
      "im2 = ax[1].imshow( smooth, norm=norm, origin='lower' )"
     ],
     "language": "python",
     "metadata": {},
     "outputs": [],
     "prompt_number": null
    },
    {
     "cell_type": "code",
     "collapsed": false,
     "input": [
      "R = fits.open( \"casa_0.5-1.5keV.fits\" )[0].data \n",
      "G = fits.open( \"casa_1.5-3.0keV.fits\" )[0].data\n",
      "B = fits.open( \"casa_4.0-6.0keV.fits\" )[0].data\n",
      "\n",
      "plt.hot()\n",
      "plt.figure( figsize=(13,3) )\n",
      "plt.subplot( 1,3,1 )\n",
      "plt.imshow( R, origin='lower', vmax=10 )\n",
      "plt.subplot( 1,3,2 )\n",
      "plt.imshow( G, origin='lower', vmax=10)\n",
      "plt.subplot( 1,3,3 )\n",
      "plt.imshow( B, origin='lower',vmax=10 )\n"
     ],
     "language": "python",
     "metadata": {},
     "outputs": [],
     "prompt_number": null
    },
    {
     "cell_type": "code",
     "collapsed": false,
     "input": [
      "stacked = np.array( (R/R.max(),G/G.max(),B/B.max()) ).T \n",
      "print stacked.shape"
     ],
     "language": "python",
     "metadata": {},
     "outputs": [],
     "prompt_number": null
    },
    {
     "cell_type": "markdown",
     "metadata": {},
     "source": [
      "**note:**\n",
      "  - we took the Transpose to make it 1024 x 1024 x 3 , rather than 3 x 1024 x 1024\n",
      "  - we did some division since RGB images must be in the range (0,1) for each plane \n",
      "  \n",
      "Now, let's plot it! **imshow** understands RGB images if they are a NxMx3 NDArray"
     ]
    },
    {
     "cell_type": "code",
     "collapsed": false,
     "input": [
      "plt.figure( figsize=(8,8))\n",
      "plt.imshow( stacked**0.2, origin='lower' )\n"
     ],
     "language": "python",
     "metadata": {},
     "outputs": [],
     "prompt_number": null
    },
    {
     "cell_type": "markdown",
     "metadata": {},
     "source": [
      "Ok, it's not beautiful yet, but you can see what can be done.  To make the plot nicer, you would want to:\n",
      "* resample the data with SciPy,\n",
      "* smoooth and normalize the data\n",
      "* use a plotting system that understands astronomical projections like:\n",
      "    * Kapteyn (http://www.astro.rug.nl/software/kapteyn/)\n",
      "    * AplPy (http://aplpy.github.io)\n",
      "    * "
     ]
    },
    {
     "cell_type": "markdown",
     "metadata": {},
     "source": [
      "## Advanced topics, not covered here\n",
      "\n",
      "### Modelling\n",
      "* define spectral and spatial models\n",
      "* combine models, tie or restrict parameters\n",
      "* fit them to data\n",
      "\n",
      "### Cosmology\n",
      "* basic functions to compute cosmological quantities given an input cosmology\n",
      "\n",
      "### NDData \n",
      "* fancier data cubes with errors and WCS info"
     ]
    },
    {
     "cell_type": "markdown",
     "metadata": {
      "collapsed": true
     },
     "source": [
      "### Projection and Deprojection (WCS: World Coordinate System)\n",
      "``astropy.wcs`` for examples of how to transform between **pixel coordinates** and **sky coordinates**, based on FITS header information.    \n",
      "\n",
      "### Virtual Observatory Access"
     ]
    },
    {
     "cell_type": "markdown",
     "metadata": {
      "collapsed": true
     },
     "source": [
      "--------------------------------------------------\n",
      "\n",
      "# BREAKOUT\n",
      "\n",
      "Tell me which of the objects in the Fermi 3FGL catalog with an integrated energy flux (E(>100MeV) above:  \n",
      "\n",
      "$$ F_{E100}  > 2.0\\times10^{-10}\\;\\mathrm{TeV cm^{-2} s^{-1}}$$ \n",
      "\n",
      "will be visible in the sky tonight above 10 deg elevation at midnight UTC.  Print the results into an HTML table.\n",
      "\n",
      "Use **`Energy_Flux100`** column for the flux (note that it is in erg/cm**2/s)\n",
      "\n",
      ">The Fermi 3FGL Catalog FITS file is already in this directory, and is called: <a href=\"gll_psc_v14.fit\"> gll_psc_v14.fit </a>\n"
     ]
    },
    {
     "cell_type": "code",
     "collapsed": true,
     "input": [],
     "language": "python",
     "metadata": {},
     "outputs": [],
     "prompt_number": null
    }
   ],
   "metadata": {}
  }
 ]
}