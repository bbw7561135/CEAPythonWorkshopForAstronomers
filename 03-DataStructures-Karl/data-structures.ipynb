{
 "cells": [
  {
   "cell_type": "code",
   "execution_count": null,
   "metadata": {
    "collapsed": true
   },
   "outputs": [],
   "source": [
    "from IPython.display import HTML"
   ]
  },
  {
   "cell_type": "markdown",
   "metadata": {},
   "source": [
    "# Python Data Structures "
   ]
  },
  {
   "cell_type": "markdown",
   "metadata": {},
   "source": [
    "Karl Kosack (LEPCHE)\n",
    "\n",
    "CEA SAp python workshop\n",
    "\n",
    "TOPICS:\n",
    "--------\n",
    "\n",
    "* types, objects\n",
    "* Advanced scalar data:\n",
    "  * imaginary numbers\n",
    "  * strings\n",
    "* Collections:\n",
    "  * tuples\n",
    "  * lists and comprehensions\n",
    "  * sets\n",
    "  * dicts\n",
    "* Generators and generator comprehensions\n",
    "\n",
    "Reference: https://docs.python.org/2/library/stdtypes.html"
   ]
  },
  {
   "cell_type": "markdown",
   "metadata": {},
   "source": [
    "### syntax preview:\n",
    "\n",
    "#### Strings\n",
    "```python\n",
    "x = \"text\"  # a string\n",
    "x = 'text'  # also a string\n",
    "x = \"\"\" long text with maybe more than one \n",
    "        line in it \"\"\"   # a string\n",
    "```\n",
    "#### containers\n",
    "```python\n",
    "x = (a,b)  # a tuple\n",
    "x = [a,b]  # a list\n",
    "x = {a,b}  # a set\n",
    "x = {a: b, c:d}  # a dict\n",
    "```\n"
   ]
  },
  {
   "cell_type": "markdown",
   "metadata": {},
   "source": [
    "# Data Types"
   ]
  },
  {
   "cell_type": "code",
   "execution_count": null,
   "metadata": {
    "collapsed": false
   },
   "outputs": [],
   "source": [
    "x = 3\n",
    "y = 3.1\n",
    "print \"x is a \", type(x)\n",
    "print \"y is a \", type(y)"
   ]
  },
  {
   "cell_type": "code",
   "execution_count": null,
   "metadata": {
    "collapsed": false
   },
   "outputs": [],
   "source": [
    "print type(False)"
   ]
  },
  {
   "cell_type": "code",
   "execution_count": null,
   "metadata": {
    "collapsed": false
   },
   "outputs": [],
   "source": [
    "print type(type(1))"
   ]
  },
  {
   "cell_type": "code",
   "execution_count": null,
   "metadata": {
    "collapsed": false
   },
   "outputs": [],
   "source": [
    "print type( isinstance )"
   ]
  },
  {
   "cell_type": "code",
   "execution_count": null,
   "metadata": {
    "collapsed": false
   },
   "outputs": [],
   "source": [
    "isinstance(1,int)"
   ]
  },
  {
   "cell_type": "code",
   "execution_count": null,
   "metadata": {
    "collapsed": false
   },
   "outputs": [],
   "source": [
    "isinstance(\"bork\",str)"
   ]
  },
  {
   "cell_type": "code",
   "execution_count": null,
   "metadata": {
    "collapsed": false
   },
   "outputs": [],
   "source": [
    "isinstance(15.3, int)"
   ]
  },
  {
   "cell_type": "markdown",
   "metadata": {},
   "source": [
    "All values in Python are actually **Objects**:\n",
    "\n",
    "> * Objects are data types that have **methods** (functions that operate on themselves) and **properties** (internal data)\n",
    "> * you access the methods and properties via the ``.`` (period) operator: ``obj.method()``, or ``obj.property``\n",
    "> * IPython and the Notebook can tell you what methods are available by **tab-completion**"
   ]
  },
  {
   "cell_type": "code",
   "execution_count": null,
   "metadata": {
    "collapsed": false
   },
   "outputs": [],
   "source": [
    "x = 3\n",
    "# example of tab-completing the x variable above:\n",
    "# x.[tab]\n"
   ]
  },
  {
   "cell_type": "code",
   "execution_count": null,
   "metadata": {
    "collapsed": false
   },
   "outputs": [],
   "source": [
    "x.bit_length()"
   ]
  },
  {
   "cell_type": "code",
   "execution_count": null,
   "metadata": {
    "collapsed": false
   },
   "outputs": [],
   "source": [
    "(128).bit_length()"
   ]
  },
  {
   "cell_type": "code",
   "execution_count": null,
   "metadata": {
    "collapsed": false
   },
   "outputs": [],
   "source": [
    "(128.1).bit_length()"
   ]
  },
  {
   "cell_type": "code",
   "execution_count": null,
   "metadata": {
    "collapsed": false
   },
   "outputs": [],
   "source": [
    "# bit_lenth is only a method for Integers! \n",
    "#let's see what other methods there are:\n",
    "f = 1.5"
   ]
  },
  {
   "cell_type": "code",
   "execution_count": null,
   "metadata": {
    "collapsed": false
   },
   "outputs": [],
   "source": [
    "f.as_integer_ratio()"
   ]
  },
  {
   "cell_type": "code",
   "execution_count": null,
   "metadata": {
    "collapsed": false
   },
   "outputs": [],
   "source": [
    "print \"real=\",f.real\n",
    "print \"imag=\",f.imag"
   ]
  },
  {
   "cell_type": "markdown",
   "metadata": {},
   "source": [
    "Hmm.. interesting! Imaginary numbers are built in!\n",
    "\n",
    "Declare them by **using the \"j\" suffix after a number**"
   ]
  },
  {
   "cell_type": "code",
   "execution_count": null,
   "metadata": {
    "collapsed": false
   },
   "outputs": [],
   "source": [
    "z = 12.0 + 3.0j\n",
    "print z"
   ]
  },
  {
   "cell_type": "code",
   "execution_count": null,
   "metadata": {
    "collapsed": false
   },
   "outputs": [],
   "source": [
    "z.real"
   ]
  },
  {
   "cell_type": "code",
   "execution_count": null,
   "metadata": {
    "collapsed": false
   },
   "outputs": [],
   "source": [
    "z.conjugate"
   ]
  },
  {
   "cell_type": "code",
   "execution_count": null,
   "metadata": {
    "collapsed": false
   },
   "outputs": [],
   "source": [
    "# oops, that wasn't a property... it's a method! need to call it\n",
    "z.conjugate()"
   ]
  },
  {
   "cell_type": "code",
   "execution_count": null,
   "metadata": {
    "collapsed": false
   },
   "outputs": [],
   "source": [
    "z**2"
   ]
  },
  {
   "cell_type": "markdown",
   "metadata": {},
   "source": [
    "## the String type\n"
   ]
  },
  {
   "cell_type": "code",
   "execution_count": null,
   "metadata": {
    "collapsed": false
   },
   "outputs": [],
   "source": [
    "s = \"this is a test\"\n",
    "print type(s)"
   ]
  },
  {
   "cell_type": "code",
   "execution_count": null,
   "metadata": {
    "collapsed": false
   },
   "outputs": [],
   "source": [
    "# concatination:\n",
    "print s + s \n",
    "print s + \" of stuff\""
   ]
  },
  {
   "cell_type": "markdown",
   "metadata": {},
   "source": [
    "note: string concatination like this is *not fast*, so for complex string processing there are better ways (see `join()` later)"
   ]
  },
  {
   "cell_type": "code",
   "execution_count": null,
   "metadata": {
    "collapsed": false
   },
   "outputs": [],
   "source": [
    "print \"=\"*50\n",
    "print \"hello\"*10"
   ]
  },
  {
   "cell_type": "code",
   "execution_count": null,
   "metadata": {
    "collapsed": false
   },
   "outputs": [],
   "source": [
    "print s.capitalize()\n",
    "print s.lower()\n",
    "print s.upper()\n",
    "print s.title()\n",
    "\n",
    "print \"-\"*80\n",
    "print s.upper().center(80)\n",
    "print \"-\"*80"
   ]
  },
  {
   "cell_type": "code",
   "execution_count": null,
   "metadata": {
    "collapsed": false
   },
   "outputs": [],
   "source": [
    "print s.startswith(\"this\")\n",
    "print s.endswith(\"test\")\n",
    "print s.endswith(\"is\")"
   ]
  },
  {
   "cell_type": "markdown",
   "metadata": {},
   "source": [
    "### Formatting Strings"
   ]
  },
  {
   "cell_type": "code",
   "execution_count": null,
   "metadata": {
    "collapsed": false
   },
   "outputs": [],
   "source": [
    "line = \"My name is {} and I have lived in Paris for {} years\"\n",
    "print line.format(\"Karl\",6)"
   ]
  },
  {
   "cell_type": "code",
   "execution_count": null,
   "metadata": {
    "collapsed": false
   },
   "outputs": [],
   "source": [
    "# with numbered placeholders\n",
    "line = \"My name  is {1} and I have lived in Paris for {0} years\" \n",
    "line.format(6,\"Karl\") # note positions are now numbered"
   ]
  },
  {
   "cell_type": "code",
   "execution_count": null,
   "metadata": {
    "collapsed": false
   },
   "outputs": [],
   "source": [
    "# with named placeholders\n",
    "line = \"My name  is {name} and I have lived in Paris for {years} years\"\n",
    "line.format( name=\"Fabio\", years=2 )"
   ]
  },
  {
   "cell_type": "code",
   "execution_count": null,
   "metadata": {
    "collapsed": false
   },
   "outputs": [],
   "source": [
    "# formatting the values: use {placeholder:<format>}  Format is similar to printf\n",
    "line = \"The {0:>14s} has a mass of {1:0.3g} kg\"\n",
    "print line.format(\"electron\",9.10938291e-31)\n",
    "print line.format(\"proton\",1.672621777e-27)"
   ]
  },
  {
   "cell_type": "markdown",
   "metadata": {},
   "source": [
    "# Collections\n",
    "Data types that represent multple pieces of data:\n"
   ]
  },
  {
   "cell_type": "markdown",
   "metadata": {},
   "source": [
    "## Tuples: ordered, immutable data of mixed types"
   ]
  },
  {
   "cell_type": "code",
   "execution_count": null,
   "metadata": {
    "collapsed": false
   },
   "outputs": [],
   "source": [
    "# define tuples using parantheses (a,b,...)\n",
    "t = (12.3, \"astro\", 1+12j)\n",
    "print t\n",
    "print type(t)"
   ]
  },
  {
   "cell_type": "code",
   "execution_count": null,
   "metadata": {
    "collapsed": false
   },
   "outputs": [],
   "source": [
    "# access an element of a tuple:\n",
    "t[1]"
   ]
  },
  {
   "cell_type": "code",
   "execution_count": null,
   "metadata": {
    "collapsed": false
   },
   "outputs": [],
   "source": [
    "t[1] = 'SAp' # cannot change the data after definition! immutable"
   ]
  },
  {
   "cell_type": "markdown",
   "metadata": {},
   "source": [
    "tuples are fixed-structures (you cannot add/remove items or change types once they are defined!), but you can create a new tuple via concatination:"
   ]
  },
  {
   "cell_type": "code",
   "execution_count": null,
   "metadata": {
    "collapsed": false
   },
   "outputs": [],
   "source": [
    "t2 = t + (\"value\",6)\n",
    "print t2"
   ]
  },
  {
   "cell_type": "code",
   "execution_count": null,
   "metadata": {
    "collapsed": false
   },
   "outputs": [],
   "source": [
    "# a single-element tuple must be defined like this:\n",
    "t3 = (12,)\n",
    "print t3"
   ]
  },
  {
   "cell_type": "code",
   "execution_count": null,
   "metadata": {
    "collapsed": false
   },
   "outputs": [],
   "source": [
    "len(t2) # get the length of a tuple"
   ]
  },
  {
   "cell_type": "markdown",
   "metadata": {},
   "source": [
    "In most cases, you can even skip the parentheses and python always assumes it's a tuple:"
   ]
  },
  {
   "cell_type": "code",
   "execution_count": null,
   "metadata": {
    "collapsed": false
   },
   "outputs": [],
   "source": [
    "x = 1,4,5\n",
    "print type(x)"
   ]
  },
  {
   "cell_type": "markdown",
   "metadata": {},
   "source": [
    "very useful for **multiple assignment**: use a tuple on the left-hand-side to \"undo\" the tuple!\n",
    "    "
   ]
  },
  {
   "cell_type": "code",
   "execution_count": null,
   "metadata": {
    "collapsed": false
   },
   "outputs": [],
   "source": [
    "x,y,z = 1,2,3\n",
    "print y"
   ]
  },
  {
   "cell_type": "code",
   "execution_count": null,
   "metadata": {
    "collapsed": false
   },
   "outputs": [],
   "source": [
    "#swap two variables:\n",
    "x = 3\n",
    "y = 4\n",
    "x,y = y,x\n",
    "print \"x is now:\", x\n",
    "print \"y is now:\",y"
   ]
  },
  {
   "cell_type": "markdown",
   "metadata": {},
   "source": [
    "####What are tuples good for?\n",
    "* packing or unpacking sets of variables:\n",
    "    * multiple return values for a function\n",
    "    * multiple generic input parameters for a function that accepts a single parameters:\n",
    "   ``f(p) -> f( (x,y) )``\n",
    "* passing around data that you do not want modified"
   ]
  },
  {
   "cell_type": "markdown",
   "metadata": {},
   "source": [
    "## Lists: mutable, expandable arrays of data\n",
    "Like tuples, the definition is simple: replace ``()`` with ``[]``"
   ]
  },
  {
   "cell_type": "code",
   "execution_count": null,
   "metadata": {
    "collapsed": false
   },
   "outputs": [],
   "source": [
    "v = [1,2,3,4,5] ; \n",
    "print v\n",
    "print len(v), type(v)"
   ]
  },
  {
   "cell_type": "code",
   "execution_count": null,
   "metadata": {
    "collapsed": false
   },
   "outputs": [],
   "source": [
    "# element access, same as tuple, but more flexible:\n",
    "print v[0]\n",
    "print v[1:3]  # slice: returns a sub-list of elements 1 to 2, not including element 3\n",
    "# note: indexing from 0!"
   ]
  },
  {
   "cell_type": "code",
   "execution_count": null,
   "metadata": {
    "collapsed": false
   },
   "outputs": [],
   "source": [
    "print v[3:]  # from element 3 onward"
   ]
  },
  {
   "cell_type": "code",
   "execution_count": null,
   "metadata": {
    "collapsed": false
   },
   "outputs": [],
   "source": [
    "print v[:3] # all elements up to (but not including) element 3"
   ]
  },
  {
   "cell_type": "code",
   "execution_count": null,
   "metadata": {
    "collapsed": false
   },
   "outputs": [],
   "source": [
    "print v[-1] # negative indices count from the end\n",
    "print v[-2]"
   ]
  },
  {
   "cell_type": "code",
   "execution_count": null,
   "metadata": {
    "collapsed": false
   },
   "outputs": [],
   "source": [
    "print v[:-1] , v[1:]  "
   ]
  },
  {
   "cell_type": "code",
   "execution_count": null,
   "metadata": {
    "collapsed": false
   },
   "outputs": [],
   "source": [
    "# can be mixed-types:\n",
    "v = [\"CEA\", 12, \"SAp\"]\n",
    "print len(v)"
   ]
  },
  {
   "cell_type": "code",
   "execution_count": null,
   "metadata": {
    "collapsed": false
   },
   "outputs": [],
   "source": [
    "# Lists can be nested to make more complex data:\n",
    "M = [ [0,1],[1,0.5] ]\n",
    "print M\n",
    "print \"determininant is: \", M[0][0]*M[1][1] - M[0][1]*M[1][0]"
   ]
  },
  {
   "cell_type": "code",
   "execution_count": null,
   "metadata": {
    "collapsed": false
   },
   "outputs": [],
   "source": [
    "#you can change the list elements at will! (unlike tuples)\n",
    "M[0][0] = 5\n",
    "print \"determininant is: \", M[0][0]*M[1][1] - M[0][1]*M[1][0]"
   ]
  },
  {
   "cell_type": "markdown",
   "metadata": {},
   "source": [
    "#### Manipulating Lists"
   ]
  },
  {
   "cell_type": "code",
   "execution_count": null,
   "metadata": {
    "collapsed": false
   },
   "outputs": [],
   "source": [
    "v = [1,2,3]\n",
    "v.append(4)\n",
    "v.append([-5,6])\n",
    "print v"
   ]
  },
  {
   "cell_type": "code",
   "execution_count": null,
   "metadata": {
    "collapsed": false
   },
   "outputs": [],
   "source": [
    "#concatinating is not the same as appending (only works with 2 lists):\n",
    "v = [1,2,3]\n",
    "v.append(4)\n",
    "v += [-5,6]\n",
    "print v"
   ]
  },
  {
   "cell_type": "markdown",
   "metadata": {},
   "source": [
    "Lists can work like Stacks or Queues using `.append(x)` and `.pop()`"
   ]
  },
  {
   "cell_type": "code",
   "execution_count": null,
   "metadata": {
    "collapsed": false
   },
   "outputs": [],
   "source": [
    "v = [1,2,3,4,5]\n",
    "print v.pop()  # pops from end of list, stack-wise\n",
    "print v.pop()\n",
    "print v"
   ]
  },
  {
   "cell_type": "code",
   "execution_count": null,
   "metadata": {
    "collapsed": false
   },
   "outputs": [],
   "source": [
    "v = [1,2,3,4,5]\n",
    "print v.pop(0)  # pops from element 0, queue-wise\n",
    "print v.pop(0)"
   ]
  },
  {
   "cell_type": "markdown",
   "metadata": {},
   "source": [
    "Lists can be sorted:"
   ]
  },
  {
   "cell_type": "code",
   "execution_count": null,
   "metadata": {
    "collapsed": false
   },
   "outputs": [],
   "source": [
    "v1 = [5,6,2,4,3,3,4,16]\n",
    "v1.sort()  # does *in-place* sort, the original v1 is now overwritten\n",
    "print v1\n",
    "v1.sort(reverse=True) # can go backwards too\n",
    "print v1\n",
    "l = [\"this\",\"is\",\"a\",\"list\"]\n",
    "l.reverse() # reverse without sorting\n",
    "print l"
   ]
  },
  {
   "cell_type": "code",
   "execution_count": null,
   "metadata": {
    "collapsed": false,
    "scrolled": true
   },
   "outputs": [],
   "source": [
    "v2 = [5,6,2,4,3,3,4,16]\n",
    "s = list(sorted(v2))  # use the sorted function to get a new sorted list \n",
    "print v2\n",
    "print s\n",
    "print list(reversed(v2))"
   ]
  },
  {
   "cell_type": "markdown",
   "metadata": {},
   "source": [
    "**Note**: `sorted()` and `reversed()` actually return  iterator functions, which doesn't get evaluated until you loop over them! Calling `list()` on the result forces it to be realized as a list.  \n",
    "\n",
    "We'll talk about looping over lists next..."
   ]
  },
  {
   "cell_type": "markdown",
   "metadata": {},
   "source": [
    "### List iteration:"
   ]
  },
  {
   "cell_type": "code",
   "execution_count": null,
   "metadata": {
    "collapsed": false
   },
   "outputs": [],
   "source": [
    "names = [\"one\",\"two\",\"three\",\"four\"]\n",
    "\n",
    "for item in names:\n",
    "    print \"got\",item"
   ]
  },
  {
   "cell_type": "code",
   "execution_count": null,
   "metadata": {
    "collapsed": false
   },
   "outputs": [],
   "source": [
    "# if you're used to C, you often also want a \"index\" variable\n",
    "for item in enumerate(names):\n",
    "    print item"
   ]
  },
  {
   "cell_type": "code",
   "execution_count": null,
   "metadata": {
    "collapsed": false
   },
   "outputs": [],
   "source": [
    "# the output are tuples! ii,name\n",
    "# we can write this better by using a tuple in the loop:\n",
    "for ii,nn in  enumerate(names):\n",
    "    print \"name\",ii,\"is\",nn"
   ]
  },
  {
   "cell_type": "markdown",
   "metadata": {},
   "source": [
    "Now let's combine some string and list functions:"
   ]
  },
  {
   "cell_type": "code",
   "execution_count": null,
   "metadata": {
    "collapsed": false
   },
   "outputs": [],
   "source": [
    "mylist = [\"this\",\"is\",\"a\",\"test\"]\n",
    "\" \".join(mylist)  # join on space (join is a function of strings!) "
   ]
  },
  {
   "cell_type": "code",
   "execution_count": null,
   "metadata": {
    "collapsed": false
   },
   "outputs": [],
   "source": [
    "print \" *** \".join(mylist)"
   ]
  },
  {
   "cell_type": "code",
   "execution_count": null,
   "metadata": {
    "collapsed": false
   },
   "outputs": [],
   "source": [
    "l = \"here are some words\".split(\" \") # split into a list on space\n",
    "l.sort()\n",
    "print l"
   ]
  },
  {
   "cell_type": "markdown",
   "metadata": {},
   "source": [
    "> note:  more complex splitting and joining can be done with the `re` (regexp) module, but that's for another time"
   ]
  },
  {
   "cell_type": "markdown",
   "metadata": {},
   "source": [
    "#### A complete example:"
   ]
  },
  {
   "cell_type": "code",
   "execution_count": null,
   "metadata": {
    "collapsed": false
   },
   "outputs": [],
   "source": [
    "quote = \"\"\"\n",
    "Be that word our sign in parting, bird or fiend! I shrieked, upstarting\n",
    "Get thee back into the tempest and the Night's Plutonian shore!\n",
    "Leave no black plume as a token of that lie thy soul hath spoken!\n",
    "Leave my loneliness unbroken! quit the bust above my door!\n",
    "Take thy beak from out my heart, and take thy form from off my door!\"\n",
    "Quoth the Raven \"Nevermore.\" \n",
    "\"\"\"\n",
    "clean_quote = quote.replace('\\n',\" \").replace('\"','').replace(\"!\",\"\").replace(\".\",\"\").lower()\n",
    "words = clean_quote.split(\" \")\n",
    "print words\n",
    "print \"----------\"\n",
    "\n",
    "for word in [\"my\", \"the\",\"door\",\"soul\"]:\n",
    "    numtimes = words.count(word)\n",
    "    print \"* '{0}' appears {1} times\".format( word, numtimes )"
   ]
  },
  {
   "cell_type": "code",
   "execution_count": null,
   "metadata": {
    "collapsed": false
   },
   "outputs": [],
   "source": []
  },
  {
   "cell_type": "markdown",
   "metadata": {},
   "source": [
    "### List Comprehensions: quickly generating lists\n",
    "\n",
    "Something very *powerful and very useful* is the _list comprehension_: it allows you to use a function to define a list, and select items from that function"
   ]
  },
  {
   "cell_type": "markdown",
   "metadata": {},
   "source": [
    "> * alist = [ func(var) **for** var **in** anotherlist ]\n",
    "> * alist = [ func(var) **if** condition **else** anotherfunc(var) **for** var **in** anotherlist ]"
   ]
  },
  {
   "cell_type": "code",
   "execution_count": null,
   "metadata": {
    "collapsed": false
   },
   "outputs": [],
   "source": [
    "mylist = [\"this\",\"is\",\"a\",\"test\"]\n",
    "\n",
    "# get all elements that start with \"t\" and make them upper-case:\n",
    "selected = [ X.upper() for X in mylist if X.startswith(\"t\") ]\n",
    "print selected"
   ]
  },
  {
   "cell_type": "code",
   "execution_count": null,
   "metadata": {
    "collapsed": false
   },
   "outputs": [],
   "source": [
    "# use the ternary operator:\n",
    "selected = [ X.capitalize() if X.startswith(\"t\") else X.upper() for X in mylist ]\n",
    "print selected"
   ]
  },
  {
   "cell_type": "code",
   "execution_count": null,
   "metadata": {
    "collapsed": false
   },
   "outputs": [],
   "source": [
    "mylist = [1,2,3,4,\"test\",5]\n",
    "# convert all to strings:\n",
    "mystringlist = [ str(s) for s in mylist]\n",
    "print mylist\n",
    "print mystringlist\n",
    "print \"'\",\", \".join(mystringlist),\"'\""
   ]
  },
  {
   "cell_type": "markdown",
   "metadata": {},
   "source": [
    "## Sets: list-like objects with no repeating values"
   ]
  },
  {
   "cell_type": "code",
   "execution_count": null,
   "metadata": {
    "collapsed": false
   },
   "outputs": [],
   "source": [
    "set1 = {\"apples\",\"oranges\",\"pears\",\"blueberries\"}\n",
    "set2 = {\"grapes\",\"pears\",\"apples\",\"strawberries\",\"grapes\"} # note grapes appears twice\n",
    "print type(set1)\n",
    "print set1\n",
    "print set2"
   ]
  },
  {
   "cell_type": "markdown",
   "metadata": {},
   "source": [
    "Sets work a lot like lists or tuples, but they cannot have repeating values (appending an existing value will do nothing)"
   ]
  },
  {
   "cell_type": "code",
   "execution_count": null,
   "metadata": {
    "collapsed": false
   },
   "outputs": [],
   "source": [
    "\"apples\" in set1"
   ]
  },
  {
   "cell_type": "code",
   "execution_count": null,
   "metadata": {
    "collapsed": false
   },
   "outputs": [],
   "source": [
    "\"oranges\" in set2"
   ]
  },
  {
   "cell_type": "code",
   "execution_count": null,
   "metadata": {
    "collapsed": false
   },
   "outputs": [],
   "source": [
    "# find the intersection\n",
    "print set1.intersection(set2)\n",
    "print set1 & set2 "
   ]
  },
  {
   "cell_type": "code",
   "execution_count": null,
   "metadata": {
    "collapsed": false
   },
   "outputs": [],
   "source": [
    "# find the difference:\n",
    "print set1.difference(set2)\n",
    "print set1 - set2 "
   ]
  },
  {
   "cell_type": "code",
   "execution_count": null,
   "metadata": {
    "collapsed": false
   },
   "outputs": [],
   "source": [
    "# adding and removing items:\n",
    "set1.add(\"tomatoes\")\n",
    "set1.remove(\"pears\")\n",
    "print set1\n",
    "print set1 | set2 \n",
    "print set1.union(set2)"
   ]
  },
  {
   "cell_type": "code",
   "execution_count": null,
   "metadata": {
    "collapsed": false
   },
   "outputs": [],
   "source": [
    "set3 = {\"apples\",\"oranges\",\"pears\",\"blueberries\"}\n",
    "print {\"apples\",\"pears\"}.issubset( set3 )\n",
    "print {\"apples\",\"grapes\"}.issubset( set3 )"
   ]
  },
  {
   "cell_type": "markdown",
   "metadata": {},
   "source": [
    "## Dicts: Key-Value storage (associative arrays)\n",
    "\n",
    "One of the most powerful and useful structures is the **dict**  = \"Dictionary\""
   ]
  },
  {
   "cell_type": "code",
   "execution_count": null,
   "metadata": {
    "collapsed": false
   },
   "outputs": [],
   "source": [
    "mydict = { 'firstname': 'Karl', 'lastname': 'Kosack' }\n",
    "print mydict"
   ]
  },
  {
   "cell_type": "code",
   "execution_count": null,
   "metadata": {
    "collapsed": false
   },
   "outputs": [],
   "source": [
    "# can also declare using a function:\n",
    "mydict = dict( firstname=\"Karl\", lastname=\"Kosack\" )\n",
    "print mydict"
   ]
  },
  {
   "cell_type": "code",
   "execution_count": null,
   "metadata": {
    "collapsed": false
   },
   "outputs": [],
   "source": [
    "# access an element\n",
    "print mydict['firstname']"
   ]
  },
  {
   "cell_type": "code",
   "execution_count": null,
   "metadata": {
    "collapsed": false
   },
   "outputs": [],
   "source": [
    "print mydict['stuff']"
   ]
  },
  {
   "cell_type": "code",
   "execution_count": null,
   "metadata": {
    "collapsed": false
   },
   "outputs": [],
   "source": [
    "print mydict.has_key('stuff')"
   ]
  },
  {
   "cell_type": "code",
   "execution_count": null,
   "metadata": {
    "collapsed": false
   },
   "outputs": [],
   "source": [
    "print mydict[0] # doesn't index like a list"
   ]
  },
  {
   "cell_type": "code",
   "execution_count": null,
   "metadata": {
    "collapsed": false
   },
   "outputs": [],
   "source": [
    "print mydict.get(\"firstname\") # same as ['firstname']"
   ]
  },
  {
   "cell_type": "code",
   "execution_count": null,
   "metadata": {
    "collapsed": false
   },
   "outputs": [],
   "source": [
    "print mydict.get(\"stuff\") # returns None instead of throwing an exception"
   ]
  },
  {
   "cell_type": "code",
   "execution_count": null,
   "metadata": {
    "collapsed": false
   },
   "outputs": [],
   "source": [
    "print mydict.get(\"stuff\",\"key not found\") # can specify the value to return if key is not there. "
   ]
  },
  {
   "cell_type": "code",
   "execution_count": null,
   "metadata": {
    "collapsed": false
   },
   "outputs": [],
   "source": [
    "# add a new item\n",
    "mydict['middlename'] = \"Peter\"\n",
    "print mydict"
   ]
  },
  {
   "cell_type": "markdown",
   "metadata": {},
   "source": [
    "> NOTE Dict keys **do not need to be strings!** "
   ]
  },
  {
   "cell_type": "code",
   "execution_count": null,
   "metadata": {
    "collapsed": false
   },
   "outputs": [],
   "source": [
    "# for example, you can use integer keys to make a sparse array!\n",
    "dd = {}  # an empty dict, ready to be filled\n",
    "dd[10] = 1.0\n",
    "dd[0] = 2.0\n",
    "print dd\n",
    "print dd[10]"
   ]
  },
  {
   "cell_type": "markdown",
   "metadata": {},
   "source": [
    "Note that **dictionaries are unordered**: you can't assume that one key comes after another \n",
    "\n",
    "(though there is a special ordereddict type that can be used in that case) \n",
    "\n",
    "http://docs.python.org/whatsnew/2.7.html#pep-372-adding-an-ordered-dictionary-to-collections"
   ]
  },
  {
   "cell_type": "markdown",
   "metadata": {},
   "source": [
    "#### Accesing the dictionary\n",
    "\n",
    "we already  saw you can access by key using [] syntax, but you can also get at the details in other ways\""
   ]
  },
  {
   "cell_type": "code",
   "execution_count": null,
   "metadata": {
    "collapsed": false
   },
   "outputs": [],
   "source": [
    "print mydict"
   ]
  },
  {
   "cell_type": "code",
   "execution_count": null,
   "metadata": {
    "collapsed": false
   },
   "outputs": [],
   "source": [
    "# keys as a list:\n",
    "print mydict.keys() , type(mydict.keys())"
   ]
  },
  {
   "cell_type": "code",
   "execution_count": null,
   "metadata": {
    "collapsed": false
   },
   "outputs": [],
   "source": [
    "# values as a list: (guaranteed to be in the same order as keys())\n",
    "print mydict.values() , type(mydict.values())"
   ]
  },
  {
   "cell_type": "code",
   "execution_count": null,
   "metadata": {
    "collapsed": false
   },
   "outputs": [],
   "source": [
    "# items (key,value) tuple as a list:\n",
    "print mydict.items() , type(mydict.items())"
   ]
  },
  {
   "cell_type": "code",
   "execution_count": null,
   "metadata": {
    "collapsed": false
   },
   "outputs": [],
   "source": [
    "# iterating:\n",
    "for item in mydict:\n",
    "    print item, mydict[item]\n"
   ]
  },
  {
   "cell_type": "code",
   "execution_count": null,
   "metadata": {
    "collapsed": false
   },
   "outputs": [],
   "source": [
    "#another way\n",
    "for key,val in mydict.items():\n",
    "    print key,val"
   ]
  },
  {
   "cell_type": "code",
   "execution_count": null,
   "metadata": {
    "collapsed": false
   },
   "outputs": [],
   "source": [
    "# an even better way (for large dictionaries especially):\n",
    "for key,val in mydict.iteritems():\n",
    "    print key,val\n"
   ]
  },
  {
   "cell_type": "markdown",
   "metadata": {},
   "source": [
    "It looks the same! But `iteritems()` returns an iterator that access each item one at a time, rather than converting them into a list.  If the dictionary is very large, this is more memory efficient!"
   ]
  },
  {
   "cell_type": "code",
   "execution_count": null,
   "metadata": {
    "collapsed": false
   },
   "outputs": [],
   "source": [
    "# A common example: use a dictionary to count things.  Recall our previous example:\n",
    "quote = \"\"\"\n",
    "Be that word our sign in parting, bird or fiend! I shrieked, upstarting\n",
    "Get thee back into the tempest and the Night's Plutonian shore!\n",
    "Leave no black plume as a token of that lie thy soul hath spoken!\n",
    "Leave my loneliness unbroken! quit the bust above my door!\n",
    "Take thy beak from out my heart, and take thy form from off my door!\"\n",
    "Quoth the Raven \"Nevermore.\" \n",
    "\"\"\"\n",
    "clean_quote = quote.replace('\\n',\" \").replace('\"','').replace(\"!\",\"\").replace(\".\",\"\").lower()\n",
    "words = clean_quote.split(\" \")\n",
    "\n",
    "# let's count the frequency using a dictionary:\n",
    "freq = {}\n",
    "for word in words:\n",
    "    if not freq.has_key(word):\n",
    "        freq[word] = 0\n",
    "    freq[word] += 1\n",
    "    \n",
    "print freq\n"
   ]
  },
  {
   "cell_type": "markdown",
   "metadata": {},
   "source": [
    "Let's try that again, but now using a helper that removes the need to do the check if the key exists first:\n",
    "\n",
    "for that we will use a **defaultdict** which is just a helper type where if you access a dictionary element that doesn't exist, it is inserted automatically using the given type."
   ]
  },
  {
   "cell_type": "code",
   "execution_count": null,
   "metadata": {
    "collapsed": false
   },
   "outputs": [],
   "source": [
    "from collections import defaultdict\n",
    "freq = defaultdict(int)  # the default value for a key in freq is an int with value 0\n",
    "\n",
    "for word in words:\n",
    "    freq[word] += 1\n",
    "    \n",
    "print freq"
   ]
  },
  {
   "cell_type": "code",
   "execution_count": null,
   "metadata": {
    "collapsed": false
   },
   "outputs": [],
   "source": [
    "# let's sort by frequency... but dicts aren't ordered, so we have to do some work:\n",
    "#\n",
    "# let's take the keys and values and put them each into a list, \n",
    "# and then zip them together making a single list of tuples:\n",
    "zlist = zip(freq.values(),freq.keys())\n",
    "zlist.sort(reverse=True) # now reverse it so the highest numbers start\n",
    "print zlist[:10]"
   ]
  },
  {
   "cell_type": "code",
   "execution_count": null,
   "metadata": {
    "collapsed": false
   },
   "outputs": [],
   "source": [
    "# Here's another way using sorted()'s key method, and a list comprehension:\n",
    "\n",
    "print [ (freq[word],word) for word in sorted( freq, key=freq.get, reverse=True) ][:10]"
   ]
  },
  {
   "cell_type": "markdown",
   "metadata": {},
   "source": [
    " note again that order is not preserved! The results are both correct, but not the same"
   ]
  },
  {
   "cell_type": "markdown",
   "metadata": {},
   "source": [
    "## Final Thoughts:\n",
    "\n",
    "### you can convert between containers easily:"
   ]
  },
  {
   "cell_type": "code",
   "execution_count": null,
   "metadata": {
    "collapsed": false
   },
   "outputs": [],
   "source": [
    "keys = [\"a\",\"b\",\"c\",\"c\",\"c\",\"d\"]\n",
    "print keys\n",
    "print set(keys)\n",
    "print tuple(keys)\n",
    "print list( (1,2,3) )"
   ]
  },
  {
   "cell_type": "code",
   "execution_count": null,
   "metadata": {
    "collapsed": false
   },
   "outputs": [],
   "source": [
    "vals = list(range(len(keys)))\n",
    "print vals\n",
    "print keys,vals\n",
    "print zip(keys,vals)\n",
    "print dict(zip(keys,vals))"
   ]
  },
  {
   "cell_type": "markdown",
   "metadata": {},
   "source": [
    "### You can nest containers easily:\n",
    "(allowing you to make complex tree-structures)"
   ]
  },
  {
   "cell_type": "code",
   "execution_count": null,
   "metadata": {
    "collapsed": false
   },
   "outputs": [],
   "source": [
    "a = {\"test\": [1,2,3], 12: 6, 15:(\"one\",\"two\"), \"nesteddict\": dict(x=1,y=15,z=[1,3,5]) }\n",
    "print a"
   ]
  },
  {
   "cell_type": "code",
   "execution_count": null,
   "metadata": {
    "collapsed": false
   },
   "outputs": [],
   "source": [
    "print a['nesteddict']['z'][2]"
   ]
  },
  {
   "cell_type": "code",
   "execution_count": null,
   "metadata": {
    "collapsed": false
   },
   "outputs": [],
   "source": [
    "print a['nesteddict'].keys()\n",
    "print a[15][1]"
   ]
  },
  {
   "cell_type": "code",
   "execution_count": null,
   "metadata": {
    "collapsed": false
   },
   "outputs": [],
   "source": [
    "tree = {}\n",
    "tree['left'] = {}\n",
    "tree['right'] = {}\n",
    "tree['left']['left'] = 15\n",
    "tree['left']['right'] = 10\n",
    "tree['right']['left'] = 5\n",
    "tree['right']['right'] = {}\n",
    "tree['right']['right']['left'] = {}\n",
    "tree['right']['right']['right'] = 2\n",
    "tree['right']['right']['left']['left'] = 1\n",
    "tree['right']['right']['left']['right'] = 100\n",
    "print tree"
   ]
  },
  {
   "cell_type": "markdown",
   "metadata": {},
   "source": [
    "----------------------\n",
    "A more real-world example: select data out of a database (with 2 columns \"name\", and \"mass\"):"
   ]
  },
  {
   "cell_type": "code",
   "execution_count": null,
   "metadata": {
    "collapsed": false
   },
   "outputs": [],
   "source": [
    "particles = \\\n",
    "[{\"name\":\"π+\"  ,\"mass\": 139.57018}, {\"name\":\"π0\"  ,\"mass\": 134.9766}, \n",
    " {\"name\":\"η5\"  ,\"mass\": 47.853}, {\"name\":\"η'(958)\",\"mass\": 957.78}, \n",
    " {\"name\":\"ηc(1S)\", \"mass\": 2980.5}, {\"name\": \"ηb(1S)\",\"mass\": 9388.9}, \n",
    " {\"name\":\"K+\",  \"mass\": 493.677}, {\"name\":\"K0\"  ,\"mass\": 497.614}, \n",
    " {\"name\":\"K0S\" ,\"mass\":  497.614}, {\"name\":\"K0L\" ,\"mass\":  497.614},\n",
    " {\"name\":\"D+\"  ,\"mass\": 1869.62}, {\"name\":\"D0\"  ,\"mass\": 1864.84},\n",
    " {\"name\":\"D+s\" ,\"mass\":  1968.49}, {\"name\":\"B+\"  ,\"mass\": 5279.15},\n",
    " {\"name\":\"B0\"  ,\"mass\": 5279.5}, {\"name\":\"B0s\" ,\"mass\":  5366.3},\n",
    " {\"name\":\"B+c\" ,\"mass\":    6277}]\n",
    "\n",
    "# data source: http://en.wikipedia.org/wiki/List_of_mesons\n"
   ]
  },
  {
   "cell_type": "code",
   "execution_count": null,
   "metadata": {
    "collapsed": false
   },
   "outputs": [],
   "source": [
    "# select mesons with mass in a particular range, and make them into a list of tuples:\n",
    "# using a list-compreheension\n",
    "my_mesons = [ (x['name'],x['mass']) \\\n",
    "             for x in particles \\\n",
    "             if x['mass'] <= 1000.0 and x['mass'] >= 100.0 ]\n",
    "\n",
    "for part,mass in my_mesons:\n",
    "    print \"{0:>17s}: {1}\".format( part,mass )"
   ]
  },
  {
   "cell_type": "markdown",
   "metadata": {},
   "source": [
    "## Advanced topic: Generators \n",
    "\n",
    "You might have noticed that nearly all collecitons let you iterate over them using :"
   ]
  },
  {
   "cell_type": "code",
   "execution_count": null,
   "metadata": {
    "collapsed": false
   },
   "outputs": [],
   "source": [
    "container = [1,3,5,7]\n",
    "for variable in container:\n",
    "    print variable"
   ]
  },
  {
   "cell_type": "markdown",
   "metadata": {},
   "source": [
    "That is because all containers are _iterable_ (they have a specific interface that lets one loop over them)\n",
    "\n",
    "But what happens when you want to represent a very large (or infinitely large!) container?\n",
    "\n",
    "   `` mylist = range(1000000000) ``\n",
    "\n",
    "**it would fill up memory pretty quick!**\n",
    "\n",
    "> **Generators** and **Iterators** fix that problem: they are special objects that are iterable, but calculate the next value on the fly rather than calculating all values at once\n",
    ">\n",
    "> In Python 2.x, `range()` always returns a list in memory, while `xrange()` returns a generator:\n",
    ">> (note in Python 3+ `range()` returns a generator, and it must be cast to list(range(10)) if you want it to be a list)\n",
    "\n"
   ]
  },
  {
   "cell_type": "code",
   "execution_count": null,
   "metadata": {
    "collapsed": false
   },
   "outputs": [],
   "source": [
    "print range(10)"
   ]
  },
  {
   "cell_type": "code",
   "execution_count": null,
   "metadata": {
    "collapsed": false
   },
   "outputs": [],
   "source": [
    "print xrange(10)"
   ]
  },
  {
   "cell_type": "code",
   "execution_count": null,
   "metadata": {
    "collapsed": false
   },
   "outputs": [],
   "source": [
    "for ii in range(10): print ii,\n",
    "print \" \"\n",
    "for ii in xrange(10): print ii,"
   ]
  },
  {
   "cell_type": "code",
   "execution_count": null,
   "metadata": {
    "collapsed": false
   },
   "outputs": [],
   "source": [
    "rr= xrange(100000000)\n",
    "#doesn't fill up memory! (don't try this with range()!)"
   ]
  },
  {
   "cell_type": "code",
   "execution_count": null,
   "metadata": {
    "collapsed": false
   },
   "outputs": [],
   "source": [
    "for ii in rr:\n",
    "    print ii\n",
    "    if ii>10:\n",
    "        break"
   ]
  },
  {
   "cell_type": "markdown",
   "metadata": {},
   "source": [
    "Generators are very complex and powerful, and I don't have time to go through them here in detail. They let you do things that normally would not fit in memory, with similar or faster speed, and using the same looping and interfaces you would use with lists"
   ]
  },
  {
   "cell_type": "code",
   "execution_count": null,
   "metadata": {
    "collapsed": false
   },
   "outputs": [],
   "source": [
    "X = xrange(100)\n",
    "mylist = [ val**2/2.0 for val in X ]    # a list comprehension\n",
    "mygen = ( val**2/2.0 for val in X )     # a generator comprehension"
   ]
  },
  {
   "cell_type": "code",
   "execution_count": null,
   "metadata": {
    "collapsed": false
   },
   "outputs": [],
   "source": [
    "print mylist"
   ]
  },
  {
   "cell_type": "code",
   "execution_count": null,
   "metadata": {
    "collapsed": false
   },
   "outputs": [],
   "source": [
    "print mygen"
   ]
  },
  {
   "cell_type": "code",
   "execution_count": null,
   "metadata": {
    "collapsed": false
   },
   "outputs": [],
   "source": [
    "print mygen[0]  # it's no longer exactly like a list.. "
   ]
  },
  {
   "cell_type": "code",
   "execution_count": null,
   "metadata": {
    "collapsed": false
   },
   "outputs": [],
   "source": [
    "# no random access! but we can get items sequentially:\n",
    "print next(mygen)"
   ]
  },
  {
   "cell_type": "code",
   "execution_count": null,
   "metadata": {
    "collapsed": false
   },
   "outputs": [],
   "source": [
    "print next(mygen)\n",
    "print next(mygen)\n",
    "print next(mygen)"
   ]
  },
  {
   "cell_type": "code",
   "execution_count": null,
   "metadata": {
    "collapsed": false
   },
   "outputs": [],
   "source": [
    "for ii in mygen:\n",
    "    print ii"
   ]
  },
  {
   "cell_type": "markdown",
   "metadata": {},
   "source": [
    "The power here is that at no point is the full list every in memory, so a large memory allocation is never needed.\n",
    "\n",
    "In many cases this is much more efficient"
   ]
  },
  {
   "cell_type": "code",
   "execution_count": null,
   "metadata": {
    "collapsed": false
   },
   "outputs": [],
   "source": [
    "sum(mygen)"
   ]
  },
  {
   "cell_type": "code",
   "execution_count": null,
   "metadata": {
    "collapsed": false
   },
   "outputs": [],
   "source": [
    "# huh? Oh right - \n",
    "# the generateor is \"empty\" now, we used it up in the last statement\n",
    "mygen = ( val**2/2.0 for val in X )     \n",
    "sum(mygen)"
   ]
  },
  {
   "cell_type": "code",
   "execution_count": null,
   "metadata": {
    "collapsed": false
   },
   "outputs": [],
   "source": [
    "def f(size):\n",
    "    mylist = [ val**2/2.0 for val in list(xrange(size)) ]\n",
    "    return sum(mylist)\n",
    "\n",
    "def g(size):\n",
    "    mygen  = ( val**2/2.0 for val in xrange(size) )\n",
    "    return sum(mygen)"
   ]
  },
  {
   "cell_type": "code",
   "execution_count": null,
   "metadata": {
    "collapsed": false
   },
   "outputs": [],
   "source": [
    "%timeit f(10000)\n",
    "%timeit g(10000)"
   ]
  },
  {
   "cell_type": "markdown",
   "metadata": {},
   "source": [
    "Not much difference as far as speed\n",
    "\n",
    "**However: we will see tomorrow** that there is another data structure (a `NumPy NDArray`) that is similar to a list (with N dimensions), but allows for fast math operations...  So really this example is not the best way to do math on large datasets!"
   ]
  },
  {
   "cell_type": "code",
   "execution_count": null,
   "metadata": {
    "collapsed": false
   },
   "outputs": [],
   "source": [
    "# a notebook extension that you probably don't have installed, but can\n",
    "%load_ext memory_profiler  "
   ]
  },
  {
   "cell_type": "code",
   "execution_count": null,
   "metadata": {
    "collapsed": false
   },
   "outputs": [],
   "source": [
    "# let's look at memory usage now. for that we will increase the loop length to show the effect better\n",
    "print \"with 100000 entries\"\n",
    "%memit f(100000)\n",
    "%memit g(100000)\n",
    "print \"with 1000000 entries\"\n",
    "%memit f(1000000)\n",
    "%memit g(1000000)"
   ]
  },
  {
   "cell_type": "markdown",
   "metadata": {},
   "source": [
    "so we can see from a _memory_ usage standpoint, using generators is much more efficient!\n",
    "\n",
    "**Therefore the rule of thumb is:** if you are working with a very large amount of data, and don't need random access, use generators\n",
    "Otherwise, lists are fine (and provide more flexibility like sorting, random access, etc)"
   ]
  },
  {
   "cell_type": "code",
   "execution_count": null,
   "metadata": {
    "collapsed": false
   },
   "outputs": [],
   "source": []
  },
  {
   "cell_type": "code",
   "execution_count": null,
   "metadata": {
    "collapsed": true
   },
   "outputs": [],
   "source": []
  },
  {
   "cell_type": "markdown",
   "metadata": {},
   "source": [
    "#BREAKOUT PROBLEM:\n",
    "\n",
    "Make a program that:\n",
    "\n",
    "* Opens the text file \"verne-de_la_terre_a_la_lune.txt\" (which contains the entire text of Jules Verne's _De la Terre à la Lune_) and  reads the contents into memory as a list of lines, as follows: (you can also loop directly over the lines if you prefer to be more memory efficient)\n",
    "\n",
    "``` python\n",
    "with open( \"verne-de_la_terre_a_la_lune.txt\" ) as infile:\n",
    "    lines = infile.readlines()\n",
    "\n",
    "# lines is now a list of strings, one per line in the file\n",
    "\n",
    "#  <your code here>\n",
    "# hint: loop over the lines, and use the string's  .split(\" \") method\n",
    "# hint: count the word frequency using a dict (perhaps defaultdict to make it easier)\n",
    "# hint: dicts can't be sorted by value, so you need to turn the dict's\n",
    "#       keys and values into a list of tuples (use zip() to combine them)\n",
    "# hint: sorted() (or list.sort()) always sorts by the first value of each item in a list\n",
    "```\n",
    "\n",
    "* At the end, you code should print:\n",
    "  * the total number of lines of text\n",
    "  * the total number of words in the text\n",
    "  * the number of _distinct_ words in the text\n",
    "  * **the top 20 most common words** in the novel that are **not** one of the following _set_:\n",
    "\n",
    "```python\n",
    "ignore = {'la','à','et','le','les','des','un','du','en','que','dans','se',\n",
    "          'il', 'une', 'ne', 'qui', 'au', 'pas', 'son', 'par', 'plus', 'pour',\n",
    "          'ce', 'sur', 'cette', 'avec','de'}\n",
    "```\n",
    "\n"
   ]
  },
  {
   "cell_type": "code",
   "execution_count": null,
   "metadata": {
    "collapsed": true
   },
   "outputs": [],
   "source": []
  }
 ],
 "metadata": {
  "kernelspec": {
   "display_name": "Python 2",
   "language": "python",
   "name": "python2"
  },
  "language_info": {
   "codemirror_mode": {
    "name": "ipython",
    "version": 2
   },
   "file_extension": ".py",
   "mimetype": "text/x-python",
   "name": "python",
   "nbconvert_exporter": "python",
   "pygments_lexer": "ipython2",
   "version": "2.7.9"
  }
 },
 "nbformat": 4,
 "nbformat_minor": 0
}
