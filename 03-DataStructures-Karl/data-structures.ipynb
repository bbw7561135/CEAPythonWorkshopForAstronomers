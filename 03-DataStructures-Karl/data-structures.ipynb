{
 "cells": [
  {
   "cell_type": "code",
   "execution_count": 1,
   "metadata": {
    "collapsed": true
   },
   "outputs": [],
   "source": [
    "from IPython.display import HTML"
   ]
  },
  {
   "cell_type": "markdown",
   "metadata": {},
   "source": [
    "# Python Data Structures "
   ]
  },
  {
   "cell_type": "markdown",
   "metadata": {},
   "source": [
    "Karl Kosack (LEPCHE)\n",
    "\n",
    "CEA SAp python workshop\n",
    "\n",
    "TOPICS:\n",
    "--------\n",
    "\n",
    "* types, objects\n",
    "* Advanced scalar data:\n",
    "  * imaginary numbers\n",
    "  * strings\n",
    "* Collections:\n",
    "  * tuples\n",
    "  * lists and comprehensions\n",
    "  * sets\n",
    "  * dicts\n",
    "* Generators and generator comprehensions\n",
    "\n",
    "Reference: https://docs.python.org/2/library/stdtypes.html"
   ]
  },
  {
   "cell_type": "markdown",
   "metadata": {},
   "source": [
    "### syntax preview:\n",
    "\n",
    "#### Strings\n",
    "```python\n",
    "x = \"text\"  # a string\n",
    "x = 'text'  # also a string\n",
    "x = \"\"\" long text with maybe more than one \n",
    "        line in it \"\"\"   # a string\n",
    "```\n",
    "#### containers\n",
    "```python\n",
    "x = (a,b)  # a tuple\n",
    "x = [a,b]  # a list\n",
    "x = {a,b}  # a set\n",
    "x = {a: b, c:d}  # a dict\n",
    "```\n"
   ]
  },
  {
   "cell_type": "markdown",
   "metadata": {},
   "source": [
    "# Data Types"
   ]
  },
  {
   "cell_type": "code",
   "execution_count": 2,
   "metadata": {
    "collapsed": false
   },
   "outputs": [
    {
     "name": "stdout",
     "output_type": "stream",
     "text": [
      "x is a  <type 'int'>\n",
      "y is a  <type 'float'>\n"
     ]
    }
   ],
   "source": [
    "x = 3\n",
    "y = 3.1\n",
    "print \"x is a \", type(x)\n",
    "print \"y is a \", type(y)"
   ]
  },
  {
   "cell_type": "code",
   "execution_count": 3,
   "metadata": {
    "collapsed": false
   },
   "outputs": [
    {
     "name": "stdout",
     "output_type": "stream",
     "text": [
      "<type 'bool'>\n"
     ]
    }
   ],
   "source": [
    "print type(False)"
   ]
  },
  {
   "cell_type": "code",
   "execution_count": 4,
   "metadata": {
    "collapsed": false
   },
   "outputs": [
    {
     "name": "stdout",
     "output_type": "stream",
     "text": [
      "<type 'type'>\n"
     ]
    }
   ],
   "source": [
    "print type(type(1))"
   ]
  },
  {
   "cell_type": "code",
   "execution_count": 5,
   "metadata": {
    "collapsed": false
   },
   "outputs": [
    {
     "name": "stdout",
     "output_type": "stream",
     "text": [
      "<type 'builtin_function_or_method'>\n"
     ]
    }
   ],
   "source": [
    "print type( isinstance )"
   ]
  },
  {
   "cell_type": "code",
   "execution_count": 6,
   "metadata": {
    "collapsed": false
   },
   "outputs": [
    {
     "data": {
      "text/plain": [
       "True"
      ]
     },
     "execution_count": 6,
     "metadata": {},
     "output_type": "execute_result"
    }
   ],
   "source": [
    "isinstance(1,int)"
   ]
  },
  {
   "cell_type": "code",
   "execution_count": 7,
   "metadata": {
    "collapsed": false
   },
   "outputs": [
    {
     "data": {
      "text/plain": [
       "True"
      ]
     },
     "execution_count": 7,
     "metadata": {},
     "output_type": "execute_result"
    }
   ],
   "source": [
    "isinstance(\"bork\",str)"
   ]
  },
  {
   "cell_type": "code",
   "execution_count": 8,
   "metadata": {
    "collapsed": false
   },
   "outputs": [
    {
     "data": {
      "text/plain": [
       "False"
      ]
     },
     "execution_count": 8,
     "metadata": {},
     "output_type": "execute_result"
    }
   ],
   "source": [
    "isinstance(15.3, int)"
   ]
  },
  {
   "cell_type": "markdown",
   "metadata": {},
   "source": [
    "All values in Python are actually **Objects**:\n",
    "\n",
    "> * Objects are data types that have **methods** (functions that operate on themselves) and **properties** (internal data)\n",
    "> * you access the methods and properties via the ``.`` (period) operator: ``obj.method()``, or ``obj.property``\n",
    "> * IPython and the Notebook can tell you what methods are available by **tab-completion**"
   ]
  },
  {
   "cell_type": "code",
   "execution_count": 9,
   "metadata": {
    "collapsed": false
   },
   "outputs": [],
   "source": [
    "x = 3\n",
    "# example of tab-completing the x variable above:\n",
    "# x.[tab]\n"
   ]
  },
  {
   "cell_type": "code",
   "execution_count": 10,
   "metadata": {
    "collapsed": false
   },
   "outputs": [
    {
     "data": {
      "text/plain": [
       "2"
      ]
     },
     "execution_count": 10,
     "metadata": {},
     "output_type": "execute_result"
    }
   ],
   "source": [
    "x.bit_length()"
   ]
  },
  {
   "cell_type": "code",
   "execution_count": 11,
   "metadata": {
    "collapsed": false
   },
   "outputs": [
    {
     "data": {
      "text/plain": [
       "8"
      ]
     },
     "execution_count": 11,
     "metadata": {},
     "output_type": "execute_result"
    }
   ],
   "source": [
    "(128).bit_length()"
   ]
  },
  {
   "cell_type": "code",
   "execution_count": 12,
   "metadata": {
    "collapsed": false
   },
   "outputs": [
    {
     "ename": "AttributeError",
     "evalue": "'float' object has no attribute 'bit_length'",
     "output_type": "error",
     "traceback": [
      "\u001b[0;31m---------------------------------------------------------------------------\u001b[0m",
      "\u001b[0;31mAttributeError\u001b[0m                            Traceback (most recent call last)",
      "\u001b[0;32m<ipython-input-12-b83ebe3c4ea7>\u001b[0m in \u001b[0;36m<module>\u001b[0;34m()\u001b[0m\n\u001b[0;32m----> 1\u001b[0;31m \u001b[0;34m(\u001b[0m\u001b[0;36m128.1\u001b[0m\u001b[0;34m)\u001b[0m\u001b[0;34m.\u001b[0m\u001b[0mbit_length\u001b[0m\u001b[0;34m(\u001b[0m\u001b[0;34m)\u001b[0m\u001b[0;34m\u001b[0m\u001b[0m\n\u001b[0m",
      "\u001b[0;31mAttributeError\u001b[0m: 'float' object has no attribute 'bit_length'"
     ]
    }
   ],
   "source": [
    "(128.1).bit_length()"
   ]
  },
  {
   "cell_type": "code",
   "execution_count": 13,
   "metadata": {
    "collapsed": false
   },
   "outputs": [],
   "source": [
    "# bit_lenth is only a method for Integers! \n",
    "#let's see what other methods there are:\n",
    "f = 1.5"
   ]
  },
  {
   "cell_type": "code",
   "execution_count": 14,
   "metadata": {
    "collapsed": false
   },
   "outputs": [
    {
     "data": {
      "text/plain": [
       "(3, 2)"
      ]
     },
     "execution_count": 14,
     "metadata": {},
     "output_type": "execute_result"
    }
   ],
   "source": [
    "f.as_integer_ratio()"
   ]
  },
  {
   "cell_type": "code",
   "execution_count": 15,
   "metadata": {
    "collapsed": false
   },
   "outputs": [
    {
     "name": "stdout",
     "output_type": "stream",
     "text": [
      "real= 1.5\n",
      "imag= 0.0\n"
     ]
    }
   ],
   "source": [
    "print \"real=\",f.real\n",
    "print \"imag=\",f.imag"
   ]
  },
  {
   "cell_type": "markdown",
   "metadata": {},
   "source": [
    "Hmm.. interesting! Imaginary numbers are built in!\n",
    "\n",
    "Declare them by **using the \"j\" suffix after a number**"
   ]
  },
  {
   "cell_type": "code",
   "execution_count": 16,
   "metadata": {
    "collapsed": false
   },
   "outputs": [
    {
     "name": "stdout",
     "output_type": "stream",
     "text": [
      "(12+3j)\n"
     ]
    }
   ],
   "source": [
    "z = 12.0 + 3.0j\n",
    "print z"
   ]
  },
  {
   "cell_type": "code",
   "execution_count": 17,
   "metadata": {
    "collapsed": false
   },
   "outputs": [
    {
     "data": {
      "text/plain": [
       "12.0"
      ]
     },
     "execution_count": 17,
     "metadata": {},
     "output_type": "execute_result"
    }
   ],
   "source": [
    "z.real"
   ]
  },
  {
   "cell_type": "code",
   "execution_count": 18,
   "metadata": {
    "collapsed": false
   },
   "outputs": [
    {
     "data": {
      "text/plain": [
       "<function conjugate>"
      ]
     },
     "execution_count": 18,
     "metadata": {},
     "output_type": "execute_result"
    }
   ],
   "source": [
    "z.conjugate"
   ]
  },
  {
   "cell_type": "code",
   "execution_count": 19,
   "metadata": {
    "collapsed": false
   },
   "outputs": [
    {
     "data": {
      "text/plain": [
       "(12-3j)"
      ]
     },
     "execution_count": 19,
     "metadata": {},
     "output_type": "execute_result"
    }
   ],
   "source": [
    "# oops, that wasn't a property... it's a method! need to call it\n",
    "z.conjugate()"
   ]
  },
  {
   "cell_type": "code",
   "execution_count": 20,
   "metadata": {
    "collapsed": false
   },
   "outputs": [
    {
     "data": {
      "text/plain": [
       "(135+72j)"
      ]
     },
     "execution_count": 20,
     "metadata": {},
     "output_type": "execute_result"
    }
   ],
   "source": [
    "z**2"
   ]
  },
  {
   "cell_type": "markdown",
   "metadata": {},
   "source": [
    "## the String type\n"
   ]
  },
  {
   "cell_type": "code",
   "execution_count": 21,
   "metadata": {
    "collapsed": false
   },
   "outputs": [
    {
     "name": "stdout",
     "output_type": "stream",
     "text": [
      "<type 'str'>\n"
     ]
    }
   ],
   "source": [
    "s = \"this is a test\"\n",
    "print type(s)"
   ]
  },
  {
   "cell_type": "code",
   "execution_count": 22,
   "metadata": {
    "collapsed": false
   },
   "outputs": [
    {
     "name": "stdout",
     "output_type": "stream",
     "text": [
      "this is a testthis is a test\n",
      "this is a test of stuff\n"
     ]
    }
   ],
   "source": [
    "# concatination:\n",
    "print s + s \n",
    "print s + \" of stuff\""
   ]
  },
  {
   "cell_type": "markdown",
   "metadata": {},
   "source": [
    "note: string concatination like this is *not fast*, so for complex string processing there are better ways (see `join()` later)"
   ]
  },
  {
   "cell_type": "code",
   "execution_count": 23,
   "metadata": {
    "collapsed": false
   },
   "outputs": [
    {
     "name": "stdout",
     "output_type": "stream",
     "text": [
      "==================================================\n",
      "hellohellohellohellohellohellohellohellohellohello\n"
     ]
    }
   ],
   "source": [
    "print \"=\"*50\n",
    "print \"hello\"*10"
   ]
  },
  {
   "cell_type": "code",
   "execution_count": 24,
   "metadata": {
    "collapsed": false
   },
   "outputs": [
    {
     "name": "stdout",
     "output_type": "stream",
     "text": [
      "This is a test\n",
      "this is a test\n",
      "THIS IS A TEST\n",
      "This Is A Test\n",
      "--------------------------------------------------------------------------------\n",
      "                                 THIS IS A TEST                                 \n",
      "--------------------------------------------------------------------------------\n"
     ]
    }
   ],
   "source": [
    "print s.capitalize()\n",
    "print s.lower()\n",
    "print s.upper()\n",
    "print s.title()\n",
    "\n",
    "print \"-\"*80\n",
    "print s.upper().center(80)\n",
    "print \"-\"*80"
   ]
  },
  {
   "cell_type": "code",
   "execution_count": 25,
   "metadata": {
    "collapsed": false
   },
   "outputs": [
    {
     "name": "stdout",
     "output_type": "stream",
     "text": [
      "True\n",
      "True\n",
      "False\n"
     ]
    }
   ],
   "source": [
    "print s.startswith(\"this\")\n",
    "print s.endswith(\"test\")\n",
    "print s.endswith(\"is\")"
   ]
  },
  {
   "cell_type": "markdown",
   "metadata": {},
   "source": [
    "### Formatting Strings"
   ]
  },
  {
   "cell_type": "code",
   "execution_count": 26,
   "metadata": {
    "collapsed": false
   },
   "outputs": [
    {
     "name": "stdout",
     "output_type": "stream",
     "text": [
      "My name is Karl and I have lived in Paris for 6 years\n"
     ]
    }
   ],
   "source": [
    "line = \"My name is {} and I have lived in Paris for {} years\"\n",
    "print line.format(\"Karl\",6)"
   ]
  },
  {
   "cell_type": "code",
   "execution_count": 27,
   "metadata": {
    "collapsed": false
   },
   "outputs": [
    {
     "data": {
      "text/plain": [
       "'My name  is Karl and I have lived in Paris for 6 years'"
      ]
     },
     "execution_count": 27,
     "metadata": {},
     "output_type": "execute_result"
    }
   ],
   "source": [
    "# with numbered placeholders\n",
    "line = \"My name  is {1} and I have lived in Paris for {0} years\" \n",
    "line.format(6,\"Karl\") # note positions are now numbered"
   ]
  },
  {
   "cell_type": "code",
   "execution_count": 28,
   "metadata": {
    "collapsed": false
   },
   "outputs": [
    {
     "data": {
      "text/plain": [
       "'My name  is Fabio and I have lived in Paris for 2 years'"
      ]
     },
     "execution_count": 28,
     "metadata": {},
     "output_type": "execute_result"
    }
   ],
   "source": [
    "# with named placeholders\n",
    "line = \"My name  is {name} and I have lived in Paris for {years} years\"\n",
    "line.format( name=\"Fabio\", years=2 )"
   ]
  },
  {
   "cell_type": "code",
   "execution_count": 29,
   "metadata": {
    "collapsed": false
   },
   "outputs": [
    {
     "name": "stdout",
     "output_type": "stream",
     "text": [
      "The       electron has a mass of 9.11e-31 kg\n",
      "The         proton has a mass of 1.67e-27 kg\n"
     ]
    }
   ],
   "source": [
    "# formatting the values: use {placeholder:<format>}  Format is similar to printf\n",
    "line = \"The {0:>14s} has a mass of {1:0.3g} kg\"\n",
    "print line.format(\"electron\",9.10938291e-31)\n",
    "print line.format(\"proton\",1.672621777e-27)"
   ]
  },
  {
   "cell_type": "markdown",
   "metadata": {},
   "source": [
    "# Collections\n",
    "Data types that represent multple pieces of data:\n"
   ]
  },
  {
   "cell_type": "markdown",
   "metadata": {},
   "source": [
    "## Tuples: ordered, immutable data of mixed types"
   ]
  },
  {
   "cell_type": "code",
   "execution_count": 30,
   "metadata": {
    "collapsed": false
   },
   "outputs": [
    {
     "name": "stdout",
     "output_type": "stream",
     "text": [
      "(12.3, 'astro', (1+12j))\n",
      "<type 'tuple'>\n"
     ]
    }
   ],
   "source": [
    "# define tuples using parantheses (a,b,...)\n",
    "t = (12.3, \"astro\", 1+12j)\n",
    "print t\n",
    "print type(t)"
   ]
  },
  {
   "cell_type": "code",
   "execution_count": 31,
   "metadata": {
    "collapsed": false
   },
   "outputs": [
    {
     "data": {
      "text/plain": [
       "'astro'"
      ]
     },
     "execution_count": 31,
     "metadata": {},
     "output_type": "execute_result"
    }
   ],
   "source": [
    "# access an element of a tuple:\n",
    "t[1]"
   ]
  },
  {
   "cell_type": "code",
   "execution_count": 32,
   "metadata": {
    "collapsed": false
   },
   "outputs": [
    {
     "ename": "TypeError",
     "evalue": "'tuple' object does not support item assignment",
     "output_type": "error",
     "traceback": [
      "\u001b[0;31m---------------------------------------------------------------------------\u001b[0m",
      "\u001b[0;31mTypeError\u001b[0m                                 Traceback (most recent call last)",
      "\u001b[0;32m<ipython-input-32-b9ff0be8644c>\u001b[0m in \u001b[0;36m<module>\u001b[0;34m()\u001b[0m\n\u001b[0;32m----> 1\u001b[0;31m \u001b[0mt\u001b[0m\u001b[0;34m[\u001b[0m\u001b[0;36m1\u001b[0m\u001b[0;34m]\u001b[0m \u001b[0;34m=\u001b[0m \u001b[0;34m'SAp'\u001b[0m \u001b[0;31m# cannot change the data after definition! immutable\u001b[0m\u001b[0;34m\u001b[0m\u001b[0m\n\u001b[0m",
      "\u001b[0;31mTypeError\u001b[0m: 'tuple' object does not support item assignment"
     ]
    }
   ],
   "source": [
    "t[1] = 'SAp' # cannot change the data after definition! immutable"
   ]
  },
  {
   "cell_type": "markdown",
   "metadata": {},
   "source": [
    "tuples are fixed-structures (you cannot add/remove items or change types once they are defined!), but you can create a new tuple via concatination:"
   ]
  },
  {
   "cell_type": "code",
   "execution_count": 33,
   "metadata": {
    "collapsed": false
   },
   "outputs": [
    {
     "name": "stdout",
     "output_type": "stream",
     "text": [
      "(12.3, 'astro', (1+12j), 'value', 6)\n"
     ]
    }
   ],
   "source": [
    "t2 = t + (\"value\",6)\n",
    "print t2"
   ]
  },
  {
   "cell_type": "code",
   "execution_count": 34,
   "metadata": {
    "collapsed": false
   },
   "outputs": [
    {
     "name": "stdout",
     "output_type": "stream",
     "text": [
      "(12,)\n"
     ]
    }
   ],
   "source": [
    "# a single-element tuple must be defined like this:\n",
    "t3 = (12,)\n",
    "print t3"
   ]
  },
  {
   "cell_type": "code",
   "execution_count": 35,
   "metadata": {
    "collapsed": false
   },
   "outputs": [
    {
     "data": {
      "text/plain": [
       "5"
      ]
     },
     "execution_count": 35,
     "metadata": {},
     "output_type": "execute_result"
    }
   ],
   "source": [
    "len(t2) # get the length of a tuple"
   ]
  },
  {
   "cell_type": "markdown",
   "metadata": {},
   "source": [
    "In most cases, you can even skip the parentheses and python always assumes it's a tuple:"
   ]
  },
  {
   "cell_type": "code",
   "execution_count": 36,
   "metadata": {
    "collapsed": false
   },
   "outputs": [
    {
     "name": "stdout",
     "output_type": "stream",
     "text": [
      "<type 'tuple'>\n"
     ]
    }
   ],
   "source": [
    "x = 1,4,5\n",
    "print type(x)"
   ]
  },
  {
   "cell_type": "markdown",
   "metadata": {},
   "source": [
    "very useful for **multiple assignment**: use a tuple on the left-hand-side to \"undo\" the tuple!\n",
    "    "
   ]
  },
  {
   "cell_type": "code",
   "execution_count": 37,
   "metadata": {
    "collapsed": false
   },
   "outputs": [
    {
     "name": "stdout",
     "output_type": "stream",
     "text": [
      "2\n"
     ]
    }
   ],
   "source": [
    "x,y,z = 1,2,3\n",
    "print y"
   ]
  },
  {
   "cell_type": "code",
   "execution_count": 38,
   "metadata": {
    "collapsed": false
   },
   "outputs": [
    {
     "name": "stdout",
     "output_type": "stream",
     "text": [
      "x is now: 4\n",
      "y is now: 3\n"
     ]
    }
   ],
   "source": [
    "#swap two variables:\n",
    "x = 3\n",
    "y = 4\n",
    "x,y = y,x\n",
    "print \"x is now:\", x\n",
    "print \"y is now:\",y"
   ]
  },
  {
   "cell_type": "markdown",
   "metadata": {},
   "source": [
    "####What are tuples good for?\n",
    "* packing or unpacking sets of variables:\n",
    "    * multiple return values for a function\n",
    "    * multiple generic input parameters for a function that accepts a single parameters:\n",
    "   ``f(p) -> f( (x,y) )``\n",
    "* passing around data that you do not want modified"
   ]
  },
  {
   "cell_type": "markdown",
   "metadata": {},
   "source": [
    "## Lists: mutable, expandable arrays of data\n",
    "Like tuples, the definition is simple: replace ``()`` with ``[]``"
   ]
  },
  {
   "cell_type": "code",
   "execution_count": 39,
   "metadata": {
    "collapsed": false
   },
   "outputs": [
    {
     "name": "stdout",
     "output_type": "stream",
     "text": [
      "[1, 2, 3, 4, 5]\n",
      "5 <type 'list'>\n"
     ]
    }
   ],
   "source": [
    "v = [1,2,3,4,5] ; \n",
    "print v\n",
    "print len(v), type(v)"
   ]
  },
  {
   "cell_type": "code",
   "execution_count": 40,
   "metadata": {
    "collapsed": false
   },
   "outputs": [
    {
     "name": "stdout",
     "output_type": "stream",
     "text": [
      "1\n",
      "[2, 3]\n"
     ]
    }
   ],
   "source": [
    "# element access, same as tuple, but more flexible:\n",
    "print v[0]\n",
    "print v[1:3]  # slice: returns a sub-list of elements 1 to 2, not including element 3\n",
    "# note: indexing from 0!"
   ]
  },
  {
   "cell_type": "code",
   "execution_count": 41,
   "metadata": {
    "collapsed": false
   },
   "outputs": [
    {
     "name": "stdout",
     "output_type": "stream",
     "text": [
      "[4, 5]\n"
     ]
    }
   ],
   "source": [
    "print v[3:]  # from element 3 onward"
   ]
  },
  {
   "cell_type": "code",
   "execution_count": 42,
   "metadata": {
    "collapsed": false
   },
   "outputs": [
    {
     "name": "stdout",
     "output_type": "stream",
     "text": [
      "[1, 2, 3]\n"
     ]
    }
   ],
   "source": [
    "print v[:3] # all elements up to (but not including) element 3"
   ]
  },
  {
   "cell_type": "code",
   "execution_count": 43,
   "metadata": {
    "collapsed": false
   },
   "outputs": [
    {
     "name": "stdout",
     "output_type": "stream",
     "text": [
      "5\n",
      "4\n"
     ]
    }
   ],
   "source": [
    "print v[-1] # negative indices count from the end\n",
    "print v[-2]"
   ]
  },
  {
   "cell_type": "code",
   "execution_count": 44,
   "metadata": {
    "collapsed": false
   },
   "outputs": [
    {
     "name": "stdout",
     "output_type": "stream",
     "text": [
      "[1, 2, 3, 4] [2, 3, 4, 5]\n"
     ]
    }
   ],
   "source": [
    "print v[:-1] , v[1:]  "
   ]
  },
  {
   "cell_type": "code",
   "execution_count": 45,
   "metadata": {
    "collapsed": false
   },
   "outputs": [
    {
     "name": "stdout",
     "output_type": "stream",
     "text": [
      "3\n"
     ]
    }
   ],
   "source": [
    "# can be mixed-types:\n",
    "v = [\"CEA\", 12, \"SAp\"]\n",
    "print len(v)"
   ]
  },
  {
   "cell_type": "code",
   "execution_count": 46,
   "metadata": {
    "collapsed": false
   },
   "outputs": [
    {
     "name": "stdout",
     "output_type": "stream",
     "text": [
      "[[0, 1], [1, 0.5]]\n",
      "determininant is:  -1.0\n"
     ]
    }
   ],
   "source": [
    "# Lists can be nested to make more complex data:\n",
    "M = [ [0,1],[1,0.5] ]\n",
    "print M\n",
    "print \"determininant is: \", M[0][0]*M[1][1] - M[0][1]*M[1][0]"
   ]
  },
  {
   "cell_type": "code",
   "execution_count": 47,
   "metadata": {
    "collapsed": false
   },
   "outputs": [
    {
     "name": "stdout",
     "output_type": "stream",
     "text": [
      "determininant is:  1.5\n"
     ]
    }
   ],
   "source": [
    "#you can change the list elements at will! (unlike tuples)\n",
    "M[0][0] = 5\n",
    "print \"determininant is: \", M[0][0]*M[1][1] - M[0][1]*M[1][0]"
   ]
  },
  {
   "cell_type": "markdown",
   "metadata": {},
   "source": [
    "#### Manipulating Lists"
   ]
  },
  {
   "cell_type": "code",
   "execution_count": 48,
   "metadata": {
    "collapsed": false
   },
   "outputs": [
    {
     "name": "stdout",
     "output_type": "stream",
     "text": [
      "[1, 2, 3, 4, [-5, 6]]\n"
     ]
    }
   ],
   "source": [
    "v = [1,2,3]\n",
    "v.append(4)\n",
    "v.append([-5,6])\n",
    "print v"
   ]
  },
  {
   "cell_type": "code",
   "execution_count": 49,
   "metadata": {
    "collapsed": false
   },
   "outputs": [
    {
     "name": "stdout",
     "output_type": "stream",
     "text": [
      "[1, 2, 3, 4, -5, 6]\n"
     ]
    }
   ],
   "source": [
    "#concatinating is not the same as appending (only works with 2 lists):\n",
    "v = [1,2,3]\n",
    "v.append(4)\n",
    "v += [-5,6]\n",
    "print v"
   ]
  },
  {
   "cell_type": "markdown",
   "metadata": {},
   "source": [
    "Lists can work like Stacks or Queues using `.append(x)` and `.pop()`"
   ]
  },
  {
   "cell_type": "code",
   "execution_count": 50,
   "metadata": {
    "collapsed": false
   },
   "outputs": [
    {
     "name": "stdout",
     "output_type": "stream",
     "text": [
      "5\n",
      "4\n",
      "[1, 2, 3]\n"
     ]
    }
   ],
   "source": [
    "v = [1,2,3,4,5]\n",
    "print v.pop()  # pops from end of list, stack-wise\n",
    "print v.pop()\n",
    "print v"
   ]
  },
  {
   "cell_type": "code",
   "execution_count": 51,
   "metadata": {
    "collapsed": false
   },
   "outputs": [
    {
     "name": "stdout",
     "output_type": "stream",
     "text": [
      "1\n",
      "2\n"
     ]
    }
   ],
   "source": [
    "v = [1,2,3,4,5]\n",
    "print v.pop(0)  # pops from element 0, queue-wise\n",
    "print v.pop(0)"
   ]
  },
  {
   "cell_type": "markdown",
   "metadata": {},
   "source": [
    "Lists can be sorted:"
   ]
  },
  {
   "cell_type": "code",
   "execution_count": 52,
   "metadata": {
    "collapsed": false
   },
   "outputs": [
    {
     "name": "stdout",
     "output_type": "stream",
     "text": [
      "[2, 3, 3, 4, 4, 5, 6, 16]\n",
      "[16, 6, 5, 4, 4, 3, 3, 2]\n",
      "['list', 'a', 'is', 'this']\n"
     ]
    }
   ],
   "source": [
    "v1 = [5,6,2,4,3,3,4,16]\n",
    "v1.sort()  # does *in-place* sort, the original v1 is now overwritten\n",
    "print v1\n",
    "v1.sort(reverse=True) # can go backwards too\n",
    "print v1\n",
    "l = [\"this\",\"is\",\"a\",\"list\"]\n",
    "l.reverse() # reverse without sorting\n",
    "print l"
   ]
  },
  {
   "cell_type": "code",
   "execution_count": 53,
   "metadata": {
    "collapsed": false,
    "scrolled": true
   },
   "outputs": [
    {
     "name": "stdout",
     "output_type": "stream",
     "text": [
      "[5, 6, 2, 4, 3, 3, 4, 16]\n",
      "[2, 3, 3, 4, 4, 5, 6, 16]\n",
      "[16, 4, 3, 3, 4, 2, 6, 5]\n"
     ]
    }
   ],
   "source": [
    "v2 = [5,6,2,4,3,3,4,16]\n",
    "s = list(sorted(v2))  # use the sorted function to get a new sorted list \n",
    "print v2\n",
    "print s\n",
    "print list(reversed(v2))"
   ]
  },
  {
   "cell_type": "markdown",
   "metadata": {},
   "source": [
    "**Note**: `sorted()` and `reversed()` actually return  iterator functions, which doesn't get evaluated until you loop over them! Calling `list()` on the result forces it to be realized as a list.  \n",
    "\n",
    "We'll talk about looping over lists next..."
   ]
  },
  {
   "cell_type": "markdown",
   "metadata": {},
   "source": [
    "### List iteration:"
   ]
  },
  {
   "cell_type": "code",
   "execution_count": 54,
   "metadata": {
    "collapsed": false
   },
   "outputs": [
    {
     "name": "stdout",
     "output_type": "stream",
     "text": [
      "got one\n",
      "got two\n",
      "got three\n",
      "got four\n"
     ]
    }
   ],
   "source": [
    "names = [\"one\",\"two\",\"three\",\"four\"]\n",
    "\n",
    "for item in names:\n",
    "    print \"got\",item"
   ]
  },
  {
   "cell_type": "code",
   "execution_count": 55,
   "metadata": {
    "collapsed": false
   },
   "outputs": [
    {
     "name": "stdout",
     "output_type": "stream",
     "text": [
      "(0, 'one')\n",
      "(1, 'two')\n",
      "(2, 'three')\n",
      "(3, 'four')\n"
     ]
    }
   ],
   "source": [
    "# if you're used to C, you often also want a \"index\" variable\n",
    "for item in enumerate(names):\n",
    "    print item"
   ]
  },
  {
   "cell_type": "code",
   "execution_count": 56,
   "metadata": {
    "collapsed": false
   },
   "outputs": [
    {
     "name": "stdout",
     "output_type": "stream",
     "text": [
      "name 0 is one\n",
      "name 1 is two\n",
      "name 2 is three\n",
      "name 3 is four\n"
     ]
    }
   ],
   "source": [
    "# the output are tuples! ii,name\n",
    "# we can write this better by using a tuple in the loop:\n",
    "for ii,nn in  enumerate(names):\n",
    "    print \"name\",ii,\"is\",nn"
   ]
  },
  {
   "cell_type": "markdown",
   "metadata": {},
   "source": [
    "Now let's combine some string and list functions:"
   ]
  },
  {
   "cell_type": "code",
   "execution_count": 57,
   "metadata": {
    "collapsed": false
   },
   "outputs": [
    {
     "data": {
      "text/plain": [
       "'this is a test'"
      ]
     },
     "execution_count": 57,
     "metadata": {},
     "output_type": "execute_result"
    }
   ],
   "source": [
    "mylist = [\"this\",\"is\",\"a\",\"test\"]\n",
    "\" \".join(mylist)  # join on space (join is a function of strings!) "
   ]
  },
  {
   "cell_type": "code",
   "execution_count": 58,
   "metadata": {
    "collapsed": false
   },
   "outputs": [
    {
     "name": "stdout",
     "output_type": "stream",
     "text": [
      "this *** is *** a *** test\n"
     ]
    }
   ],
   "source": [
    "print \" *** \".join(mylist)"
   ]
  },
  {
   "cell_type": "code",
   "execution_count": 59,
   "metadata": {
    "collapsed": false
   },
   "outputs": [
    {
     "name": "stdout",
     "output_type": "stream",
     "text": [
      "['are', 'here', 'some', 'words']\n"
     ]
    }
   ],
   "source": [
    "l = \"here are some words\".split(\" \") # split into a list on space\n",
    "l.sort()\n",
    "print l"
   ]
  },
  {
   "cell_type": "markdown",
   "metadata": {},
   "source": [
    "> note:  more complex splitting and joining can be done with the `re` (regexp) module, but that's for another time"
   ]
  },
  {
   "cell_type": "markdown",
   "metadata": {},
   "source": [
    "#### A complete example:"
   ]
  },
  {
   "cell_type": "code",
   "execution_count": 60,
   "metadata": {
    "collapsed": false
   },
   "outputs": [
    {
     "name": "stdout",
     "output_type": "stream",
     "text": [
      "['', 'be', 'that', 'word', 'our', 'sign', 'in', 'parting,', 'bird', 'or', 'fiend', 'i', 'shrieked,', 'upstarting', 'get', 'thee', 'back', 'into', 'the', 'tempest', 'and', 'the', \"night's\", 'plutonian', 'shore', 'leave', 'no', 'black', 'plume', 'as', 'a', 'token', 'of', 'that', 'lie', 'thy', 'soul', 'hath', 'spoken', 'leave', 'my', 'loneliness', 'unbroken', 'quit', 'the', 'bust', 'above', 'my', 'door', 'take', 'thy', 'beak', 'from', 'out', 'my', 'heart,', 'and', 'take', 'thy', 'form', 'from', 'off', 'my', 'door', 'quoth', 'the', 'raven', 'nevermore', '', '']\n",
      "----------\n",
      "* 'my' appears 4 times\n",
      "* 'the' appears 4 times\n",
      "* 'door' appears 2 times\n",
      "* 'soul' appears 1 times\n"
     ]
    }
   ],
   "source": [
    "quote = \"\"\"\n",
    "Be that word our sign in parting, bird or fiend! I shrieked, upstarting\n",
    "Get thee back into the tempest and the Night's Plutonian shore!\n",
    "Leave no black plume as a token of that lie thy soul hath spoken!\n",
    "Leave my loneliness unbroken! quit the bust above my door!\n",
    "Take thy beak from out my heart, and take thy form from off my door!\"\n",
    "Quoth the Raven \"Nevermore.\" \n",
    "\"\"\"\n",
    "clean_quote = quote.replace('\\n',\" \").replace('\"','').replace(\"!\",\"\").replace(\".\",\"\").lower()\n",
    "words = clean_quote.split(\" \")\n",
    "print words\n",
    "print \"----------\"\n",
    "\n",
    "for word in [\"my\", \"the\",\"door\",\"soul\"]:\n",
    "    numtimes = words.count(word)\n",
    "    print \"* '{0}' appears {1} times\".format( word, numtimes )"
   ]
  },
  {
   "cell_type": "code",
   "execution_count": null,
   "metadata": {
    "collapsed": false
   },
   "outputs": [],
   "source": []
  },
  {
   "cell_type": "markdown",
   "metadata": {},
   "source": [
    "### List Comprehensions: quickly generating lists\n",
    "\n",
    "Something very *powerful and very useful* is the _list comprehension_: it allows you to use a function to define a list, and select items from that function"
   ]
  },
  {
   "cell_type": "markdown",
   "metadata": {},
   "source": [
    "> * alist = [ func(var) **for** var **in** anotherlist ]\n",
    "> * alist = [ func(var) **if** condition **else** anotherfunc(var) **for** var **in** anotherlist ]"
   ]
  },
  {
   "cell_type": "code",
   "execution_count": 61,
   "metadata": {
    "collapsed": false
   },
   "outputs": [
    {
     "name": "stdout",
     "output_type": "stream",
     "text": [
      "['THIS', 'TEST']\n"
     ]
    }
   ],
   "source": [
    "mylist = [\"this\",\"is\",\"a\",\"test\"]\n",
    "\n",
    "# get all elements that start with \"t\" and make them upper-case:\n",
    "selected = [ X.upper() for X in mylist if X.startswith(\"t\") ]\n",
    "print selected"
   ]
  },
  {
   "cell_type": "code",
   "execution_count": 62,
   "metadata": {
    "collapsed": false
   },
   "outputs": [
    {
     "name": "stdout",
     "output_type": "stream",
     "text": [
      "['This', 'IS', 'A', 'Test']\n"
     ]
    }
   ],
   "source": [
    "# use the ternary operator:\n",
    "selected = [ X.capitalize() if X.startswith(\"t\") else X.upper() for X in mylist ]\n",
    "print selected"
   ]
  },
  {
   "cell_type": "code",
   "execution_count": 63,
   "metadata": {
    "collapsed": false
   },
   "outputs": [
    {
     "name": "stdout",
     "output_type": "stream",
     "text": [
      "[1, 2, 3, 4, 'test', 5]\n",
      "['1', '2', '3', '4', 'test', '5']\n",
      "' 1, 2, 3, 4, test, 5 '\n"
     ]
    }
   ],
   "source": [
    "mylist = [1,2,3,4,\"test\",5]\n",
    "# convert all to strings:\n",
    "mystringlist = [ str(s) for s in mylist]\n",
    "print mylist\n",
    "print mystringlist\n",
    "print \"'\",\", \".join(mystringlist),\"'\""
   ]
  },
  {
   "cell_type": "markdown",
   "metadata": {},
   "source": [
    "## Sets: list-like objects with no repeating values"
   ]
  },
  {
   "cell_type": "code",
   "execution_count": 64,
   "metadata": {
    "collapsed": false
   },
   "outputs": [
    {
     "name": "stdout",
     "output_type": "stream",
     "text": [
      "<type 'set'>\n",
      "set(['blueberries', 'oranges', 'pears', 'apples'])\n",
      "set(['strawberries', 'pears', 'apples', 'grapes'])\n"
     ]
    }
   ],
   "source": [
    "set1 = {\"apples\",\"oranges\",\"pears\",\"blueberries\"}\n",
    "set2 = {\"grapes\",\"pears\",\"apples\",\"strawberries\",\"grapes\"} # note grapes appears twice\n",
    "print type(set1)\n",
    "print set1\n",
    "print set2"
   ]
  },
  {
   "cell_type": "markdown",
   "metadata": {},
   "source": [
    "Sets work a lot like lists or tuples, but they cannot have repeating values (appending an existing value will do nothing)"
   ]
  },
  {
   "cell_type": "code",
   "execution_count": 65,
   "metadata": {
    "collapsed": false
   },
   "outputs": [
    {
     "data": {
      "text/plain": [
       "True"
      ]
     },
     "execution_count": 65,
     "metadata": {},
     "output_type": "execute_result"
    }
   ],
   "source": [
    "\"apples\" in set1"
   ]
  },
  {
   "cell_type": "code",
   "execution_count": 66,
   "metadata": {
    "collapsed": false
   },
   "outputs": [
    {
     "data": {
      "text/plain": [
       "False"
      ]
     },
     "execution_count": 66,
     "metadata": {},
     "output_type": "execute_result"
    }
   ],
   "source": [
    "\"oranges\" in set2"
   ]
  },
  {
   "cell_type": "code",
   "execution_count": 67,
   "metadata": {
    "collapsed": false
   },
   "outputs": [
    {
     "name": "stdout",
     "output_type": "stream",
     "text": [
      "set(['apples', 'pears'])\n",
      "set(['apples', 'pears'])\n"
     ]
    }
   ],
   "source": [
    "# find the intersection\n",
    "print set1.intersection(set2)\n",
    "print set1 & set2 "
   ]
  },
  {
   "cell_type": "code",
   "execution_count": 68,
   "metadata": {
    "collapsed": false
   },
   "outputs": [
    {
     "name": "stdout",
     "output_type": "stream",
     "text": [
      "set(['blueberries', 'oranges'])\n",
      "set(['blueberries', 'oranges'])\n"
     ]
    }
   ],
   "source": [
    "# find the difference:\n",
    "print set1.difference(set2)\n",
    "print set1 - set2 "
   ]
  },
  {
   "cell_type": "code",
   "execution_count": 69,
   "metadata": {
    "collapsed": false
   },
   "outputs": [
    {
     "name": "stdout",
     "output_type": "stream",
     "text": [
      "set(['tomatoes', 'blueberries', 'oranges', 'apples'])\n",
      "set(['blueberries', 'pears', 'oranges', 'strawberries', 'apples', 'grapes', 'tomatoes'])\n",
      "set(['blueberries', 'pears', 'oranges', 'strawberries', 'apples', 'grapes', 'tomatoes'])\n"
     ]
    }
   ],
   "source": [
    "# adding and removing items:\n",
    "set1.add(\"tomatoes\")\n",
    "set1.remove(\"pears\")\n",
    "print set1\n",
    "print set1 | set2 \n",
    "print set1.union(set2)"
   ]
  },
  {
   "cell_type": "code",
   "execution_count": 70,
   "metadata": {
    "collapsed": false
   },
   "outputs": [
    {
     "name": "stdout",
     "output_type": "stream",
     "text": [
      "True\n",
      "False\n"
     ]
    }
   ],
   "source": [
    "set3 = {\"apples\",\"oranges\",\"pears\",\"blueberries\"}\n",
    "print {\"apples\",\"pears\"}.issubset( set3 )\n",
    "print {\"apples\",\"grapes\"}.issubset( set3 )"
   ]
  },
  {
   "cell_type": "markdown",
   "metadata": {},
   "source": [
    "## Dicts: Key-Value storage (associative arrays)\n",
    "\n",
    "One of the most powerful and useful structures is the **dict**  = \"Dictionary\""
   ]
  },
  {
   "cell_type": "code",
   "execution_count": 71,
   "metadata": {
    "collapsed": false
   },
   "outputs": [
    {
     "name": "stdout",
     "output_type": "stream",
     "text": [
      "{'lastname': 'Kosack', 'firstname': 'Karl'}\n"
     ]
    }
   ],
   "source": [
    "mydict = { 'firstname': 'Karl', 'lastname': 'Kosack' }\n",
    "print mydict"
   ]
  },
  {
   "cell_type": "code",
   "execution_count": 72,
   "metadata": {
    "collapsed": false
   },
   "outputs": [
    {
     "name": "stdout",
     "output_type": "stream",
     "text": [
      "{'lastname': 'Kosack', 'firstname': 'Karl'}\n"
     ]
    }
   ],
   "source": [
    "# can also declare using a function:\n",
    "mydict = dict( firstname=\"Karl\", lastname=\"Kosack\" )\n",
    "print mydict"
   ]
  },
  {
   "cell_type": "code",
   "execution_count": 73,
   "metadata": {
    "collapsed": false
   },
   "outputs": [
    {
     "name": "stdout",
     "output_type": "stream",
     "text": [
      "Karl\n"
     ]
    }
   ],
   "source": [
    "# access an element\n",
    "print mydict['firstname']"
   ]
  },
  {
   "cell_type": "code",
   "execution_count": 74,
   "metadata": {
    "collapsed": false
   },
   "outputs": [
    {
     "ename": "KeyError",
     "evalue": "'stuff'",
     "output_type": "error",
     "traceback": [
      "\u001b[0;31m---------------------------------------------------------------------------\u001b[0m",
      "\u001b[0;31mKeyError\u001b[0m                                  Traceback (most recent call last)",
      "\u001b[0;32m<ipython-input-74-7dabd7c187e1>\u001b[0m in \u001b[0;36m<module>\u001b[0;34m()\u001b[0m\n\u001b[0;32m----> 1\u001b[0;31m \u001b[0;32mprint\u001b[0m \u001b[0mmydict\u001b[0m\u001b[0;34m[\u001b[0m\u001b[0;34m'stuff'\u001b[0m\u001b[0;34m]\u001b[0m\u001b[0;34m\u001b[0m\u001b[0m\n\u001b[0m",
      "\u001b[0;31mKeyError\u001b[0m: 'stuff'"
     ]
    }
   ],
   "source": [
    "print mydict['stuff']"
   ]
  },
  {
   "cell_type": "code",
   "execution_count": 75,
   "metadata": {
    "collapsed": false
   },
   "outputs": [
    {
     "name": "stdout",
     "output_type": "stream",
     "text": [
      "False\n"
     ]
    }
   ],
   "source": [
    "print mydict.has_key('stuff')"
   ]
  },
  {
   "cell_type": "code",
   "execution_count": 76,
   "metadata": {
    "collapsed": false
   },
   "outputs": [
    {
     "ename": "KeyError",
     "evalue": "0",
     "output_type": "error",
     "traceback": [
      "\u001b[0;31m---------------------------------------------------------------------------\u001b[0m",
      "\u001b[0;31mKeyError\u001b[0m                                  Traceback (most recent call last)",
      "\u001b[0;32m<ipython-input-76-48bc598422ff>\u001b[0m in \u001b[0;36m<module>\u001b[0;34m()\u001b[0m\n\u001b[0;32m----> 1\u001b[0;31m \u001b[0;32mprint\u001b[0m \u001b[0mmydict\u001b[0m\u001b[0;34m[\u001b[0m\u001b[0;36m0\u001b[0m\u001b[0;34m]\u001b[0m \u001b[0;31m# doesn't index like a list\u001b[0m\u001b[0;34m\u001b[0m\u001b[0m\n\u001b[0m",
      "\u001b[0;31mKeyError\u001b[0m: 0"
     ]
    }
   ],
   "source": [
    "print mydict[0] # doesn't index like a list"
   ]
  },
  {
   "cell_type": "code",
   "execution_count": 77,
   "metadata": {
    "collapsed": false
   },
   "outputs": [
    {
     "name": "stdout",
     "output_type": "stream",
     "text": [
      "Karl\n"
     ]
    }
   ],
   "source": [
    "print mydict.get(\"firstname\") # same as ['firstname']"
   ]
  },
  {
   "cell_type": "code",
   "execution_count": 78,
   "metadata": {
    "collapsed": false
   },
   "outputs": [
    {
     "name": "stdout",
     "output_type": "stream",
     "text": [
      "None\n"
     ]
    }
   ],
   "source": [
    "print mydict.get(\"stuff\") # returns None instead of throwing an exception"
   ]
  },
  {
   "cell_type": "code",
   "execution_count": 79,
   "metadata": {
    "collapsed": false
   },
   "outputs": [
    {
     "name": "stdout",
     "output_type": "stream",
     "text": [
      "key not found\n"
     ]
    }
   ],
   "source": [
    "print mydict.get(\"stuff\",\"key not found\") # can specify the value to return if key is not there. "
   ]
  },
  {
   "cell_type": "code",
   "execution_count": 80,
   "metadata": {
    "collapsed": false
   },
   "outputs": [
    {
     "name": "stdout",
     "output_type": "stream",
     "text": [
      "{'middlename': 'Peter', 'lastname': 'Kosack', 'firstname': 'Karl'}\n"
     ]
    }
   ],
   "source": [
    "# add a new item\n",
    "mydict['middlename'] = \"Peter\"\n",
    "print mydict"
   ]
  },
  {
   "cell_type": "markdown",
   "metadata": {},
   "source": [
    "> NOTE Dict keys **do not need to be strings!** "
   ]
  },
  {
   "cell_type": "code",
   "execution_count": 81,
   "metadata": {
    "collapsed": false
   },
   "outputs": [
    {
     "name": "stdout",
     "output_type": "stream",
     "text": [
      "{0: 2.0, 10: 1.0}\n",
      "1.0\n"
     ]
    }
   ],
   "source": [
    "# for example, you can use integer keys to make a sparse array!\n",
    "dd = {}  # an empty dict, ready to be filled\n",
    "dd[10] = 1.0\n",
    "dd[0] = 2.0\n",
    "print dd\n",
    "print dd[10]"
   ]
  },
  {
   "cell_type": "markdown",
   "metadata": {},
   "source": [
    "Note that **dictionaries are unordered**: you can't assume that one key comes after another \n",
    "\n",
    "(though there is a special ordereddict type that can be used in that case) \n",
    "\n",
    "http://docs.python.org/whatsnew/2.7.html#pep-372-adding-an-ordered-dictionary-to-collections"
   ]
  },
  {
   "cell_type": "markdown",
   "metadata": {},
   "source": [
    "#### Accesing the dictionary\n",
    "\n",
    "we already  saw you can access by key using [] syntax, but you can also get at the details in other ways\""
   ]
  },
  {
   "cell_type": "code",
   "execution_count": 82,
   "metadata": {
    "collapsed": false
   },
   "outputs": [
    {
     "name": "stdout",
     "output_type": "stream",
     "text": [
      "{'middlename': 'Peter', 'lastname': 'Kosack', 'firstname': 'Karl'}\n"
     ]
    }
   ],
   "source": [
    "print mydict"
   ]
  },
  {
   "cell_type": "code",
   "execution_count": 83,
   "metadata": {
    "collapsed": false
   },
   "outputs": [
    {
     "name": "stdout",
     "output_type": "stream",
     "text": [
      "['middlename', 'lastname', 'firstname'] <type 'list'>\n"
     ]
    }
   ],
   "source": [
    "# keys as a list:\n",
    "print mydict.keys() , type(mydict.keys())"
   ]
  },
  {
   "cell_type": "code",
   "execution_count": 84,
   "metadata": {
    "collapsed": false
   },
   "outputs": [
    {
     "name": "stdout",
     "output_type": "stream",
     "text": [
      "['Peter', 'Kosack', 'Karl'] <type 'list'>\n"
     ]
    }
   ],
   "source": [
    "# values as a list: (guaranteed to be in the same order as keys())\n",
    "print mydict.values() , type(mydict.values())"
   ]
  },
  {
   "cell_type": "code",
   "execution_count": 85,
   "metadata": {
    "collapsed": false
   },
   "outputs": [
    {
     "name": "stdout",
     "output_type": "stream",
     "text": [
      "[('middlename', 'Peter'), ('lastname', 'Kosack'), ('firstname', 'Karl')] <type 'list'>\n"
     ]
    }
   ],
   "source": [
    "# items (key,value) tuple as a list:\n",
    "print mydict.items() , type(mydict.items())"
   ]
  },
  {
   "cell_type": "code",
   "execution_count": 86,
   "metadata": {
    "collapsed": false
   },
   "outputs": [
    {
     "name": "stdout",
     "output_type": "stream",
     "text": [
      "middlename Peter\n",
      "lastname Kosack\n",
      "firstname Karl\n"
     ]
    }
   ],
   "source": [
    "# iterating:\n",
    "for item in mydict:\n",
    "    print item, mydict[item]\n"
   ]
  },
  {
   "cell_type": "code",
   "execution_count": 87,
   "metadata": {
    "collapsed": false
   },
   "outputs": [
    {
     "name": "stdout",
     "output_type": "stream",
     "text": [
      "middlename Peter\n",
      "lastname Kosack\n",
      "firstname Karl\n"
     ]
    }
   ],
   "source": [
    "#another way\n",
    "for key,val in mydict.items():\n",
    "    print key,val"
   ]
  },
  {
   "cell_type": "code",
   "execution_count": 88,
   "metadata": {
    "collapsed": false
   },
   "outputs": [
    {
     "name": "stdout",
     "output_type": "stream",
     "text": [
      "middlename Peter\n",
      "lastname Kosack\n",
      "firstname Karl\n"
     ]
    }
   ],
   "source": [
    "# an even better way (for large dictionaries especially):\n",
    "for key,val in mydict.iteritems():\n",
    "    print key,val\n"
   ]
  },
  {
   "cell_type": "markdown",
   "metadata": {},
   "source": [
    "It looks the same! But `iteritems()` returns an iterator that access each item one at a time, rather than converting them into a list.  If the dictionary is very large, this is more memory efficient!"
   ]
  },
  {
   "cell_type": "code",
   "execution_count": 89,
   "metadata": {
    "collapsed": false
   },
   "outputs": [
    {
     "name": "stdout",
     "output_type": "stream",
     "text": [
      "{'': 3, 'and': 2, 'spoken': 1, 'into': 1, 'back': 1, 'sign': 1, 'hath': 1, 'as': 1, 'in': 1, 'our': 1, 'quoth': 1, 'tempest': 1, 'out': 1, 'lie': 1, 'from': 2, 'heart,': 1, 'no': 1, 'plume': 1, 'get': 1, 'token': 1, 'bust': 1, 'door': 2, 'black': 1, 'take': 2, 'above': 1, 'fiend': 1, 'plutonian': 1, 'bird': 1, 'unbroken': 1, 'raven': 1, 'be': 1, 'thee': 1, 'form': 1, 'that': 2, 'shrieked,': 1, 'quit': 1, 'beak': 1, 'off': 1, 'a': 1, 'upstarting': 1, 'word': 1, 'thy': 3, \"night's\": 1, 'i': 1, 'of': 1, 'loneliness': 1, 'soul': 1, 'parting,': 1, 'leave': 2, 'shore': 1, 'nevermore': 1, 'the': 4, 'my': 4, 'or': 1}\n"
     ]
    }
   ],
   "source": [
    "# A common example: use a dictionary to count things.  Recall our previous example:\n",
    "quote = \"\"\"\n",
    "Be that word our sign in parting, bird or fiend! I shrieked, upstarting\n",
    "Get thee back into the tempest and the Night's Plutonian shore!\n",
    "Leave no black plume as a token of that lie thy soul hath spoken!\n",
    "Leave my loneliness unbroken! quit the bust above my door!\n",
    "Take thy beak from out my heart, and take thy form from off my door!\"\n",
    "Quoth the Raven \"Nevermore.\" \n",
    "\"\"\"\n",
    "clean_quote = quote.replace('\\n',\" \").replace('\"','').replace(\"!\",\"\").replace(\".\",\"\").lower()\n",
    "words = clean_quote.split(\" \")\n",
    "\n",
    "# let's count the frequency using a dictionary:\n",
    "freq = {}\n",
    "for word in words:\n",
    "    if not freq.has_key(word):\n",
    "        freq[word] = 0\n",
    "    freq[word] += 1\n",
    "    \n",
    "print freq\n"
   ]
  },
  {
   "cell_type": "markdown",
   "metadata": {},
   "source": [
    "Let's try that again, but now using a helper that removes the need to do the check if the key exists first:\n",
    "\n",
    "for that we will use a **defaultdict** which is just a helper type where if you access a dictionary element that doesn't exist, it is inserted automatically using the given type."
   ]
  },
  {
   "cell_type": "code",
   "execution_count": 90,
   "metadata": {
    "collapsed": false
   },
   "outputs": [
    {
     "name": "stdout",
     "output_type": "stream",
     "text": [
      "defaultdict(<type 'int'>, {'': 3, 'and': 2, 'spoken': 1, 'into': 1, 'back': 1, 'sign': 1, 'hath': 1, 'as': 1, 'in': 1, 'our': 1, 'quoth': 1, 'tempest': 1, 'out': 1, 'lie': 1, 'from': 2, 'heart,': 1, 'no': 1, 'plume': 1, 'get': 1, 'token': 1, 'bust': 1, 'door': 2, 'black': 1, 'take': 2, 'above': 1, 'fiend': 1, 'plutonian': 1, 'bird': 1, 'unbroken': 1, 'raven': 1, 'be': 1, 'thee': 1, 'form': 1, 'that': 2, 'shrieked,': 1, 'quit': 1, 'beak': 1, 'off': 1, 'a': 1, 'upstarting': 1, 'word': 1, 'thy': 3, \"night's\": 1, 'i': 1, 'of': 1, 'loneliness': 1, 'soul': 1, 'parting,': 1, 'leave': 2, 'shore': 1, 'nevermore': 1, 'the': 4, 'my': 4, 'or': 1})\n"
     ]
    }
   ],
   "source": [
    "from collections import defaultdict\n",
    "freq = defaultdict(int)  # the default value for a key in freq is an int with value 0\n",
    "\n",
    "for word in words:\n",
    "    freq[word] += 1\n",
    "    \n",
    "print freq"
   ]
  },
  {
   "cell_type": "code",
   "execution_count": 91,
   "metadata": {
    "collapsed": false
   },
   "outputs": [
    {
     "name": "stdout",
     "output_type": "stream",
     "text": [
      "[(4, 'the'), (4, 'my'), (3, 'thy'), (3, ''), (2, 'that'), (2, 'take'), (2, 'leave'), (2, 'from'), (2, 'door'), (2, 'and')]\n"
     ]
    }
   ],
   "source": [
    "# let's sort by frequency... but dicts aren't ordered, so we have to do some work:\n",
    "#\n",
    "# let's take the keys and values and put them each into a list, \n",
    "# and then zip them together making a single list of tuples:\n",
    "zlist = zip(freq.values(),freq.keys())\n",
    "zlist.sort(reverse=True) # now reverse it so the highest numbers start\n",
    "print zlist[:10]"
   ]
  },
  {
   "cell_type": "code",
   "execution_count": 92,
   "metadata": {
    "collapsed": false
   },
   "outputs": [
    {
     "name": "stdout",
     "output_type": "stream",
     "text": [
      "[(4, 'the'), (4, 'my'), (3, ''), (3, 'thy'), (2, 'and'), (2, 'from'), (2, 'door'), (2, 'take'), (2, 'that'), (2, 'leave')]\n"
     ]
    }
   ],
   "source": [
    "# Here's another way using sorted()'s key method, and a list comprehension:\n",
    "\n",
    "print [ (freq[word],word) for word in sorted( freq, key=freq.get, reverse=True) ][:10]"
   ]
  },
  {
   "cell_type": "markdown",
   "metadata": {},
   "source": [
    " note again that order is not preserved! The results are both correct, but not the same"
   ]
  },
  {
   "cell_type": "markdown",
   "metadata": {},
   "source": [
    "## Final Thoughts:\n",
    "\n",
    "### you can convert between containers easily:"
   ]
  },
  {
   "cell_type": "code",
   "execution_count": 93,
   "metadata": {
    "collapsed": false
   },
   "outputs": [
    {
     "name": "stdout",
     "output_type": "stream",
     "text": [
      "['a', 'b', 'c', 'c', 'c', 'd']\n",
      "set(['a', 'c', 'b', 'd'])\n",
      "('a', 'b', 'c', 'c', 'c', 'd')\n",
      "[1, 2, 3]\n"
     ]
    }
   ],
   "source": [
    "keys = [\"a\",\"b\",\"c\",\"c\",\"c\",\"d\"]\n",
    "print keys\n",
    "print set(keys)\n",
    "print tuple(keys)\n",
    "print list( (1,2,3) )"
   ]
  },
  {
   "cell_type": "code",
   "execution_count": 94,
   "metadata": {
    "collapsed": false
   },
   "outputs": [
    {
     "name": "stdout",
     "output_type": "stream",
     "text": [
      "[0, 1, 2, 3, 4, 5]\n",
      "['a', 'b', 'c', 'c', 'c', 'd'] [0, 1, 2, 3, 4, 5]\n",
      "[('a', 0), ('b', 1), ('c', 2), ('c', 3), ('c', 4), ('d', 5)]\n",
      "{'a': 0, 'c': 4, 'b': 1, 'd': 5}\n"
     ]
    }
   ],
   "source": [
    "vals = list(range(len(keys)))\n",
    "print vals\n",
    "print keys,vals\n",
    "print zip(keys,vals)\n",
    "print dict(zip(keys,vals))"
   ]
  },
  {
   "cell_type": "markdown",
   "metadata": {},
   "source": [
    "### You can nest containers easily:\n",
    "(allowing you to make complex tree-structures)"
   ]
  },
  {
   "cell_type": "code",
   "execution_count": 95,
   "metadata": {
    "collapsed": false
   },
   "outputs": [
    {
     "name": "stdout",
     "output_type": "stream",
     "text": [
      "{'test': [1, 2, 3], 'nesteddict': {'y': 15, 'x': 1, 'z': [1, 3, 5]}, 12: 6, 15: ('one', 'two')}\n"
     ]
    }
   ],
   "source": [
    "a = {\"test\": [1,2,3], 12: 6, 15:(\"one\",\"two\"), \"nesteddict\": dict(x=1,y=15,z=[1,3,5]) }\n",
    "print a"
   ]
  },
  {
   "cell_type": "code",
   "execution_count": 96,
   "metadata": {
    "collapsed": false
   },
   "outputs": [
    {
     "name": "stdout",
     "output_type": "stream",
     "text": [
      "5\n"
     ]
    }
   ],
   "source": [
    "print a['nesteddict']['z'][2]"
   ]
  },
  {
   "cell_type": "code",
   "execution_count": 97,
   "metadata": {
    "collapsed": false
   },
   "outputs": [
    {
     "name": "stdout",
     "output_type": "stream",
     "text": [
      "['y', 'x', 'z']\n",
      "two\n"
     ]
    }
   ],
   "source": [
    "print a['nesteddict'].keys()\n",
    "print a[15][1]"
   ]
  },
  {
   "cell_type": "code",
   "execution_count": 98,
   "metadata": {
    "collapsed": false
   },
   "outputs": [
    {
     "name": "stdout",
     "output_type": "stream",
     "text": [
      "{'right': {'right': {'right': 2, 'left': {'right': 100, 'left': 1}}, 'left': 5}, 'left': {'right': 10, 'left': 15}}\n"
     ]
    }
   ],
   "source": [
    "tree = {}\n",
    "tree['left'] = {}\n",
    "tree['right'] = {}\n",
    "tree['left']['left'] = 15\n",
    "tree['left']['right'] = 10\n",
    "tree['right']['left'] = 5\n",
    "tree['right']['right'] = {}\n",
    "tree['right']['right']['left'] = {}\n",
    "tree['right']['right']['right'] = 2\n",
    "tree['right']['right']['left']['left'] = 1\n",
    "tree['right']['right']['left']['right'] = 100\n",
    "print tree"
   ]
  },
  {
   "cell_type": "markdown",
   "metadata": {},
   "source": [
    "----------------------\n",
    "A more real-world example: select data out of a database (with 2 columns \"name\", and \"mass\"):"
   ]
  },
  {
   "cell_type": "code",
   "execution_count": 99,
   "metadata": {
    "collapsed": false
   },
   "outputs": [],
   "source": [
    "particles = \\\n",
    "[{\"name\":\"π+\"  ,\"mass\": 139.57018}, {\"name\":\"π0\"  ,\"mass\": 134.9766}, \n",
    " {\"name\":\"η5\"  ,\"mass\": 47.853}, {\"name\":\"η'(958)\",\"mass\": 957.78}, \n",
    " {\"name\":\"ηc(1S)\", \"mass\": 2980.5}, {\"name\": \"ηb(1S)\",\"mass\": 9388.9}, \n",
    " {\"name\":\"K+\",  \"mass\": 493.677}, {\"name\":\"K0\"  ,\"mass\": 497.614}, \n",
    " {\"name\":\"K0S\" ,\"mass\":  497.614}, {\"name\":\"K0L\" ,\"mass\":  497.614},\n",
    " {\"name\":\"D+\"  ,\"mass\": 1869.62}, {\"name\":\"D0\"  ,\"mass\": 1864.84},\n",
    " {\"name\":\"D+s\" ,\"mass\":  1968.49}, {\"name\":\"B+\"  ,\"mass\": 5279.15},\n",
    " {\"name\":\"B0\"  ,\"mass\": 5279.5}, {\"name\":\"B0s\" ,\"mass\":  5366.3},\n",
    " {\"name\":\"B+c\" ,\"mass\":    6277}]\n",
    "\n",
    "# data source: http://en.wikipedia.org/wiki/List_of_mesons\n"
   ]
  },
  {
   "cell_type": "code",
   "execution_count": 100,
   "metadata": {
    "collapsed": false
   },
   "outputs": [
    {
     "name": "stdout",
     "output_type": "stream",
     "text": [
      "              π+: 139.57018\n",
      "              π0: 134.9766\n",
      "         η'(958): 957.78\n",
      "               K+: 493.677\n",
      "               K0: 497.614\n",
      "              K0S: 497.614\n",
      "              K0L: 497.614\n"
     ]
    }
   ],
   "source": [
    "# select mesons with mass in a particular range, and make them into a list of tuples:\n",
    "# using a list-compreheension\n",
    "my_mesons = [ (x['name'],x['mass']) \\\n",
    "             for x in particles \\\n",
    "             if x['mass'] <= 1000.0 and x['mass'] >= 100.0 ]\n",
    "\n",
    "for part,mass in my_mesons:\n",
    "    print \"{0:>17s}: {1}\".format( part,mass )"
   ]
  },
  {
   "cell_type": "markdown",
   "metadata": {},
   "source": [
    "## Advanced topic: Generators \n",
    "\n",
    "You might have noticed that nearly all collecitons let you iterate over them using :"
   ]
  },
  {
   "cell_type": "code",
   "execution_count": 101,
   "metadata": {
    "collapsed": false
   },
   "outputs": [
    {
     "name": "stdout",
     "output_type": "stream",
     "text": [
      "1\n",
      "3\n",
      "5\n",
      "7\n"
     ]
    }
   ],
   "source": [
    "container = [1,3,5,7]\n",
    "for variable in container:\n",
    "    print variable"
   ]
  },
  {
   "cell_type": "markdown",
   "metadata": {},
   "source": [
    "That is because all containers are _iterable_ (they have a specific interface that lets one loop over them)\n",
    "\n",
    "But what happens when you want to represent a very large (or infinitely large!) container?\n",
    "\n",
    "   `` mylist = range(1000000000) ``\n",
    "\n",
    "**it would fill up memory pretty quick!**\n",
    "\n",
    "> **Generators** and **Iterators** fix that problem: they are special objects that are iterable, but calculate the next value on the fly rather than calculating all values at once\n",
    ">\n",
    "> In Python 2.x, `range()` always returns a list in memory, while `xrange()` returns a generator:\n",
    ">> (note in Python 3+ `range()` returns a generator, and it must be cast to list(range(10)) if you want it to be a list)\n",
    "\n"
   ]
  },
  {
   "cell_type": "code",
   "execution_count": 102,
   "metadata": {
    "collapsed": false
   },
   "outputs": [
    {
     "name": "stdout",
     "output_type": "stream",
     "text": [
      "[0, 1, 2, 3, 4, 5, 6, 7, 8, 9]\n"
     ]
    }
   ],
   "source": [
    "print range(10)"
   ]
  },
  {
   "cell_type": "code",
   "execution_count": 103,
   "metadata": {
    "collapsed": false
   },
   "outputs": [
    {
     "name": "stdout",
     "output_type": "stream",
     "text": [
      "xrange(10)\n"
     ]
    }
   ],
   "source": [
    "print xrange(10)"
   ]
  },
  {
   "cell_type": "code",
   "execution_count": 104,
   "metadata": {
    "collapsed": false
   },
   "outputs": [
    {
     "name": "stdout",
     "output_type": "stream",
     "text": [
      "0 1 2 3 4 5 6 7 8 9  \n",
      "0 1 2 3 4 5 6 7 8 9\n"
     ]
    }
   ],
   "source": [
    "for ii in range(10): print ii,\n",
    "print \" \"\n",
    "for ii in xrange(10): print ii,"
   ]
  },
  {
   "cell_type": "code",
   "execution_count": 105,
   "metadata": {
    "collapsed": false
   },
   "outputs": [],
   "source": [
    "rr= xrange(100000000)\n",
    "#doesn't fill up memory! (don't try this with range()!)"
   ]
  },
  {
   "cell_type": "code",
   "execution_count": 106,
   "metadata": {
    "collapsed": false
   },
   "outputs": [
    {
     "name": "stdout",
     "output_type": "stream",
     "text": [
      "0\n",
      "1\n",
      "2\n",
      "3\n",
      "4\n",
      "5\n",
      "6\n",
      "7\n",
      "8\n",
      "9\n",
      "10\n",
      "11\n"
     ]
    }
   ],
   "source": [
    "for ii in rr:\n",
    "    print ii\n",
    "    if ii>10:\n",
    "        break"
   ]
  },
  {
   "cell_type": "markdown",
   "metadata": {},
   "source": [
    "Generators are very complex and powerful, and I don't have time to go through them here in detail. They let you do things that normally would not fit in memory, with similar or faster speed, and using the same looping and interfaces you would use with lists"
   ]
  },
  {
   "cell_type": "code",
   "execution_count": 107,
   "metadata": {
    "collapsed": false
   },
   "outputs": [],
   "source": [
    "X = xrange(100)\n",
    "mylist = [ val**2/2.0 for val in X ]    # a list comprehension\n",
    "mygen = ( val**2/2.0 for val in X )     # a generator comprehension"
   ]
  },
  {
   "cell_type": "code",
   "execution_count": 108,
   "metadata": {
    "collapsed": false
   },
   "outputs": [
    {
     "name": "stdout",
     "output_type": "stream",
     "text": [
      "[0.0, 0.5, 2.0, 4.5, 8.0, 12.5, 18.0, 24.5, 32.0, 40.5, 50.0, 60.5, 72.0, 84.5, 98.0, 112.5, 128.0, 144.5, 162.0, 180.5, 200.0, 220.5, 242.0, 264.5, 288.0, 312.5, 338.0, 364.5, 392.0, 420.5, 450.0, 480.5, 512.0, 544.5, 578.0, 612.5, 648.0, 684.5, 722.0, 760.5, 800.0, 840.5, 882.0, 924.5, 968.0, 1012.5, 1058.0, 1104.5, 1152.0, 1200.5, 1250.0, 1300.5, 1352.0, 1404.5, 1458.0, 1512.5, 1568.0, 1624.5, 1682.0, 1740.5, 1800.0, 1860.5, 1922.0, 1984.5, 2048.0, 2112.5, 2178.0, 2244.5, 2312.0, 2380.5, 2450.0, 2520.5, 2592.0, 2664.5, 2738.0, 2812.5, 2888.0, 2964.5, 3042.0, 3120.5, 3200.0, 3280.5, 3362.0, 3444.5, 3528.0, 3612.5, 3698.0, 3784.5, 3872.0, 3960.5, 4050.0, 4140.5, 4232.0, 4324.5, 4418.0, 4512.5, 4608.0, 4704.5, 4802.0, 4900.5]\n"
     ]
    }
   ],
   "source": [
    "print mylist"
   ]
  },
  {
   "cell_type": "code",
   "execution_count": 109,
   "metadata": {
    "collapsed": false
   },
   "outputs": [
    {
     "name": "stdout",
     "output_type": "stream",
     "text": [
      "<generator object <genexpr> at 0x111e84910>\n"
     ]
    }
   ],
   "source": [
    "print mygen"
   ]
  },
  {
   "cell_type": "code",
   "execution_count": 110,
   "metadata": {
    "collapsed": false
   },
   "outputs": [
    {
     "ename": "TypeError",
     "evalue": "'generator' object has no attribute '__getitem__'",
     "output_type": "error",
     "traceback": [
      "\u001b[0;31m---------------------------------------------------------------------------\u001b[0m",
      "\u001b[0;31mTypeError\u001b[0m                                 Traceback (most recent call last)",
      "\u001b[0;32m<ipython-input-110-2258e5155d4c>\u001b[0m in \u001b[0;36m<module>\u001b[0;34m()\u001b[0m\n\u001b[0;32m----> 1\u001b[0;31m \u001b[0;32mprint\u001b[0m \u001b[0mmygen\u001b[0m\u001b[0;34m[\u001b[0m\u001b[0;36m0\u001b[0m\u001b[0;34m]\u001b[0m  \u001b[0;31m# it's no longer exactly like a list..\u001b[0m\u001b[0;34m\u001b[0m\u001b[0m\n\u001b[0m",
      "\u001b[0;31mTypeError\u001b[0m: 'generator' object has no attribute '__getitem__'"
     ]
    }
   ],
   "source": [
    "print mygen[0]  # it's no longer exactly like a list.. "
   ]
  },
  {
   "cell_type": "code",
   "execution_count": 111,
   "metadata": {
    "collapsed": false
   },
   "outputs": [
    {
     "name": "stdout",
     "output_type": "stream",
     "text": [
      "0.0\n"
     ]
    }
   ],
   "source": [
    "# no random access! but we can get items sequentially:\n",
    "print next(mygen)"
   ]
  },
  {
   "cell_type": "code",
   "execution_count": 112,
   "metadata": {
    "collapsed": false
   },
   "outputs": [
    {
     "name": "stdout",
     "output_type": "stream",
     "text": [
      "0.5\n",
      "2.0\n",
      "4.5\n"
     ]
    }
   ],
   "source": [
    "print next(mygen)\n",
    "print next(mygen)\n",
    "print next(mygen)"
   ]
  },
  {
   "cell_type": "code",
   "execution_count": 113,
   "metadata": {
    "collapsed": false
   },
   "outputs": [
    {
     "name": "stdout",
     "output_type": "stream",
     "text": [
      "8.0\n",
      "12.5\n",
      "18.0\n",
      "24.5\n",
      "32.0\n",
      "40.5\n",
      "50.0\n",
      "60.5\n",
      "72.0\n",
      "84.5\n",
      "98.0\n",
      "112.5\n",
      "128.0\n",
      "144.5\n",
      "162.0\n",
      "180.5\n",
      "200.0\n",
      "220.5\n",
      "242.0\n",
      "264.5\n",
      "288.0\n",
      "312.5\n",
      "338.0\n",
      "364.5\n",
      "392.0\n",
      "420.5\n",
      "450.0\n",
      "480.5\n",
      "512.0\n",
      "544.5\n",
      "578.0\n",
      "612.5\n",
      "648.0\n",
      "684.5\n",
      "722.0\n",
      "760.5\n",
      "800.0\n",
      "840.5\n",
      "882.0\n",
      "924.5\n",
      "968.0\n",
      "1012.5\n",
      "1058.0\n",
      "1104.5\n",
      "1152.0\n",
      "1200.5\n",
      "1250.0\n",
      "1300.5\n",
      "1352.0\n",
      "1404.5\n",
      "1458.0\n",
      "1512.5\n",
      "1568.0\n",
      "1624.5\n",
      "1682.0\n",
      "1740.5\n",
      "1800.0\n",
      "1860.5\n",
      "1922.0\n",
      "1984.5\n",
      "2048.0\n",
      "2112.5\n",
      "2178.0\n",
      "2244.5\n",
      "2312.0\n",
      "2380.5\n",
      "2450.0\n",
      "2520.5\n",
      "2592.0\n",
      "2664.5\n",
      "2738.0\n",
      "2812.5\n",
      "2888.0\n",
      "2964.5\n",
      "3042.0\n",
      "3120.5\n",
      "3200.0\n",
      "3280.5\n",
      "3362.0\n",
      "3444.5\n",
      "3528.0\n",
      "3612.5\n",
      "3698.0\n",
      "3784.5\n",
      "3872.0\n",
      "3960.5\n",
      "4050.0\n",
      "4140.5\n",
      "4232.0\n",
      "4324.5\n",
      "4418.0\n",
      "4512.5\n",
      "4608.0\n",
      "4704.5\n",
      "4802.0\n",
      "4900.5\n"
     ]
    }
   ],
   "source": [
    "for ii in mygen:\n",
    "    print ii"
   ]
  },
  {
   "cell_type": "markdown",
   "metadata": {},
   "source": [
    "The power here is that at no point is the full list every in memory, so a large memory allocation is never needed.\n",
    "\n",
    "In many cases this is much more efficient"
   ]
  },
  {
   "cell_type": "code",
   "execution_count": 114,
   "metadata": {
    "collapsed": false
   },
   "outputs": [
    {
     "data": {
      "text/plain": [
       "0"
      ]
     },
     "execution_count": 114,
     "metadata": {},
     "output_type": "execute_result"
    }
   ],
   "source": [
    "sum(mygen)"
   ]
  },
  {
   "cell_type": "code",
   "execution_count": 115,
   "metadata": {
    "collapsed": false
   },
   "outputs": [
    {
     "data": {
      "text/plain": [
       "164175.0"
      ]
     },
     "execution_count": 115,
     "metadata": {},
     "output_type": "execute_result"
    }
   ],
   "source": [
    "# huh? Oh right - \n",
    "# the generateor is \"empty\" now, we used it up in the last statement\n",
    "mygen = ( val**2/2.0 for val in X )     \n",
    "sum(mygen)"
   ]
  },
  {
   "cell_type": "code",
   "execution_count": 116,
   "metadata": {
    "collapsed": false
   },
   "outputs": [],
   "source": [
    "def f(size):\n",
    "    mylist = [ val**2/2.0 for val in list(xrange(size)) ]\n",
    "    return sum(mylist)\n",
    "\n",
    "def g(size):\n",
    "    mygen  = ( val**2/2.0 for val in xrange(size) )\n",
    "    return sum(mygen)"
   ]
  },
  {
   "cell_type": "code",
   "execution_count": 117,
   "metadata": {
    "collapsed": false
   },
   "outputs": [
    {
     "name": "stdout",
     "output_type": "stream",
     "text": [
      "1000 loops, best of 3: 1.14 ms per loop\n",
      "1000 loops, best of 3: 1.18 ms per loop\n"
     ]
    }
   ],
   "source": [
    "%timeit f(10000)\n",
    "%timeit g(10000)"
   ]
  },
  {
   "cell_type": "markdown",
   "metadata": {},
   "source": [
    "Not much difference as far as speed\n",
    "\n",
    "**However: we will see tomorrow** that there is another data structure (a `NumPy NDArray`) that is similar to a list (with N dimensions), but allows for fast math operations...  So really this example is not the best way to do math on large datasets!"
   ]
  },
  {
   "cell_type": "code",
   "execution_count": 119,
   "metadata": {
    "collapsed": false
   },
   "outputs": [],
   "source": [
    "# a notebook extension that you probably don't have installed, but can\n",
    "%load_ext memory_profiler  "
   ]
  },
  {
   "cell_type": "code",
   "execution_count": 120,
   "metadata": {
    "collapsed": false
   },
   "outputs": [
    {
     "name": "stdout",
     "output_type": "stream",
     "text": [
      "with 100000 entries\n"
     ]
    },
    {
     "name": "stderr",
     "output_type": "stream",
     "text": [
      "/Users/kosack/Library/Python/2.7/lib/python/site-packages/memory_profiler.py:68: UserWarning: psutil module not found. memory_profiler will be slow\n",
      "  warnings.warn(\"psutil module not found. memory_profiler will be slow\")\n"
     ]
    },
    {
     "name": "stdout",
     "output_type": "stream",
     "text": [
      "peak memory: 31.35 MiB, increment: 5.38 MiB\n",
      "peak memory: 30.19 MiB, increment: 0.00 MiB\n",
      "with 1000000 entries\n",
      "peak memory: 87.59 MiB, increment: 57.40 MiB\n",
      "peak memory: 46.51 MiB, increment: -2.00 MiB\n"
     ]
    }
   ],
   "source": [
    "# let's look at memory usage now. for that we will increase the loop length to show the effect better\n",
    "print \"with 100000 entries\"\n",
    "%memit f(100000)\n",
    "%memit g(100000)\n",
    "print \"with 1000000 entries\"\n",
    "%memit f(1000000)\n",
    "%memit g(1000000)"
   ]
  },
  {
   "cell_type": "markdown",
   "metadata": {},
   "source": [
    "so we can see from a _memory_ usage standpoint, using generators is much more efficient!\n",
    "\n",
    "**Therefore the rule of thumb is:** if you are working with a very large amount of data, and don't need random access, use generators\n",
    "Otherwise, lists are fine (and provide more flexibility like sorting, random access, etc)"
   ]
  },
  {
   "cell_type": "code",
   "execution_count": null,
   "metadata": {
    "collapsed": false
   },
   "outputs": [],
   "source": []
  },
  {
   "cell_type": "code",
   "execution_count": null,
   "metadata": {
    "collapsed": true
   },
   "outputs": [],
   "source": []
  },
  {
   "cell_type": "markdown",
   "metadata": {},
   "source": [
    "#BREAKOUT PROBLEM:\n",
    "\n",
    "Make a program that:\n",
    "\n",
    "* Opens the text file \"verne-de_la_terre_a_la_lune.txt\" (which contains the entire text of Jules Verne's _De la Terre à la Lune_) and  reads the contents into memory as a list of lines, as follows: (you can also loop directly over the lines if you prefer to be more memory efficient)\n",
    "\n",
    "``` python\n",
    "with open( \"verne-de_la_terre_a_la_lune.txt\" ) as infile:\n",
    "    lines = infile.readlines()\n",
    "\n",
    "# lines is now a list of strings, one per line in the file\n",
    "\n",
    "#  <your code here>\n",
    "# hint: loop over the lines, and use the string's  .split(\" \") method\n",
    "# hint: count the word frequency using a dict (perhaps defaultdict to make it easier)\n",
    "# hint: dicts can't be sorted by value, so you need to turn the dict's\n",
    "#       keys and values into a list of tuples (use zip() to combine them)\n",
    "# hint: sorted() (or list.sort()) always sorts by the first value of each item in a list\n",
    "```\n",
    "\n",
    "* At the end, you code should print:\n",
    "  * the total number of lines of text\n",
    "  * the total number of words in the text\n",
    "  * the number of _distinct_ words in the text\n",
    "  * **the top 20 most common words** in the novel that are **not** one of the following _set_:\n",
    "\n",
    "```python\n",
    "ignore = {'la','à','et','le','les','des','un','du','en','que','dans','se',\n",
    "          'il', 'une', 'ne', 'qui', 'au', 'pas', 'son', 'par', 'plus', 'pour',\n",
    "          'ce', 'sur', 'cette', 'avec','de'}\n",
    "```\n",
    "\n"
   ]
  },
  {
   "cell_type": "code",
   "execution_count": null,
   "metadata": {
    "collapsed": true
   },
   "outputs": [],
   "source": []
  }
 ],
 "metadata": {
  "kernelspec": {
   "display_name": "Python 2",
   "language": "python",
   "name": "python2"
  },
  "language_info": {
   "codemirror_mode": {
    "name": "ipython",
    "version": 2
   },
   "file_extension": ".py",
   "mimetype": "text/x-python",
   "name": "python",
   "nbconvert_exporter": "python",
   "pygments_lexer": "ipython2",
   "version": "2.7.9"
  }
 },
 "nbformat": 4,
 "nbformat_minor": 0
}
