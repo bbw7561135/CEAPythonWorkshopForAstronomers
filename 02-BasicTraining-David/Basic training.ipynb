{
 "cells": [
  {
   "cell_type": "markdown",
   "metadata": {},
   "source": [
    "# Basic training"
   ]
  },
  {
   "cell_type": "markdown",
   "metadata": {},
   "source": [
    "## operators and comparisons, None, True, False"
   ]
  },
  {
   "cell_type": "raw",
   "metadata": {},
   "source": [
    "> , < , == , !=, not, is "
   ]
  },
  {
   "cell_type": "code",
   "execution_count": 1,
   "metadata": {
    "collapsed": false
   },
   "outputs": [
    {
     "data": {
      "text/plain": [
       "True"
      ]
     },
     "execution_count": 1,
     "metadata": {},
     "output_type": "execute_result"
    }
   ],
   "source": [
    "a = None\n",
    "b = None\n",
    "a is b"
   ]
  },
  {
   "cell_type": "code",
   "execution_count": 2,
   "metadata": {
    "collapsed": false
   },
   "outputs": [
    {
     "data": {
      "text/plain": [
       "True"
      ]
     },
     "execution_count": 2,
     "metadata": {},
     "output_type": "execute_result"
    }
   ],
   "source": [
    "a == b"
   ]
  },
  {
   "cell_type": "code",
   "execution_count": 3,
   "metadata": {
    "collapsed": false
   },
   "outputs": [
    {
     "data": {
      "text/plain": [
       "False"
      ]
     },
     "execution_count": 3,
     "metadata": {},
     "output_type": "execute_result"
    }
   ],
   "source": [
    "a != b"
   ]
  },
  {
   "cell_type": "code",
   "execution_count": 4,
   "metadata": {
    "collapsed": false
   },
   "outputs": [
    {
     "name": "stdout",
     "output_type": "stream",
     "text": [
      "a is b : False , a is not b : True\n",
      "a == b : True\n"
     ]
    }
   ],
   "source": [
    "a = 'hello world!'\n",
    "b = 'hello world!'\n",
    "\n",
    "print 'a is b :', a is b,', a is not b :',a is not b\n",
    "print 'a == b :', a == b\n"
   ]
  },
  {
   "cell_type": "markdown",
   "metadata": {},
   "source": [
    "We can write also  : \"not (logical expression)\" :"
   ]
  },
  {
   "cell_type": "code",
   "execution_count": 5,
   "metadata": {
    "collapsed": false
   },
   "outputs": [
    {
     "name": "stdout",
     "output_type": "stream",
     "text": [
      "True False\n"
     ]
    }
   ],
   "source": [
    "print not a is b , not a == b"
   ]
  },
  {
   "cell_type": "markdown",
   "metadata": {},
   "source": [
    "## logical operators"
   ]
  },
  {
   "cell_type": "code",
   "execution_count": 6,
   "metadata": {
    "collapsed": false
   },
   "outputs": [
    {
     "ename": "SyntaxError",
     "evalue": "invalid syntax (<ipython-input-6-d6a411b71762>, line 1)",
     "output_type": "error",
     "traceback": [
      "\u001b[0;36m  File \u001b[0;32m\"<ipython-input-6-d6a411b71762>\"\u001b[0;36m, line \u001b[0;32m1\u001b[0m\n\u001b[0;31m    or and not\u001b[0m\n\u001b[0m     ^\u001b[0m\n\u001b[0;31mSyntaxError\u001b[0m\u001b[0;31m:\u001b[0m invalid syntax\n"
     ]
    }
   ],
   "source": [
    "or and not"
   ]
  },
  {
   "cell_type": "code",
   "execution_count": 7,
   "metadata": {
    "collapsed": false
   },
   "outputs": [
    {
     "data": {
      "text/plain": [
       "True"
      ]
     },
     "execution_count": 7,
     "metadata": {},
     "output_type": "execute_result"
    }
   ],
   "source": [
    "True or False"
   ]
  },
  {
   "cell_type": "code",
   "execution_count": 8,
   "metadata": {
    "collapsed": false
   },
   "outputs": [
    {
     "data": {
      "text/plain": [
       "False"
      ]
     },
     "execution_count": 8,
     "metadata": {},
     "output_type": "execute_result"
    }
   ],
   "source": [
    "True and False"
   ]
  },
  {
   "cell_type": "code",
   "execution_count": 9,
   "metadata": {
    "collapsed": false
   },
   "outputs": [
    {
     "data": {
      "text/plain": [
       "False"
      ]
     },
     "execution_count": 9,
     "metadata": {},
     "output_type": "execute_result"
    }
   ],
   "source": [
    "not True"
   ]
  },
  {
   "cell_type": "markdown",
   "metadata": {},
   "source": [
    "## operator in"
   ]
  },
  {
   "cell_type": "code",
   "execution_count": 10,
   "metadata": {
    "collapsed": false
   },
   "outputs": [
    {
     "data": {
      "text/plain": [
       "True"
      ]
     },
     "execution_count": 10,
     "metadata": {},
     "output_type": "execute_result"
    }
   ],
   "source": [
    "'a' in ['a','b','c','d']"
   ]
  },
  {
   "cell_type": "code",
   "execution_count": 11,
   "metadata": {
    "collapsed": false
   },
   "outputs": [
    {
     "data": {
      "text/plain": [
       "True"
      ]
     },
     "execution_count": 11,
     "metadata": {},
     "output_type": "execute_result"
    }
   ],
   "source": [
    "'x' in 'ooooooooxooooooo'"
   ]
  },
  {
   "cell_type": "code",
   "execution_count": 12,
   "metadata": {
    "collapsed": false
   },
   "outputs": [
    {
     "data": {
      "text/plain": [
       "False"
      ]
     },
     "execution_count": 12,
     "metadata": {},
     "output_type": "execute_result"
    }
   ],
   "source": [
    "'y' in 'ooooooooxooooooo'"
   ]
  },
  {
   "cell_type": "markdown",
   "metadata": {},
   "source": [
    " 'not' can be inserted before 'in' operator, like in natural language :"
   ]
  },
  {
   "cell_type": "code",
   "execution_count": 13,
   "metadata": {
    "collapsed": false
   },
   "outputs": [
    {
     "data": {
      "text/plain": [
       "False"
      ]
     },
     "execution_count": 13,
     "metadata": {},
     "output_type": "execute_result"
    }
   ],
   "source": [
    "'x' not in 'ooooooooxooooooo'"
   ]
  },
  {
   "cell_type": "markdown",
   "metadata": {},
   "source": [
    "## Looping and flow control:"
   ]
  },
  {
   "cell_type": "markdown",
   "metadata": {},
   "source": [
    "In the described expressions, the different zones are differentiated by the indentation.\n",
    "\n",
    "Logical expression is delimited by ':'\n",
    "\n",
    "Back to the previous indentation tells the end of the zone."
   ]
  },
  {
   "cell_type": "markdown",
   "metadata": {},
   "source": [
    "## if"
   ]
  },
  {
   "cell_type": "code",
   "execution_count": 14,
   "metadata": {
    "collapsed": false
   },
   "outputs": [
    {
     "name": "stdout",
     "output_type": "stream",
     "text": [
      "OK\n"
     ]
    }
   ],
   "source": [
    "if 1 in [1,2,3]:\n",
    "  print \"OK\"  "
   ]
  },
  {
   "cell_type": "markdown",
   "metadata": {},
   "source": [
    "## else"
   ]
  },
  {
   "cell_type": "code",
   "execution_count": 15,
   "metadata": {
    "collapsed": false
   },
   "outputs": [
    {
     "name": "stdout",
     "output_type": "stream",
     "text": [
      "a is lower than 100\n"
     ]
    }
   ],
   "source": [
    "a = 10\n",
    "if a < 100:\n",
    "  print \"a is lower than 100\"\n",
    "else:\n",
    "  print \"a is upper 100\""
   ]
  },
  {
   "cell_type": "code",
   "execution_count": 16,
   "metadata": {
    "collapsed": false
   },
   "outputs": [
    {
     "name": "stdout",
     "output_type": "stream",
     "text": [
      "a is 10\n"
     ]
    }
   ],
   "source": [
    "    \n",
    "if a == 10:\n",
    "  print \"a is 10\"  \n",
    "else:\n",
    "  print \"a is not 10\" \n",
    "    "
   ]
  },
  {
   "cell_type": "markdown",
   "metadata": {},
   "source": [
    "## elif"
   ]
  },
  {
   "cell_type": "code",
   "execution_count": 17,
   "metadata": {
    "collapsed": false
   },
   "outputs": [
    {
     "name": "stdout",
     "output_type": "stream",
     "text": [
      "a out of domain\n"
     ]
    }
   ],
   "source": [
    "if a == 1:\n",
    "  print \"one\"\n",
    "elif a == 2:\n",
    "  print \"two\"\n",
    "elif a == 3:\n",
    "  print \"three\"\n",
    "else:\n",
    "  print \"a out of domain\"  \n",
    "    \n",
    "    "
   ]
  },
  {
   "cell_type": "markdown",
   "metadata": {},
   "source": [
    "## for loops :"
   ]
  },
  {
   "cell_type": "code",
   "execution_count": 18,
   "metadata": {
    "collapsed": false
   },
   "outputs": [
    {
     "name": "stdout",
     "output_type": "stream",
     "text": [
      "Fabio\n",
      "Karl\n",
      "Marc\n",
      "Olivier\n",
      "Alan\n",
      "Jean-Marc\n",
      "Damien\n",
      "David\n"
     ]
    }
   ],
   "source": [
    "names = ['Fabio', 'Karl', 'Marc', 'Olivier', 'Alan', 'Jean-Marc','Damien','David']\n",
    "\n",
    "for name in names:\n",
    "  print name  "
   ]
  },
  {
   "cell_type": "code",
   "execution_count": 19,
   "metadata": {
    "collapsed": false
   },
   "outputs": [
    {
     "name": "stdout",
     "output_type": "stream",
     "text": [
      "i: 1\n",
      "i: 2\n",
      "i: 3\n"
     ]
    }
   ],
   "source": [
    " for i in [1,2,3]:\n",
    "   print 'i:',i"
   ]
  },
  {
   "cell_type": "markdown",
   "metadata": {},
   "source": [
    "#### Use of range function :"
   ]
  },
  {
   "cell_type": "code",
   "execution_count": 20,
   "metadata": {
    "collapsed": false
   },
   "outputs": [
    {
     "data": {
      "text/plain": [
       "[1, 2, 3, 4, 5, 6, 7, 8, 9]"
      ]
     },
     "execution_count": 20,
     "metadata": {},
     "output_type": "execute_result"
    }
   ],
   "source": [
    "range(1,10,1)"
   ]
  },
  {
   "cell_type": "raw",
   "metadata": {},
   "source": [
    "previous loop:"
   ]
  },
  {
   "cell_type": "code",
   "execution_count": 21,
   "metadata": {
    "collapsed": false
   },
   "outputs": [
    {
     "name": "stdout",
     "output_type": "stream",
     "text": [
      "i: 1\n",
      "i: 2\n",
      "i: 3\n"
     ]
    }
   ],
   "source": [
    "for i in range(1,4):\n",
    "  print 'i:',i  "
   ]
  },
  {
   "cell_type": "markdown",
   "metadata": {},
   "source": [
    "#### Use of xrange : xrange is a generator, doing the same as range : to be used in a loop only"
   ]
  },
  {
   "cell_type": "code",
   "execution_count": 22,
   "metadata": {
    "collapsed": false
   },
   "outputs": [
    {
     "name": "stdout",
     "output_type": "stream",
     "text": [
      "i: 1\n",
      "i: 2\n",
      "i: 3\n",
      "range(1,4): [1, 2, 3]\n",
      "\n",
      "xrange(1,4): xrange(1, 4)\n"
     ]
    }
   ],
   "source": [
    "\n",
    "for i in xrange(1,4):\n",
    "  print 'i:',i\n",
    "    \n",
    "print 'range(1,4):',range(1,4)\n",
    "\n",
    "print\n",
    "\n",
    "print 'xrange(1,4):',xrange(1,4)\n",
    "\n"
   ]
  },
  {
   "cell_type": "markdown",
   "metadata": {},
   "source": [
    "## while loops :"
   ]
  },
  {
   "cell_type": "code",
   "execution_count": 23,
   "metadata": {
    "collapsed": false
   },
   "outputs": [
    {
     "name": "stdout",
     "output_type": "stream",
     "text": [
      "i: 1\n",
      "i: 2\n",
      "i: 3\n",
      "i: 4\n",
      "i: 5\n",
      "i: 6\n",
      "i: 7\n",
      "i: 8\n",
      "i: 9\n",
      "i: 10\n"
     ]
    }
   ],
   "source": [
    "i = 0\n",
    "while i < 10:\n",
    "  i += 1\n",
    "  print 'i:',i  "
   ]
  },
  {
   "cell_type": "markdown",
   "metadata": {},
   "source": [
    "## using else with for and while :"
   ]
  },
  {
   "cell_type": "code",
   "execution_count": 24,
   "metadata": {
    "collapsed": false
   },
   "outputs": [
    {
     "name": "stdout",
     "output_type": "stream",
     "text": [
      " ***    5     ***\n",
      " ***    4     ***\n",
      " ***    3     ***\n",
      " ***    2     ***\n",
      " ***    1     ***\n",
      " ***    0     ***\n",
      " *** Ignition ***\n"
     ]
    }
   ],
   "source": [
    "i = 6\n",
    "while i > 0:\n",
    "  i -= 1\n",
    "  print \" ***\",str(i).center(8),\"***\"\n",
    "else:\n",
    "  print \" *** Ignition ***\"  "
   ]
  },
  {
   "cell_type": "code",
   "execution_count": 25,
   "metadata": {
    "collapsed": false
   },
   "outputs": [
    {
     "name": "stdout",
     "output_type": "stream",
     "text": [
      ">> 5\n",
      ">> 4\n",
      ">> 3\n",
      ">> 2\n",
      ">> 1\n",
      ">> Go !!\n"
     ]
    }
   ],
   "source": [
    "for i in range(5,0,-1):\n",
    "  print \">>\",i  \n",
    "else:\n",
    "  print \">> Go !!\"  "
   ]
  },
  {
   "cell_type": "markdown",
   "metadata": {},
   "source": [
    "## Use of break :"
   ]
  },
  {
   "cell_type": "markdown",
   "metadata": {},
   "source": [
    "Stops the loop"
   ]
  },
  {
   "cell_type": "code",
   "execution_count": 26,
   "metadata": {
    "collapsed": false
   },
   "outputs": [
    {
     "name": "stdout",
     "output_type": "stream",
     "text": [
      "i : 1\n",
      "i : 2\n",
      "i : 3\n",
      "Found breaking point : exiting\n"
     ]
    }
   ],
   "source": [
    "for i in [1,2,3,4,5]:\n",
    "  if i >= 4:\n",
    "    print \"Found breaking point : exiting\"    \n",
    "    break\n",
    "  print \"i :\",i  "
   ]
  },
  {
   "cell_type": "markdown",
   "metadata": {},
   "source": [
    "## Use of continue :"
   ]
  },
  {
   "cell_type": "markdown",
   "metadata": {},
   "source": [
    "Go to next item"
   ]
  },
  {
   "cell_type": "code",
   "execution_count": 27,
   "metadata": {
    "collapsed": false
   },
   "outputs": [
    {
     "name": "stdout",
     "output_type": "stream",
     "text": [
      "i: 10\n",
      "i: 20\n",
      "i: 30\n",
      "i: 40\n",
      "i: 50\n",
      "i: 60\n",
      "i: 70\n",
      "i: 80\n",
      "i: 90\n"
     ]
    }
   ],
   "source": [
    "for i in range(1,100):\n",
    "  if i%10 != 0:\n",
    "    continue\n",
    "  print \"i:\",i  "
   ]
  },
  {
   "cell_type": "markdown",
   "metadata": {},
   "source": [
    "## Use of pass : "
   ]
  },
  {
   "cell_type": "code",
   "execution_count": 28,
   "metadata": {
    "collapsed": false
   },
   "outputs": [
    {
     "ename": "SyntaxError",
     "evalue": "invalid syntax (<ipython-input-28-e8764a6c614e>, line 1)",
     "output_type": "error",
     "traceback": [
      "\u001b[0;36m  File \u001b[0;32m\"<ipython-input-28-e8764a6c614e>\"\u001b[0;36m, line \u001b[0;32m1\u001b[0m\n\u001b[0;31m    Does nothing in test but process the following commands\u001b[0m\n\u001b[0m               ^\u001b[0m\n\u001b[0;31mSyntaxError\u001b[0m\u001b[0;31m:\u001b[0m invalid syntax\n"
     ]
    }
   ],
   "source": [
    "Does nothing in test but process the following commands"
   ]
  },
  {
   "cell_type": "code",
   "execution_count": 29,
   "metadata": {
    "collapsed": false
   },
   "outputs": [
    {
     "name": "stdout",
     "output_type": "stream",
     "text": [
      "i :  1\n",
      "*** 1\n",
      "i :  2\n",
      "*** 2\n",
      "*** 3\n",
      "i :  4\n",
      "*** 4\n",
      "i :  5\n",
      "*** 5\n",
      "*** 6\n",
      "i :  7\n",
      "*** 7\n",
      "i :  8\n",
      "*** 8\n",
      "*** 9\n"
     ]
    }
   ],
   "source": [
    "for i in range(1,10):  \n",
    "  if i%3 == 0:\n",
    "    pass\n",
    "  else:\n",
    "    print 'i : ',i\n",
    "  print '***',i  "
   ]
  },
  {
   "cell_type": "markdown",
   "metadata": {},
   "source": [
    "## enumerate"
   ]
  },
  {
   "cell_type": "code",
   "execution_count": 30,
   "metadata": {
    "collapsed": false
   },
   "outputs": [
    {
     "name": "stdout",
     "output_type": "stream",
     "text": [
      "zéro : 0\n",
      "un : 1\n",
      "deux : 2\n",
      "trois : 3\n",
      "quatre : 4\n",
      "cinq : 5\n"
     ]
    }
   ],
   "source": [
    "for i,num in enumerate(['zéro','un','deux','trois','quatre','cinq']):\n",
    "  print num,':',i\n",
    "    "
   ]
  },
  {
   "cell_type": "markdown",
   "metadata": {},
   "source": [
    "## Comprehensive lists"
   ]
  },
  {
   "cell_type": "markdown",
   "metadata": {},
   "source": [
    "###### for is also used in a way to generate a list : "
   ]
  },
  {
   "cell_type": "code",
   "execution_count": 31,
   "metadata": {
    "collapsed": false
   },
   "outputs": [
    {
     "name": "stdout",
     "output_type": "stream",
     "text": [
      "[0, 1, 4, 9, 16, 25, 36, 49, 64, 81]\n"
     ]
    }
   ],
   "source": [
    "squares = [x**2 for x in range(10)]\n",
    "\n",
    "print squares"
   ]
  },
  {
   "cell_type": "markdown",
   "metadata": {},
   "source": [
    "## Equivalent for ternary operator"
   ]
  },
  {
   "cell_type": "code",
   "execution_count": 32,
   "metadata": {
    "collapsed": false
   },
   "outputs": [
    {
     "name": "stdout",
     "output_type": "stream",
     "text": [
      "x: 1\n"
     ]
    }
   ],
   "source": [
    "a = 15\n",
    "x =  1 if a > 10 else 0\n",
    "print 'x:',x"
   ]
  },
  {
   "cell_type": "markdown",
   "metadata": {},
   "source": [
    "## string slicing/indexing (non-numpy)"
   ]
  },
  {
   "cell_type": "code",
   "execution_count": 33,
   "metadata": {
    "collapsed": false
   },
   "outputs": [
    {
     "name": "stdout",
     "output_type": "stream",
     "text": [
      "intro\n"
     ]
    }
   ],
   "source": [
    "print 'introduction'[:5]"
   ]
  },
  {
   "cell_type": "code",
   "execution_count": 34,
   "metadata": {
    "collapsed": false
   },
   "outputs": [
    {
     "name": "stdout",
     "output_type": "stream",
     "text": [
      "section\n"
     ]
    }
   ],
   "source": [
    "print 'intersection'[5:]"
   ]
  },
  {
   "cell_type": "markdown",
   "metadata": {},
   "source": [
    "## Printing and formatting, raw input"
   ]
  },
  {
   "cell_type": "code",
   "execution_count": 35,
   "metadata": {
    "collapsed": false
   },
   "outputs": [
    {
     "name": "stdout",
     "output_type": "stream",
     "text": [
      "Hello\n"
     ]
    }
   ],
   "source": [
    "print \"Hello\""
   ]
  },
  {
   "cell_type": "code",
   "execution_count": 36,
   "metadata": {
    "collapsed": false
   },
   "outputs": [
    {
     "name": "stdout",
     "output_type": "stream",
     "text": [
      " 42 is the answer\n",
      " 42 is the answer\n"
     ]
    }
   ],
   "source": [
    "print \" %d is %s\" % (42,'the answer')\n",
    "x=42\n",
    "print \" {} is {}\".format(x,'the answer')"
   ]
  },
  {
   "cell_type": "code",
   "execution_count": 40,
   "metadata": {
    "collapsed": false
   },
   "outputs": [
    {
     "name": "stdout",
     "output_type": "stream",
     "text": [
      "Enter the right number: 5\n",
      "*** Congratulations, the right number is indeed 5 ***\n"
     ]
    }
   ],
   "source": [
    "nw = raw_input(\"Enter the right number: \")\n",
    "\n",
    "if int(nw) != 5:\n",
    "  print \"*** You did not find the right number. Try again ***\"\n",
    "else:\n",
    "  print \"*** Congratulations, the right number is indeed\",nw,\"***\"\n",
    "  "
   ]
  },
  {
   "cell_type": "markdown",
   "metadata": {},
   "source": [
    "## basic reading and writing "
   ]
  },
  {
   "cell_type": "code",
   "execution_count": 41,
   "metadata": {
    "collapsed": false
   },
   "outputs": [
    {
     "name": "stdout",
     "output_type": "stream",
     "text": [
      "zéro : 0\n",
      "\n",
      "un : 1\n",
      "\n",
      "deux : 2\n",
      "\n",
      "trois : 3\n",
      "\n",
      "quatre : 4\n",
      "\n",
      "cinq : 5\n",
      "\n"
     ]
    }
   ],
   "source": [
    "f = open(\"toto\",\"w\")\n",
    "for i,num in enumerate(['zéro','un','deux','trois','quatre','cinq']):\n",
    "  print >>f, num,':',i\n",
    "f.close()\n",
    "\n",
    "f = open(\"toto\",\"r\")\n",
    "lines = f.readlines()\n",
    "f.close()\n",
    "\n",
    "for line in lines:\n",
    "  print line  "
   ]
  },
  {
   "cell_type": "code",
   "execution_count": 42,
   "metadata": {
    "collapsed": false
   },
   "outputs": [
    {
     "name": "stdout",
     "output_type": "stream",
     "text": [
      "zéro : 0\n",
      "\n",
      "un : 1\n",
      "\n",
      "deux : 2\n",
      "\n",
      "trois : 3\n",
      "\n",
      "quatre : 4\n",
      "\n",
      "cinq : 5\n",
      "\n",
      "six : 6\n",
      "\n",
      "sept : 7\n",
      "\n",
      "huit : 8\n",
      "\n"
     ]
    }
   ],
   "source": [
    "f = open(\"toto\",\"a\")\n",
    "for i,num in enumerate(['six','sept','huit']):\n",
    "   print >>f,num,':',i+6\n",
    "f.close()\n",
    "\n",
    "f = open(\"toto\",\"r\")\n",
    "lines = f.readlines()\n",
    "f.close()\n",
    "\n",
    "for line in lines:\n",
    "  print line  \n"
   ]
  },
  {
   "cell_type": "markdown",
   "metadata": {},
   "source": [
    "## Accessing remote files"
   ]
  },
  {
   "cell_type": "code",
   "execution_count": 43,
   "metadata": {
    "collapsed": false
   },
   "outputs": [
    {
     "name": "stdout",
     "output_type": "stream",
     "text": [
      "  From:  http://physics.nist.gov/constants\r\n",
      "\n",
      "atomic mass constant                                        1.660 538 921 e-27       0.000 000 073 e-27       kg\r\n",
      "\n",
      "atomic mass constant energy equivalent                      1.492 417 954 e-10       0.000 000 066 e-10       J\r\n",
      "\n",
      "atomic mass constant energy equivalent in MeV               931.494 061              0.000 021                MeV\r\n",
      "\n",
      "Avogadro constant                                           6.022 141 29 e23         0.000 000 27 e23         mol^-1\r\n",
      "\n",
      "Boltzmann constant                                          1.380 6488 e-23          0.000 0013 e-23          J K^-1\r\n",
      "\n",
      "Boltzmann constant in eV/K                                  8.617 3324 e-5           0.000 0078 e-5           eV K^-1\r\n",
      "\n",
      "Boltzmann constant in Hz/K                                  2.083 6618 e10           0.000 0019 e10           Hz K^-1\r\n",
      "\n",
      "Boltzmann constant in inverse meters per kelvin             69.503 476               0.000 063                m^-1 K^-1\r\n",
      "\n",
      "conventional value of Josephson constant                    483 597.9 e9             (exact)                  Hz V^-1\r\n",
      "\n",
      "conventional value of von Klitzing constant                 25 812.807               (exact)                  ohm\r\n",
      "\n",
      "electric constant                                           8.854 187 817... e-12    (exact)                  F m^-1\r\n",
      "\n",
      "Faraday constant                                            96 485.3365              0.0021                   C mol^-1\r\n",
      "\n",
      "Faraday constant for conventional electric current          96 485.3321              0.0043                   C_90 mol^-1\r\n",
      "\n",
      "Fermi coupling constant                                     1.166 364 e-5            0.000 005 e-5            GeV^-2\r\n",
      "\n",
      "fine-structure constant                                     7.297 352 5698 e-3       0.000 000 0024 e-3       \r\n",
      "\n",
      "first radiation constant                                    3.741 771 53 e-16        0.000 000 17 e-16        W m^2\r\n",
      "\n",
      "first radiation constant for spectral radiance              1.191 042 869 e-16       0.000 000 053 e-16       W m^2 sr^-1\r\n",
      "\n",
      "inverse fine-structure constant                             137.035 999 074          0.000 000 044            \r\n",
      "\n",
      "Josephson constant                                          483 597.870 e9           0.011 e9                 Hz V^-1\r\n",
      "\n",
      "Loschmidt constant (273.15 K, 100 kPa)                      2.651 6462 e25           0.000 0024 e25           m^-3\r\n",
      "\n",
      "Loschmidt constant (273.15 K, 101.325 kPa)                  2.686 7805 e25           0.000 0024 e25           m^-3\r\n",
      "\n",
      "mag. constant                                               12.566 370 614... e-7    (exact)                  N A^-2\r\n",
      "\n",
      "molar gas constant                                          8.314 4621               0.000 0075               J mol^-1 K^-1\r\n",
      "\n",
      "molar mass constant                                         1 e-3                    (exact)                  kg mol^-1\r\n",
      "\n",
      "molar Planck constant                                       3.990 312 7176 e-10      0.000 000 0028 e-10      J s mol^-1\r\n",
      "\n",
      "molar Planck constant times c                               0.119 626 565 779        0.000 000 000 084        J m mol^-1\r\n",
      "\n",
      "Newtonian constant of gravitation                           6.673 84 e-11            0.000 80 e-11            m^3 kg^-1 s^-2\r\n",
      "\n",
      "Newtonian constant of gravitation over h-bar c              6.708 37 e-39            0.000 80 e-39            (GeV/c^2)^-2\r\n",
      "\n",
      "Planck constant                                             6.626 069 57 e-34        0.000 000 29 e-34        J s\r\n",
      "\n",
      "Planck constant in eV s                                     4.135 667 516 e-15       0.000 000 091 e-15       eV s\r\n",
      "\n",
      "Planck constant over 2 pi                                   1.054 571 726 e-34       0.000 000 047 e-34       J s\r\n",
      "\n",
      "Planck constant over 2 pi in eV s                           6.582 119 28 e-16        0.000 000 15 e-16        eV s\r\n",
      "\n",
      "Planck constant over 2 pi times c in MeV fm                 197.326 9718             0.000 0044               MeV fm\r\n",
      "\n",
      "Rydberg constant                                            10 973 731.568 539       0.000 055                m^-1\r\n",
      "\n",
      "Rydberg constant times c in Hz                              3.289 841 960 364 e15    0.000 000 000 017 e15    Hz\r\n",
      "\n",
      "Rydberg constant times hc in eV                             13.605 692 53            0.000 000 30             eV\r\n",
      "\n",
      "Rydberg constant times hc in J                              2.179 872 171 e-18       0.000 000 096 e-18       J\r\n",
      "\n",
      "Sackur-Tetrode constant (1 K, 100 kPa)                      -1.151 7078              0.000 0023               \r\n",
      "\n",
      "Sackur-Tetrode constant (1 K, 101.325 kPa)                  -1.164 8708              0.000 0023               \r\n",
      "\n",
      "second radiation constant                                   1.438 7770 e-2           0.000 0013 e-2           m K\r\n",
      "\n",
      "Stefan-Boltzmann constant                                   5.670 373 e-8            0.000 021 e-8            W m^-2 K^-4\r\n",
      "\n",
      "von Klitzing constant                                       25 812.807 4434          0.000 0084               ohm\r\n",
      "\n",
      "Wien frequency displacement law constant                    5.878 9254 e10           0.000 0053 e10           Hz K^-1\r\n",
      "\n",
      "Wien wavelength displacement law constant                   2.897 7721 e-3           0.000 0026 e-3           m K\r\n",
      "\n"
     ]
    }
   ],
   "source": [
    "import urllib2\n",
    "response = urllib2.urlopen('http://physics.nist.gov/cuu/Constants/Table/allascii.txt')\n",
    "\n",
    "for line in response:\n",
    "  if 'constant' in line :\n",
    "    print line "
   ]
  },
  {
   "cell_type": "markdown",
   "metadata": {},
   "source": [
    "## python error output (what does it mean)"
   ]
  },
  {
   "cell_type": "markdown",
   "metadata": {},
   "source": [
    "###### ipython gives position of failure among many code lines:"
   ]
  },
  {
   "cell_type": "code",
   "execution_count": 44,
   "metadata": {
    "collapsed": false
   },
   "outputs": [
    {
     "name": "stdout",
     "output_type": "stream",
     "text": [
      "1/i-3: -1\n",
      "i*i: 1 \n",
      "\n",
      "1/i-3: -1\n",
      "i*i: 4 \n",
      "\n",
      "1/i-3:"
     ]
    },
    {
     "ename": "ZeroDivisionError",
     "evalue": "integer division or modulo by zero",
     "output_type": "error",
     "traceback": [
      "\u001b[0;31m---------------------------------------------------------------------------\u001b[0m",
      "\u001b[0;31mZeroDivisionError\u001b[0m                         Traceback (most recent call last)",
      "\u001b[0;32m<ipython-input-44-db6cc97e491c>\u001b[0m in \u001b[0;36m<module>\u001b[0;34m()\u001b[0m\n\u001b[1;32m      1\u001b[0m \u001b[0;32mfor\u001b[0m \u001b[0mi\u001b[0m \u001b[0;32min\u001b[0m \u001b[0mrange\u001b[0m\u001b[0;34m(\u001b[0m\u001b[0;36m1\u001b[0m\u001b[0;34m,\u001b[0m\u001b[0;36m6\u001b[0m\u001b[0;34m)\u001b[0m\u001b[0;34m:\u001b[0m\u001b[0;34m\u001b[0m\u001b[0m\n\u001b[0;32m----> 2\u001b[0;31m   \u001b[0;32mprint\u001b[0m \u001b[0;34m'1/i-3:'\u001b[0m\u001b[0;34m,\u001b[0m\u001b[0;36m1\u001b[0m\u001b[0;34m/\u001b[0m\u001b[0;34m(\u001b[0m\u001b[0mi\u001b[0m\u001b[0;34m-\u001b[0m\u001b[0;36m3\u001b[0m\u001b[0;34m)\u001b[0m\u001b[0;34m\u001b[0m\u001b[0m\n\u001b[0m\u001b[1;32m      3\u001b[0m   \u001b[0;32mprint\u001b[0m \u001b[0;34m'i*i:'\u001b[0m\u001b[0;34m,\u001b[0m\u001b[0mi\u001b[0m\u001b[0;34m*\u001b[0m\u001b[0mi\u001b[0m\u001b[0;34m,\u001b[0m\u001b[0;34m'\\n'\u001b[0m\u001b[0;34m\u001b[0m\u001b[0m\n",
      "\u001b[0;31mZeroDivisionError\u001b[0m: integer division or modulo by zero"
     ]
    }
   ],
   "source": [
    "for i in range(1,6):\n",
    "  print '1/i-3:',1/(i-3)  \n",
    "  print 'i*i:',i*i,'\\n'  "
   ]
  },
  {
   "cell_type": "markdown",
   "metadata": {},
   "source": [
    "###### Many error codes can be displayed according to the type of error detected."
   ]
  },
  {
   "cell_type": "code",
   "execution_count": 45,
   "metadata": {
    "collapsed": false
   },
   "outputs": [
    {
     "ename": "NameError",
     "evalue": "name 'A' is not defined",
     "output_type": "error",
     "traceback": [
      "\u001b[0;31m---------------------------------------------------------------------------\u001b[0m",
      "\u001b[0;31mNameError\u001b[0m                                 Traceback (most recent call last)",
      "\u001b[0;32m<ipython-input-45-dd6555757187>\u001b[0m in \u001b[0;36m<module>\u001b[0;34m()\u001b[0m\n\u001b[0;32m----> 1\u001b[0;31m \u001b[0;32mprint\u001b[0m \u001b[0mA\u001b[0m\u001b[0;34m/\u001b[0m\u001b[0;36m0\u001b[0m\u001b[0;34m\u001b[0m\u001b[0m\n\u001b[0m",
      "\u001b[0;31mNameError\u001b[0m: name 'A' is not defined"
     ]
    }
   ],
   "source": [
    "print A/0"
   ]
  },
  {
   "cell_type": "code",
   "execution_count": 46,
   "metadata": {
    "collapsed": false
   },
   "outputs": [
    {
     "ename": "ZeroDivisionError",
     "evalue": "integer division or modulo by zero",
     "output_type": "error",
     "traceback": [
      "\u001b[0;31m---------------------------------------------------------------------------\u001b[0m",
      "\u001b[0;31mZeroDivisionError\u001b[0m                         Traceback (most recent call last)",
      "\u001b[0;32m<ipython-input-46-7e53f7623446>\u001b[0m in \u001b[0;36m<module>\u001b[0;34m()\u001b[0m\n\u001b[1;32m      1\u001b[0m \u001b[0mA\u001b[0m\u001b[0;34m=\u001b[0m\u001b[0;36m1\u001b[0m\u001b[0;34m\u001b[0m\u001b[0m\n\u001b[0;32m----> 2\u001b[0;31m \u001b[0;32mprint\u001b[0m \u001b[0mA\u001b[0m\u001b[0;34m/\u001b[0m\u001b[0;36m0\u001b[0m\u001b[0;34m\u001b[0m\u001b[0m\n\u001b[0m",
      "\u001b[0;31mZeroDivisionError\u001b[0m: integer division or modulo by zero"
     ]
    }
   ],
   "source": [
    "A=1\n",
    "print A/0"
   ]
  },
  {
   "cell_type": "code",
   "execution_count": 47,
   "metadata": {
    "collapsed": false
   },
   "outputs": [
    {
     "ename": "TypeError",
     "evalue": "cannot concatenate 'str' and 'int' objects",
     "output_type": "error",
     "traceback": [
      "\u001b[0;31m---------------------------------------------------------------------------\u001b[0m",
      "\u001b[0;31mTypeError\u001b[0m                                 Traceback (most recent call last)",
      "\u001b[0;32m<ipython-input-47-b2d67de0be7e>\u001b[0m in \u001b[0;36m<module>\u001b[0;34m()\u001b[0m\n\u001b[0;32m----> 1\u001b[0;31m \u001b[0;34m'2'\u001b[0m \u001b[0;34m+\u001b[0m \u001b[0;36m3\u001b[0m\u001b[0;34m\u001b[0m\u001b[0m\n\u001b[0m",
      "\u001b[0;31mTypeError\u001b[0m: cannot concatenate 'str' and 'int' objects"
     ]
    }
   ],
   "source": [
    "'2' + 3"
   ]
  },
  {
   "cell_type": "code",
   "execution_count": 48,
   "metadata": {
    "collapsed": false
   },
   "outputs": [
    {
     "ename": "IOError",
     "evalue": "[Errno 2] No such file or directory: 'notexistingFile'",
     "output_type": "error",
     "traceback": [
      "\u001b[0;31m---------------------------------------------------------------------------\u001b[0m",
      "\u001b[0;31mIOError\u001b[0m                                   Traceback (most recent call last)",
      "\u001b[0;32m<ipython-input-48-a23beea261e4>\u001b[0m in \u001b[0;36m<module>\u001b[0;34m()\u001b[0m\n\u001b[0;32m----> 1\u001b[0;31m \u001b[0mf\u001b[0m \u001b[0;34m=\u001b[0m \u001b[0mopen\u001b[0m\u001b[0;34m(\u001b[0m\u001b[0;34m\"notexistingFile\"\u001b[0m\u001b[0;34m,\u001b[0m\u001b[0;34m\"r\"\u001b[0m\u001b[0;34m)\u001b[0m\u001b[0;34m\u001b[0m\u001b[0m\n\u001b[0m\u001b[1;32m      2\u001b[0m \u001b[0;32mfor\u001b[0m \u001b[0mline\u001b[0m \u001b[0;32min\u001b[0m \u001b[0mf\u001b[0m\u001b[0;34m:\u001b[0m\u001b[0;34m\u001b[0m\u001b[0m\n\u001b[1;32m      3\u001b[0m   \u001b[0;32mprint\u001b[0m \u001b[0mf\u001b[0m\u001b[0;34m\u001b[0m\u001b[0m\n\u001b[1;32m      4\u001b[0m \u001b[0mf\u001b[0m\u001b[0;34m.\u001b[0m\u001b[0mclose\u001b[0m\u001b[0;34m(\u001b[0m\u001b[0;34m)\u001b[0m\u001b[0;34m\u001b[0m\u001b[0m\n",
      "\u001b[0;31mIOError\u001b[0m: [Errno 2] No such file or directory: 'notexistingFile'"
     ]
    }
   ],
   "source": [
    "f = open(\"notexistingFile\",\"r\")\n",
    "for line in f:\n",
    "  print f\n",
    "f.close()    "
   ]
  },
  {
   "cell_type": "markdown",
   "metadata": {},
   "source": [
    "###### An example showing that you cannot assign something to None :"
   ]
  },
  {
   "cell_type": "code",
   "execution_count": 49,
   "metadata": {
    "collapsed": false
   },
   "outputs": [
    {
     "ename": "SyntaxError",
     "evalue": "cannot assign to None (<ipython-input-49-48142bc569f9>, line 1)",
     "output_type": "error",
     "traceback": [
      "\u001b[0;36m  File \u001b[0;32m\"<ipython-input-49-48142bc569f9>\"\u001b[0;36m, line \u001b[0;32m1\u001b[0m\n\u001b[0;31m    None = 1\u001b[0m\n\u001b[0;31mSyntaxError\u001b[0m\u001b[0;31m:\u001b[0m cannot assign to None\n"
     ]
    }
   ],
   "source": [
    "None = 1"
   ]
  },
  {
   "cell_type": "markdown",
   "metadata": {},
   "source": [
    "###### But this is not true for True and False : although it is not recomended, some variables can be used having these names"
   ]
  },
  {
   "cell_type": "code",
   "execution_count": 50,
   "metadata": {
    "collapsed": false
   },
   "outputs": [
    {
     "name": "stdout",
     "output_type": "stream",
     "text": [
      " 1\n",
      "False\n",
      "1\n"
     ]
    }
   ],
   "source": [
    "True = 2\n",
    "False = 1\n",
    "\n",
    "print False\n",
    "\n",
    "print 3==4\n",
    "\n",
    "print False"
   ]
  },
  {
   "cell_type": "markdown",
   "metadata": {},
   "source": [
    "###### You can find a list of python exceptions at the following place : https://docs.python.org/3/library/exceptions.html"
   ]
  },
  {
   "cell_type": "markdown",
   "metadata": {},
   "source": [
    "## Using exceptions:"
   ]
  },
  {
   "cell_type": "code",
   "execution_count": 51,
   "metadata": {
    "collapsed": false
   },
   "outputs": [
    {
     "name": "stdout",
     "output_type": "stream",
     "text": [
      "*** Error dividing by 0 ***\n",
      "\n",
      "*** ZeroDivisionError: integer division or modulo by zero\n",
      "\n"
     ]
    }
   ],
   "source": [
    "A=1\n",
    "try:\n",
    "  print A/0    \n",
    "except  ZeroDivisionError:\n",
    "  print \"*** Error dividing by 0 ***\"\n",
    "\n",
    "print \n",
    "\n",
    "try:\n",
    "  print A/0    \n",
    "except  ZeroDivisionError,e:\n",
    "  print \"*** ZeroDivisionError:\",e  \n",
    "    \n",
    "print    "
   ]
  },
  {
   "cell_type": "markdown",
   "metadata": {},
   "source": [
    "#### raise an exception :"
   ]
  },
  {
   "cell_type": "code",
   "execution_count": 54,
   "metadata": {
    "collapsed": false
   },
   "outputs": [
    {
     "name": "stdout",
     "output_type": "stream",
     "text": [
      "Enter integer:12\n"
     ]
    },
    {
     "ename": "ZeroDivisionError",
     "evalue": "integer division or modulo by zero",
     "output_type": "error",
     "traceback": [
      "\u001b[0;31m---------------------------------------------------------------------------\u001b[0m",
      "\u001b[0;31mZeroDivisionError\u001b[0m                         Traceback (most recent call last)",
      "\u001b[0;32m<ipython-input-54-32f572e0a89d>\u001b[0m in \u001b[0;36m<module>\u001b[0;34m()\u001b[0m\n\u001b[1;32m      6\u001b[0m     \u001b[0;32mprint\u001b[0m \u001b[0;34m\"*** Error dividing by 0 ***\"\u001b[0m\u001b[0;34m\u001b[0m\u001b[0m\n\u001b[1;32m      7\u001b[0m   \u001b[0;32melse\u001b[0m\u001b[0;34m:\u001b[0m\u001b[0;34m\u001b[0m\u001b[0m\n\u001b[0;32m----> 8\u001b[0;31m     \u001b[0;32mraise\u001b[0m \u001b[0me\u001b[0m\u001b[0;34m\u001b[0m\u001b[0m\n\u001b[0m",
      "\u001b[0;31mZeroDivisionError\u001b[0m: integer division or modulo by zero"
     ]
    }
   ],
   "source": [
    "A = int(raw_input('Enter integer:'))\n",
    "try:\n",
    "  print A/0\n",
    "except  ZeroDivisionError,e:\n",
    "  if A==1:\n",
    "    print \"*** Error dividing by 0 ***\"\n",
    "  else:\n",
    "    raise e    \n"
   ]
  },
  {
   "cell_type": "markdown",
   "metadata": {},
   "source": [
    "#### try, finally :"
   ]
  },
  {
   "cell_type": "code",
   "execution_count": 57,
   "metadata": {
    "collapsed": false
   },
   "outputs": [
    {
     "name": "stdout",
     "output_type": "stream",
     "text": [
      "Please enter a number: 12\n",
      "Thank you for your input\n"
     ]
    }
   ],
   "source": [
    " try:\n",
    "   x = int(raw_input('Please enter a number: '))\n",
    " finally:\n",
    "   print('Thank you for your input')"
   ]
  },
  {
   "cell_type": "markdown",
   "metadata": {},
   "source": [
    "#### Use of assert :"
   ]
  },
  {
   "cell_type": "code",
   "execution_count": 58,
   "metadata": {
    "collapsed": false
   },
   "outputs": [
    {
     "name": "stdout",
     "output_type": "stream",
     "text": [
      "..\n"
     ]
    },
    {
     "ename": "AssertionError",
     "evalue": "Assertion 2 : Wrong output for square function !!",
     "output_type": "error",
     "traceback": [
      "\u001b[0;31m---------------------------------------------------------------------------\u001b[0m",
      "\u001b[0;31mAssertionError\u001b[0m                            Traceback (most recent call last)",
      "\u001b[0;32m<ipython-input-58-9d0435e83bc4>\u001b[0m in \u001b[0;36m<module>\u001b[0;34m()\u001b[0m\n\u001b[1;32m      4\u001b[0m \u001b[0;32massert\u001b[0m \u001b[0msquare\u001b[0m\u001b[0;34m(\u001b[0m\u001b[0;36m2\u001b[0m\u001b[0;34m)\u001b[0m\u001b[0;34m==\u001b[0m\u001b[0;36m4\u001b[0m\u001b[0;34m,\u001b[0m\u001b[0;34m\"Assertion 1 : not verified\"\u001b[0m\u001b[0;34m\u001b[0m\u001b[0m\n\u001b[1;32m      5\u001b[0m \u001b[0;32mprint\u001b[0m \u001b[0;34m\"..\"\u001b[0m\u001b[0;34m\u001b[0m\u001b[0m\n\u001b[0;32m----> 6\u001b[0;31m \u001b[0;32massert\u001b[0m \u001b[0msquare\u001b[0m\u001b[0;34m(\u001b[0m\u001b[0;36m2\u001b[0m\u001b[0;34m)\u001b[0m\u001b[0;34m==\u001b[0m\u001b[0;34m-\u001b[0m\u001b[0;36m1\u001b[0m\u001b[0;34m,\u001b[0m\u001b[0;34m\"Assertion 2 : Wrong output for square function !!\"\u001b[0m\u001b[0;34m\u001b[0m\u001b[0m\n\u001b[0m\u001b[1;32m      7\u001b[0m \u001b[0;32mprint\u001b[0m \u001b[0;34m\"..\"\u001b[0m\u001b[0;34m\u001b[0m\u001b[0m\n",
      "\u001b[0;31mAssertionError\u001b[0m: Assertion 2 : Wrong output for square function !!"
     ]
    }
   ],
   "source": [
    "def square(x):\n",
    "  return x*x\n",
    "\n",
    "assert square(2)==4,\"Assertion 1 : not verified\"\n",
    "print \"..\"\n",
    "assert square(2)==-1,\"Assertion 2 : Wrong output for square function !!\"\n",
    "print \"..\""
   ]
  },
  {
   "cell_type": "markdown",
   "metadata": {},
   "source": [
    "## Breakout : Getting your code on :"
   ]
  },
  {
   "cell_type": "raw",
   "metadata": {},
   "source": [
    "\n",
    " Create a program (a .py file) which repeatedly asks the user for a word. The program should append all the words together. When the user types a \"!\", \"?\", or a \".\", the program should print the resulting sentence and exit.\n",
    "\n",
    "For example, a session might look like this:\n",
    "\n",
    "[~]$ python breakout01.py\\n\n",
    "Enter a word (. ! or ? to end): My\\n\n",
    "Enter a word (. ! or ? to end): name\n",
    "Enter a word (. ! or ? to end): is\n",
    "Enter a word (. ! or ? to end): Walter\n",
    "Enter a word (. ! or ? to end): White\n",
    "Enter a word (. ! or ? to end): !\n",
    "\n",
    "My name is Walter White!\n"
   ]
  },
  {
   "cell_type": "code",
   "execution_count": 4,
   "metadata": {
    "collapsed": false
   },
   "outputs": [],
   "source": []
  }
 ],
 "metadata": {
  "kernelspec": {
   "display_name": "Python 2",
   "language": "python",
   "name": "python2"
  },
  "language_info": {
   "codemirror_mode": {
    "name": "ipython",
    "version": 2
   },
   "file_extension": ".py",
   "mimetype": "text/x-python",
   "name": "python",
   "nbconvert_exporter": "python",
   "pygments_lexer": "ipython2",
   "version": "2.7.9"
  }
 },
 "nbformat": 4,
 "nbformat_minor": 0
}
