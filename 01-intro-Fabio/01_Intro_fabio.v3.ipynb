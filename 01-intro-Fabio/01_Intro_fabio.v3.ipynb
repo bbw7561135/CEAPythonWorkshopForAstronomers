{
 "cells": [
  {
   "cell_type": "markdown",
   "metadata": {},
   "source": [
    "<style>\n",
    "div.cell, div.text_cell_render{\n",
    "  max-width:750px;\n",
    "  margin-left:auto;\n",
    "  margin-right:auto;\n",
    "}\n",
    "\n",
    ".rendered_html\n",
    "{\n",
    "  font-size: 140%;\n",
    "  }\n",
    "\n",
    ".rendered_html li\n",
    "{\n",
    "  line-height: 1.8;\n",
    "  }\n",
    "\n",
    ".rendered_html h1, h2 {\n",
    "  text-align:center;\n",
    "  font-familly:\"Charis SIL\", serif;\n",
    "}\n",
    "</style>"
   ]
  },
  {
   "cell_type": "markdown",
   "metadata": {},
   "source": [
    "#Intro to Python\n",
    "-F. Acero  SAp-LEPCHE\n",
    "\n",
    "<small><i>Some content were adapted from [J. Vanderplas](http://www.vanderplas.com) for UW's [Astro 599](http://www.astro.washington.edu/users/vanderplas/Astr599/) course. Source and license info is on [GitHub](https://github.com/jakevdp/2013_fall_ASTR599/).</i></small>"
   ]
  },
  {
   "cell_type": "markdown",
   "metadata": {
    "slideshow": {
     "slide_type": "slide"
    }
   },
   "source": [
    "Welcome to the Python Boot Camp!!\n",
    "=================================\n",
    "<img src=\"files/PythonCamp.jpg\" width=600>\n",
    "\n",
    "<font size=\"2\">\n",
    "<i>Much of this material thanks to http://www.pythonbootcamp.info/</i>\n",
    "</font>"
   ]
  },
  {
   "cell_type": "markdown",
   "metadata": {},
   "source": [
    "Logistics\n",
    "----------\n",
    "- Afternoon coffee break is in Bld 709. Room 3 (ground floor)\n",
    "- Ask during the sessions if you have a question to the speaker or the **helpers that will be around to help you**\n",
    "- There is gonna be a lot of information during those 2 days ! \n",
    "  We don't expect that you understand 100% of it but at least you know where the info is.\n",
    "- Time for exercise is a little bit short so be efficient ;-)  \n",
    "- Schedule is here:\n",
    "\n",
    "\n"
   ]
  },
  {
   "cell_type": "code",
   "execution_count": 1,
   "metadata": {
    "collapsed": false
   },
   "outputs": [
    {
     "data": {
      "text/html": [
       "<iframe src=https://indico.in2p3.fr/event/11210/timetable/#20150407 width=600 height=500></iframe>"
      ],
      "text/plain": [
       "<IPython.core.display.HTML object>"
      ]
     },
     "execution_count": 1,
     "metadata": {},
     "output_type": "execute_result"
    }
   ],
   "source": [
    "#To execute the Python code below, \n",
    "#click on this cell and type Shift-Enter on your keyboard.\n",
    "#The workshop schedule should be displayed. \n",
    "from IPython.display import HTML\n",
    "HTML('<iframe src=https://indico.in2p3.fr/event/11210/timetable/#20150407 width=600 height=500></iframe>')"
   ]
  },
  {
   "cell_type": "markdown",
   "metadata": {
    "slideshow": {
     "slide_type": "slide"
    }
   },
   "source": [
    "Objectives\n",
    "----------\n",
    "- Introduce you to the Python language\n",
    "- Get you *writing* Python code.\n",
    "- Convince you of Python's utility in your research life\n",
    "- Encourage good coding and data-management practices\n",
    "- Short breakout coding sessions after each module\n",
    "- Actual coding $\\to$ actual learning"
   ]
  },
  {
   "cell_type": "markdown",
   "metadata": {
    "slideshow": {
     "slide_type": "slide"
    }
   },
   "source": [
    "\n",
    "### 1. What is Python?\n",
    "\n",
    "### 2. Why should a scientist use Python?\n",
    "\n",
    "### 3. Getting started: four ways to use Python"
   ]
  },
  {
   "cell_type": "markdown",
   "metadata": {
    "slideshow": {
     "slide_type": "slide"
    }
   },
   "source": [
    "## What is Python\n",
    "\n",
    "<div align=\"center\">\n",
    "<table>\n",
    "  <tr><td>**Interpreted**</td><td>No need for a compiling stage</td></tr>\n",
    "  <tr><td>**Object-oriented**</td><td>Objects: complex data structures with attributes and methods</td></tr>\n",
    "  <tr><td>**High-level**</td><td>Abstraction from the way the machine actually executes</td></tr>\n",
    "  <tr><td>**Dynamic**</td><td>Variables can change meaning on-the-fly</td></tr>\n",
    "  <tr><td>**Built-in**</td><td>Fewer external requirements</td></tr>\n",
    "  <tr><td>**Data structures**</td><td>Ways of storing/manipulating data</td></tr>\n",
    "  <tr><td>**Script/Glue**</td><td>Code that controls other programs</td></tr>\n",
    "  <tr><td>**Typing**</td><td>The kind of variable (int, string, float)</td></tr>\n",
    "  <tr><td>**Syntax**</td><td>Grammar which defines the language</td></tr>\n",
    "  <tr><td>**Library**</td><td>reusable collection of code</td></tr>\n",
    "</table>\n",
    "</div>"
   ]
  },
  {
   "cell_type": "markdown",
   "metadata": {
    "slideshow": {
     "slide_type": "slide"
    }
   },
   "source": [
    "## History of Python\n",
    "\n",
    "<div style=\"background-image: url(files/Guido.jpg); background-repeat:no-repeat; background-position:bottom right; height: 400px; width: 630px;\">\n",
    "<ul>\n",
    "<li>Started over Christmas break 1989, by Guido van Rossum\n",
    "\n",
    "<li>Development in the Early '90s\n",
    "\n",
    "<li>Guido is the \"BDFL\": the Benevolent Dictator for Life\n",
    "</ul>\n",
    "\n",
    "<p style=\"margin-left:50px; width:330px; font-size:18px;\">\"...in December 1989, **I was looking for a 'hobby' programming project that would keep me occupied during the week around Christmas**. My office ... would be closed, but I had a home computer, and not much else on my hands. I decided to write an interpreter for the new scripting language I had been thinking about lately: a descendant of ABC that would appeal to Unix/C hackers. I chose Python as a working title for the project, being in a slightly irreverent mood (and a big fan of Monty Python's Flying Circus).\"</p>\n",
    "\n",
    "</div>"
   ]
  },
  {
   "cell_type": "markdown",
   "metadata": {
    "slideshow": {
     "slide_type": "slide"
    }
   },
   "source": [
    "History of Python\n",
    "-----------------\n",
    "\n",
    "- Open-sourced development from the start (currently BSD-licensed)\n",
    "\n",
    "- Large development community\n",
    "\n",
    "- Version 2.0 (2000), 2.6 (2008), 2.7 (2010)\n",
    "    + We'll use version 2.7.5 for this course\n",
    "  \n",
    "- Version 3.X (2008) is not backward compatible\n",
    "    + **But 2.7 code can be migrated to 3.X relatively easily**"
   ]
  },
  {
   "cell_type": "markdown",
   "metadata": {},
   "source": [
    "## Why should you use Python?\n",
    "\n",
    "###Because :\n",
    "\n",
    "### 1) everyone else is starting to use it and I want to be one of the cool kids\n",
    "### 2) most space mission, telescope, etc are providing Science Tools using Python \n",
    "### 3) I'm tired of license issues and costs (several 10  keuros/year for the lab)  \n",
    "### 4) It happens that it is also a nice language ;-)"
   ]
  },
  {
   "cell_type": "markdown",
   "metadata": {},
   "source": [
    "<img src=\"files/pypl_2014.png\" width=600>\n"
   ]
  },
  {
   "cell_type": "markdown",
   "metadata": {
    "slideshow": {
     "slide_type": "slide"
    }
   },
   "source": [
    "## Comparison with other languages\n",
    "\n",
    "<h2 style=\"text-align:left; color:green;\">C, C++, Fortran</h3>\n",
    "\n",
    "### Pros:\n",
    "  + Great performance; lots of legacy scientific computing codes\n",
    "\n",
    "### Cons:\n",
    "  + No interactive facilities\n",
    "  + Difficult Visualization, text processing, etc.\n",
    "  + Syntax not optimized for casual programming\n"
   ]
  },
  {
   "cell_type": "markdown",
   "metadata": {
    "slideshow": {
     "slide_type": "slide"
    }
   },
   "source": [
    "## Comparison with other languages\n",
    "\n",
    "\n",
    "<h2 style=\"text-align:left; color:blue;\">IDL, Matlab, Mathematica</h2>\n",
    "\n",
    "### Pros:\n",
    "  + Interactive with easy visualization tools\n",
    "  + Extensive scientific libraries\n",
    "  \n",
    "### Cons:\n",
    "  + **Cost** and Proprietary\n",
    "  + Unpleasant for large-scale computing & non-mathematical tasks"
   ]
  },
  {
   "cell_type": "markdown",
   "metadata": {
    "slideshow": {
     "slide_type": "slide"
    }
   },
   "source": [
    "## Why should a Scientist use Python?\n",
    "\n",
    "- Python is **free** (BSD license) and highly portable (Linux, Mac OSX, Windows, etc.)\n",
    "- Interactive interpreter\n",
    "- Extremely readable syntax\n",
    "- Simple: non-professional programmers can use it effectively\n",
    "  + great documentation\n",
    "  + memory management is taken care of\n",
    "  \n",
    "  "
   ]
  },
  {
   "cell_type": "markdown",
   "metadata": {
    "slideshow": {
     "slide_type": "slide"
    }
   },
   "source": [
    "\n",
    "- Clean (and optional) object-oriented model\n",
    "- Rich collection of built-in types, from simple to compound\n",
    "- Comprehensive standard library\n",
    "- Well-established 3rd-party packages (NumPy, SciPy, Matplotlib)\n",
    "- Easy wrapping of legacy code (C, C++, Fortran)"
   ]
  },
  {
   "cell_type": "markdown",
   "metadata": {
    "slideshow": {
     "slide_type": "slide"
    }
   },
   "source": [
    "## Why should a Scientist use Python? (cont')\n",
    "\n",
    "- Python mastery is a marketable skill-set. Good investment for PhD students.\n",
    "     + ([Python Job Board](http://www.python.org/community/jobs/))\n",
    "- By comparison, virtually no industries use IDL\n",
    "     + (sorry...)"
   ]
  },
  {
   "cell_type": "markdown",
   "metadata": {
    "slideshow": {
     "slide_type": "slide"
    }
   },
   "source": [
    "\n",
    "<h2 style=\"text-align:left; color:green;\">Amazingly Scalable</h2>\n",
    "\n",
    "- Allows interactive experimentation\n",
    "- Code can be one-line scripts or million-line projects\n",
    "- Used by novices and full-time professionals alike (Google, Facebook, etc)\n",
    "\n",
    "<h2 style=\"text-align:left; color:red;\">The Kitchen Sink</h2>\n",
    "\n",
    "- Python can do anything you want with impressive simplicity\n",
    "\n",
    "<h2 style=\"text-align:left; color:blue;\">Performance when you need it</h2>\n",
    "\n",
    "- As an interpreted language, Python can be slow\n",
    "- But there are good options to get around this (as we'll see)"
   ]
  },
  {
   "cell_type": "markdown",
   "metadata": {
    "slideshow": {
     "slide_type": "slide"
    }
   },
   "source": [
    "## Large project in astronomy: LSST Group uses it for ... \n",
    "\n",
    "<h3 style=\"text-align:left; color:#006600\">Data reduction & Analysis</h3>\n",
    "<h3 style=\"text-align:left; color:#000066\">Wrapping of LSST C++ Pipeline</h3>\n",
    "<h3 style=\"text-align:left; color:#660000\">Quick Calculations</h3>\n",
    "<h3 style=\"text-align:left; color:#000000\">Building websites</h3>\n",
    "<h3 style=\"text-align:left; color:#006600\">Quick Visualization</h3>\n",
    "<h3 style=\"text-align:left; color:#000066\">Plots for Publications</h3>\n",
    "\n",
    "(basically every step)\n",
    "\n",
    "The CTA data pipeline will probably use it in many steps"
   ]
  },
  {
   "cell_type": "markdown",
   "metadata": {},
   "source": [
    "## Researcher in Psychology (and many  fields) use Python !\n"
   ]
  },
  {
   "cell_type": "code",
   "execution_count": 2,
   "metadata": {
    "collapsed": false
   },
   "outputs": [
    {
     "data": {
      "text/html": [
       "<iframe src=http://www.psychopy.org width=600 height=300></iframe>"
      ],
      "text/plain": [
       "<IPython.core.display.HTML object>"
      ]
     },
     "execution_count": 2,
     "metadata": {},
     "output_type": "execute_result"
    }
   ],
   "source": [
    "HTML('<iframe src=http://www.psychopy.org width=600 height=300></iframe>')"
   ]
  },
  {
   "cell_type": "markdown",
   "metadata": {},
   "source": [
    "Other examples in:\n",
    "- Biology : http://biopython.org\n",
    "- Quantum chemistry: http://pyquante.sourceforge.net \n",
    "- Quantitative finance: http://quantlib.org\n",
    "- etc"
   ]
  },
  {
   "cell_type": "markdown",
   "metadata": {},
   "source": [
    "## Yet another language ...  \n",
    "## In 10 years you will tell me to learn another one ?"
   ]
  },
  {
   "cell_type": "markdown",
   "metadata": {},
   "source": [
    "Very large user base (industry and many science fields) are using it.\n",
    "\n",
    "Also very important for an open-source project is that there is a **large developer-base** (not the project of two-three guys)"
   ]
  },
  {
   "cell_type": "code",
   "execution_count": 3,
   "metadata": {
    "collapsed": false
   },
   "outputs": [
    {
     "data": {
      "text/html": [
       "<iframe src=https://jakevdp.github.io/blog/2012/09/20/why-python-is-the-last/ width=600 height=300></iframe>"
      ],
      "text/plain": [
       "<IPython.core.display.HTML object>"
      ]
     },
     "execution_count": 3,
     "metadata": {},
     "output_type": "execute_result"
    }
   ],
   "source": [
    "HTML('<iframe src=https://jakevdp.github.io/blog/2012/09/20/why-python-is-the-last/ width=600 height=300></iframe>')"
   ]
  },
  {
   "cell_type": "markdown",
   "metadata": {
    "slideshow": {
     "slide_type": "slide"
    }
   },
   "source": [
    "## IPython Notebook in Action for easy plotting:"
   ]
  },
  {
   "cell_type": "code",
   "execution_count": 4,
   "metadata": {
    "collapsed": false,
    "slideshow": {
     "slide_type": "fragment"
    }
   },
   "outputs": [
    {
     "name": "stdout",
     "output_type": "stream",
     "text": [
      "Populating the interactive namespace from numpy and matplotlib\n"
     ]
    },
    {
     "data": {
      "image/png": "[encoded data removed]",
      "text/plain": [
       "<matplotlib.figure.Figure at 0x10f0a4d10>"
      ]
     },
     "metadata": {},
     "output_type": "display_data"
    }
   ],
   "source": [
    "# Type shift-enter to execute the code below\n",
    "\n",
    "%pylab inline\n",
    "\n",
    "N = 200\n",
    "r = 2 * rand(N)\n",
    "theta = 2 * pi * rand(N)\n",
    "area = 200 * r ** 2 * rand(N)\n",
    "ax = plt.subplot(111, polar=True)\n",
    "scatter(theta, r, c=theta, s=area, alpha=0.75)\n",
    "show()"
   ]
  },
  {
   "cell_type": "markdown",
   "metadata": {
    "slideshow": {
     "slide_type": "slide"
    }
   },
   "source": [
    "# Time to Get Started...\n"
   ]
  },
  {
   "cell_type": "markdown",
   "metadata": {
    "slideshow": {
     "slide_type": "slide"
    }
   },
   "source": [
    "# Getting Started: Four Ways to Use Python\n",
    "\n",
    "### 1. The Python command-line interpreter\n",
    "\n",
    "### 2. Editing Python (.py) files\n",
    "\n",
    "### 3. The IPython command-line interpreter\n",
    "\n",
    "### 4. The ipython qtconsole\n",
    "\n",
    "### 5. The IPython notebook\n",
    "\n",
    "### 6.  IDE for python (e.g. Spyder)"
   ]
  },
  {
   "cell_type": "markdown",
   "metadata": {
    "slideshow": {
     "slide_type": "slide"
    }
   },
   "source": [
    "## 1. The Python command-line Interpreter\n",
    "\n",
    "If you have never used the command-line:\n",
    "\n",
    "- Mac OSX: in Finder/Applications, search for \"Terminal\"\n",
    "\n",
    "- Linux/Unix: ``Ctrl-Alt-t``\n",
    "\n",
    "- Windows: run \"cmd\"\n"
   ]
  },
  {
   "cell_type": "markdown",
   "metadata": {
    "slideshow": {
     "slide_type": "slide"
    }
   },
   "source": [
    "## 1. The Python command-line Interpreter\n",
    "\n",
    "Type ``python`` at the command-line to start the interpreter\n",
    "Execute a command:\n",
    "\n",
    "Type     ``print \"hello world\"``\n",
    "\n",
    "\n",
    "Closing the terminal:\n",
    "\n",
    "- Either type ``exit()`` or type ``Ctrl-d``\n",
    "\n"
   ]
  },
  {
   "cell_type": "markdown",
   "metadata": {
    "slideshow": {
     "slide_type": "slide"
    }
   },
   "source": [
    "## 2. Editing Python (.py) files\n",
    "\n",
    "### This requires a text editor.\n",
    "\n",
    "The best option is one which includes code highlighting\n",
    "\n",
    "- Linux: gedit, emacs, nano, vim...\n",
    "-  Mac OSX: textmate, emacs, nano, vim...\n",
    "-  Windows: NotePad...\n",
    "\n",
    "### GUI-based editors with bells & whistles\n",
    "\n",
    "-  Linux: KWrite, Scribes, eggy\n",
    "-  Mac OSX: TextWrangler, SublimeText\n",
    "-  Windows: NotePad++, SublimeText"
   ]
  },
  {
   "cell_type": "markdown",
   "metadata": {
    "slideshow": {
     "slide_type": "slide"
    }
   },
   "source": [
    "## 2. Editing Python (.py) files\n",
    "\n",
    "Use your editor to open ``hello_world.py`` (here we use OSX's ``vi``)\n",
    "\n",
    "\n",
    "\n",
    "Edit the file to say ``print \"hello world\"``\n",
    "\n",
    "\n",
    "In the terminal, run ``python hello_world.py``\n",
    "\n"
   ]
  },
  {
   "cell_type": "markdown",
   "metadata": {
    "slideshow": {
     "slide_type": "slide"
    }
   },
   "source": [
    "## 3. The IPython command-line Interpreter\n",
    "\n",
    "IPython provides an enhanced command-line interface\n",
    "\n",
    "It can be started by typing ``ipython``:\n",
    "\n",
    "\n",
    "Useful features include tab completion, help (``?``), magic commands, etc.\n",
    "\n",
    "can run python by typing:\n",
    "\n",
    "``run hello_world.py ``\n",
    "\n"
   ]
  },
  {
   "cell_type": "markdown",
   "metadata": {
    "slideshow": {
     "slide_type": "slide"
    }
   },
   "source": [
    "## 4. The IPython qtconsole\n",
    "\n",
    "qtconsole provides an even enhanced command-line interface (help, inline plot, code coloring, etc)\n",
    "\n",
    "It can be started by typing ``ipython qtconsole``.\n",
    "\n",
    "To get a plot example copy/paste this line in the console:\n",
    "\n",
    "%load http://matplotlib.org/mpl_examples/mplot3d/contourf3d_demo2.py\n",
    "\n",
    "(The previous command can also be run with ipython)\n",
    "\n"
   ]
  },
  {
   "cell_type": "markdown",
   "metadata": {
    "slideshow": {
     "slide_type": "slide"
    }
   },
   "source": [
    "## 5. The IPython Notebook\n",
    "\n",
    "The IPython notebook can be started by typing:\n",
    "\n",
    "``ipython notebook``\n",
    "\n",
    "Your web browser should open to an interactive notebook page\n",
    "\n",
    "What you are currently using !\n",
    "\n",
    "The whole workshop will be given as ipython notebooks \n",
    "\n",
    "\n",
    "#### One thing to know is to execute the code in a cell you need to type Shift-Enter"
   ]
  },
  {
   "cell_type": "code",
   "execution_count": 5,
   "metadata": {
    "collapsed": false
   },
   "outputs": [
    {
     "data": {
      "text/plain": [
       "4"
      ]
     },
     "execution_count": 5,
     "metadata": {},
     "output_type": "execute_result"
    }
   ],
   "source": [
    "#Example:\n",
    "2*2"
   ]
  },
  {
   "cell_type": "markdown",
   "metadata": {},
   "source": [
    "#Ipython usage\n",
    "-A cell can be a code Cell or a Markdown cell (for comments and text like this cell).\n",
    "Change the state in the toolbar. You can write HTML code in here (links, images, etc)\n",
    "- Use the buttons or Menu to create, erase, move a cell \n",
    "- You can stop/restart the Python kernel using the buttons\n",
    "- You can create a new notebook in File-> New Notebook\n",
    "- You can copy/paste/search/cancel as you will do on a regular webpage/text file `(Ctrl-C -V -Z -F)`\n"
   ]
  },
  {
   "cell_type": "markdown",
   "metadata": {},
   "source": [
    "## 6. A development environment (e.g. Spyder)\n",
    "\n",
    "Comes with the Anaconda distrib (we won't discuss it further during this workshop)"
   ]
  },
  {
   "cell_type": "markdown",
   "metadata": {},
   "source": [
    "### Just to be clear: ipython, qtconsole, notebook, spyder are just different interfaces to edit/execute Python code.\n",
    "\n"
   ]
  },
  {
   "cell_type": "markdown",
   "metadata": {
    "slideshow": {
     "slide_type": "slide"
    }
   },
   "source": [
    "## Conclusions\n",
    "\n",
    "- We've introduced Python and motivated its use in science\n",
    "\n",
    "- We've talked about four ways to use Python\n",
    "\n",
    "- Next up: basic training - getting started in Python"
   ]
  },
  {
   "cell_type": "code",
   "execution_count": null,
   "metadata": {
    "collapsed": true
   },
   "outputs": [],
   "source": []
  },
  {
   "cell_type": "code",
   "execution_count": null,
   "metadata": {
    "collapsed": true
   },
   "outputs": [],
   "source": []
  }
 ],
 "metadata": {
  "kernelspec": {
   "display_name": "Python 2",
   "language": "python",
   "name": "python2"
  },
  "language_info": {
   "codemirror_mode": {
    "name": "ipython",
    "version": 2
   },
   "file_extension": ".py",
   "mimetype": "text/x-python",
   "name": "python",
   "nbconvert_exporter": "python",
   "pygments_lexer": "ipython2",
   "version": "2.7.9"
  }
 },
 "nbformat": 4,
 "nbformat_minor": 0
}
