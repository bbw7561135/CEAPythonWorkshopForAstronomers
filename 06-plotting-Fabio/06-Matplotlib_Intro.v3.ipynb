{
 "metadata": {
  "kernelspec": {
   "display_name": "Python 2",
   "language": "python",
   "name": "python2"
  },
  "language_info": {
   "codemirror_mode": {
    "name": "ipython",
    "version": 2
   },
   "file_extension": ".py",
   "mimetype": "text/x-python",
   "name": "python",
   "nbconvert_exporter": "python",
   "pygments_lexer": "ipython2",
   "version": "2.7.9"
  },
  "name": ""
 },
 "nbformat": 3,
 "nbformat_minor": 0,
 "worksheets": [
  {
   "cells": [
    {
     "cell_type": "markdown",
     "metadata": {},
     "source": [
      "# Matplotlib\n",
      "## Introduction\n",
      "by F. Acero SAp - LEPCHE\n",
      "\n",
      "- matplotlib (mpl) is a python plotting library which produces publication quality figures in a variety of hardcopy formats and interactive environments across platforms.\n",
      "\n",
      "- mpl tries to make easy things easy and hard things possible. You can generate plots, histograms, power spectra, bar charts, errorcharts, scatterplots, etc, with just a few lines of code. \n",
      "\n",
      "- For simple plotting the pyplot interface provides a MATLAB-like interface, particularly when combined with IPython.\n",
      "\n",
      "## Online Documentation\n",
      "The [matplotlib.org](http://matplotlib.org) project website is the primary online resource for the library's documentation. It contains [examples](http://matplotlib.org/examples/index.html), [FAQs](http://matplotlib.org/faq/index.html), [API documentation](http://matplotlib.org/api/index.html), and, most importantly, the [gallery](http://matplotlib.org/gallery.html).\n",
      "\n",
      "\n",
      "\n",
      "Matplotlib is growing as a fast competitor of other plotting programs (from Google trends):\n",
      "\n",
      "<img src=\"files/matplotlib-trends.png\" width=600>\n",
      "\n",
      "\n",
      "\n",
      "Who uses idl or python to plot somehting ?\n",
      "<img src=\"files/plot-idl-map.png\" width=600>\n",
      "Those who can affor the license ;-)\n",
      "\n",
      "<img src=\"files/plot-python-map.png\" width=600>\n",
      "\n",
      "\n",
      "\n",
      "\n",
      "\n",
      "\n",
      "## Let's dive in !\n",
      "\n",
      "\n",
      "\n"
     ]
    },
    {
     "cell_type": "code",
     "collapsed": false,
     "input": [
      "import matplotlib.pyplot as plt  #Loading only the library we'll need. \n",
      "import numpy as np"
     ],
     "language": "python",
     "metadata": {},
     "outputs": [],
     "prompt_number": null
    },
    {
     "cell_type": "code",
     "collapsed": false,
     "input": [
      "x=[1, 2, 3, 4, 5, 6]\n",
      "y=x*2\n",
      "print 'length(x) = ', len(x),'  ;   length(y)=',len(y)\n",
      "print x,y\n"
     ],
     "language": "python",
     "metadata": {},
     "outputs": [],
     "prompt_number": null
    },
    {
     "cell_type": "markdown",
     "metadata": {},
     "source": [
      "Quick plotting in a simple way :"
     ]
    },
    {
     "cell_type": "code",
     "collapsed": false,
     "input": [
      "# Turning on inline plots -- just for use in ipython notebooks.\n",
      "# Comment the line below to have plots in a separate window (e.g. X11)\n",
      "#%matplotlib inline\n",
      "\n",
      "x=np.array( [1, 2, 3, 4, 5, 6] )\n",
      "y=x**2\n",
      "print x,y\n",
      "\n",
      "plt.plot(x,y)\n",
      "#plt.plot(x,y,color='red',marker='o')\n",
      "#plt.plot(x,y,color='red',marker='$\\odot$',markersize=15)  # can be any Latex symbol or just text in $$\n",
      "#plt.scatter(x,y)\n",
      "\n",
      "#plt.savefig('simple-plot.pdf') # also works with .ps, .png, .jpg, etc\n",
      "plt.show()\n",
      "\n",
      "%ls *pdf"
     ],
     "language": "python",
     "metadata": {},
     "outputs": [
      {
       "output_type": "stream",
       "stream": "stdout",
       "text": [
        "[1 2 3 4 5 6] [ 1  4  9 16 25 36]\n"
       ]
      },
      {
       "metadata": {},
       "output_type": "display_data",
       "png": "[encoded data removed]",
       "text": [
        "<matplotlib.figure.Figure at 0x10f618490>"
       ]
      },
      {
       "output_type": "stream",
       "stream": "stdout",
       "text": [
        "ls: *pdf: No such file or directory\r\n"
       ]
      }
     ],
     "prompt_number": 32
    },
    {
     "cell_type": "markdown",
     "metadata": {},
     "source": [
      "List of marker available : http://matplotlib.org/api/markers_api.html"
     ]
    },
    {
     "cell_type": "markdown",
     "metadata": {},
     "source": [
      "Very simple to add legend to the plot :"
     ]
    },
    {
     "cell_type": "code",
     "collapsed": false,
     "input": [
      "# Labels in legend can be added directly in the plot function.\n",
      "\n",
      "plt.plot(x,y,label='option 1') \n",
      "plt.plot(x,y*2,'r--',label='option 2')\n",
      "plt.legend(loc='upper left')  #,fancybox=True, fontsize=15)\n"
     ],
     "language": "python",
     "metadata": {},
     "outputs": [
      {
       "metadata": {},
       "output_type": "pyout",
       "prompt_number": 28,
       "text": [
        "<matplotlib.legend.Legend at 0x10c3b4750>"
       ]
      },
      {
       "metadata": {},
       "output_type": "display_data",
       "png": "[encoded data removed]",
       "text": [
        "<matplotlib.figure.Figure at 0x107e01f90>"
       ]
      }
     ],
     "prompt_number": 28
    },
    {
     "cell_type": "heading",
     "level": 1,
     "metadata": {},
     "source": [
      "For more figure control:  scripted vs object oriented way"
     ]
    },
    {
     "cell_type": "markdown",
     "metadata": {},
     "source": [
      "###Scripted way (the one seen above).\n",
      "\n",
      "Matplotlib provides two flavors of interface. The scripted interface, designed to feel like Matlab. To enable this, matplotlib maintains a pointer to the current figure, current axis, etc. and directs top-level commands to those places:"
     ]
    },
    {
     "cell_type": "code",
     "collapsed": false,
     "input": [
      "fig = plt.figure(figsize=(8,4)) \n",
      "# All plotting is done through the Figure object,  the \"canvas\" of your plot.\n",
      "\n",
      "plt.plot(x,y,color='red',marker='o',linestyle='dashed',markerfacecolor='blue', markersize=12)\n",
      "# passing all the details to the plot function\n",
      "\n",
      "plt.show()"
     ],
     "language": "python",
     "metadata": {},
     "outputs": [],
     "prompt_number": null
    },
    {
     "cell_type": "code",
     "collapsed": false,
     "input": [
      "# create a double figure using the matlab-like interface\n",
      "x = np.linspace(0, 10, 1000)\n",
      "\n",
      "#plt.subplot(nrows, ncols, current_plot_number)  Usage of subplot function\n",
      "plt.subplot(2, 1, 1)  # 2x1 grid, first plot\n",
      "plt.plot(x, np.sin(x))\n",
      "plt.title('Title 1')\n",
      "\n",
      "plt.subplot(2, 1, 2)  # 2x1 grid, second plot\n",
      "plt.plot(x, np.cos(x))\n",
      "plt.title('Title 2')  # Location of title depends on where it is called in the code\n",
      "plt.xlabel('x')\n",
      "\n",
      "plt.show()"
     ],
     "language": "python",
     "metadata": {},
     "outputs": [],
     "prompt_number": null
    },
    {
     "cell_type": "markdown",
     "metadata": {},
     "source": [
      "##Object oriented\n",
      "In the object-oriented interface, we expliticly pass around references to the plot elements we want to work with:"
     ]
    },
    {
     "cell_type": "code",
     "collapsed": false,
     "input": [
      "# create the same figure using the object-oriented interface\n",
      "fig = plt.figure()\n",
      "\n",
      "#ax1 is the Axes object (frame) not a axis 1 and axis 2 \n",
      "\n",
      "ax1 = fig.add_subplot(2, 1, 1)  # here fig is really used in an object oriented way\n",
      "ax1.plot(x, np.sin(x))\n",
      "ax1.set_title(\"This title will not be shown\")\n",
      "\n",
      "ax2 = fig.add_subplot(2, 1, 2)\n",
      "ax2.plot(x, np.cos(x))\n",
      "ax2.set_xlabel('x')\n",
      "ax1.set_title(\"Still working on axis 1 here\")\n",
      "\n",
      "\n",
      "plt.show()\n",
      "print 'WTF is this ax1 object:'\n",
      "type(ax1)"
     ],
     "language": "python",
     "metadata": {},
     "outputs": [],
     "prompt_number": null
    },
    {
     "cell_type": "code",
     "collapsed": false,
     "input": [
      "fig = plt.figure()\n",
      "for i in range(1, 7):\n",
      "    ax = fig.add_subplot(2, 3, i) # return one by one the ith Axes object\n",
      "    ax.text(0.45, 0.45, str(i), fontsize=20)\n"
     ],
     "language": "python",
     "metadata": {},
     "outputs": [],
     "prompt_number": null
    },
    {
     "cell_type": "markdown",
     "metadata": {},
     "source": [
      "You can also work with an array of axes:"
     ]
    },
    {
     "cell_type": "code",
     "collapsed": false,
     "input": [
      "fig, ax = plt.subplots(2, 3) # return the entire array of Axes object\n",
      "for i in range(2):\n",
      "    for j in range(3):\n",
      "        ax[i, j].text(0.2, 0.45, str((i, j)), fontsize=20)\n",
      "        \n",
      "print type(ax), '   => Now ax is an array of axes objects'\n",
      "print type(ax[0,0])"
     ],
     "language": "python",
     "metadata": {},
     "outputs": [],
     "prompt_number": null
    },
    {
     "cell_type": "markdown",
     "metadata": {},
     "source": [
      "###Some things are easier to do/handle in the object oriented way :\n",
      "like shared axis:"
     ]
    },
    {
     "cell_type": "code",
     "collapsed": false,
     "input": [
      "\n",
      "color1='red'\n",
      "color2='cornflowerblue' # funny colors like  chartreuse, mintcream, cornsilk, seashell, peachpuff, lemonchiffon\n",
      "\n",
      "fig = plt.figure(figsize=(8,5))\n",
      "ax1 = fig.add_subplot(1, 1, 1)\n",
      "\n",
      "ax1.plot([1, 2, 3, 4], [1, 2, 3, 4],color=color1)\n",
      "ax1.set_xlabel('X')\n",
      "ax1.set_ylabel('First scale',color=color1)\n",
      "\n",
      "ax2 = ax1.twinx()\n",
      "ax2.scatter([1, 2, 3, 4], [60, 50, 40, 30],color=color2)\n",
      "ax2.set_ylabel('Other scale',color=color2)\n",
      "\n",
      "ax_inset=fig.add_axes([0.15,0.4,0.2,0.2])#[left, bottom, width,height] in fraction of figure units (not data)\n",
      "# It is that easy to create an inset !\n",
      "\n",
      "ax_inset.plot([1, 2, 3, 4], [60, 50, 40, 30])\n",
      "ax_inset.set_title('Easy inset plot !')\n",
      "\n",
      "plt.show()\n",
      "\n",
      "\n"
     ],
     "language": "python",
     "metadata": {},
     "outputs": [],
     "prompt_number": null
    },
    {
     "cell_type": "markdown",
     "metadata": {
      "collapsed": false
     },
     "source": [
      "About named colors. Here is the full list:"
     ]
    },
    {
     "cell_type": "code",
     "collapsed": false,
     "input": [
      "import matplotlib\n",
      "for name in matplotlib.colors.cnames.iteritems():\n",
      "    print name[0]"
     ],
     "language": "python",
     "metadata": {},
     "outputs": [],
     "prompt_number": null
    },
    {
     "cell_type": "markdown",
     "metadata": {},
     "source": [
      "##Why use one interface vs another?\n",
      "\n",
      "These two interfaces are convenient for different circumstances. I find that for doing quick, simple plots, the scripted interface is often easiest. On the other hand, when I want more sophisticated plots, the object-oriented interface is simpler and more powerful. \n",
      "\n",
      "\n"
     ]
    },
    {
     "cell_type": "markdown",
     "metadata": {},
     "source": [
      "\n",
      "Note that most command of ax.[command] also exist with plt.[command] \n",
      "Plotting functions are the same:\n",
      "\n",
      "plt.plot   =>   ax.plot\n",
      "\n",
      "\n",
      "but plot modifiers use set_[command]  (a bit confusing I admit ...)\n",
      "\n",
      "plt.xlabel  => ax.set_xlabel\n",
      "\n",
      "\n",
      "But don't worry use the Tab function in the notebook to get a list of possible functions."
     ]
    },
    {
     "cell_type": "code",
     "collapsed": false,
     "input": [
      "ax2.xl\n",
      "ax2.set_xla"
     ],
     "language": "python",
     "metadata": {},
     "outputs": [],
     "prompt_number": null
    },
    {
     "cell_type": "markdown",
     "metadata": {},
     "source": [
      "# pyplot modules has many other functions:\n",
      "Here are a few exemples:"
     ]
    },
    {
     "cell_type": "code",
     "collapsed": false,
     "input": [
      "xx=np.linspace(0,10,num=10)\n",
      "\n",
      "fig, ax = plt.subplots(1, 5, figsize=(12,4))\n",
      "\n",
      "ax[0].scatter(xx, xx*np.random.random(len(xx)))\n",
      "ax[0].set_title(\"scatter\")\n",
      "\n",
      "ax[1].errorbar(xx, xx, yerr=np.sqrt(xx), fmt='o' )\n",
      "ax[1].set_title(\"error bar\")\n",
      "\n",
      "ax[2].step(xx, xx**2, lw=2)\n",
      "ax[2].set_title(\"step\")\n",
      "\n",
      "ax[3].bar(xx, xx**2, align=\"center\", width=0.5, alpha=0.5)\n",
      "ax[3].set_title(\"bar\")\n",
      "\n",
      "ax[4].fill_between(xx, xx**2, xx**3, color=\"green\", alpha=0.5);\n",
      "ax[4].set_title(\"fill_between\");"
     ],
     "language": "python",
     "metadata": {},
     "outputs": [],
     "prompt_number": null
    },
    {
     "cell_type": "code",
     "collapsed": false,
     "input": [
      "N=500\n",
      "l=np.random.uniform(low=-180, high=180, size=N) \n",
      "b=np.random.uniform(low=-90, high=90, size=N)   \n",
      "\n",
      "fig = plt.figure(figsize=(8,6))\n",
      "#ax = fig.add_subplot(111)\n",
      "ax = fig.add_subplot(111   , projection=\"aitoff\") # projection='hammer', ''\n",
      "\n",
      "ax.scatter(np.radians(l), np.radians(b) ) # Angles need to be in radians.\n",
      "ax.set_ylabel('$b$',fontsize=20)     # Latex symbols can be used in plots !\n",
      "ax.grid(True)\n",
      "plt.show()\n",
      "\n"
     ],
     "language": "python",
     "metadata": {},
     "outputs": [],
     "prompt_number": null
    },
    {
     "cell_type": "markdown",
     "metadata": {},
     "source": [
      "# List of pyplot modules\n",
      "The pyplot module is where everything in matplotlib comes together. It is the launching point for:\n",
      "- (1) preparing your figures\n",
      "- (2) making plots\n",
      "- (3) doing any modifications and decorations you want. \n",
      "\n",
      "It all comes together here. Let us take a look at those three catagories of pyplot functions.\n",
      "\n",
      "## Plotting Preparation\n",
      "\n",
      "Function          | Description                                                                                \n",
      ":-----------------|:----------------------------------------------------------\n",
      "`autoscale`       | Autoscale the axis view to the data (toggle).\n",
      "`axes`            | Add an axes to the figure.                                                                 \n",
      "`axis`            | Convenience method to get or set axis properties.\n",
      "`cla`             | Clear the current axes.                                                                    \n",
      "`clf`             | Clear the current figure.                                                                  \n",
      "`clim`            | Set the color limits of the current image.                                                 \n",
      "`delaxes`         | Remove an axes from the current figure.                                                    \n",
      "`locator_params`  | Control behavior of tick locators.                                                         \n",
      "`margins`         | Set or retrieve autoscaling margins.\n",
      "`figure`          | Creates a new figure.\n",
      "`gca`             | Return the current axis instance.                                                          \n",
      "`gcf`             | Return a reference to the current figure.                                                  \n",
      "`gci`             | Get the current colorable artist.                                                          \n",
      "`hold`            | Set the hold state.                                                                        \n",
      "`ioff`            | Turn interactive mode off.                                                                 \n",
      "`ion`             | Turn interactive mode on.                                                                  \n",
      "`ishold`          | Return the hold status of the current axes.                                                \n",
      "`isinteractive`   | Return status of interactive mode.                                                         \n",
      "`rc`              | Set the current rc params.                                                                 \n",
      "`rc_context`      | Return a context manager for managing rc settings.                                         \n",
      "`rcdefaults`      | Restore the default rc params.                                                             \n",
      "`savefig`         | Save the current figure.                                                                   \n",
      "`sca`             | Set the current Axes instance.                                                     \n",
      "`sci`             | Set the current image.                                                                     \n",
      "`set_cmap`        | Set the default colormap\n",
      "`setp`            | Set a property on an artist object\n",
      "`show`            | Display a figure\n",
      "`subplot`         | Return a subplot axes positioned by the given grid definition.                             \n",
      "`subplot2grid`    | Create a subplot in a grid.                                                                \n",
      "`subplot_tool`    | Launch a subplot tool window for a figure.                                                 \n",
      "`subplots`        | Create a figure with a set of subplots already made.                                       \n",
      "`subplots_adjust` | Tune the subplot layout.                                                                   \n",
      "`switch_backend`  | Switch the default backend.                                                                \n",
      "`tick_params`     | Change the appearance of ticks and tick labels.                                            \n",
      "`ticklabel_format`| Change the ScalarFormatter used by default for linear axes.           \n",
      "`tight_layout`    | Automatically adjust subplot parameters to give specified padding.                         \n",
      "`xkcd`            | Turns on [XKCD](http://xkcd.com/) sketch-style drawing mode.                             \n",
      "`xlabel`          | Set the *x* axis label of the current axis.                                                \n",
      "`xlim`            | Get or set the *x* limits of the current axes.                                             \n",
      "`xscale`          | Set the scaling of the *x*-axis.                                                           \n",
      "`xticks`          | Get or set the *x*-limits of the current tick locations and labels.                        \n",
      "`ylabel`          | Set the *y* axis label of the current axis.                                                \n",
      "`ylim`            | Get or set the *y*-limits of the current axes.                                             \n",
      "`yscale`          | Set the scaling of the *y*-axis.                                                           \n",
      "`yticks`          | Get or set the *y*-limits of the current tick locations and labels.                        \n",
      "\n",
      "## Plotting Functions\n",
      "\n",
      "Function          | Description\n",
      ":-----------------|:--------------------------------------------\n",
      "`acorr`           | Plot the autocorrelation of *x*\n",
      "`bar`             | Make a bar plot\n",
      "`barbs`           | Plot a 2-D field of barbs\n",
      "`barh`            | Make a horizontal bar plot\n",
      "`boxplot`         | Make a box and whisker plot\n",
      "`broken_barh`     | Plot horizontal bars\n",
      "`cohere`          | Plot the coherence between *x* and *y*\n",
      "`contour`         | Plot contours\n",
      "`contourf`        | Plot filled contours\n",
      "`csd`             | Plot cross-spectral density\n",
      "`errorbar`        | Plot an errorbar graph\n",
      "`eventplot`       | Plot identical parallel lines at specific positions\n",
      "`fill`            | Plot filled polygons\n",
      "`fill_between`    | Make filled polygons between two curves\n",
      "`fill_betweenx`   | Make filled polygons between two horizontal curves\n",
      "`hexbin`          | Make a hexagonal binning plot\n",
      "`hist`            | Plot a histogram\n",
      "`hist2d`          | Make a 2D histogram plot\n",
      "`imshow`          | Display an image on the axes\n",
      "`loglog`          | Make a plot with log scaling on both the *x* and *y* axis\n",
      "`matshow`         | Display an array as a matrix in a new figure window\n",
      "`pcolor`          | Create a pseudocolor plot of a 2-D array\n",
      "`pcolormesh`      | Plot a quadrilateral mesh\n",
      "`pie`             | Plot a pie chart\n",
      "`plot`            | Plot lines and/or markers\n",
      "`plot_date`       | Plot with data with dates\n",
      "`polar`           | Make a polar plot\n",
      "`psd`             | Plot the power spectral density\n",
      "`quiver`          | Plot a 2-D field of arrows\n",
      "`scatter`         | Make a scatter plot of x vs y\n",
      "`semilogx`        | Make a plot with log scaling on the *x* axis \n",
      "`semilogy`        | Make a plot with log scaling on the *y* axis\n",
      "`specgram`        | Plot a spectrogram\n",
      "`spy`             | Plot the sparsity pattern on a 2-D array\n",
      "`stackplot`       | Draws a stacked area plot\n",
      "`stem`            | Create a stem plot\n",
      "`step`            | Make a step plot\n",
      "`streamplot`      | Draws streamlines of a vector flow\n",
      "`tricontour`      | Draw contours on an unstructured triangular grid\n",
      "`tricontourf`     | Draw filled contours on an unstructured triangular grid\n",
      "`tripcolor`       | Create a pseudocolor plot of an unstructured triangular grid\n",
      "`triplot`         | Draw a unstructured triangular grid as lines and/or markers\n",
      "`xcorr`           | Plot the cross-correlation between *x* and *y*\n",
      "\n",
      "## Plot modifiers\n",
      "\n",
      "Function          | Description                                                                                \n",
      ":-----------------|:---------------------------------------------------------------------\n",
      "`annotate`        | Create an annotation: a piece of text referring to a data point\n",
      "`arrow`           | Add an arrow to the axes\n",
      "`axhline`         | Add a horizontal line across the axis\n",
      "`axhspan`         | Add a horizontal span (rectangle) across the axis\n",
      "`axvline`         | Add a vertical line across the axes\n",
      "`axvspan`         | Add a vertical span (rectangle) across the axes\n",
      "`box`             | Turn the axes box on or off\n",
      "`clabel`          | Label a contour plot\n",
      "`colorbar`        | Add a colorbar to a plot\n",
      "`grid`            | Turn the axes grids on or off\n",
      "`hlines`          | Plot horizontal lines\n",
      "`legend`          | Place a legend on the current axes\n",
      "`minorticks_off`  | Remove minor ticks from the current plot\n",
      "`minorticks_on`   | Display minor ticks on the current plot\n",
      "`quiverkey`       | Add a key to a quiver plot\n",
      "`rgrids`          | Get or set the radial gridlines on a polar plot\n",
      "`suptitle`        | Add a centered title to the figure\n",
      "`table`           | Add a table to the current axes\n",
      "`text`            | Add text to the axes\n",
      "`title`           | Set a title of the current axes\n",
      "`vlines`          | Plot vertical lines\n",
      "`xlabel`          | Set the *x* axis label of the current axis\n",
      "`ylabel`          | Set the *y* axis label of the current axis"
     ]
    },
    {
     "cell_type": "code",
     "collapsed": false,
     "input": [
      "with plt.xkcd():  # plots in the style of xkcd comics\n",
      "    x = np.linspace(0, 10, 10)\n",
      "    fig = plt.figure(figsize=(8,4))\n",
      "    plt.bar(x, x**2)\n",
      "    plt.xlabel('Knowledge of Python')\n",
      "    plt.ylabel('Productivity')\n",
      "    plt.show()\n"
     ],
     "language": "python",
     "metadata": {},
     "outputs": [],
     "prompt_number": null
    },
    {
     "cell_type": "heading",
     "level": 2,
     "metadata": {},
     "source": [
      "Showing 2D images, contours, and colorbars :"
     ]
    },
    {
     "cell_type": "code",
     "collapsed": false,
     "input": [
      "import matplotlib.mlab as mlab\n",
      "\n",
      "delta = 0.1\n",
      "x = np.arange(-1.0, 1.0, delta)\n",
      "y = np.arange(-1.0, 1.0, delta)\n",
      "print 'x shape = ', x.shape\n",
      "X, Y = np.meshgrid(x, y)           # Python is case sensitive \n",
      "print 'X shape = ', X.shape\n",
      "Z = mlab.bivariate_normal(X, Y, sigmax=1.0, sigmay=1.0, mux=0.0, muy=0.0)\n",
      "print 'Z shape = ', Z.shape\n",
      "\n",
      "\n",
      "fig, ax = plt.subplots(1, 4, figsize=(14,4))\n",
      "\n",
      "ax[0].imshow(X)\n",
      "ax[0].set_title('X')\n",
      "ax[1].imshow(Y)\n",
      "ax[1].set_title('Y')\n",
      "ax[2].imshow(Z)\n",
      "ax[2].set_title('Z interp by default')\n",
      "ax[3].imshow(Z,interpolation='none',origin='lower')\n",
      "ax[3].set_title('Z no interp')\n",
      "ax[3].contour(Z)\n",
      "plt.show()\n",
      "\n",
      "\n",
      "fig, ax = plt.subplots(1, 1, figsize=(4,4))\n",
      "CS = ax.contour(Z)\n",
      "ax.clabel(CS, inline=1, fontsize=15,rotation='horizontal')\n",
      "ax.set_title('Only Z contours with inline label')\n",
      "plt.show()"
     ],
     "language": "python",
     "metadata": {},
     "outputs": [],
     "prompt_number": null
    },
    {
     "cell_type": "code",
     "collapsed": false,
     "input": [
      "fig=plt.figure()\n",
      "plt.imshow(Z,interpolation='none',origin='lower',vmin=0,vmax=0.2,cmap='hot')\n",
      "plt.colorbar()  # Using the imshow image object to draw the colorbar \n",
      "plt.show()"
     ],
     "language": "python",
     "metadata": {},
     "outputs": [],
     "prompt_number": null
    },
    {
     "cell_type": "markdown",
     "metadata": {},
     "source": [
      "Lots of included colormaps that you can call by their name (not some random number like in IDL =>  \"loadct, 5\" :-) \n",
      "\n",
      "![image](files/cmap-list.png)"
     ]
    },
    {
     "cell_type": "markdown",
     "metadata": {},
     "source": [
      "#Super easy interactive plots !!\n",
      "\n",
      "Plots are updated on the fly. "
     ]
    },
    {
     "cell_type": "code",
     "collapsed": false,
     "input": [
      "from IPython.html.widgets import interact\n",
      "\n",
      "def complex_plot(funct='np.sin(x)', \n",
      "                 title='This is so sweet !',\n",
      "                 color='blue',\n",
      "                 dashed=False,\n",
      "                 points=False,\n",
      "                 myscale=5.):\n",
      "    \n",
      "    x = np.linspace(-myscale, +myscale, 100)\n",
      "    fx = eval(funct) # get the function of given name in np namespace\n",
      "    s = '--' if dashed else '-'   \n",
      "    plt.plot(x, fx, s,color=color)\n",
      "    if points: plt.plot(x,fx,'o',color=color)\n",
      "    plt.xlim(-myscale, +myscale)\n",
      "    plt.title(title)\n",
      "    \n",
      "interact(complex_plot)\n",
      "#interact( complex_plot, funct=('np.sin(x)', 'np.cos(x)', 'np.tan(x)','x**2' ) )"
     ],
     "language": "python",
     "metadata": {},
     "outputs": [],
     "prompt_number": null
    },
    {
     "cell_type": "markdown",
     "metadata": {},
     "source": [
      "#Matplotib Gallery is a great source of example for your plots\n",
      "If you want to make a plot, the code is probably already available here. So copy/load it and adapt it to your data !\n",
      "\n",
      "\n"
     ]
    },
    {
     "cell_type": "code",
     "collapsed": false,
     "input": [
      "from IPython.display import HTML\n",
      "HTML('<iframe src=http://matplotlib.org/gallery.html width=600 height=350></iframe>')"
     ],
     "language": "python",
     "metadata": {},
     "outputs": [],
     "prompt_number": null
    },
    {
     "cell_type": "markdown",
     "metadata": {},
     "source": [
      "#Loading Matplotlib demos with %load\n",
      "IPython's %load magic can be used to load any Matplotlib demo by its URL:"
     ]
    },
    {
     "cell_type": "code",
     "collapsed": false,
     "input": [
      "#Try this to change the plotting style:\n",
      "#import pandas as pd\n",
      "#pd.set_option('display.mpl_style', 'default')"
     ],
     "language": "python",
     "metadata": {},
     "outputs": [],
     "prompt_number": null
    },
    {
     "cell_type": "code",
     "collapsed": false,
     "input": [
      "%load http://matplotlib.org/mpl_examples/pylab_examples/scatter_hist.py"
     ],
     "language": "python",
     "metadata": {},
     "outputs": [],
     "prompt_number": null
    },
    {
     "cell_type": "markdown",
     "metadata": {
      "collapsed": true
     },
     "source": [
      "##Advanced examples. Creating animations:\n",
      "\n",
      "Go to your console. Look for the Bootcamp 'files' directory and run the following command:\n",
      "```bash\n",
      "ipython -i  --matplotlib=qt particle_box.py  \n",
      "```\n",
      "Or simply run the command below from the notebook:"
     ]
    },
    {
     "cell_type": "code",
     "collapsed": true,
     "input": [
      "!ipython -i  --matplotlib=qt files/particle_box.py "
     ],
     "language": "python",
     "metadata": {},
     "outputs": [],
     "prompt_number": null
    },
    {
     "cell_type": "code",
     "collapsed": true,
     "input": [],
     "language": "python",
     "metadata": {},
     "outputs": [],
     "prompt_number": null
    },
    {
     "cell_type": "heading",
     "level": 1,
     "metadata": {},
     "source": [
      "Exercise 1:"
     ]
    },
    {
     "cell_type": "markdown",
     "metadata": {
      "collapsed": false
     },
     "source": [
      "Try repoducing the plot below that show the evolution of gas price in France (source INSEE), the fraction of tax and the ratio of sp95/gazole taxation.\n",
      "\n",
      "\n",
      "<img src=\"files/Exercise-1-gaz-price.png\" width=650>\n",
      "\n"
     ]
    },
    {
     "cell_type": "code",
     "collapsed": false,
     "input": [
      "#Import your lib here\n",
      "#Tip for reading dates import this:\n",
      "import matplotlib.dates as mdates\n",
      "\n",
      "\n",
      "# to load a file with a date column\n",
      "date, gazht, spht, gaz, sp = np.loadtxt('files/essence.txt', delimiter=' ', \n",
      "                                        usecols=(0,1,2,5,6), unpack=True, \n",
      "                                        converters={0: mdates.strpdate2num('%d/%m/%Y')})\n",
      "\n",
      "\n",
      "#Tip: to show date on X-axis with only the year\n",
      "#ax.xaxis.set_major_formatter(mdates.DateFormatter('%Y'))\n",
      "\n",
      "\n",
      "# --------------\n",
      "# Your job is now to code the part below:\n",
      "\n",
      "#My cool plotting code\n",
      "# ...\n",
      "\n",
      "\n",
      "# END\n",
      "\n"
     ],
     "language": "python",
     "metadata": {},
     "outputs": [],
     "prompt_number": null
    },
    {
     "cell_type": "markdown",
     "metadata": {
      "collapsed": false
     },
     "source": [
      "#Exercise 2:\n",
      "\n"
     ]
    },
    {
     "cell_type": "markdown",
     "metadata": {
      "collapsed": false
     },
     "source": [
      "Try to code an interactive plot to explore a few of the gamma-ray source properties from the 3FGL\n",
      "where different category of source are represented by different colors.\n",
      "Don't need to set a list of colors, just do a loop of plt.plot and a different color will be chosen each time.\n",
      "\n",
      "Something that will look like this:\n",
      "<img src=\"files/3FGL-var-curv.png\" width=500>\n",
      "\n"
     ]
    },
    {
     "cell_type": "markdown",
     "metadata": {},
     "source": [
      "## Exercise 2:\n",
      "\n",
      "Fill in the skeleton code below:"
     ]
    },
    {
     "cell_type": "code",
     "collapsed": false,
     "input": [
      "# Load the interactive iPython widget here\n",
      "# import the libs here\n",
      "\n",
      "# Loading the variable from the 3FGL catalog (here an ASCII file).\n",
      "# This should normally be done on the fits file with astropy fits reading function. But that's for tomorrow ;-)\n",
      "\n",
      "\n",
      "name, srctype     =    np.loadtxt('files/3FGL-type-GLON-GLAT.txt', unpack=True,\n",
      "                               usecols=[0,1], dtype='string')\n",
      "\n",
      "GLON, GLAT, Signif_avg, Varindex, Signif_curv, Eflux = np.loadtxt('files/3FGL-type-GLON-GLAT.txt',\n",
      "                                                                  unpack=True, usecols=[2,3,4,5,6,7])\n",
      "\n",
      "\n",
      "#create a dictionary containing the variables that you may want to plot\n",
      "data_dict={}\n",
      "\n",
      "\n",
      "# the input of this function should be one of the key names in the dictionary\n",
      "def myplot( xkey='enter_var1', ykey='enter_var2' ): \n",
      "\n",
      "#   Your job is to fill in this function\n",
      "#   ...\n",
      "\n",
      "#   Little tip. Plot the sources category by category\n",
      "#   To do this get a unique list of existing source type and loop on it.\n",
      "#   The np.where function will be handy\n",
      "\n",
      "    srctype_list=np.unique(srctype)  # get a list of unique source type\n",
      "    \n",
      "    # By the way log axis are done that way:\n",
      "    ax.set_xscale('log')\n",
      " \n",
      "    plt.show()    \n",
      "#   END    \n",
      "\n",
      "\n",
      "# Create your interactive plot here:\n",
      "# ...\n",
      "\n",
      "# You can also easily create an interactive DropDown menu by specifying to interact the items of the dropdown menu\n",
      "# like this: xkey=('GLON', 'GLAT','Varindex', 'Signif_curv', 'Eflux')\n",
      "\n"
     ],
     "language": "python",
     "metadata": {},
     "outputs": [],
     "prompt_number": null
    },
    {
     "cell_type": "code",
     "collapsed": true,
     "input": [],
     "language": "python",
     "metadata": {},
     "outputs": [],
     "prompt_number": null
    }
   ],
   "metadata": {}
  }
 ]
}