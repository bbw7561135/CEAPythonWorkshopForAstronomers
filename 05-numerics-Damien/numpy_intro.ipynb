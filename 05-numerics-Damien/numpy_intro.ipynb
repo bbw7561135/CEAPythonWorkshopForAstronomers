{
 "cells": [
  {
   "cell_type": "markdown",
   "metadata": {
    "slideshow": {
     "slide_type": "-"
    }
   },
   "source": [
    "# An Introduction to numerical computing with Python\n",
    "\n",
    "Python is an excellent tool for general-purpose programming with rich and powerful data types :\n",
    "* strings,\n",
    "* lists,\n",
    "* sets,\n",
    "* dictionaries,\n",
    "* ...\n",
    "\n",
    "It is however poorly suited for :\n",
    "* efficient representation of multidimensional datasets,\n",
    "* efficient mathematical and scientific computing,\n",
    "* data visualization.\n",
    "\n",
    "In particular, Python lists are very flexible containers that can be nested arbitrarily deep and which can hold any Python object in them, but they are poorly suited to represent efficiently common mathematical constructs like vectors and matrices."
   ]
  },
  {
   "cell_type": "markdown",
   "metadata": {},
   "source": [
    "**Basic needs** :\n",
    "\n",
    "* Fortran-like efficient mathematical functions that can efficiently operate on entire arrays at once,\n",
    "* Powerful data structure : multi-dimensional arrays,\n",
    "* Friendly syntax for data selection/manipulation/visualisation.\n",
    "\n",
    "Two major libraries answer these particular needs :\n",
    "* **Numpy**,\n",
    "* **Pandas**"
   ]
  },
  {
   "cell_type": "markdown",
   "metadata": {},
   "source": [
    "## Panda : Python tools for data analysis ##\n",
    "\n",
    "### Key points ###\n",
    "\n",
    "* emphasis on tabular data (csv, Excel, HDF5, etc.)\n",
    "* database/spreadsheet-like functionalities\n",
    "* rich support for mixed data (numpy is for **homogeneous** arrays of fixed size-items)\n",
    "* integrates cleanly with numpy and matplotlib\n",
    "\n",
    "### References ###\n",
    "+ Nice [free Pandas tutorials](https://bitbucket.org/hrojas/learn-pandas)\n",
    "+ Official [\"10 Minutes to Pandas\"](http://pandas.pydata.org/pandas-docs/stable/10min.html) guide"
   ]
  },
  {
   "cell_type": "markdown",
   "metadata": {},
   "source": [
    "## Numpy basics ##\n",
    "\n",
    "Heavily used in <a href=\"http://www.astroml.org/index.html\" target=\"_blank\">\n",
    "<img src=\"./files/images/astroml.gif\"></a> (Python module for statistics, data mining, and machine learning in Astronomy)\n",
    "\n",
    "You can import [Numpy](http://docs.scipy.org/doc/numpy/) like this :"
   ]
  },
  {
   "cell_type": "code",
   "execution_count": 1,
   "metadata": {
    "collapsed": false
   },
   "outputs": [],
   "source": [
    "import numpy as N"
   ]
  },
  {
   "cell_type": "markdown",
   "metadata": {},
   "source": [
    "Numpy provides the multi-dimensional array class [ndarray](http://docs.scipy.org/doc/numpy/reference/generated/numpy.ndarray.html \"Numpy ndarray documentation\") :"
   ]
  },
  {
   "cell_type": "markdown",
   "metadata": {},
   "source": [
    "<center>\n",
    "<img src=\"./files/images/dtype.png\" width=60%>\n",
    "</center>"
   ]
  },
  {
   "cell_type": "markdown",
   "metadata": {},
   "source": [
    "### The _dtype_ attribute ###\n",
    "A *ndarray* object has a **dtype** attribute that describes the type of every item contained in the array structure :"
   ]
  },
  {
   "cell_type": "code",
   "execution_count": 2,
   "metadata": {
    "collapsed": false
   },
   "outputs": [
    {
     "name": "stdout",
     "output_type": "stream",
     "text": [
      "[ 1.3   5.2   3.14]\n",
      "ndarray object type :  <type 'numpy.ndarray'>\n",
      "array item type :  float64\n"
     ]
    }
   ],
   "source": [
    "a = N.array([1.3, 5.2, 3.14])\n",
    "print a\n",
    "print \"ndarray object type : \", type(a)\n",
    "print \"array item type : \", a.dtype"
   ]
  },
  {
   "cell_type": "markdown",
   "metadata": {},
   "source": [
    "The data type is set once and for all upon array creation.\n",
    "\n",
    "__Warning__ : if you want to set a float value into an integer array, the value will be automatically converted into an integer !"
   ]
  },
  {
   "cell_type": "code",
   "execution_count": 3,
   "metadata": {
    "collapsed": false
   },
   "outputs": [
    {
     "name": "stdout",
     "output_type": "stream",
     "text": [
      "[14  2 98]\n"
     ]
    }
   ],
   "source": [
    "i = N.array([14, 2, 98], dtype=int)\n",
    "print i"
   ]
  },
  {
   "cell_type": "code",
   "execution_count": 4,
   "metadata": {
    "collapsed": false
   },
   "outputs": [
    {
     "name": "stdout",
     "output_type": "stream",
     "text": [
      "[14 78 98]\n"
     ]
    }
   ],
   "source": [
    "i[1] = 78.836\n",
    "print i"
   ]
  },
  {
   "cell_type": "markdown",
   "metadata": {},
   "source": [
    "### The _ndim_, _shape_ and _size_ attributes ###\n",
    "\n",
    "Among many others, a _ndarray_ object has three other frequently used attributes :\n",
    "* [ndim](http://docs.scipy.org/doc/numpy/reference/generated/numpy.ndarray.ndim.html#numpy.ndarray.ndim) : the dimension number\n",
    "* [shape](http://docs.scipy.org/doc/numpy/reference/generated/numpy.ndarray.shape.html#numpy.ndarray.shape) : the size of the array along each dimension\n",
    "* [size](http://docs.scipy.org/doc/numpy/reference/generated/numpy.ndarray.size.html#numpy.ndarray.size) : the total number of elements of the _ndarray_"
   ]
  },
  {
   "cell_type": "code",
   "execution_count": 5,
   "metadata": {
    "collapsed": false
   },
   "outputs": [
    {
     "name": "stdout",
     "output_type": "stream",
     "text": [
      "[[ 1  2  3  4  5]\n",
      " [21 22 23 24 25]]\n",
      "Dims :  2\n",
      "Shape :  (2, 5)\n",
      "number of elements :  10\n"
     ]
    }
   ],
   "source": [
    "a = N.array([[1,2,3,4,5],[21,22,23,24,25]], dtype=int)\n",
    "print a\n",
    "print \"Dims : \", a.ndim\n",
    "print \"Shape : \", a.shape\n",
    "print \"number of elements : \", a.size"
   ]
  },
  {
   "cell_type": "markdown",
   "metadata": {},
   "source": [
    "## What is the difference between a list and a ndarray ? ##\n",
    "\n",
    "ndarray objects are __homogeneous__, all elements of a ndarray must be of the same type.\n",
    "In contrast, lists can contain elements of arbitrary type. For example :"
   ]
  },
  {
   "cell_type": "code",
   "execution_count": 6,
   "metadata": {
    "collapsed": false
   },
   "outputs": [
    {
     "data": {
      "text/plain": [
       "[1, 56, 47, 4.125, 'Hello world !']"
      ]
     },
     "execution_count": 6,
     "metadata": {},
     "output_type": "execute_result"
    }
   ],
   "source": [
    "l = [1, 56, 47, 4.125, \"Hello world !\"] # Heterogeneous items in a list !\n",
    "l"
   ]
  },
  {
   "cell_type": "markdown",
   "metadata": {},
   "source": [
    "### Element indexing ###\n",
    "\n",
    "Elements of a one-dimensional ndarray are accessed with the same syntax as a list:"
   ]
  },
  {
   "cell_type": "code",
   "execution_count": 7,
   "metadata": {
    "collapsed": false
   },
   "outputs": [
    {
     "data": {
      "text/plain": [
       "20"
      ]
     },
     "execution_count": 7,
     "metadata": {},
     "output_type": "execute_result"
    }
   ],
   "source": [
    "iarray = N.array([20, 21, 22, 23, 24, 25, 26, 27, 28, 29], dtype=int)\n",
    "iarray[0] # first element"
   ]
  },
  {
   "cell_type": "code",
   "execution_count": 8,
   "metadata": {
    "collapsed": false
   },
   "outputs": [
    {
     "data": {
      "text/plain": [
       "29"
      ]
     },
     "execution_count": 8,
     "metadata": {},
     "output_type": "execute_result"
    }
   ],
   "source": [
    "iarray[-1] # Last element"
   ]
  },
  {
   "cell_type": "code",
   "execution_count": 9,
   "metadata": {
    "collapsed": false
   },
   "outputs": [
    {
     "data": {
      "text/plain": [
       "array([22, 24, 26, 28])"
      ]
     },
     "execution_count": 9,
     "metadata": {},
     "output_type": "execute_result"
    }
   ],
   "source": [
    "iarray[2:9:2] # Every other element from index 2 to 8."
   ]
  },
  {
   "cell_type": "code",
   "execution_count": 10,
   "metadata": {
    "collapsed": false
   },
   "outputs": [
    {
     "data": {
      "text/plain": [
       "array([29, 28, 27, 26, 25, 24, 23, 22, 21, 20])"
      ]
     },
     "execution_count": 10,
     "metadata": {},
     "output_type": "execute_result"
    }
   ],
   "source": [
    "iarray[::-1] # Reversed array"
   ]
  },
  {
   "cell_type": "code",
   "execution_count": 11,
   "metadata": {
    "collapsed": false
   },
   "outputs": [
    {
     "name": "stdout",
     "output_type": "stream",
     "text": [
      "[[10 11]\n",
      " [20 21]\n",
      " [30 31]\n",
      " [40 41]]\n"
     ]
    }
   ],
   "source": [
    "iarray2 = N.array([[10,11],[20,21],[30,31],[40,41]]) # 2D array\n",
    "print iarray2"
   ]
  },
  {
   "cell_type": "markdown",
   "metadata": {},
   "source": [
    "#### Masking : array indexing with another array ####\n",
    "\n",
    "You can filter an array using another _boolean_ array as a mask :"
   ]
  },
  {
   "cell_type": "code",
   "execution_count": 12,
   "metadata": {
    "collapsed": false
   },
   "outputs": [
    {
     "name": "stdout",
     "output_type": "stream",
     "text": [
      "[ True False False  True False False False  True]\n",
      "[-1.2  -4.5  -4.25]\n",
      "[  0.5   5.8   9.1  12.7   0. ]\n"
     ]
    }
   ],
   "source": [
    "r = N.array([-1.2, 0.5, 5.8, -4.5, 9.1, 12.7, 0.0, -4.25])\n",
    "mask = (r<0.0)\n",
    "print mask\n",
    "print r[mask] # Negative values\n",
    "print r[~mask] # Positive or null values ('~' is the 'not' unary operator)"
   ]
  },
  {
   "cell_type": "code",
   "execution_count": 13,
   "metadata": {
    "collapsed": false
   },
   "outputs": [
    {
     "data": {
      "text/plain": [
       "array([-1.2,  0.5,  0. ])"
      ]
     },
     "execution_count": 13,
     "metadata": {},
     "output_type": "execute_result"
    }
   ],
   "source": [
    "r[(r>-2.0)&(r<2.0)] # Inline mask with boolean operation"
   ]
  },
  {
   "cell_type": "markdown",
   "metadata": {},
   "source": [
    "Useful masking functions : [isnan](http://docs.scipy.org/doc/numpy/reference/generated/numpy.isnan.html), [isinf](http://docs.scipy.org/doc/numpy/reference/generated/numpy.isinf.html), [isposinf](http://docs.scipy.org/doc/numpy/reference/generated/numpy.isposinf.html), [isneginf](http://docs.scipy.org/doc/numpy/reference/generated/numpy.isneginf.html).\n",
    "\n",
    "##### Fancy indexing : indexing with tuples #####\n",
    "\n",
    "You can use tuples of indices, as returned by the [where(condition)](http://docs.scipy.org/doc/numpy/reference/generated/numpy.where.html) function to filter an array (similar to IDL) :"
   ]
  },
  {
   "cell_type": "code",
   "execution_count": 14,
   "metadata": {
    "collapsed": false
   },
   "outputs": [
    {
     "name": "stdout",
     "output_type": "stream",
     "text": [
      "[[ -1.2    0.5 ]\n",
      " [  5.8   -4.5 ]\n",
      " [  9.1   12.7 ]\n",
      " [  0.    -4.25]]\n",
      "total number :  3\n",
      "(i,j) indexes list :  [(0, 0), (1, 1), (3, 1)]\n",
      "negative values :  [-1.2  -4.5  -4.25]\n"
     ]
    }
   ],
   "source": [
    "r2 = r.reshape((4,2))\n",
    "print r2\n",
    "i_ind, j_ind = N.where((r2<0.0))\n",
    "print \"total number : \", i_ind.size\n",
    "print \"(i,j) indexes list : \", zip(i_ind, j_ind)\n",
    "print \"negative values : \", r2[i_ind, j_ind]"
   ]
  },
  {
   "cell_type": "code",
   "execution_count": 15,
   "metadata": {
    "collapsed": false
   },
   "outputs": [
    {
     "data": {
      "text/plain": [
       "array([[  0.5,   0.5],\n",
       "       [  5.8,   0.5],\n",
       "       [  9.1,  12.7],\n",
       "       [  0.5,   0.5]])"
      ]
     },
     "execution_count": 15,
     "metadata": {},
     "output_type": "execute_result"
    }
   ],
   "source": [
    "N.where(r2 > 1.0, r2, 0.5) # returns r2[i,j] if condition is true, otherwise returns 0.5"
   ]
  },
  {
   "cell_type": "markdown",
   "metadata": {},
   "source": [
    "##### Reordering #####\n",
    "\n",
    "Reordering an array can be done using the [argsort(array)](http://docs.scipy.org/doc/numpy/reference/generated/numpy.argsort.html) function :"
   ]
  },
  {
   "cell_type": "code",
   "execution_count": 16,
   "metadata": {
    "collapsed": false
   },
   "outputs": [
    {
     "name": "stdout",
     "output_type": "stream",
     "text": [
      "(9,) (9,)\n",
      "[2 8 3 7 0 4 1 5 6]\n"
     ]
    }
   ],
   "source": [
    "X = N.array([0.5, 3.5, -21.2, -2.6, 0.9, 4.8, 6.55, 0.1, -5.8])\n",
    "ind = N.argsort(X) # Indices of X that, when applied on X, reorder X in ascending order.\n",
    "print X.shape, ind.shape\n",
    "print ind"
   ]
  },
  {
   "cell_type": "code",
   "execution_count": 17,
   "metadata": {
    "collapsed": false
   },
   "outputs": [
    {
     "name": "stdout",
     "output_type": "stream",
     "text": [
      "[-21.2   -5.8   -2.6    0.1    0.5    0.9    3.5    4.8    6.55]\n"
     ]
    }
   ],
   "source": [
    "print X[ind] # Reordered X array"
   ]
  },
  {
   "cell_type": "markdown",
   "metadata": {},
   "source": [
    "See also : [argmin](http://docs.scipy.org/doc/numpy/reference/generated/numpy.argmin.html), [argmax](http://docs.scipy.org/doc/numpy/reference/generated/numpy.argmax.html), [searchsorted](http://docs.scipy.org/doc/numpy/reference/generated/numpy.searchsorted.html), [sort](http://docs.scipy.org/doc/numpy/reference/generated/numpy.sort.html)"
   ]
  },
  {
   "cell_type": "markdown",
   "metadata": {},
   "source": [
    "### Slicing ###\n",
    "\n",
    "X[first:last:step] returns :\n",
    "\n",
    "- a *copy* of X if X is a **list**,\n",
    "- a *reference* over X if X is a **ndarray** object (a view, not a copy => no memory duplication)."
   ]
  },
  {
   "cell_type": "code",
   "execution_count": 18,
   "metadata": {
    "collapsed": false
   },
   "outputs": [
    {
     "data": {
      "text/plain": [
       "array([20, 21])"
      ]
     },
     "execution_count": 18,
     "metadata": {},
     "output_type": "execute_result"
    }
   ],
   "source": [
    "iarray2 = N.array([[10,11],[20,21],[30,31],[40,41]]) # 2D array\n",
    "iarray2[1,:] # Second row reference"
   ]
  },
  {
   "cell_type": "code",
   "execution_count": 19,
   "metadata": {
    "collapsed": false
   },
   "outputs": [
    {
     "name": "stdout",
     "output_type": "stream",
     "text": [
      "[[10 -1]\n",
      " [20 -1]\n",
      " [30 -1]\n",
      " [40 -1]]\n"
     ]
    }
   ],
   "source": [
    "iarray2[:,1]=-1 # Set second colum elements to -1\n",
    "print iarray2"
   ]
  },
  {
   "cell_type": "markdown",
   "metadata": {},
   "source": [
    "**See also** :\n",
    "- [Official Numpy indexing and slicing guide](http://docs.scipy.org/doc/numpy/reference/arrays.indexing.html)"
   ]
  },
  {
   "cell_type": "markdown",
   "metadata": {},
   "source": [
    "## Reshaping ndarray objects ##\n",
    "\n",
    "Note that, as long as the number of items remains unchanged, the shape of the array can be modified (without memory duplication) using the [reshape](http://docs.scipy.org/doc/numpy/reference/generated/numpy.reshape.html) function. The reshaping process only provides a different view of the same data:"
   ]
  },
  {
   "cell_type": "code",
   "execution_count": 20,
   "metadata": {
    "collapsed": false
   },
   "outputs": [
    {
     "name": "stdout",
     "output_type": "stream",
     "text": [
      "[0 1 2 3 4 5 6 7 8 9]\n",
      "Reshaping...\n",
      "[[  0   1   2 100   4]\n",
      " [  5   6   7   8   9]]\n"
     ]
    }
   ],
   "source": [
    "A = N.arange(10)\n",
    "print A\n",
    "print \"Reshaping...\"\n",
    "Ar = A.reshape((2,5))\n",
    "A[3] = 100 # Modification of A => Ar is also modified\n",
    "print Ar"
   ]
  },
  {
   "cell_type": "markdown",
   "metadata": {},
   "source": [
    "\n"
   ]
  },
  {
   "cell_type": "markdown",
   "metadata": {},
   "source": [
    "## Ufuncs ##\n",
    "\n",
    "In Numpy, a **ufunc** is a *Universal Function*. This is a very efficient _compiled_ (compiled in C) function which operates **element-wise** on an array. \n",
    "\n",
    "### Avoid loops at all cost !!! ###\n",
    "\n",
    "Let's try to substract 2 (1000,1000) arrays :"
   ]
  },
  {
   "cell_type": "code",
   "execution_count": 21,
   "metadata": {
    "collapsed": false
   },
   "outputs": [],
   "source": [
    "def substract(a,b):\n",
    "    return a - b\n",
    "\n",
    "def substract_loop(a,b):\n",
    "    x = N.empty(a.shape)\n",
    "    for i in range(a.shape[0]):\n",
    "        for j in range(a.shape[1]):\n",
    "            x[i,j] = a[i,j] - b[i,j]\n",
    "    return x"
   ]
  },
  {
   "cell_type": "code",
   "execution_count": 22,
   "metadata": {
    "collapsed": false
   },
   "outputs": [],
   "source": [
    "a = N.random.random((1000,1000))\n",
    "\n",
    "b = N.random.random((1000,1000))"
   ]
  },
  {
   "cell_type": "code",
   "execution_count": 23,
   "metadata": {
    "collapsed": false
   },
   "outputs": [
    {
     "name": "stdout",
     "output_type": "stream",
     "text": [
      "100 loops, best of 3: 2.22 ms per loop\n"
     ]
    }
   ],
   "source": [
    "timeit substract(a,b)"
   ]
  },
  {
   "cell_type": "code",
   "execution_count": 24,
   "metadata": {
    "collapsed": false
   },
   "outputs": [
    {
     "name": "stdout",
     "output_type": "stream",
     "text": [
      "1 loops, best of 3: 465 ms per loop\n"
     ]
    }
   ],
   "source": [
    "timeit substract_loop(a,b)"
   ]
  },
  {
   "cell_type": "markdown",
   "metadata": {},
   "source": [
    "Ufunc 100+ times faster than loops !"
   ]
  },
  {
   "cell_type": "markdown",
   "metadata": {},
   "source": [
    "### Arithmetic operations ###"
   ]
  },
  {
   "cell_type": "code",
   "execution_count": 25,
   "metadata": {
    "collapsed": false
   },
   "outputs": [
    {
     "name": "stdout",
     "output_type": "stream",
     "text": [
      "x : [ 0.  1.  2.  3.  4.]\n",
      "y:  [ 10.  20.  30.  40.  50.]\n",
      "[ 10.  21.  32.  43.  54.]\n"
     ]
    }
   ],
   "source": [
    "x = N.arange(5, dtype=float)\n",
    "print \"x :\", x\n",
    "y = N.arange(10,60,10, dtype=float)\n",
    "print \"y: \", y\n",
    "print x+y"
   ]
  },
  {
   "cell_type": "code",
   "execution_count": 26,
   "metadata": {
    "collapsed": false
   },
   "outputs": [
    {
     "data": {
      "text/plain": [
       "array([ 10.,  19.,  28.,  37.,  46.])"
      ]
     },
     "execution_count": 26,
     "metadata": {},
     "output_type": "execute_result"
    }
   ],
   "source": [
    "y-x"
   ]
  },
  {
   "cell_type": "code",
   "execution_count": 27,
   "metadata": {
    "collapsed": false
   },
   "outputs": [
    {
     "data": {
      "text/plain": [
       "array([  0.,   1.,   4.,   9.,  16.])"
      ]
     },
     "execution_count": 27,
     "metadata": {},
     "output_type": "execute_result"
    }
   ],
   "source": [
    "x**2"
   ]
  },
  {
   "cell_type": "code",
   "execution_count": 28,
   "metadata": {
    "collapsed": false
   },
   "outputs": [
    {
     "data": {
      "text/plain": [
       "array([ 0.        ,  0.05      ,  0.06666667,  0.075     ,  0.08      ])"
      ]
     },
     "execution_count": 28,
     "metadata": {},
     "output_type": "execute_result"
    }
   ],
   "source": [
    "x/y"
   ]
  },
  {
   "cell_type": "markdown",
   "metadata": {},
   "source": [
    "### In-place array operations ###"
   ]
  },
  {
   "cell_type": "code",
   "execution_count": 29,
   "metadata": {
    "collapsed": false
   },
   "outputs": [
    {
     "name": "stdout",
     "output_type": "stream",
     "text": [
      "[  7.  17.  27.  37.  47.]\n"
     ]
    }
   ],
   "source": [
    "y -= 3.0\n",
    "print y"
   ]
  },
  {
   "cell_type": "code",
   "execution_count": 30,
   "metadata": {
    "collapsed": false
   },
   "outputs": [
    {
     "name": "stdout",
     "output_type": "stream",
     "text": [
      "[ 14.  34.  54.  74.  94.]\n"
     ]
    }
   ],
   "source": [
    "y *= 2\n",
    "print y"
   ]
  },
  {
   "cell_type": "markdown",
   "metadata": {},
   "source": [
    "### Math functions ###"
   ]
  },
  {
   "cell_type": "code",
   "execution_count": 31,
   "metadata": {
    "collapsed": false
   },
   "outputs": [
    {
     "data": {
      "text/plain": [
       "array([ 0.        ,  0.84147098,  0.90929743,  0.14112001, -0.7568025 ])"
      ]
     },
     "execution_count": 31,
     "metadata": {},
     "output_type": "execute_result"
    }
   ],
   "source": [
    "N.sin(x)"
   ]
  },
  {
   "cell_type": "code",
   "execution_count": 32,
   "metadata": {
    "collapsed": false
   },
   "outputs": [
    {
     "data": {
      "text/plain": [
       "array([  1.        ,   2.71828183,   7.3890561 ,  20.08553692,  54.59815003])"
      ]
     },
     "execution_count": 32,
     "metadata": {},
     "output_type": "execute_result"
    }
   ],
   "source": [
    "N.exp(x)"
   ]
  },
  {
   "cell_type": "code",
   "execution_count": 33,
   "metadata": {
    "collapsed": false
   },
   "outputs": [
    {
     "data": {
      "text/plain": [
       "array([ 0.        ,  1.        ,  1.41421356,  1.73205081,  2.        ])"
      ]
     },
     "execution_count": 33,
     "metadata": {},
     "output_type": "execute_result"
    }
   ],
   "source": [
    "N.sqrt(x)"
   ]
  },
  {
   "cell_type": "markdown",
   "metadata": {},
   "source": [
    "### User defined ufunc ###\n",
    "\n",
    "See the detailed instructions on [how to write a user-defined ufunc](http://scipy-lectures.github.io/advanced/advanced_numpy/#universal-functions)."
   ]
  },
  {
   "cell_type": "markdown",
   "metadata": {},
   "source": [
    "## Creating arrays ##\n",
    "\n",
    "### Constant values ###\n",
    "\n",
    "The [ones(shape, dtype)](http://docs.scipy.org/doc/numpy/reference/generated/numpy.ones.html) and [zeros(shape, dtype)](http://docs.scipy.org/doc/numpy/reference/generated/numpy.zeros.html) methods return array objects of the requested shape and type (filled with 0 or 1) :"
   ]
  },
  {
   "cell_type": "code",
   "execution_count": 34,
   "metadata": {
    "collapsed": false
   },
   "outputs": [
    {
     "name": "stdout",
     "output_type": "stream",
     "text": [
      "[[ 1.  1.  1.]\n",
      " [ 1.  1.  1.]\n",
      " [ 1.  1.  1.]\n",
      " [ 1.  1.  1.]\n",
      " [ 1.  1.  1.]]\n"
     ]
    }
   ],
   "source": [
    "b = N.ones((5,3), dtype=float)\n",
    "print b"
   ]
  },
  {
   "cell_type": "code",
   "execution_count": 35,
   "metadata": {
    "collapsed": false
   },
   "outputs": [
    {
     "name": "stdout",
     "output_type": "stream",
     "text": [
      "[[ 0.+0.j  0.+0.j]\n",
      " [ 0.+0.j  0.+0.j]\n",
      " [ 0.+0.j  0.+0.j]]\n"
     ]
    }
   ],
   "source": [
    "c = N.zeros((3,2), dtype=complex)\n",
    "print c"
   ]
  },
  {
   "cell_type": "markdown",
   "metadata": {},
   "source": [
    "### Linearly (and log-) spaced values ###\n",
    "[arange(first, last, step, type)](http://docs.scipy.org/doc/numpy/reference/generated/numpy.arange.html) works like the built-in range methods (but returns a ndarray object instead of a list)."
   ]
  },
  {
   "cell_type": "code",
   "execution_count": 36,
   "metadata": {
    "collapsed": false
   },
   "outputs": [
    {
     "name": "stdout",
     "output_type": "stream",
     "text": [
      "[-2 -1  0  1  2  3  4  5  6  7  8  9 10]\n"
     ]
    }
   ],
   "source": [
    "x = N.arange(-2, 11, 1, int)   # upper limit 11 is not included!!\n",
    "print x"
   ]
  },
  {
   "cell_type": "markdown",
   "metadata": {},
   "source": [
    "the [linspace(a, b, n)](http://docs.scipy.org/doc/numpy/reference/generated/numpy.linspace.html) and the [logspace(log10_a, log10_b, n)](http://docs.scipy.org/doc/numpy/reference/generated/numpy.logspace.html) methods can create linearly and logarithmically-spaced grids respectively, with a fixed number of points and including both ends of the specified interval $[a,b]$ :"
   ]
  },
  {
   "cell_type": "code",
   "execution_count": 37,
   "metadata": {
    "collapsed": false
   },
   "outputs": [
    {
     "name": "stdout",
     "output_type": "stream",
     "text": [
      "[  0.    2.5   5.    7.5  10. ]\n"
     ]
    }
   ],
   "source": [
    "x = N.linspace(0., 10., 5)\n",
    "print x"
   ]
  },
  {
   "cell_type": "code",
   "execution_count": 38,
   "metadata": {
    "collapsed": false
   },
   "outputs": [
    {
     "name": "stdout",
     "output_type": "stream",
     "text": [
      "[    10.    100.   1000.  10000.]\n"
     ]
    }
   ],
   "source": [
    "y = N.logspace(1,4,4) # from 10¹ to 10⁴ log range\n",
    "print y"
   ]
  },
  {
   "cell_type": "markdown",
   "metadata": {},
   "source": [
    "### Random valued arrays ###\n",
    "\n",
    "To create arrays with values following a specific distribution, you can use the [random](http://docs.scipy.org/doc/numpy/reference/random.html) module of Numpy. The [random.randn(n)](http://docs.scipy.org/doc/numpy/reference/generated/numpy.random.randn.html) method can be used to create an array of 10 random values from a standard normal distribution ($\\rho=0$ and $\\sigma=1$):"
   ]
  },
  {
   "cell_type": "code",
   "execution_count": 39,
   "metadata": {
    "collapsed": false
   },
   "outputs": [
    {
     "data": {
      "text/plain": [
       "array([-1.58708236,  1.83152837,  0.75510152, -0.68381827, -0.03567136,\n",
       "       -2.08352397, -0.86256652, -0.76857158,  2.21449902, -1.09340676])"
      ]
     },
     "execution_count": 39,
     "metadata": {},
     "output_type": "execute_result"
    }
   ],
   "source": [
    "N.random.randn(10)"
   ]
  },
  {
   "cell_type": "markdown",
   "metadata": {},
   "source": [
    "For user-defined mean value $\\rho$ and standard deviation $\\sigma^{2}$ normal distribution, use the [random.normal(rho, var, n)](http://docs.scipy.org/doc/numpy/reference/generated/numpy.random.normal.html) method :"
   ]
  },
  {
   "cell_type": "code",
   "execution_count": 40,
   "metadata": {
    "collapsed": false
   },
   "outputs": [
    {
     "data": {
      "text/plain": [
       "array([ 19.37298585,  16.31464323,  20.27194299,  21.18321444,\n",
       "         9.78893662,  12.61872723,  13.25592629,  14.63297006,\n",
       "        15.95781457,  14.70753494])"
      ]
     },
     "execution_count": 40,
     "metadata": {},
     "output_type": "execute_result"
    }
   ],
   "source": [
    "N.random.normal(15.0, 3.5, 10) # 10 values, normal distribution with mean=15 and variance=3.5"
   ]
  },
  {
   "cell_type": "markdown",
   "metadata": {},
   "source": [
    "For uniform distribution, use [random.uniform(low, high, size)](http://docs.scipy.org/doc/numpy/reference/generated/numpy.random.uniform.html) :"
   ]
  },
  {
   "cell_type": "code",
   "execution_count": 41,
   "metadata": {
    "collapsed": false
   },
   "outputs": [
    {
     "data": {
      "text/plain": [
       "array([[-0.58613831,  0.54758298,  0.18350712],\n",
       "       [-0.31154128,  0.11797505, -0.82412022]])"
      ]
     },
     "execution_count": 41,
     "metadata": {},
     "output_type": "execute_result"
    }
   ],
   "source": [
    "N.random.uniform(-1.0, 1.0, (2,3)) # (2,3) shaped array of uniformly distributed values in [-1.0, 1.0]"
   ]
  },
  {
   "cell_type": "markdown",
   "metadata": {},
   "source": [
    "### From a user-defined Python function ###\n",
    "\n",
    "Use the [fromfunction(func, shape)](http://docs.scipy.org/doc/numpy/reference/generated/numpy.fromfunction.html) method :"
   ]
  },
  {
   "cell_type": "code",
   "execution_count": 42,
   "metadata": {
    "collapsed": false
   },
   "outputs": [
    {
     "data": {
      "text/plain": [
       "array([[  0.,   2.,  24.],\n",
       "       [  0.,   2.,  18.],\n",
       "       [ -4.,   0.,  12.],\n",
       "       [-18., -10.,   0.],\n",
       "       [-48., -34., -24.]])"
      ]
     },
     "execution_count": 42,
     "metadata": {},
     "output_type": "execute_result"
    }
   ],
   "source": [
    "def custom_func(i, j):\n",
    "    return (j-i+1)*(j**3+i**2)\n",
    "\n",
    "# make 5x3 array where a[i,j] = custom_func(i,j):\n",
    "N.fromfunction(custom_func, (5,3))"
   ]
  },
  {
   "cell_type": "markdown",
   "metadata": {},
   "source": [
    "### Import from ASCII file ###\n",
    "\n",
    "Numpy provides a very handy [genfromtxt(fname)](http://docs.scipy.org/doc/numpy/reference/generated/numpy.genfromtxt.html) method to import data from an ASCII file and create the corresponding _ndarray_ object(s)."
   ]
  },
  {
   "cell_type": "code",
   "execution_count": 43,
   "metadata": {
    "collapsed": false
   },
   "outputs": [
    {
     "name": "stdout",
     "output_type": "stream",
     "text": [
      "(5000,)\n",
      "Missing diameter data :  3082\n"
     ]
    }
   ],
   "source": [
    "a, e, i, H, diameter, BV, UB = N.genfromtxt(\"data/asteroids_data.csv\", delimiter=',', unpack=True)\n",
    "print a.shape\n",
    "print \"Missing diameter data : \", N.isnan(diameter).sum()"
   ]
  },
  {
   "cell_type": "markdown",
   "metadata": {},
   "source": [
    "**See also** :\n",
    "\n",
    "- the [loadtxt(fname)](http://docs.scipy.org/doc/numpy/reference/generated/numpy.loadtxt.html) method (do not handle missing data like _genfromtxt_),\n",
    "- [Importing data with genfromtxt](http://docs.scipy.org/doc/numpy/user/basics.io.genfromtxt.html) guide.\n"
   ]
  },
  {
   "cell_type": "markdown",
   "metadata": {},
   "source": [
    "### Import from other formats ###\n",
    "\n",
    "See :\n",
    "- [Numpy I/O routines](http://docs.scipy.org/doc/numpy-1.9.1/reference/routines.io.html),\n",
    "- [Scipy I/O module](http://docs.scipy.org/doc/scipy-0.15.1/reference/tutorial/io.html) (Matlab, IDL, NetCDF, ...),\n",
    "- HDF5 format : [PyTables](https://pytables.github.io/usersguide/tutorials.html) and [h5py](http://docs.h5py.org/en/latest/quick.html)."
   ]
  },
  {
   "cell_type": "markdown",
   "metadata": {},
   "source": [
    "## Broadcasting ##\n",
    "\n",
    "Broadcasting is one of the most powerful process for both cpu and memory efficiency in Numpy. When performing operations between two _ndarray_ objects :\n",
    "\n",
    "1. If the two arrays differ in their number of dimensions, the shape of the array with fewer dimensions is *padded* with ones on its leading (left) side.\n",
    "\n",
    "2. If the shape of the two arrays does not match in any dimension, the array with shape equal to 1 in that dimension is *stretched* to match the other shape.\n",
    "\n",
    "3. If in any dimension the sizes disagree and neither is equal to 1, an error is raised.\n",
    "\n",
    "**Note** : all of this happens without ever actually creating the stretched arrays in memory or replicating the data. In the example below the operations are carried out without allocating memory for the dotted cells."
   ]
  },
  {
   "cell_type": "code",
   "execution_count": 44,
   "metadata": {
    "collapsed": false
   },
   "outputs": [
    {
     "data": {
      "text/plain": [
       "array([10, 11, 12, 13, 14])"
      ]
     },
     "execution_count": 44,
     "metadata": {},
     "output_type": "execute_result"
    }
   ],
   "source": [
    "N.arange(5) + 10"
   ]
  },
  {
   "cell_type": "markdown",
   "metadata": {},
   "source": [
    "<center>\n",
    "    <img src=\"./files/images/broadcast_fig_1.png\" width=80%>\n",
    "</center>\n",
    "\n",
    "Here, the scalar 10 is:\n",
    "\n",
    "* first 'promoted' to a 1-dimensional array of length 1,\n",
    "* then, this array is 'stretched' to length 5 to match the first array.\n",
    "\n",
    "After these two operations are complete, the addition can proceed as now both operands are one-dimensional arrays of length 5."
   ]
  },
  {
   "cell_type": "code",
   "execution_count": 45,
   "metadata": {
    "collapsed": false
   },
   "outputs": [
    {
     "data": {
      "text/plain": [
       "array([[ 11.,  12.,  13.,  14.,  15.],\n",
       "       [ 11.,  12.,  13.,  14.,  15.],\n",
       "       [ 11.,  12.,  13.,  14.,  15.]])"
      ]
     },
     "execution_count": 45,
     "metadata": {},
     "output_type": "execute_result"
    }
   ],
   "source": [
    "N.ones((3,5)) + N.arange(10,15)"
   ]
  },
  {
   "cell_type": "markdown",
   "metadata": {},
   "source": [
    "<center>\n",
    "    <img src=\"./files/images/broadcast_fig_2.png\" width=80%>\n",
    "</center>\n",
    "\n",
    "Here, the second array is:\n",
    "\n",
    "- first 'promoted' to a 2-dimensional array of shape (1, 5),\n",
    "- then 'stretched' to length 3 to match the first array.\n",
    "\n",
    "Then the operation proceeds as if on two 3 $\\times$ 5 arrays."
   ]
  },
  {
   "cell_type": "code",
   "execution_count": 46,
   "metadata": {
    "collapsed": false
   },
   "outputs": [
    {
     "data": {
      "text/plain": [
       "array([[10, 11, 12, 13, 14],\n",
       "       [20, 21, 22, 23, 24],\n",
       "       [30, 31, 32, 33, 34]])"
      ]
     },
     "execution_count": 46,
     "metadata": {},
     "output_type": "execute_result"
    }
   ],
   "source": [
    "N.arange(10,40,10).reshape((3,1)) + N.arange(5)"
   ]
  },
  {
   "cell_type": "markdown",
   "metadata": {},
   "source": [
    "<center>\n",
    "    <img src=\"./files/images/broadcast_fig_3.png\" width=80%>\n",
    "</center>\n",
    "\n",
    "Here:\n",
    "- the second array is 'promoted' to a 2-dimensional array of shape (1, 5),\n",
    "- the second array is 'stretched' to shape (3, 5),\n",
    "- the first array is 'stretched' to shape (3, 5).\n",
    "\n",
    "Then the operation proceeds as if on two 3 $\\times$ 5 arrays."
   ]
  },
  {
   "cell_type": "markdown",
   "metadata": {},
   "source": [
    "### The newaxis parameter ###\n",
    "\n",
    "To define wxplicitly which dimension you would like to extend, use the [numppy.newaxis](http://docs.scipy.org/doc/numpy/reference/arrays.indexing.html#numpy.newaxis) parameter :"
   ]
  },
  {
   "cell_type": "code",
   "execution_count": 47,
   "metadata": {
    "collapsed": false
   },
   "outputs": [
    {
     "data": {
      "text/plain": [
       "array([[10, 11, 12, 13, 14],\n",
       "       [20, 21, 22, 23, 24],\n",
       "       [30, 31, 32, 33, 34]])"
      ]
     },
     "execution_count": 47,
     "metadata": {},
     "output_type": "execute_result"
    }
   ],
   "source": [
    "X = N.arange(10, 31, 10)\n",
    "Y = N.arange(5)\n",
    "X[:, N.newaxis] + Y # X is turned into a column-like vector !"
   ]
  },
  {
   "cell_type": "markdown",
   "metadata": {},
   "source": [
    "## Aggregates ##\n",
    "\n",
    "Aggregates are Numpy functions that operates over an array and returns an array of smaller shape."
   ]
  },
  {
   "cell_type": "code",
   "execution_count": 48,
   "metadata": {
    "collapsed": false
   },
   "outputs": [
    {
     "name": "stdout",
     "output_type": "stream",
     "text": [
      "[[ 0.41467649  1.76242803  0.42338745]\n",
      " [ 1.66285676  0.11808132  1.7579443 ]\n",
      " [ 1.18221391  2.09133406  1.05487041]\n",
      " [ 1.42435698  1.19151915  2.74139449]\n",
      " [ 0.35179189  1.61095773  2.44189357]]\n"
     ]
    }
   ],
   "source": [
    "ran = N.random.uniform(0, 3, (5, 3))\n",
    "print ran"
   ]
  },
  {
   "cell_type": "code",
   "execution_count": 49,
   "metadata": {
    "collapsed": false
   },
   "outputs": [
    {
     "data": {
      "text/plain": [
       "20.229706519837894"
      ]
     },
     "execution_count": 49,
     "metadata": {},
     "output_type": "execute_result"
    }
   ],
   "source": [
    "ran.sum() # Sum of all array elements (Same as 'N.sum(ran)')"
   ]
  },
  {
   "cell_type": "code",
   "execution_count": 50,
   "metadata": {
    "collapsed": false
   },
   "outputs": [
    {
     "data": {
      "text/plain": [
       "1.3486471013225263"
      ]
     },
     "execution_count": 50,
     "metadata": {},
     "output_type": "execute_result"
    }
   ],
   "source": [
    "ran.mean() # Mean value of all array elements"
   ]
  },
  {
   "cell_type": "code",
   "execution_count": 51,
   "metadata": {
    "collapsed": false
   },
   "outputs": [
    {
     "data": {
      "text/plain": [
       "0.75602625126439726"
      ]
     },
     "execution_count": 51,
     "metadata": {},
     "output_type": "execute_result"
    }
   ],
   "source": [
    "ran.std() # Standard deviation"
   ]
  },
  {
   "cell_type": "code",
   "execution_count": 52,
   "metadata": {
    "collapsed": false
   },
   "outputs": [
    {
     "data": {
      "text/plain": [
       "1.7935216018689242"
      ]
     },
     "execution_count": 52,
     "metadata": {},
     "output_type": "execute_result"
    }
   ],
   "source": [
    "ran.prod() # Product of all array ellements"
   ]
  },
  {
   "cell_type": "markdown",
   "metadata": {},
   "source": [
    "#### Aggregates over a particular axis ####"
   ]
  },
  {
   "cell_type": "code",
   "execution_count": 53,
   "metadata": {
    "collapsed": false
   },
   "outputs": [
    {
     "data": {
      "text/plain": [
       "array([ 1.66285676,  2.09133406,  2.74139449])"
      ]
     },
     "execution_count": 53,
     "metadata": {},
     "output_type": "execute_result"
    }
   ],
   "source": [
    "N.max(ran, axis=0) # Max value over rows (1 value per column)"
   ]
  },
  {
   "cell_type": "markdown",
   "metadata": {},
   "source": [
    "## Linear algebra ##\n",
    "\n",
    "You can use the [numpy.matrix()](http://docs.scipy.org/doc/numpy/reference/generated/numpy.matrix.html#numpy.matrix) function to create a _matrix_ object (inherits from _ndarray_ class) :"
   ]
  },
  {
   "cell_type": "code",
   "execution_count": 54,
   "metadata": {
    "collapsed": false
   },
   "outputs": [
    {
     "name": "stdout",
     "output_type": "stream",
     "text": [
      "[[ 1.  2.]\n",
      " [ 3.  4.]] <class 'numpy.matrixlib.defmatrix.matrix'>\n",
      "Transpose :  [[ 1.  3.]\n",
      " [ 2.  4.]]\n"
     ]
    }
   ],
   "source": [
    "A = N.matrix([[1.0, 2.0], [3.0, 4.0]])\n",
    "print A, type(A)\n",
    "print \"Transpose : \", A.T  # transpose"
   ]
  },
  {
   "cell_type": "code",
   "execution_count": 55,
   "metadata": {
    "collapsed": false
   },
   "outputs": [
    {
     "name": "stdout",
     "output_type": "stream",
     "text": [
      "[[ 5.]\n",
      " [ 7.]]\n",
      "A*Y =  [[ 19.]\n",
      " [ 43.]]\n"
     ]
    }
   ],
   "source": [
    "Y = N.matrix([[5.0], [7.0]])\n",
    "print Y\n",
    "print \"A*Y = \", A*Y  # matrix multiplication"
   ]
  },
  {
   "cell_type": "code",
   "execution_count": 56,
   "metadata": {
    "collapsed": false
   },
   "outputs": [
    {
     "name": "stdout",
     "output_type": "stream",
     "text": [
      "[[-2.   1. ]\n",
      " [ 1.5 -0.5]]\n"
     ]
    }
   ],
   "source": [
    "print A.I  # inverse"
   ]
  },
  {
   "cell_type": "code",
   "execution_count": 57,
   "metadata": {
    "collapsed": false
   },
   "outputs": [
    {
     "name": "stdout",
     "output_type": "stream",
     "text": [
      "[[-3.]\n",
      " [ 4.]]\n"
     ]
    }
   ],
   "source": [
    "X = N.linalg.solve(A, Y)  # solving linear equation A*X = Y\n",
    "print X"
   ]
  },
  {
   "cell_type": "markdown",
   "metadata": {},
   "source": [
    "For more functionalities, see the [numpy.linalg](http://docs.scipy.org/doc/numpy/reference/routines.linalg.html) module... Or wait for the \"Scientific python\" session (session #8, tomorrow !)."
   ]
  },
  {
   "cell_type": "markdown",
   "metadata": {},
   "source": [
    "## Computation/memory efficiency quicksheet for Numpy ##\n",
    "\n",
    "When operating on _ndarray_ objects :\n",
    "\n",
    "1. Use Numpy **ufuncs** every time you can,\n",
    "2. Use Numpy **aggregates** to you advantage,\n",
    "3. Use Numpy **broadcasting** syntax as much as you can,\n",
    "4. Use Numpy **slicing and masking** to view/filter subparts of a _ndarray_,\n",
    "5. Do not be affraid of interfacing (already implemented, maybe your own ?) **compiled code** (C, Fortran, cython, SWIG, etc.) with your Python code."
   ]
  },
  {
   "cell_type": "markdown",
   "metadata": {},
   "source": [
    "## Numpy references ##\n",
    "\n",
    "<UL>\n",
    "<LI> <A HREF=\"http://wiki.scipy.org/Tentative_NumPy_Tutorial\">Tentative Numpy Tutorial</A>\n",
    "<LI> <A HREF=\"http://docs.scipy.org/doc/numpy/reference\">NumPy Reference</A>\n",
    "<LI> <A HREF=\"http://mathesaurus.sourceforge.net/matlab-numpy.html\">NumPy for MATLAB Users</A>\n",
    "</UL>"
   ]
  },
  {
   "cell_type": "markdown",
   "metadata": {},
   "source": [
    "# Breakout session #"
   ]
  },
  {
   "cell_type": "markdown",
   "metadata": {},
   "source": [
    "## Part 1 : Asteroid data manipulation ##\n",
    "\n",
    "- Load the 'data/asteroids\\_data.csv' file using genfromtxt  into a **data** _ndarray_ object (This is a .csv file, so the delimiter is ',').\n",
    "- How many asteroids are there in this catalog ? How many variables (columns) ?"
   ]
  },
  {
   "cell_type": "code",
   "execution_count": 58,
   "metadata": {
    "collapsed": false
   },
   "outputs": [],
   "source": [
    "#data = N.genfromtxt(...)"
   ]
  },
  {
   "cell_type": "markdown",
   "metadata": {},
   "source": [
    "- the file header describes the various columns as \" # a, e, i, H, diameter, BV, UB\". Using slicing syntax, create the corresponding views **a**, **e**, **i**, **H**, **diameter**, **BV**, **UB** for each column of the **data** _ndarray_."
   ]
  },
  {
   "cell_type": "code",
   "execution_count": 59,
   "metadata": {
    "collapsed": true
   },
   "outputs": [],
   "source": [
    "#a = data[...]\n",
    "#e = ..."
   ]
  },
  {
   "cell_type": "markdown",
   "metadata": {},
   "source": [
    "- Compute the asteroids semi-minor axis $b=a\\sqrt{1-e^{2}}$ and _mean radius_ $r_{\\tt mean}=\\sqrt{a b}$."
   ]
  },
  {
   "cell_type": "code",
   "execution_count": 60,
   "metadata": {
    "collapsed": false
   },
   "outputs": [],
   "source": [
    "# b = ...\n",
    "# r_mean = ..."
   ]
  },
  {
   "cell_type": "markdown",
   "metadata": {},
   "source": [
    "- This catalog contains missing data. Using _isnan()_ and _sum()_ numpy functions over the **data** _ndarray_, determine how many values are missing for each field (column).\n",
    "- Using the _not_ unary operator (~) and the _any()_ and _isnan()_ functions , compute a (row) mask **msk** of the asteroids that do not contain any missing data. How many (valid) asteroids are in this case ?"
   ]
  },
  {
   "cell_type": "code",
   "execution_count": 61,
   "metadata": {
    "collapsed": false
   },
   "outputs": [],
   "source": [
    "# nmiss = ...\n",
    "# msk = ..."
   ]
  },
  {
   "cell_type": "markdown",
   "metadata": {},
   "source": [
    "- Set the valid asteroids masked views of the mean radius $r_{\\tt mean}$ into **r_mean2** and of the BV luminosity into **BV2**. Using the _argsort()_ function, reorder the **BV2** _ndarray_ into ascending mean radius order and display the 10 last values of the reordered array."
   ]
  },
  {
   "cell_type": "code",
   "execution_count": 62,
   "metadata": {
    "collapsed": false
   },
   "outputs": [],
   "source": [
    "# r_mean2 = ...\n",
    "# BV2 = ...\n",
    "# ind_r = N.argsort(...)"
   ]
  },
  {
   "cell_type": "markdown",
   "metadata": {},
   "source": [
    "- In a single command, compute the mean values of each field, for the valid asteroids only."
   ]
  },
  {
   "cell_type": "code",
   "execution_count": 63,
   "metadata": {
    "collapsed": false
   },
   "outputs": [],
   "source": [
    "# Use N.mean() function with the 'axis' parameter"
   ]
  },
  {
   "cell_type": "markdown",
   "metadata": {},
   "source": [
    "## Part 2 : Plotting ##"
   ]
  },
  {
   "cell_type": "markdown",
   "metadata": {},
   "source": [
    "- Convert i (in degrees) in radians using ``numpy.pi`` parameter and plot the semi-minor axis _a_ versus the sine of the inclination angle into a [scatter](http://matplotlib.org/api/pyplot_api.html?highlight=scatter#matplotlib.pyplot.scatter) plot using [Matplotlib](http://matplotlib.org/index.html) (stay with us ! More about plotting in next session...) :"
   ]
  },
  {
   "cell_type": "code",
   "execution_count": 64,
   "metadata": {
    "collapsed": false
   },
   "outputs": [],
   "source": [
    "# i_rad = ...\n",
    "\n",
    "# Inline Matplotlib figures into the notebok (ipython magic) !\n",
    "% matplotlib inline\n",
    "\n",
    "import matplotlib.pyplot as P\n",
    "# P.scatter(x, y)\n",
    "#P.xlabel(\"sin(i)\")\n",
    "#P.ylabel(\"semi-minor axis\")"
   ]
  },
  {
   "cell_type": "markdown",
   "metadata": {},
   "source": [
    "- Draw a color-magnitude scatter plot of the 'valid' asteroids (H vs B-V).  Can you identify two distinct \"families\" of asteroids in this plot ?.  Over-plot a line that divides these."
   ]
  },
  {
   "cell_type": "code",
   "execution_count": 65,
   "metadata": {
    "collapsed": false
   },
   "outputs": [],
   "source": [
    "# P.scatter(x, y)\n",
    "# P.plot(x, y, color='r') # To draw a line given x and y coords\n",
    "# P.xlabel(\"H\")\n",
    "# P.ylabel(\"B-V\")\n",
    "# P.xlim(xmin, xmax) # Set min/max x-axis limits"
   ]
  },
  {
   "cell_type": "markdown",
   "metadata": {},
   "source": [
    "- Repeat the orbital parameter plot from above, but plot the two \"families\" in different colors. Note that this magnitude is undefined for many of the asteroids.  Do you see any correlation between color and orbit?"
   ]
  },
  {
   "cell_type": "code",
   "execution_count": 66,
   "metadata": {
    "collapsed": false
   },
   "outputs": [],
   "source": [
    "# no_magn = ~msk\n",
    "# fam1_msk = ...\n",
    "# fam2_msk = ...\n",
    "# P.scatter(x0, y0, color='blue')\n",
    "# P.scatter(x1, y1, color='red')\n",
    "# P.scatter(x2, y2, color='green')\n",
    "# P.xlabel(\"sin(i)\")\n",
    "# P.ylabel(\"semi-minor axis\")"
   ]
  }
 ],
 "metadata": {
  "kernelspec": {
   "display_name": "Python 2",
   "language": "python",
   "name": "python2"
  },
  "language_info": {
   "codemirror_mode": {
    "name": "ipython",
    "version": 2
   },
   "file_extension": ".py",
   "mimetype": "text/x-python",
   "name": "python",
   "nbconvert_exporter": "python",
   "pygments_lexer": "ipython2",
   "version": "2.7.9"
  }
 },
 "nbformat": 4,
 "nbformat_minor": 0
}
