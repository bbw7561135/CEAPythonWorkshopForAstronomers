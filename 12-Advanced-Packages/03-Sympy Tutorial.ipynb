{
 "metadata": {
  "name": "",
  "signature": "sha256:6f1eb2ec934a9b8269a9ed877d67d502b9a1b0f79c0580b98b5ff001d8b1d7fe"
 },
 "nbformat": 3,
 "nbformat_minor": 0,
 "worksheets": [
  {
   "cells": [
    {
     "cell_type": "heading",
     "level": 2,
     "metadata": {},
     "source": [
      "Sympy - Symbolic algebra in Python"
     ]
    },
    {
     "cell_type": "code",
     "collapsed": false,
     "input": [
      "%pylab inline"
     ],
     "language": "python",
     "metadata": {},
     "outputs": [
      {
       "output_type": "stream",
       "stream": "stdout",
       "text": [
        "Populating the interactive namespace from numpy and matplotlib\n"
       ]
      }
     ],
     "prompt_number": 1
    },
    {
     "cell_type": "code",
     "collapsed": false,
     "input": [
      "from sympy import *"
     ],
     "language": "python",
     "metadata": {},
     "outputs": [],
     "prompt_number": 2
    },
    {
     "cell_type": "raw",
     "metadata": {},
     "source": [
      "To get nice-looking LaTeX formatted output run:"
     ]
    },
    {
     "cell_type": "code",
     "collapsed": false,
     "input": [
      "init_printing()\n",
      "\n",
      "# or with older versions of sympy/ipython, load the IPython extension\n",
      "#%load_ext sympy.interactive.ipythonprinting\n",
      "# or\n",
      "#%load_ext sympyprinting"
     ],
     "language": "python",
     "metadata": {},
     "outputs": [],
     "prompt_number": 3
    },
    {
     "cell_type": "code",
     "collapsed": false,
     "input": [
      "x = Symbol('x')"
     ],
     "language": "python",
     "metadata": {},
     "outputs": [],
     "prompt_number": 4
    },
    {
     "cell_type": "code",
     "collapsed": false,
     "input": [
      "(pi + x)**2"
     ],
     "language": "python",
     "metadata": {},
     "outputs": [
      {
       "latex": [
        "$$\\left(x + \\pi\\right)^{2}$$"
       ],
       "metadata": {},
       "output_type": "pyout",
       "png": "[encoded data removed]",
       "prompt_number": 5,
       "text": [
        "       2\n",
        "(x + \u03c0) "
       ]
      }
     ],
     "prompt_number": 5
    },
    {
     "cell_type": "code",
     "collapsed": false,
     "input": [
      "# alternative way of defining symbols\n",
      "a, b, c = symbols(\"a, b, c\")"
     ],
     "language": "python",
     "metadata": {},
     "outputs": [],
     "prompt_number": 6
    },
    {
     "cell_type": "code",
     "collapsed": false,
     "input": [
      "type(a)"
     ],
     "language": "python",
     "metadata": {},
     "outputs": [
      {
       "metadata": {},
       "output_type": "pyout",
       "prompt_number": 7,
       "text": [
        "sympy.core.symbol.Symbol"
       ]
      }
     ],
     "prompt_number": 7
    },
    {
     "cell_type": "code",
     "collapsed": false,
     "input": [
      "x = Symbol('x', real=True)\n",
      "x.is_imaginary"
     ],
     "language": "python",
     "metadata": {},
     "outputs": [
      {
       "metadata": {},
       "output_type": "pyout",
       "prompt_number": 8,
       "text": [
        "False"
       ]
      }
     ],
     "prompt_number": 8
    },
    {
     "cell_type": "code",
     "collapsed": false,
     "input": [
      "x = Symbol('x', positive=True)\n",
      "x > 0"
     ],
     "language": "python",
     "metadata": {},
     "outputs": [
      {
       "metadata": {},
       "output_type": "pyout",
       "prompt_number": 9,
       "text": [
        "True"
       ]
      }
     ],
     "prompt_number": 9
    },
    {
     "cell_type": "heading",
     "level": 2,
     "metadata": {},
     "source": [
      "Numerical evaluation"
     ]
    },
    {
     "cell_type": "raw",
     "metadata": {},
     "source": [
      "SymPy uses a library for artitrary precision as numerical backend, and has predefined SymPy expressions for a number of mathematical constants, such as: pi, e, oo for infinity.\n",
      "\n",
      "To evaluate an expression numerically we can use the evalf function (or N). It takes an argument n which specifies the number of significant digits."
     ]
    },
    {
     "cell_type": "code",
     "collapsed": false,
     "input": [
      "pi.evalf(n=50)"
     ],
     "language": "python",
     "metadata": {},
     "outputs": [
      {
       "latex": [
        "$$3.1415926535897932384626433832795028841971693993751$$"
       ],
       "metadata": {},
       "output_type": "pyout",
       "png": "[encoded data removed]",
       "prompt_number": 16,
       "text": [
        "3.1415926535897932384626433832795028841971693993751"
       ]
      }
     ],
     "prompt_number": 16
    },
    {
     "cell_type": "code",
     "collapsed": false,
     "input": [
      "N(y, 5) # same as evalf"
     ],
     "language": "python",
     "metadata": {},
     "outputs": [
      {
       "latex": [
        "$$\\left(x + 3.1416\\right)^{2}$$"
       ],
       "metadata": {},
       "output_type": "pyout",
       "png": "[encoded data removed]",
       "prompt_number": 70,
       "text": [
        "            2\n",
        "(x + 3.1416) "
       ]
      }
     ],
     "prompt_number": 70
    },
    {
     "cell_type": "raw",
     "metadata": {},
     "source": [
      "When we numerically evaluate algebraic expressions we often want to substitute a symbol with a numerical value. In SymPy we do that using the subs function:"
     ]
    },
    {
     "cell_type": "code",
     "collapsed": false,
     "input": [
      "y.subs(x, 1.5)"
     ],
     "language": "python",
     "metadata": {},
     "outputs": [
      {
       "latex": [
        "$$\\left(1.5 + \\pi\\right)^{2}$$"
       ],
       "metadata": {},
       "output_type": "pyout",
       "png": "[encoded data removed]",
       "prompt_number": 19,
       "text": [
        "         2\n",
        "(1.5 + \u03c0) "
       ]
      }
     ],
     "prompt_number": 19
    },
    {
     "cell_type": "heading",
     "level": 2,
     "metadata": {},
     "source": [
      "Algebraic manipulations"
     ]
    },
    {
     "cell_type": "heading",
     "level": 5,
     "metadata": {},
     "source": [
      "Expand and factor"
     ]
    },
    {
     "cell_type": "code",
     "collapsed": false,
     "input": [
      "(x+1)*(x+2)*(x+3)"
     ],
     "language": "python",
     "metadata": {},
     "outputs": [
      {
       "latex": [
        "$$\\left(x + 1\\right) \\left(x + 2\\right) \\left(x + 3\\right)$$"
       ],
       "metadata": {},
       "output_type": "pyout",
       "png": "[encoded data removed]",
       "prompt_number": 20,
       "text": [
        "(x + 1)\u22c5(x + 2)\u22c5(x + 3)"
       ]
      }
     ],
     "prompt_number": 20
    },
    {
     "cell_type": "code",
     "collapsed": false,
     "input": [
      "expand((x+1)*(x+2)*(x+3))"
     ],
     "language": "python",
     "metadata": {},
     "outputs": [
      {
       "latex": [
        "$$x^{3} + 6 x^{2} + 11 x + 6$$"
       ],
       "metadata": {},
       "output_type": "pyout",
       "png": "[encoded data removed]",
       "prompt_number": 21,
       "text": [
        " 3      2           \n",
        "x  + 6\u22c5x  + 11\u22c5x + 6"
       ]
      }
     ],
     "prompt_number": 21
    },
    {
     "cell_type": "raw",
     "metadata": {},
     "source": [
      "The other way out :"
     ]
    },
    {
     "cell_type": "code",
     "collapsed": false,
     "input": [
      "factor(x**3 + 6 * x**2 + 11*x + 6)"
     ],
     "language": "python",
     "metadata": {},
     "outputs": [
      {
       "latex": [
        "$$\\left(x + 1\\right) \\left(x + 2\\right) \\left(x + 3\\right)$$"
       ],
       "metadata": {},
       "output_type": "pyout",
       "png": "[encoded data removed]",
       "prompt_number": 22,
       "text": [
        "(x + 1)\u22c5(x + 2)\u22c5(x + 3)"
       ]
      }
     ],
     "prompt_number": 22
    },
    {
     "cell_type": "raw",
     "metadata": {},
     "source": [
      "The expand function takes a number of keywords arguments which we can tell the functions what kind of expansions we want to have performed. For example, to expand trigonometric expressions, use the trig=True keyword argument:"
     ]
    },
    {
     "cell_type": "code",
     "collapsed": false,
     "input": [
      "sin(a+b)"
     ],
     "language": "python",
     "metadata": {},
     "outputs": [
      {
       "latex": [
        "$$\\sin{\\left (a + b \\right )}$$"
       ],
       "metadata": {},
       "output_type": "pyout",
       "png": "[encoded data removed]",
       "prompt_number": 23,
       "text": [
        "sin(a + b)"
       ]
      }
     ],
     "prompt_number": 23
    },
    {
     "cell_type": "code",
     "collapsed": false,
     "input": [
      "expand(sin(a+b), trig=True)"
     ],
     "language": "python",
     "metadata": {},
     "outputs": [
      {
       "latex": [
        "$$\\sin{\\left (a \\right )} \\cos{\\left (b \\right )} + \\sin{\\left (b \\right )} \\cos{\\left (a \\right )}$$"
       ],
       "metadata": {},
       "output_type": "pyout",
       "png": "[encoded data removed]",
       "prompt_number": 24,
       "text": [
        "sin(a)\u22c5cos(b) + sin(b)\u22c5cos(a)"
       ]
      }
     ],
     "prompt_number": 24
    },
    {
     "cell_type": "heading",
     "level": 4,
     "metadata": {},
     "source": [
      "Simplify"
     ]
    },
    {
     "cell_type": "raw",
     "metadata": {},
     "source": [
      "The simplify tries to simplify an expression into a nice looking expression, using various techniques. More specific alternatives to the simplify functions also exists: trigsimp, powsimp, logcombine, etc.\n",
      "\n",
      "The basic usages of these functions are as follows:"
     ]
    },
    {
     "cell_type": "code",
     "collapsed": false,
     "input": [
      "# simplify expands a product\n",
      "simplify((x+1)*(x+2)*(x+3))"
     ],
     "language": "python",
     "metadata": {},
     "outputs": [
      {
       "latex": [
        "$$\\left(x + 1\\right) \\left(x + 2\\right) \\left(x + 3\\right)$$"
       ],
       "metadata": {},
       "output_type": "pyout",
       "png": "[encoded data removed]",
       "prompt_number": 25,
       "text": [
        "(x + 1)\u22c5(x + 2)\u22c5(x + 3)"
       ]
      }
     ],
     "prompt_number": 25
    },
    {
     "cell_type": "code",
     "collapsed": false,
     "input": [
      "# simplify uses trigonometric identities\n",
      "simplify(sin(a)**2 + cos(a)**2)"
     ],
     "language": "python",
     "metadata": {},
     "outputs": [
      {
       "latex": [
        "$$1$$"
       ],
       "metadata": {},
       "output_type": "pyout",
       "png": "[encoded data removed]",
       "prompt_number": 26,
       "text": [
        "1"
       ]
      }
     ],
     "prompt_number": 26
    },
    {
     "cell_type": "code",
     "collapsed": false,
     "input": [
      "simplify(cos(x)/sin(x))"
     ],
     "language": "python",
     "metadata": {},
     "outputs": [
      {
       "latex": [
        "$$\\frac{1}{\\tan{\\left (x \\right )}}$$"
       ],
       "metadata": {},
       "output_type": "pyout",
       "png": "[encoded data removed]",
       "prompt_number": 27,
       "text": [
        "  1   \n",
        "\u2500\u2500\u2500\u2500\u2500\u2500\n",
        "tan(x)"
       ]
      }
     ],
     "prompt_number": 27
    },
    {
     "cell_type": "heading",
     "level": 4,
     "metadata": {},
     "source": [
      "apart and together"
     ]
    },
    {
     "cell_type": "code",
     "collapsed": false,
     "input": [
      "f1 = 1/((a+1)*(a+2))\n",
      "f1"
     ],
     "language": "python",
     "metadata": {},
     "outputs": [
      {
       "latex": [
        "$$\\frac{1}{\\left(a + 1\\right) \\left(a + 2\\right)}$$"
       ],
       "metadata": {},
       "output_type": "pyout",
       "png": "[encoded data removed]",
       "prompt_number": 28,
       "text": [
        "       1       \n",
        "\u2500\u2500\u2500\u2500\u2500\u2500\u2500\u2500\u2500\u2500\u2500\u2500\u2500\u2500\u2500\n",
        "(a + 1)\u22c5(a + 2)"
       ]
      }
     ],
     "prompt_number": 28
    },
    {
     "cell_type": "code",
     "collapsed": false,
     "input": [
      "apart(f1)"
     ],
     "language": "python",
     "metadata": {},
     "outputs": [
      {
       "latex": [
        "$$- \\frac{1}{a + 2} + \\frac{1}{a + 1}$$"
       ],
       "metadata": {},
       "output_type": "pyout",
       "png": "[encoded data removed]",
       "prompt_number": 29,
       "text": [
        "    1       1  \n",
        "- \u2500\u2500\u2500\u2500\u2500 + \u2500\u2500\u2500\u2500\u2500\n",
        "  a + 2   a + 1"
       ]
      }
     ],
     "prompt_number": 29
    },
    {
     "cell_type": "code",
     "collapsed": false,
     "input": [
      "f2 = 1/(a+2) + 1/(a+3)\n",
      "pprint(f2)\n",
      "together(f2)\n"
     ],
     "language": "python",
     "metadata": {},
     "outputs": [
      {
       "output_type": "stream",
       "stream": "stdout",
       "text": [
        "  1       1  \n",
        "\u2500\u2500\u2500\u2500\u2500 + \u2500\u2500\u2500\u2500\u2500\n",
        "a + 3   a + 2\n"
       ]
      },
      {
       "latex": [
        "$$\\frac{2 a + 5}{\\left(a + 2\\right) \\left(a + 3\\right)}$$"
       ],
       "metadata": {},
       "output_type": "pyout",
       "png": "[encoded data removed]",
       "prompt_number": 30,
       "text": [
        "    2\u22c5a + 5    \n",
        "\u2500\u2500\u2500\u2500\u2500\u2500\u2500\u2500\u2500\u2500\u2500\u2500\u2500\u2500\u2500\n",
        "(a + 2)\u22c5(a + 3)"
       ]
      }
     ],
     "prompt_number": 30
    },
    {
     "cell_type": "heading",
     "level": 2,
     "metadata": {},
     "source": [
      "Calculus"
     ]
    },
    {
     "cell_type": "heading",
     "level": 4,
     "metadata": {},
     "source": [
      "Differentiation"
     ]
    },
    {
     "cell_type": "raw",
     "metadata": {},
     "source": [
      "Differentiation is usually simple. Use the diff function. The first argument is the expression to take the derivative of, and the second argument is the symbol by which to take the derivative:"
     ]
    },
    {
     "cell_type": "code",
     "collapsed": false,
     "input": [
      "y"
     ],
     "language": "python",
     "metadata": {},
     "outputs": [
      {
       "latex": [
        "$$\\left(x + \\pi\\right)^{2}$$"
       ],
       "metadata": {},
       "output_type": "pyout",
       "png": "[encoded data removed]",
       "prompt_number": 31,
       "text": [
        "       2\n",
        "(x + \u03c0) "
       ]
      }
     ],
     "prompt_number": 31
    },
    {
     "cell_type": "code",
     "collapsed": false,
     "input": [
      "diff(y**2, x)"
     ],
     "language": "python",
     "metadata": {},
     "outputs": [
      {
       "latex": [
        "$$4 \\left(x + \\pi\\right)^{3}$$"
       ],
       "metadata": {},
       "output_type": "pyout",
       "png": "[encoded data removed]",
       "prompt_number": 32,
       "text": [
        "         3\n",
        "4\u22c5(x + \u03c0) "
       ]
      }
     ],
     "prompt_number": 32
    },
    {
     "cell_type": "raw",
     "metadata": {},
     "source": [
      " For higher order derivatives we can do:"
     ]
    },
    {
     "cell_type": "code",
     "collapsed": false,
     "input": [
      "diff(y**2, x, x)"
     ],
     "language": "python",
     "metadata": {},
     "outputs": [
      {
       "latex": [
        "$$12 \\left(x + \\pi\\right)^{2}$$"
       ],
       "metadata": {},
       "output_type": "pyout",
       "png": "[encoded data removed]",
       "prompt_number": 33,
       "text": [
        "          2\n",
        "12\u22c5(x + \u03c0) "
       ]
      }
     ],
     "prompt_number": 33
    },
    {
     "cell_type": "code",
     "collapsed": false,
     "input": [
      "diff(y**2, x, 2) # same as above"
     ],
     "language": "python",
     "metadata": {},
     "outputs": [
      {
       "latex": [
        "$$12 \\left(x + \\pi\\right)^{2}$$"
       ],
       "metadata": {},
       "output_type": "pyout",
       "png": "[encoded data removed]",
       "prompt_number": 34,
       "text": [
        "          2\n",
        "12\u22c5(x + \u03c0) "
       ]
      }
     ],
     "prompt_number": 34
    },
    {
     "cell_type": "raw",
     "metadata": {},
     "source": [
      "\n",
      "To calculate the derivative of a multivariate expression, we can do:"
     ]
    },
    {
     "cell_type": "code",
     "collapsed": false,
     "input": [
      "x, y, z = symbols(\"x,y,z\")\n",
      "f = sin(x*y) + cos(y*z)"
     ],
     "language": "python",
     "metadata": {},
     "outputs": [],
     "prompt_number": 35
    },
    {
     "cell_type": "markdown",
     "metadata": {},
     "source": [
      "$\\frac{\\partial^3f}{\\partial x \\partial y^2}$ :"
     ]
    },
    {
     "cell_type": "code",
     "collapsed": false,
     "input": [
      "diff(f, x, 1, y, 2)"
     ],
     "language": "python",
     "metadata": {},
     "outputs": [
      {
       "latex": [
        "$$- x \\left(x y \\cos{\\left (x y \\right )} + 2 \\sin{\\left (x y \\right )}\\right)$$"
       ],
       "metadata": {},
       "output_type": "pyout",
       "png": "[encoded data removed]",
       "prompt_number": 36,
       "text": [
        "-x\u22c5(x\u22c5y\u22c5cos(x\u22c5y) + 2\u22c5sin(x\u22c5y))"
       ]
      }
     ],
     "prompt_number": 36
    },
    {
     "cell_type": "heading",
     "level": 4,
     "metadata": {},
     "source": [
      "Integration"
     ]
    },
    {
     "cell_type": "code",
     "collapsed": false,
     "input": [
      "f"
     ],
     "language": "python",
     "metadata": {},
     "outputs": [
      {
       "latex": [
        "$$\\sin{\\left (x y \\right )} + \\cos{\\left (y z \\right )}$$"
       ],
       "metadata": {},
       "output_type": "pyout",
       "png": "[encoded data removed]",
       "prompt_number": 37,
       "text": [
        "sin(x\u22c5y) + cos(y\u22c5z)"
       ]
      }
     ],
     "prompt_number": 37
    },
    {
     "cell_type": "markdown",
     "metadata": {},
     "source": [
      "$\\int (\\sin(xy)+cos(yz)) dx$ :"
     ]
    },
    {
     "cell_type": "code",
     "collapsed": false,
     "input": [
      "integrate(f, x)"
     ],
     "language": "python",
     "metadata": {},
     "outputs": [
      {
       "latex": [
        "$$x \\cos{\\left (y z \\right )} + \\begin{cases} 0 & \\text{for}\\: y = 0 \\\\- \\frac{1}{y} \\cos{\\left (x y \\right )} & \\text{otherwise} \\end{cases}$$"
       ],
       "metadata": {},
       "output_type": "pyout",
       "png": "[encoded data removed]",
       "prompt_number": 38,
       "text": [
        "             \u239b\u23a7    0       for y = 0\u239e\n",
        "             \u239c\u23aa                     \u239f\n",
        "x\u22c5cos(y\u22c5z) + \u239c\u23a8-cos(x\u22c5y)            \u239f\n",
        "             \u239c\u23aa\u2500\u2500\u2500\u2500\u2500\u2500\u2500\u2500\u2500\u2500  otherwise\u239f\n",
        "             \u239d\u23a9    y                \u23a0"
       ]
      }
     ],
     "prompt_number": 38
    },
    {
     "cell_type": "markdown",
     "metadata": {},
     "source": [
      "By providing limits for the integration variable we can evaluate definite integrals:"
     ]
    },
    {
     "cell_type": "code",
     "collapsed": false,
     "input": [
      "integrate(f, (x, -1, 1))"
     ],
     "language": "python",
     "metadata": {},
     "outputs": [
      {
       "latex": [
        "$$2 \\cos{\\left (y z \\right )}$$"
       ],
       "metadata": {},
       "output_type": "pyout",
       "png": "[encoded data removed]",
       "prompt_number": 39,
       "text": [
        "2\u22c5cos(y\u22c5z)"
       ]
      }
     ],
     "prompt_number": 39
    },
    {
     "cell_type": "heading",
     "level": 4,
     "metadata": {},
     "source": [
      "Sums and products"
     ]
    },
    {
     "cell_type": "code",
     "collapsed": false,
     "input": [
      "n = Symbol(\"n\")\n",
      "Sum(1/n**2, (n, 1, 10))"
     ],
     "language": "python",
     "metadata": {},
     "outputs": [
      {
       "latex": [
        "$$\\sum_{n=1}^{10} \\frac{1}{n^{2}}$$"
       ],
       "metadata": {},
       "output_type": "pyout",
       "png": "[encoded data removed]",
       "prompt_number": 40,
       "text": [
        "  10    \n",
        " ____   \n",
        " \u2572      \n",
        "  \u2572   1 \n",
        "   \u2572  \u2500\u2500\n",
        "   \u2571   2\n",
        "  \u2571   n \n",
        " \u2571      \n",
        " \u203e\u203e\u203e\u203e   \n",
        "n = 1   "
       ]
      }
     ],
     "prompt_number": 40
    },
    {
     "cell_type": "code",
     "collapsed": false,
     "input": [
      "Sum(1/n**2, (n,1, 10)).evalf()"
     ],
     "language": "python",
     "metadata": {},
     "outputs": [
      {
       "latex": [
        "$$1.54976773116654$$"
       ],
       "metadata": {},
       "output_type": "pyout",
       "png": "[encoded data removed]",
       "prompt_number": 41,
       "text": [
        "1.54976773116654"
       ]
      }
     ],
     "prompt_number": 41
    },
    {
     "cell_type": "code",
     "collapsed": false,
     "input": [
      "Sum(1/n**2, (n, 1, oo))"
     ],
     "language": "python",
     "metadata": {},
     "outputs": [
      {
       "latex": [
        "$$\\sum_{n=1}^{\\infty} \\frac{1}{n^{2}}$$"
       ],
       "metadata": {},
       "output_type": "pyout",
       "png": "[encoded data removed]",
       "prompt_number": 42,
       "text": [
        "  \u221e     \n",
        " ____   \n",
        " \u2572      \n",
        "  \u2572   1 \n",
        "   \u2572  \u2500\u2500\n",
        "   \u2571   2\n",
        "  \u2571   n \n",
        " \u2571      \n",
        " \u203e\u203e\u203e\u203e   \n",
        "n = 1   "
       ]
      }
     ],
     "prompt_number": 42
    },
    {
     "cell_type": "code",
     "collapsed": false,
     "input": [
      "Sum(1/n**2, (n, 1, oo)).evalf()"
     ],
     "language": "python",
     "metadata": {},
     "outputs": [
      {
       "latex": [
        "$$1.64493406684823$$"
       ],
       "metadata": {},
       "output_type": "pyout",
       "png": "[encoded data removed]",
       "prompt_number": 43,
       "text": [
        "1.64493406684823"
       ]
      }
     ],
     "prompt_number": 43
    },
    {
     "cell_type": "code",
     "collapsed": false,
     "input": [
      "pi**2/6"
     ],
     "language": "python",
     "metadata": {},
     "outputs": [
      {
       "latex": [
        "$$\\frac{\\pi^{2}}{6}$$"
       ],
       "metadata": {},
       "output_type": "pyout",
       "png": "[encoded data removed]",
       "prompt_number": 83,
       "text": [
        " 2\n",
        "\u03c0 \n",
        "\u2500\u2500\n",
        "6 "
       ]
      }
     ],
     "prompt_number": 83
    },
    {
     "cell_type": "code",
     "collapsed": false,
     "input": [
      "(pi**2/6).evalf() # Verification"
     ],
     "language": "python",
     "metadata": {},
     "outputs": [
      {
       "latex": [
        "$$1.64493406684823$$"
       ],
       "metadata": {},
       "output_type": "pyout",
       "png": "[encoded data removed]",
       "prompt_number": 75,
       "text": [
        "1.64493406684823"
       ]
      }
     ],
     "prompt_number": 75
    },
    {
     "cell_type": "markdown",
     "metadata": {},
     "source": [
      "Products work much the same way:"
     ]
    },
    {
     "cell_type": "code",
     "collapsed": false,
     "input": [
      "Product(n, (n, 1, 10)) # 10!"
     ],
     "language": "python",
     "metadata": {},
     "outputs": [
      {
       "latex": [
        "$$\\prod_{n=1}^{10} n$$"
       ],
       "metadata": {},
       "output_type": "pyout",
       "png": "[encoded data removed]",
       "prompt_number": 45,
       "text": [
        "  10   \n",
        "\u252c\u2500\u2500\u2500\u252c  \n",
        "\u2502   \u2502 n\n",
        "\u2502   \u2502  \n",
        "n = 1  "
       ]
      }
     ],
     "prompt_number": 45
    },
    {
     "cell_type": "heading",
     "level": 2,
     "metadata": {},
     "source": [
      "Limits"
     ]
    },
    {
     "cell_type": "raw",
     "metadata": {},
     "source": [
      "Limits can be evaluated using the limit function. For example,"
     ]
    },
    {
     "cell_type": "code",
     "collapsed": false,
     "input": [
      "limit(sin(x)/x, x, 0)"
     ],
     "language": "python",
     "metadata": {},
     "outputs": [
      {
       "latex": [
        "$$1$$"
       ],
       "metadata": {},
       "output_type": "pyout",
       "png": "[encoded data removed]",
       "prompt_number": 46,
       "text": [
        "1"
       ]
      }
     ],
     "prompt_number": 46
    },
    {
     "cell_type": "markdown",
     "metadata": {},
     "source": [
      "We can use 'limit' to check the result of derivation using the diff function:"
     ]
    },
    {
     "cell_type": "code",
     "collapsed": false,
     "input": [
      "f"
     ],
     "language": "python",
     "metadata": {},
     "outputs": [
      {
       "latex": [
        "$$\\sin{\\left (x y \\right )} + \\cos{\\left (y z \\right )}$$"
       ],
       "metadata": {},
       "output_type": "pyout",
       "png": "[encoded data removed]",
       "prompt_number": 47,
       "text": [
        "sin(x\u22c5y) + cos(y\u22c5z)"
       ]
      }
     ],
     "prompt_number": 47
    },
    {
     "cell_type": "code",
     "collapsed": false,
     "input": [
      "diff(f, x)"
     ],
     "language": "python",
     "metadata": {},
     "outputs": [
      {
       "latex": [
        "$$y \\cos{\\left (x y \\right )}$$"
       ],
       "metadata": {},
       "output_type": "pyout",
       "png": "[encoded data removed]",
       "prompt_number": 48,
       "text": [
        "y\u22c5cos(x\u22c5y)"
       ]
      }
     ],
     "prompt_number": 48
    },
    {
     "cell_type": "markdown",
     "metadata": {},
     "source": [
      "$\\displaystyle \\frac{\\mathrm{d}f(x,y)}{\\mathrm{d}x} = \\frac{f(x+h,y)-f(x,y)}{h}$"
     ]
    },
    {
     "cell_type": "code",
     "collapsed": false,
     "input": [
      "h = Symbol(\"h\")\n",
      "limit((f.subs(x, x+h) - f)/h, h, 0)"
     ],
     "language": "python",
     "metadata": {},
     "outputs": [
      {
       "latex": [
        "$$y \\cos{\\left (x y \\right )}$$"
       ],
       "metadata": {},
       "output_type": "pyout",
       "png": "[encoded data removed]",
       "prompt_number": 49,
       "text": [
        "y\u22c5cos(x\u22c5y)"
       ]
      }
     ],
     "prompt_number": 49
    },
    {
     "cell_type": "markdown",
     "metadata": {},
     "source": [
      "We can change the direction from which we approach the limiting point using the dir keywork argument:"
     ]
    },
    {
     "cell_type": "code",
     "collapsed": false,
     "input": [
      "limit(1/x, x, 0, dir=\"+\")"
     ],
     "language": "python",
     "metadata": {},
     "outputs": [
      {
       "latex": [
        "$$\\infty$$"
       ],
       "metadata": {},
       "output_type": "pyout",
       "png": "[encoded data removed]",
       "prompt_number": 50,
       "text": [
        "\u221e"
       ]
      }
     ],
     "prompt_number": 50
    },
    {
     "cell_type": "code",
     "collapsed": false,
     "input": [
      "limit(1/x, x, 0, dir=\"-\")"
     ],
     "language": "python",
     "metadata": {},
     "outputs": [
      {
       "latex": [
        "$$-\\infty$$"
       ],
       "metadata": {},
       "output_type": "pyout",
       "png": "[encoded data removed]",
       "prompt_number": 51,
       "text": [
        "-\u221e"
       ]
      }
     ],
     "prompt_number": 51
    },
    {
     "cell_type": "heading",
     "level": 2,
     "metadata": {},
     "source": [
      "Series"
     ]
    },
    {
     "cell_type": "code",
     "collapsed": false,
     "input": [
      "s1=series(exp(x), x)\n",
      "s1"
     ],
     "language": "python",
     "metadata": {},
     "outputs": [
      {
       "latex": [
        "$$1 + x + \\frac{x^{2}}{2} + \\frac{x^{3}}{6} + \\frac{x^{4}}{24} + \\frac{x^{5}}{120} + \\mathcal{O}\\left(x^{6}\\right)$$"
       ],
       "metadata": {},
       "output_type": "pyout",
       "png": "[encoded data removed]",
       "prompt_number": 52,
       "text": [
        "         2    3    4     5        \n",
        "        x    x    x     x     \u239b 6\u239e\n",
        "1 + x + \u2500\u2500 + \u2500\u2500 + \u2500\u2500 + \u2500\u2500\u2500 + O\u239dx \u23a0\n",
        "        2    6    24   120        "
       ]
      }
     ],
     "prompt_number": 52
    },
    {
     "cell_type": "code",
     "collapsed": false,
     "input": [
      "s2 = sin(x).series(x, 0, 5)\n",
      "s2"
     ],
     "language": "python",
     "metadata": {},
     "outputs": [
      {
       "latex": [
        "$$x - \\frac{x^{3}}{6} + \\mathcal{O}\\left(x^{5}\\right)$$"
       ],
       "metadata": {},
       "output_type": "pyout",
       "png": "[encoded data removed]",
       "prompt_number": 73,
       "text": [
        "     3        \n",
        "    x     \u239b 5\u239e\n",
        "x - \u2500\u2500 + O\u239dx \u23a0\n",
        "    6         "
       ]
      }
     ],
     "prompt_number": 73
    },
    {
     "cell_type": "heading",
     "level": 2,
     "metadata": {},
     "source": [
      "Linear algebra"
     ]
    },
    {
     "cell_type": "heading",
     "level": 4,
     "metadata": {},
     "source": [
      "Matrices"
     ]
    },
    {
     "cell_type": "code",
     "collapsed": false,
     "input": [
      "m11, m12, m21, m22 = symbols(\"m11, m12, m21, m22\")\n",
      "b1, b2 = symbols(\"b1, b2\")"
     ],
     "language": "python",
     "metadata": {},
     "outputs": [],
     "prompt_number": 56
    },
    {
     "cell_type": "code",
     "collapsed": false,
     "input": [
      "A = Matrix([[m11, m12],[m21, m22]])\n",
      "A"
     ],
     "language": "python",
     "metadata": {},
     "outputs": [
      {
       "latex": [
        "$$\\left[\\begin{matrix}m_{11} & m_{12}\\\\m_{21} & m_{22}\\end{matrix}\\right]$$"
       ],
       "metadata": {},
       "output_type": "pyout",
       "png": "[encoded data removed]",
       "prompt_number": 57,
       "text": [
        "\u23a1m\u2081\u2081  m\u2081\u2082\u23a4\n",
        "\u23a2        \u23a5\n",
        "\u23a3m\u2082\u2081  m\u2082\u2082\u23a6"
       ]
      }
     ],
     "prompt_number": 57
    },
    {
     "cell_type": "code",
     "collapsed": false,
     "input": [
      "b = Matrix([[b1], [b2]])\n",
      "b"
     ],
     "language": "python",
     "metadata": {},
     "outputs": [
      {
       "latex": [
        "$$\\left[\\begin{matrix}b_{1}\\\\b_{2}\\end{matrix}\\right]$$"
       ],
       "metadata": {},
       "output_type": "pyout",
       "png": "[encoded data removed]",
       "prompt_number": 58,
       "text": [
        "\u23a1b\u2081\u23a4\n",
        "\u23a2  \u23a5\n",
        "\u23a3b\u2082\u23a6"
       ]
      }
     ],
     "prompt_number": 58
    },
    {
     "cell_type": "code",
     "collapsed": false,
     "input": [
      "A * b"
     ],
     "language": "python",
     "metadata": {},
     "outputs": [
      {
       "latex": [
        "$$\\left[\\begin{matrix}b_{1} m_{11} + b_{2} m_{12}\\\\b_{1} m_{21} + b_{2} m_{22}\\end{matrix}\\right]$$"
       ],
       "metadata": {},
       "output_type": "pyout",
       "png": "[encoded data removed]",
       "prompt_number": 59,
       "text": [
        "\u23a1b\u2081\u22c5m\u2081\u2081 + b\u2082\u22c5m\u2081\u2082\u23a4\n",
        "\u23a2               \u23a5\n",
        "\u23a3b\u2081\u22c5m\u2082\u2081 + b\u2082\u22c5m\u2082\u2082\u23a6"
       ]
      }
     ],
     "prompt_number": 59
    },
    {
     "cell_type": "markdown",
     "metadata": {},
     "source": [
      "With Matrix class instances we can do the usual matrix algebra operations:"
     ]
    },
    {
     "cell_type": "code",
     "collapsed": false,
     "input": [
      "A**2"
     ],
     "language": "python",
     "metadata": {},
     "outputs": [
      {
       "latex": [
        "$$\\left[\\begin{matrix}m_{11}^{2} + m_{12} m_{21} & m_{11} m_{12} + m_{12} m_{22}\\\\m_{11} m_{21} + m_{21} m_{22} & m_{12} m_{21} + m_{22}^{2}\\end{matrix}\\right]$$"
       ],
       "metadata": {},
       "output_type": "pyout",
       "png": "[encoded data removed]",
       "prompt_number": 60,
       "text": [
        "\u23a1    2                               \u23a4\n",
        "\u23a2 m\u2081\u2081  + m\u2081\u2082\u22c5m\u2082\u2081    m\u2081\u2081\u22c5m\u2081\u2082 + m\u2081\u2082\u22c5m\u2082\u2082\u23a5\n",
        "\u23a2                                    \u23a5\n",
        "\u23a2                                 2  \u23a5\n",
        "\u23a3m\u2081\u2081\u22c5m\u2082\u2081 + m\u2082\u2081\u22c5m\u2082\u2082   m\u2081\u2082\u22c5m\u2082\u2081 + m\u2082\u2082   \u23a6"
       ]
      }
     ],
     "prompt_number": 60
    },
    {
     "cell_type": "raw",
     "metadata": {},
     "source": [
      "And calculate determinants and inverses, and the like:"
     ]
    },
    {
     "cell_type": "code",
     "collapsed": false,
     "input": [
      "A.det()"
     ],
     "language": "python",
     "metadata": {},
     "outputs": [
      {
       "latex": [
        "$$m_{11} m_{22} - m_{12} m_{21}$$"
       ],
       "metadata": {},
       "output_type": "pyout",
       "png": "[encoded data removed]",
       "prompt_number": 61,
       "text": [
        "m\u2081\u2081\u22c5m\u2082\u2082 - m\u2081\u2082\u22c5m\u2082\u2081"
       ]
      }
     ],
     "prompt_number": 61
    },
    {
     "cell_type": "code",
     "collapsed": false,
     "input": [
      "A.inv()"
     ],
     "language": "python",
     "metadata": {},
     "outputs": [
      {
       "latex": [
        "$$\\left[\\begin{matrix}\\frac{1}{m_{11}} + \\frac{m_{12} m_{21}}{m_{11}^{2} \\left(m_{22} - \\frac{m_{12} m_{21}}{m_{11}}\\right)} & - \\frac{m_{12}}{m_{11} \\left(m_{22} - \\frac{m_{12} m_{21}}{m_{11}}\\right)}\\\\- \\frac{m_{21}}{m_{11} \\left(m_{22} - \\frac{m_{12} m_{21}}{m_{11}}\\right)} & \\frac{1}{m_{22} - \\frac{m_{12} m_{21}}{m_{11}}}\\end{matrix}\\right]$$"
       ],
       "metadata": {},
       "output_type": "pyout",
       "png": "[encoded data removed]",
       "prompt_number": 62,
       "text": [
        "\u23a1 1          m\u2081\u2082\u22c5m\u2082\u2081                -m\u2081\u2082        \u23a4\n",
        "\u23a2\u2500\u2500\u2500 + \u2500\u2500\u2500\u2500\u2500\u2500\u2500\u2500\u2500\u2500\u2500\u2500\u2500\u2500\u2500\u2500\u2500\u2500\u2500\u2500  \u2500\u2500\u2500\u2500\u2500\u2500\u2500\u2500\u2500\u2500\u2500\u2500\u2500\u2500\u2500\u2500\u2500\u2500\u2500\u23a5\n",
        "\u23a2m\u2081\u2081      2 \u239b      m\u2081\u2082\u22c5m\u2082\u2081\u239e      \u239b      m\u2081\u2082\u22c5m\u2082\u2081\u239e\u23a5\n",
        "\u23a2      m\u2081\u2081 \u22c5\u239cm\u2082\u2082 - \u2500\u2500\u2500\u2500\u2500\u2500\u2500\u239f  m\u2081\u2081\u22c5\u239cm\u2082\u2082 - \u2500\u2500\u2500\u2500\u2500\u2500\u2500\u239f\u23a5\n",
        "\u23a2           \u239d        m\u2081\u2081  \u23a0      \u239d        m\u2081\u2081  \u23a0\u23a5\n",
        "\u23a2                                               \u23a5\n",
        "\u23a2          -m\u2082\u2081                       1         \u23a5\n",
        "\u23a2   \u2500\u2500\u2500\u2500\u2500\u2500\u2500\u2500\u2500\u2500\u2500\u2500\u2500\u2500\u2500\u2500\u2500\u2500\u2500         \u2500\u2500\u2500\u2500\u2500\u2500\u2500\u2500\u2500\u2500\u2500\u2500\u2500   \u23a5\n",
        "\u23a2       \u239b      m\u2081\u2082\u22c5m\u2082\u2081\u239e               m\u2081\u2082\u22c5m\u2082\u2081   \u23a5\n",
        "\u23a2   m\u2081\u2081\u22c5\u239cm\u2082\u2082 - \u2500\u2500\u2500\u2500\u2500\u2500\u2500\u239f         m\u2082\u2082 - \u2500\u2500\u2500\u2500\u2500\u2500\u2500   \u23a5\n",
        "\u23a3       \u239d        m\u2081\u2081  \u23a0                 m\u2081\u2081     \u23a6"
       ]
      }
     ],
     "prompt_number": 62
    },
    {
     "cell_type": "heading",
     "level": 2,
     "metadata": {},
     "source": [
      "Solving equations"
     ]
    },
    {
     "cell_type": "markdown",
     "metadata": {},
     "source": [
      "For solving equations and systems of equations we can use the solve function:"
     ]
    },
    {
     "cell_type": "code",
     "collapsed": false,
     "input": [
      "solve(x**2 - 1, x)"
     ],
     "language": "python",
     "metadata": {},
     "outputs": [
      {
       "latex": [
        "$$\\begin{bmatrix}-1, & 1\\end{bmatrix}$$"
       ],
       "metadata": {},
       "output_type": "pyout",
       "png": "[encoded data removed]",
       "prompt_number": 63,
       "text": [
        "[-1, 1]"
       ]
      }
     ],
     "prompt_number": 63
    },
    {
     "cell_type": "code",
     "collapsed": false,
     "input": [
      "solve(x**4 - x**2 - 1, x)"
     ],
     "language": "python",
     "metadata": {},
     "outputs": [
      {
       "latex": [
        "$$\\begin{bmatrix}- i \\sqrt{- \\frac{1}{2} + \\frac{\\sqrt{5}}{2}}, & i \\sqrt{- \\frac{1}{2} + \\frac{\\sqrt{5}}{2}}, & - \\sqrt{\\frac{1}{2} + \\frac{\\sqrt{5}}{2}}, & \\sqrt{\\frac{1}{2} + \\frac{\\sqrt{5}}{2}}\\end{bmatrix}$$"
       ],
       "metadata": {},
       "output_type": "pyout",
       "png": "[encoded data removed]",
       "prompt_number": 64,
       "text": [
        "\u23a1        _____________         _____________        ___________       ________\n",
        "\u23a2       \u2571         ___         \u2571         ___        \u2571       ___       \u2571       _\n",
        "\u23a2      \u2571    1   \u2572\u2571 5         \u2571    1   \u2572\u2571 5        \u2571  1   \u2572\u2571 5       \u2571  1   \u2572\u2571 \n",
        "\u23a2-\u2148\u22c5  \u2571   - \u2500 + \u2500\u2500\u2500\u2500\u2500 , \u2148\u22c5  \u2571   - \u2500 + \u2500\u2500\u2500\u2500\u2500 , -  \u2571   \u2500 + \u2500\u2500\u2500\u2500\u2500 ,   \u2571   \u2500 + \u2500\u2500\u2500\n",
        "\u23a3   \u2572\u2571      2     2       \u2572\u2571      2     2      \u2572\u2571    2     2     \u2572\u2571    2     2\n",
        "\n",
        "___\u23a4\n",
        "__ \u23a5\n",
        "5  \u23a5\n",
        "\u2500\u2500 \u23a5\n",
        "   \u23a6"
       ]
      }
     ],
     "prompt_number": 64
    },
    {
     "cell_type": "markdown",
     "metadata": {},
     "source": [
      "In terms of other symbolic expressions:"
     ]
    },
    {
     "cell_type": "code",
     "collapsed": false,
     "input": [
      "solve([x + y - 1, x - y - 1], [x,y])"
     ],
     "language": "python",
     "metadata": {},
     "outputs": [
      {
       "latex": [
        "$$\\begin{Bmatrix}x : 1, & y : 0\\end{Bmatrix}$$"
       ],
       "metadata": {},
       "output_type": "pyout",
       "png": "[encoded data removed]",
       "prompt_number": 65,
       "text": [
        "{x: 1, y: 0}"
       ]
      }
     ],
     "prompt_number": 65
    },
    {
     "cell_type": "code",
     "collapsed": false,
     "input": [
      "solve([x + y - a, x - y - c], [x,y])"
     ],
     "language": "python",
     "metadata": {},
     "outputs": [
      {
       "latex": [
        "$$\\begin{Bmatrix}x : \\frac{a}{2} + \\frac{c}{2}, & y : \\frac{a}{2} - \\frac{c}{2}\\end{Bmatrix}$$"
       ],
       "metadata": {},
       "output_type": "pyout",
       "png": "[encoded data removed]",
       "prompt_number": 66,
       "text": [
        "\u23a7   a   c     a   c\u23ab\n",
        "\u23a8x: \u2500 + \u2500, y: \u2500 - \u2500\u23ac\n",
        "\u23a9   2   2     2   2\u23ad"
       ]
      }
     ],
     "prompt_number": 66
    },
    {
     "cell_type": "heading",
     "level": 2,
     "metadata": {},
     "source": [
      "Further reading"
     ]
    },
    {
     "cell_type": "markdown",
     "metadata": {},
     "source": [
      "This Notebook is a extract from the following Notebook :\n",
      "\n",
      "http://nbviewer.ipython.org/github/jrjohansson/scientific-python-lectures/blob/master/Lecture-5-Sympy.ipynb\n",
      "\n",
      "Other sources:\n",
      "\n",
      "http://sympy.org/en/index.html \n",
      "\n",
      "http://docs.sympy.org/latest/tutorial/intro.html#a-more-interesting-example\n",
      "\n",
      "http://docs.sympy.org/0.7.2/modules/physics/quantum/index.html\n"
     ]
    },
    {
     "cell_type": "code",
     "collapsed": false,
     "input": [],
     "language": "python",
     "metadata": {},
     "outputs": []
    }
   ],
   "metadata": {}
  }
 ]
}