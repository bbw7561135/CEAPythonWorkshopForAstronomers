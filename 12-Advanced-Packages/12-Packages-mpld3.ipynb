{
 "cells": [
  {
   "cell_type": "markdown",
   "metadata": {},
   "source": [
    "#Mpld3: Bringing Matplotlib to the web browser \n",
    "An introduction\n",
    "\n",
    "Mpdl stands for matplotlib and d3 is a popular Javascript library for creating interactive data visualizations for the web.\n",
    "\n",
    "\n",
    "## Installation  \n",
    "To install this new package you can run the command below:"
   ]
  },
  {
   "cell_type": "code",
   "execution_count": null,
   "metadata": {
    "collapsed": false
   },
   "outputs": [],
   "source": [
    "!pip install mpld3"
   ]
  },
  {
   "cell_type": "code",
   "execution_count": 1,
   "metadata": {
    "collapsed": false
   },
   "outputs": [
    {
     "data": {
      "text/html": [
       "<iframe src=http://mpld3.github.io width=600 height=400></iframe>"
      ],
      "text/plain": [
       "<IPython.core.display.HTML object>"
      ]
     },
     "execution_count": 1,
     "metadata": {},
     "output_type": "execute_result"
    }
   ],
   "source": [
    "from IPython.display import HTML\n",
    "HTML('<iframe src=http://mpld3.github.io width=600 height=400></iframe>')"
   ]
  },
  {
   "cell_type": "markdown",
   "metadata": {},
   "source": [
    "## Interactive plots with mpld3\n",
    "Very nice package to play interactiverly with your plots.\n",
    "\n",
    "And the ability to export the interactive plot to html format and share it around !!"
   ]
  },
  {
   "cell_type": "markdown",
   "metadata": {},
   "source": [
    "This notebook gives a brief overview of [mpld3](http://mpld3.github.io), a package which allows seamless visualization of matplotlib plots using HTML, Javascript, and the [D3js](http://d3js.org/) package.\n",
    "\n",
    "One of the nicest parts of the IPython notebook is the ability to embed figures inline with code.  For example, we can quickly create a scatter plot as so:"
   ]
  },
  {
   "cell_type": "code",
   "execution_count": null,
   "metadata": {
    "collapsed": true
   },
   "outputs": [],
   "source": [
    "%matplotlib inline\n",
    "import matplotlib.pyplot as plt\n",
    "import numpy as np"
   ]
  },
  {
   "cell_type": "code",
   "execution_count": null,
   "metadata": {
    "collapsed": false
   },
   "outputs": [],
   "source": [
    "# Scatter points\n",
    "fig, ax = plt.subplots()\n",
    "np.random.seed(0)\n",
    "x, y = np.random.normal(size=(2, 200))\n",
    "color, size = np.random.random((2, 200))\n",
    "\n",
    "ax.scatter(x, y, c=color, s=500 * size, alpha=0.3)\n",
    "ax.grid(color='lightgray', alpha=0.7)\n",
    "plt.show()"
   ]
  },
  {
   "cell_type": "markdown",
   "metadata": {},
   "source": [
    "A weakness quickly becomes clear, however: the embedded figure is a simple static PNG image.\n",
    "\n",
    "This is where mpld3 comes in. Using the simple ``mpld3.display()`` command, we can create a fully interactive visualization of the same plot:"
   ]
  },
  {
   "cell_type": "code",
   "execution_count": null,
   "metadata": {
    "collapsed": false
   },
   "outputs": [],
   "source": [
    "import mpld3\n",
    "mpld3.display(fig)  # Yes, it is as simple as this !!!"
   ]
  },
  {
   "cell_type": "markdown",
   "metadata": {},
   "source": [
    "Notice that as you hover over the plot, a toolbar appears in the lower left. This has tools to enable panning and zooming, and a button to reset the view once you've explored the plot."
   ]
  },
  {
   "cell_type": "code",
   "execution_count": null,
   "metadata": {
    "collapsed": false,
    "scrolled": true
   },
   "outputs": [],
   "source": []
  },
  {
   "cell_type": "code",
   "execution_count": null,
   "metadata": {
    "collapsed": false
   },
   "outputs": [],
   "source": [
    "# multiple subplots, shared axes\n",
    "fig, ax = plt.subplots(2, 2, figsize=(8, 6),sharex='col', sharey='row')\n",
    "fig.subplots_adjust(hspace=0.3)\n",
    "\n",
    "np.random.seed(0)\n",
    "\n",
    "for axi in ax.flat:\n",
    "    color = np.random.random(3)\n",
    "    axi.plot(np.random.random(30), lw=2, c=color)\n",
    "    axi.set_title(\"RGB = ({0:.2f}, {1:.2f}, {2:.2f})\".format(*color),\n",
    "                  size=14)\n",
    "    axi.grid(color='lightgray', alpha=0.7)\n",
    "\n",
    "mpld3.display(fig)  # Displaying the interactive figure"
   ]
  },
  {
   "cell_type": "markdown",
   "metadata": {},
   "source": [
    "## Plugins"
   ]
  },
  {
   "cell_type": "markdown",
   "metadata": {},
   "source": [
    "One of the key features of mpld3 is the plugin framework. Plugins are a way to specify additional interactivity for your plots. A number of plugins are built-in, and it is also possible to define new, custom plugins for nearly limitless interactive behaviors. For example, here is the built-in Linked Brushing plugin that allows exploration of multi-dimensional datasets:"
   ]
  },
  {
   "cell_type": "code",
   "execution_count": null,
   "metadata": {
    "collapsed": false
   },
   "outputs": [],
   "source": [
    "from mpld3 import plugins\n",
    "\n",
    "fig, ax = plt.subplots(3, 3, figsize=(6, 6))\n",
    "fig.subplots_adjust(hspace=0.1, wspace=0.1)\n",
    "ax = ax[::-1]\n",
    "\n",
    "X = np.random.normal(size=(3, 100))\n",
    "for i in range(3):\n",
    "    for j in range(3):\n",
    "        ax[i, j].xaxis.set_major_formatter(plt.NullFormatter())\n",
    "        ax[i, j].yaxis.set_major_formatter(plt.NullFormatter())\n",
    "        points = ax[i, j].scatter(X[j], X[i])\n",
    "        \n",
    "plugins.connect(fig, plugins.LinkedBrush(points))\n",
    "mpld3.display(fig)  # Displaying the interactive figure\n"
   ]
  },
  {
   "cell_type": "code",
   "execution_count": null,
   "metadata": {
    "collapsed": false
   },
   "outputs": [],
   "source": [
    "from mpld3 import plugins\n",
    "\n",
    "fig, ax = plt.subplots()\n",
    "points = ax.scatter(np.random.rand(40), np.random.rand(40),\n",
    "                    s=300, alpha=0.3)\n",
    "\n",
    "labels = [\"Point {0}\".format(i) for i in range(40)]\n",
    "tooltip = plugins.PointLabelTooltip(points, labels)\n",
    "\n",
    "plugins.connect(fig, tooltip)\n",
    "mpld3.display(fig)  # Displaying the interactive figure\n"
   ]
  },
  {
   "cell_type": "code",
   "execution_count": null,
   "metadata": {
    "collapsed": false
   },
   "outputs": [],
   "source": [
    "mpld3.save_html(fig,'mpld3_test.html')\n",
    "%ls -lah *html"
   ]
  },
  {
   "cell_type": "markdown",
   "metadata": {},
   "source": [
    "###Now test it\n",
    "Open this webpage to this how it works.\n",
    "Click to open your result :  \n",
    "<a href=\"mpld3_test.html\" target=\"_blank\">mpld3_test.html !</a> "
   ]
  },
  {
   "cell_type": "markdown",
   "metadata": {},
   "source": [
    "### User plugins\n",
    "You can also define your own plugin (javascript):"
   ]
  },
  {
   "cell_type": "code",
   "execution_count": null,
   "metadata": {
    "collapsed": false
   },
   "outputs": [],
   "source": [
    "%load http://mpld3.github.io/_downloads/custom_plugin.py"
   ]
  },
  {
   "cell_type": "markdown",
   "metadata": {},
   "source": [
    "###A cool example on the Fermi catalog\n",
    "\n",
    "You can do some more complex examples to explore your results (e.g. catalogs).\n",
    "\n",
    "By clicking on the link below you can see what I recently did to visualize the Fermi 3FGL catalog.\n",
    "For each gamma-ray source, you have a pop-up window that will show the source properties: \n",
    "\n",
    "<a href=\"files/3FGL-interactive.html\" target=\"_blank\"> 3FGL-interactive.html </a> \n",
    "\n"
   ]
  },
  {
   "cell_type": "code",
   "execution_count": null,
   "metadata": {
    "collapsed": false,
    "scrolled": true
   },
   "outputs": [],
   "source": []
  }
 ],
 "metadata": {
  "kernelspec": {
   "display_name": "Python 2",
   "language": "python",
   "name": "python2"
  },
  "language_info": {
   "codemirror_mode": {
    "name": "ipython",
    "version": 2
   },
   "file_extension": ".py",
   "mimetype": "text/x-python",
   "name": "python",
   "nbconvert_exporter": "python",
   "pygments_lexer": "ipython2",
   "version": "2.7.9"
  }
 },
 "nbformat": 4,
 "nbformat_minor": 0
}
