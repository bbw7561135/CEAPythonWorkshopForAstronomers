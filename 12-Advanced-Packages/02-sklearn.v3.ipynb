{
 "cells": [
  {
   "cell_type": "markdown",
   "metadata": {},
   "source": [
    "# Machine Learning with SciKit-Learn\n",
    "\n",
    "## SciKits\n",
    "Packages that use SciPy/NumPy, but are not included in the default installation because they are not \"general\" enough"
   ]
  },
  {
   "cell_type": "code",
   "execution_count": 1,
   "metadata": {
    "collapsed": false
   },
   "outputs": [
    {
     "data": {
      "text/html": [
       "<iframe src=\"http://scikit-learn.org/stable/\" width=800 height=500></iframe>"
      ],
      "text/plain": [
       "<IPython.core.display.HTML object>"
      ]
     },
     "execution_count": 1,
     "metadata": {},
     "output_type": "execute_result"
    }
   ],
   "source": [
    "from IPython.display import HTML\n",
    "HTML('<iframe src=\"http://scikit-learn.org/stable/\" width=800 height=500></iframe>')"
   ]
  },
  {
   "cell_type": "markdown",
   "metadata": {},
   "source": [
    "## An example: Handwriting recognition!\n",
    "\n",
    "We will:\n",
    "* load some data that contains a list of images of handwritten digits and the correct digit as a label.\n",
    "* split the data in two sets: **training** and **testing**\n",
    "* train a classifier on the training set\n",
    "* use that classifier to predict the value of the images in the testing set!\n",
    "\n"
   ]
  },
  {
   "cell_type": "code",
   "execution_count": 2,
   "metadata": {
    "collapsed": false
   },
   "outputs": [],
   "source": [
    "from sklearn import datasets, svm, metrics\n",
    "from matplotlib import pyplot as plt\n",
    "%matplotlib inline"
   ]
  },
  {
   "cell_type": "code",
   "execution_count": 3,
   "metadata": {
    "collapsed": false
   },
   "outputs": [
    {
     "name": "stdout",
     "output_type": "stream",
     "text": [
      "There are 1797 images in the dataset\n"
     ]
    },
    {
     "data": {
      "image/png": "[encoded data removed]",
      "text/plain": [
       "<matplotlib.figure.Figure at 0x10cbe4390>"
      ]
     },
     "metadata": {},
     "output_type": "display_data"
    }
   ],
   "source": [
    "digits = datasets.load_digits()\n",
    "\n",
    "n_samples = len(digits.images)\n",
    "\n",
    "# what is in the data?\n",
    "images_and_labels = list(zip(digits.images, digits.target))\n",
    "print \"There are {} images in the dataset\".format(n_samples)\n",
    "\n",
    "for index, (image, label) in enumerate(images_and_labels[:10]):\n",
    "    plt.subplot(2, 5, index + 1)\n",
    "    plt.axis('off')\n",
    "    plt.imshow(image, cmap=plt.cm.gray_r, interpolation='nearest')\n",
    "    plt.title('Training: %i' % label)\n"
   ]
  },
  {
   "cell_type": "markdown",
   "metadata": {},
   "source": [
    "To apply a classifier on this data, we need to flatten the image, to\n",
    "turn the data in a (samples, feature) matrix:"
   ]
  },
  {
   "cell_type": "code",
   "execution_count": 4,
   "metadata": {
    "collapsed": false
   },
   "outputs": [
    {
     "name": "stdout",
     "output_type": "stream",
     "text": [
      "(8, 8)\n",
      "1797\n",
      "DATA\n",
      "[[  0.   0.   5.  13.   9.   1.   0.   0.   0.   0.  13.  15.  10.  15.\n",
      "    5.   0.   0.   3.  15.   2.   0.  11.   8.   0.   0.   4.  12.   0.\n",
      "    0.   8.   8.   0.   0.   5.   8.   0.   0.   9.   8.   0.   0.   4.\n",
      "   11.   0.   1.  12.   7.   0.   0.   2.  14.   5.  10.  12.   0.   0.\n",
      "    0.   0.   6.  13.  10.   0.   0.   0.]\n",
      " [  0.   0.   0.  12.  13.   5.   0.   0.   0.   0.   0.  11.  16.   9.\n",
      "    0.   0.   0.   0.   3.  15.  16.   6.   0.   0.   0.   7.  15.  16.\n",
      "   16.   2.   0.   0.   0.   0.   1.  16.  16.   3.   0.   0.   0.   0.\n",
      "    1.  16.  16.   6.   0.   0.   0.   0.   1.  16.  16.   6.   0.   0.\n",
      "    0.   0.   0.  11.  16.  10.   0.   0.]\n",
      " [  0.   0.   0.   4.  15.  12.   0.   0.   0.   0.   3.  16.  15.  14.\n",
      "    0.   0.   0.   0.   8.  13.   8.  16.   0.   0.   0.   0.   1.   6.\n",
      "   15.  11.   0.   0.   0.   1.   8.  13.  15.   1.   0.   0.   0.   9.\n",
      "   16.  16.   5.   0.   0.   0.   0.   3.  13.  16.  16.  11.   5.   0.\n",
      "    0.   0.   0.   3.  11.  16.   9.   0.]]\n",
      "LABELS: [0 1 2]\n"
     ]
    }
   ],
   "source": [
    "print digits.images[0].shape\n",
    "labels = digits.target\n",
    "data = digits.images.reshape((n_samples, -1)) # flattens each image\n",
    "\n",
    "print n_samples\n",
    "print \"DATA\\n\",data[0:3]\n",
    "print \"LABELS:\",labels[0:3]\n"
   ]
  },
  {
   "cell_type": "markdown",
   "metadata": {},
   "source": [
    " split the data set into 2: half for training, half for testing\n"
   ]
  },
  {
   "cell_type": "code",
   "execution_count": 5,
   "metadata": {
    "collapsed": true
   },
   "outputs": [],
   "source": [
    "# the training data\n",
    "training_data = data[:n_samples / 2]\n",
    "training_labels = labels[:n_samples / 2]\n",
    "\n",
    "# the testing data\n",
    "testing_labels = digits.target[n_samples / 2:]\n",
    "testing_data = data[n_samples / 2:]"
   ]
  },
  {
   "cell_type": "markdown",
   "metadata": {},
   "source": [
    "### Training:\n",
    "create a classifier (in this case a Support Vector Machine Classifier)"
   ]
  },
  {
   "cell_type": "code",
   "execution_count": 6,
   "metadata": {
    "collapsed": false
   },
   "outputs": [
    {
     "data": {
      "text/plain": [
       "SVC(C=1.0, cache_size=200, class_weight=None, coef0=0.0, degree=3,\n",
       "  gamma=0.0005, kernel='rbf', max_iter=-1, probability=False,\n",
       "  random_state=None, shrinking=True, tol=0.001, verbose=False)"
      ]
     },
     "execution_count": 6,
     "metadata": {},
     "output_type": "execute_result"
    }
   ],
   "source": [
    "classifier = svm.SVC(gamma=0.0005)\n",
    "classifier.fit( training_data, training_labels )  # train it!"
   ]
  },
  {
   "cell_type": "markdown",
   "metadata": {},
   "source": [
    "That's it! **The classifier is now trained on the training data!**\n",
    "\n",
    "Now predict the value of the digit on the second half:\n",
    "\n",
    "### Classification!"
   ]
  },
  {
   "cell_type": "code",
   "execution_count": 7,
   "metadata": {
    "collapsed": false
   },
   "outputs": [],
   "source": [
    "predicted_labels = classifier.predict( testing_data )"
   ]
  },
  {
   "cell_type": "markdown",
   "metadata": {},
   "source": [
    "We now have predicted labels for each of the images in the test data set. We can compare those to the testing labels (which are the correct labels)\n",
    "\n",
    "Let's print a report, and display the predictions for some of the test data:"
   ]
  },
  {
   "cell_type": "code",
   "execution_count": 8,
   "metadata": {
    "collapsed": false
   },
   "outputs": [
    {
     "name": "stdout",
     "output_type": "stream",
     "text": [
      "EXPECTED: 8 PREDICTED: 8 True\n",
      "EXPECTED: 8 PREDICTED: 8 True\n",
      "EXPECTED: 4 PREDICTED: 4 True\n",
      "EXPECTED: 9 PREDICTED: 9 True\n",
      "EXPECTED: 0 PREDICTED: 0 True\n",
      "EXPECTED: 8 PREDICTED: 8 True\n",
      "EXPECTED: 9 PREDICTED: 9 True\n",
      "EXPECTED: 8 PREDICTED: 1 False\n",
      "EXPECTED: 1 PREDICTED: 1 True\n",
      "EXPECTED: 2 PREDICTED: 2 True\n",
      "EXPECTED: 3 PREDICTED: 3 True\n",
      "EXPECTED: 4 PREDICTED: 4 True\n",
      "EXPECTED: 5 PREDICTED: 5 True\n",
      "EXPECTED: 6 PREDICTED: 6 True\n",
      "EXPECTED: 7 PREDICTED: 7 True\n",
      "EXPECTED: 8 PREDICTED: 8 True\n",
      "EXPECTED: 9 PREDICTED: 9 True\n",
      "EXPECTED: 0 PREDICTED: 0 True\n",
      "EXPECTED: 1 PREDICTED: 1 True\n",
      "EXPECTED: 2 PREDICTED: 2 True\n",
      "EXPECTED: 3 PREDICTED: 3 True\n",
      "EXPECTED: 4 PREDICTED: 4 True\n",
      "EXPECTED: 5 PREDICTED: 5 True\n",
      "EXPECTED: 6 PREDICTED: 6 True\n",
      "EXPECTED: 7 PREDICTED: 7 True\n",
      "EXPECTED: 8 PREDICTED: 8 True\n",
      "EXPECTED: 9 PREDICTED: 9 True\n",
      "EXPECTED: 0 PREDICTED: 0 True\n",
      "EXPECTED: 1 PREDICTED: 1 True\n",
      "EXPECTED: 2 PREDICTED: 2 True\n",
      "EXPECTED: 3 PREDICTED: 3 True\n",
      "EXPECTED: 4 PREDICTED: 4 True\n",
      "EXPECTED: 5 PREDICTED: 9 False\n",
      "EXPECTED: 6 PREDICTED: 6 True\n",
      "EXPECTED: 7 PREDICTED: 7 True\n",
      "EXPECTED: 8 PREDICTED: 8 True\n",
      "EXPECTED: 9 PREDICTED: 9 True\n",
      "EXPECTED: 0 PREDICTED: 0 True\n",
      "EXPECTED: 9 PREDICTED: 9 True\n",
      "EXPECTED: 5 PREDICTED: 5 True\n",
      "EXPECTED: 5 PREDICTED: 5 True\n",
      "EXPECTED: 6 PREDICTED: 6 True\n",
      "EXPECTED: 5 PREDICTED: 5 True\n",
      "EXPECTED: 0 PREDICTED: 0 True\n",
      "EXPECTED: 9 PREDICTED: 9 True\n",
      "EXPECTED: 8 PREDICTED: 8 True\n",
      "EXPECTED: 9 PREDICTED: 9 True\n",
      "EXPECTED: 8 PREDICTED: 8 True\n",
      "EXPECTED: 4 PREDICTED: 4 True\n",
      "EXPECTED: 1 PREDICTED: 1 True\n"
     ]
    }
   ],
   "source": [
    "for expected,predicted in zip(testing_labels, predicted_labels)[:50]:\n",
    "    print \"EXPECTED:\",expected, \"PREDICTED:\",predicted,expected==predicted"
   ]
  },
  {
   "cell_type": "code",
   "execution_count": 9,
   "metadata": {
    "collapsed": false
   },
   "outputs": [
    {
     "name": "stdout",
     "output_type": "stream",
     "text": [
      "Classification report for classifier SVC(C=1.0, cache_size=200, class_weight=None, coef0=0.0, degree=3,\n",
      "  gamma=0.0005, kernel='rbf', max_iter=-1, probability=False,\n",
      "  random_state=None, shrinking=True, tol=0.001, verbose=False):\n",
      "             precision    recall  f1-score   support\n",
      "\n",
      "          0       0.99      0.99      0.99        88\n",
      "          1       0.97      0.98      0.97        91\n",
      "          2       1.00      0.98      0.99        86\n",
      "          3       0.98      0.87      0.92        91\n",
      "          4       0.99      0.96      0.97        92\n",
      "          5       0.93      0.97      0.95        91\n",
      "          6       0.99      0.99      0.99        91\n",
      "          7       0.95      0.99      0.97        89\n",
      "          8       0.93      0.95      0.94        88\n",
      "          9       0.92      0.96      0.94        92\n",
      "\n",
      "avg / total       0.96      0.96      0.96       899\n",
      "\n",
      "Confusion matrix:\n",
      "[[87  0  0  0  1  0  0  0  0  0]\n",
      " [ 0 89  0  0  0  0  0  0  1  1]\n",
      " [ 1  0 84  1  0  0  0  0  0  0]\n",
      " [ 0  0  0 79  0  3  0  4  5  0]\n",
      " [ 0  0  0  0 88  0  0  0  0  4]\n",
      " [ 0  0  0  0  0 88  1  0  0  2]\n",
      " [ 0  1  0  0  0  0 90  0  0  0]\n",
      " [ 0  0  0  0  0  1  0 88  0  0]\n",
      " [ 0  2  0  0  0  1  0  0 84  1]\n",
      " [ 0  0  0  1  0  2  0  1  0 88]]\n"
     ]
    },
    {
     "data": {
      "image/png": "[encoded data removed]",
      "text/plain": [
       "<matplotlib.figure.Figure at 0x10be3c050>"
      ]
     },
     "metadata": {},
     "output_type": "display_data"
    }
   ],
   "source": [
    "print \"Classification report for classifier {0}:\".format(classifier)\n",
    "print metrics.classification_report(testing_labels, predicted_labels)\n",
    "\n",
    "print \"Confusion matrix:\\n\",metrics.confusion_matrix(testing_labels, predicted_labels)\n",
    "\n",
    "images_and_predictions = list(zip(digits.images[n_samples / 2:], predicted_labels))\n",
    "\n",
    "plt.figure(figsize=(10,4))\n",
    "for index, (image, prediction) in enumerate(images_and_predictions[:6]):\n",
    "    plt.subplot(2, 6, index+1)\n",
    "    #plt.axis('off')\n",
    "    plt.imshow(image, cmap=plt.cm.gray_r, interpolation='nearest')\n",
    "    plt.title('Predicted: %i' % prediction)\n",
    "\n",
    "plt.show()"
   ]
  },
  {
   "cell_type": "markdown",
   "metadata": {},
   "source": [
    "## Cool, but let's go further: I'll load some of my own handwriting!"
   ]
  },
  {
   "cell_type": "markdown",
   "metadata": {},
   "source": [
    "<img src=\"handwrite-me.jpg\">\n",
    "<img src=\"handwrite-large.png\" width=\"50%\"> "
   ]
  },
  {
   "cell_type": "code",
   "execution_count": 10,
   "metadata": {
    "collapsed": false
   },
   "outputs": [],
   "source": [
    "from scipy import misc, ndimage\n",
    "im = misc.imread(\"handwrite-small.png\")\n",
    "im = (255-im)/16.0"
   ]
  },
  {
   "cell_type": "code",
   "execution_count": 11,
   "metadata": {
    "collapsed": false
   },
   "outputs": [
    {
     "data": {
      "text/plain": [
       "<matplotlib.image.AxesImage at 0x10e3e0ad0>"
      ]
     },
     "execution_count": 11,
     "metadata": {},
     "output_type": "execute_result"
    },
    {
     "data": {
      "image/png": "[encoded data removed]",
      "text/plain": [
       "<matplotlib.figure.Figure at 0x10cbd7290>"
      ]
     },
     "metadata": {},
     "output_type": "display_data"
    }
   ],
   "source": [
    "plt.set_cmap(plt.cm.gray_r)\n",
    "plt.imshow(im, interpolation='nearest')\n"
   ]
  },
  {
   "cell_type": "code",
   "execution_count": 12,
   "metadata": {
    "collapsed": false
   },
   "outputs": [
    {
     "data": {
      "text/plain": [
       "<matplotlib.image.AxesImage at 0x10e59fe10>"
      ]
     },
     "execution_count": 12,
     "metadata": {},
     "output_type": "execute_result"
    },
    {
     "data": {
      "image/png": "[encoded data removed]",
      "text/plain": [
       "<matplotlib.figure.Figure at 0x10e380b50>"
      ]
     },
     "metadata": {},
     "output_type": "display_data"
    }
   ],
   "source": [
    "four = im[:,6:14]\n",
    "two = im[:,14:14+8]\n",
    "six = im[:,25:25+8]\n",
    "one = im[:,20:20+8].copy()\n",
    "one[:,6:] = 0 # the next letter was too close so have to overwrite that part\n",
    "\n",
    "plt.subplot(1,4,1)\n",
    "plt.imshow(one, interpolation='nearest')\n",
    "plt.subplot(1,4,2)\n",
    "plt.imshow(two, interpolation='nearest')\n",
    "plt.subplot(1,4,3)\n",
    "plt.imshow(four, interpolation='nearest')\n",
    "plt.subplot(1,4,4)\n",
    "plt.imshow(six, interpolation='nearest')\n",
    "\n"
   ]
  },
  {
   "cell_type": "code",
   "execution_count": 13,
   "metadata": {
    "collapsed": false
   },
   "outputs": [
    {
     "data": {
      "text/plain": [
       "array([1, 2, 9, 4])"
      ]
     },
     "execution_count": 13,
     "metadata": {},
     "output_type": "execute_result"
    }
   ],
   "source": [
    "classifier.predict( [one.flatten(),two.flatten(),four.flatten(), six.flatten()] )"
   ]
  },
  {
   "cell_type": "markdown",
   "metadata": {},
   "source": [
    "Not bad!  My handwriting isn't so great! (the 4 and the 6 get confused with 9 and 4)"
   ]
  },
  {
   "cell_type": "markdown",
   "metadata": {},
   "source": [
    "\n",
    "\n",
    "\n",
    "\n",
    "# Another demo:\n",
    "Visualizing what a SVM does!\n",
    "(see console demo)\n"
   ]
  },
  {
   "cell_type": "code",
   "execution_count": null,
   "metadata": {
    "collapsed": true
   },
   "outputs": [],
   "source": []
  }
 ],
 "metadata": {
  "kernelspec": {
   "display_name": "Python 2",
   "language": "python",
   "name": "python2"
  },
  "language_info": {
   "codemirror_mode": {
    "name": "ipython",
    "version": 2
   },
   "file_extension": ".py",
   "mimetype": "text/x-python",
   "name": "python",
   "nbconvert_exporter": "python",
   "pygments_lexer": "ipython2",
   "version": "2.7.9"
  }
 },
 "nbformat": 4,
 "nbformat_minor": 0
}
