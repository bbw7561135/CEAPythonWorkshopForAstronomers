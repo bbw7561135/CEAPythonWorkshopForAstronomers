{
 "metadata": {
  "name": "",
  "signature": "sha256:4cb4642608c5c838390be996294893c57dd6f47968d86aa33857788ca9c648ac"
 },
 "nbformat": 3,
 "nbformat_minor": 0,
 "worksheets": [
  {
   "cells": [
    {
     "cell_type": "code",
     "collapsed": false,
     "input": [
      "# Use the new-style print function, don't worry about this\n",
      "from __future__ import print_function"
     ],
     "language": "python",
     "metadata": {},
     "outputs": []
    },
    {
     "cell_type": "heading",
     "level": 1,
     "metadata": {},
     "source": [
      "Advanced Training"
     ]
    },
    {
     "cell_type": "markdown",
     "metadata": {},
     "source": [
      "Olivier Iffrig (LMPA) <olivier.iffrig@cea.fr>"
     ]
    },
    {
     "cell_type": "heading",
     "level": 2,
     "metadata": {},
     "source": [
      "Using libraries"
     ]
    },
    {
     "cell_type": "markdown",
     "metadata": {},
     "source": [
      "One of the great advantages of Python is the variety of libraries available. Before thinking of building your own, check if what you want to do does not already exist.\n",
      "\n",
      "The standard modules distributed with Python are described here: http://docs.python.org/2.7/library/index.html"
     ]
    },
    {
     "cell_type": "code",
     "collapsed": false,
     "input": [
      "# Easter egg: try to uncomment the following line, and execute\n",
      "#import antigravity"
     ],
     "language": "python",
     "metadata": {},
     "outputs": []
    },
    {
     "cell_type": "markdown",
     "metadata": {},
     "source": [
      "There are two ways of importing modules\n",
      "\n",
      " * importing the whose module as a separate namespace (recommended)\n",
      " * importing specific parts in the global namespace (use with care)"
     ]
    },
    {
     "cell_type": "heading",
     "level": 3,
     "metadata": {},
     "source": [
      "Import a whole module"
     ]
    },
    {
     "cell_type": "markdown",
     "metadata": {},
     "source": [
      "This is the most standard way to use a module."
     ]
    },
    {
     "cell_type": "code",
     "collapsed": false,
     "input": [
      "import math\n",
      "\n",
      "print(\"We just imported the 'math' module, its type is {0}.\".format(type(math)))\n",
      "\n",
      "print(\"pi = {0}\".format(math.pi))"
     ],
     "language": "python",
     "metadata": {},
     "outputs": []
    },
    {
     "cell_type": "markdown",
     "metadata": {},
     "source": [
      "We just created a *module* object named *math* inside the current name space. It contains several variables and constants (see http://docs.python.org/2.7/library/math.html for the reference). We did **not** define them in the global namespace."
     ]
    },
    {
     "cell_type": "code",
     "collapsed": false,
     "input": [
      "pi"
     ],
     "language": "python",
     "metadata": {},
     "outputs": []
    },
    {
     "cell_type": "markdown",
     "metadata": {},
     "source": [
      "Sometimes you may want to make a module name shorter. Or only keep part of the name of a module living deep in a hierarchy, like *fits* instead of *astropy.io.fits*."
     ]
    },
    {
     "cell_type": "code",
     "collapsed": false,
     "input": [
      "import math as M # This is just an example, it is not really useful here\n",
      "\n",
      "print(\"We imported the 'math' module as 'M', are 'math' and 'M' the same?\")\n",
      "print(math is M)"
     ],
     "language": "python",
     "metadata": {},
     "outputs": []
    },
    {
     "cell_type": "markdown",
     "metadata": {},
     "source": [
      "As you may see later, some abbreviations are widely used. But remember that people reading your code may not understand your abbreviations, so avoid using too many of them."
     ]
    },
    {
     "cell_type": "heading",
     "level": 3,
     "metadata": {},
     "source": [
      "Import some parts of a module"
     ]
    },
    {
     "cell_type": "markdown",
     "metadata": {},
     "source": [
      "When you want to import a single function from a module, it can be simpler to import it directly into the global namespace."
     ]
    },
    {
     "cell_type": "code",
     "collapsed": false,
     "input": [
      "from math import sqrt\n",
      "\n",
      "print(\"The square root of 3 is {0}\".format(sqrt(3)))"
     ],
     "language": "python",
     "metadata": {},
     "outputs": []
    },
    {
     "cell_type": "markdown",
     "metadata": {},
     "source": [
      "Again, do not import too many functions like this. It reduces the readability of your code.\n",
      "\n",
      "Sometimes you may see this:"
     ]
    },
    {
     "cell_type": "code",
     "collapsed": false,
     "input": [
      "from os import *"
     ],
     "language": "python",
     "metadata": {},
     "outputs": []
    },
    {
     "cell_type": "markdown",
     "metadata": {},
     "source": [
      "This imports everything the module *os* defines into the global namespace.\n",
      "\n",
      "<font color=\"red\">Do NOT do this. You may override some functions and get strange errors.</font>"
     ]
    },
    {
     "cell_type": "code",
     "collapsed": false,
     "input": [
      "f = open(\"dummy.txt\", \"r\") # We wanted to use the built-in 'open'\n",
      "                           # but it has been overridden by os.open"
     ],
     "language": "python",
     "metadata": {},
     "outputs": []
    },
    {
     "cell_type": "heading",
     "level": 2,
     "metadata": {},
     "source": [
      "Defining your own functions"
     ]
    },
    {
     "cell_type": "markdown",
     "metadata": {},
     "source": [
      "Functions are the basic building block of procedural programming. They are the simplest way to make code reusable.\n",
      "\n",
      "A function definition looks like this:\n",
      "\n",
      "```python\n",
      "    def func(arg1, arg2, ..., argN):\n",
      "        code # Notice the indentation\n",
      "```\n",
      "\n",
      "Let's define a function returning the square of any number."
     ]
    },
    {
     "cell_type": "code",
     "collapsed": false,
     "input": [
      "def square(x):\n",
      "    \"\"\"Compute the square of x\"\"\" # <-- this is called a docstring\n",
      "    return x**2"
     ],
     "language": "python",
     "metadata": {},
     "outputs": []
    },
    {
     "cell_type": "markdown",
     "metadata": {},
     "source": [
      "The `return` keyword is a special statement, which causes the function to terminate. The expression following the `return` keyword is the result of the function (if there is no `return` or if `return` has no argument, the result is `None`)."
     ]
    },
    {
     "cell_type": "code",
     "collapsed": false,
     "input": [
      "print(\"The square of 4.25 is {0}\".format(square(4.25)))"
     ],
     "language": "python",
     "metadata": {},
     "outputs": []
    },
    {
     "cell_type": "markdown",
     "metadata": {},
     "source": [
      "A function may have multiple arguments:"
     ]
    },
    {
     "cell_type": "code",
     "collapsed": false,
     "input": [
      "def add(x, y):\n",
      "    \"\"\"Compute the sum of the two arguments\"\"\"\n",
      "    return x + y"
     ],
     "language": "python",
     "metadata": {},
     "outputs": []
    },
    {
     "cell_type": "markdown",
     "metadata": {},
     "source": [
      "Some arguments may be optional. You can specify their default value. Note that they have to be defined **after** the required arguments."
     ]
    },
    {
     "cell_type": "code",
     "collapsed": false,
     "input": [
      "def foo(x, y=1):\n",
      "    \"\"\"Some complicated function\"\"\"\n",
      "    if x > 0:\n",
      "        return x - y\n",
      "    else:\n",
      "        return x + y\n",
      "\n",
      "print(\"foo(2) is {0}\".format(foo(2)))\n",
      "print(\"foo(-1, 3) is {0}\".format(foo(-1, 3)))"
     ],
     "language": "python",
     "metadata": {},
     "outputs": []
    },
    {
     "cell_type": "markdown",
     "metadata": {},
     "source": [
      "If you have several optional arguments, you can specify only part of them by giving their name."
     ]
    },
    {
     "cell_type": "code",
     "collapsed": false,
     "input": [
      "def bar(x, y=1, z=2):\n",
      "    return x * y + z\n",
      "\n",
      "print(\"bar(1, z=3) is\", bar(1, z=3))"
     ],
     "language": "python",
     "metadata": {},
     "outputs": []
    },
    {
     "cell_type": "heading",
     "level": 3,
     "metadata": {},
     "source": [
      "Documenting functions"
     ]
    },
    {
     "cell_type": "markdown",
     "metadata": {},
     "source": [
      "Most of the functions coming from modules you may import are documented. You can use the ```help``` function to see this documentation."
     ]
    },
    {
     "cell_type": "code",
     "collapsed": false,
     "input": [
      "help(math.radians)"
     ],
     "language": "python",
     "metadata": {},
     "outputs": []
    },
    {
     "cell_type": "markdown",
     "metadata": {},
     "source": [
      "Remember the ```square``` function we defined? It had a docstring."
     ]
    },
    {
     "cell_type": "code",
     "collapsed": false,
     "input": [
      "help(square)"
     ],
     "language": "python",
     "metadata": {},
     "outputs": []
    },
    {
     "cell_type": "code",
     "collapsed": false,
     "input": [
      "help(bar) # This one did not..."
     ],
     "language": "python",
     "metadata": {},
     "outputs": []
    },
    {
     "cell_type": "markdown",
     "metadata": {},
     "source": [
      "Don't forget to document your code, it may help everyone, including you!\n",
      "\n",
      "Docstrings are the stadard way to document your code. They are recognized by many IDEs, by the Python interpreter (the function has a ```__doc__``` attribute containing it), IPython and documentation generators such as sphinx.\n",
      "\n",
      "Do not forget to document the parameters and return value of your functions, and specify the types. It may also help to list the exceptions your function may raise.\n",
      "\n",
      "A guide about good documentation practices: https://github.com/numpy/numpy/blob/master/doc/HOWTO_DOCUMENT.rst.txt"
     ]
    },
    {
     "cell_type": "heading",
     "level": 4,
     "metadata": {},
     "source": [
      "Note for IPython users"
     ]
    },
    {
     "cell_type": "markdown",
     "metadata": {},
     "source": [
      "To access an object's documentation, you can also use"
     ]
    },
    {
     "cell_type": "code",
     "collapsed": false,
     "input": [
      "square?"
     ],
     "language": "python",
     "metadata": {},
     "outputs": []
    },
    {
     "cell_type": "markdown",
     "metadata": {},
     "source": [
      "In the IPython console, the documentation will be printed, in a notebook, it will show up at the bottom of your screen.\n",
      "You can also see the source Python code (if it is available) with `??`."
     ]
    },
    {
     "cell_type": "code",
     "collapsed": false,
     "input": [
      "square??"
     ],
     "language": "python",
     "metadata": {},
     "outputs": []
    },
    {
     "cell_type": "heading",
     "level": 3,
     "metadata": {},
     "source": [
      "More on functions..."
     ]
    },
    {
     "cell_type": "heading",
     "level": 4,
     "metadata": {},
     "source": [
      "Catch-all arguments"
     ]
    },
    {
     "cell_type": "markdown",
     "metadata": {},
     "source": [
      "Python has a special syntax for functions accepting a variable number of arguments.\n",
      "\n",
      "Arguments can be split into two categories:\n",
      " * Positional arguments: the required ones, where order matters\n",
      " * Keyword arguments: the optional ones, identified by their name\n",
      "\n",
      "You can tell the Python interpreter to store the remaining positional arguments in a tuple by putting an asterisk in front of its name.\n",
      "\n",
      "Similarly, keyword arguments can be stored in a dictionary by putting two asterisks in front of its name."
     ]
    },
    {
     "cell_type": "code",
     "collapsed": false,
     "input": [
      "def dummy(*args, **kwargs):\n",
      "    \"\"\"Print the arguments\"\"\"\n",
      "    print(\"Positional arguments:\", args)\n",
      "    print(\"Keyword arguments:\", kwargs)\n",
      "    print()\n",
      "\n",
      "dummy()\n",
      "dummy(foo=3)\n",
      "dummy(1, 2, 3, bar=4)"
     ],
     "language": "python",
     "metadata": {},
     "outputs": []
    },
    {
     "cell_type": "markdown",
     "metadata": {},
     "source": [
      "You can use both named (required and optional) and catch-all arguments in the same function definition. Notice the order though."
     ]
    },
    {
     "cell_type": "code",
     "collapsed": false,
     "input": [
      "def mix(x, y=1, *args, **kwargs):\n",
      "    \"\"\"Just an example mixing all argument types\"\"\"\n",
      "    print(\"x = {0}, y = {1}, args = {2}, kwargs = {3}\".format(x, y, args, kwargs))\n",
      "\n",
      "mix(42)\n",
      "mix(\"a\", \"b\")\n",
      "mix(\"a\", \"b\", \"x\")\n",
      "mix(2, y=1, c=4)\n",
      "mix(1, y=3)\n",
      "mix(1, d=8)"
     ],
     "language": "python",
     "metadata": {},
     "outputs": []
    },
    {
     "cell_type": "markdown",
     "metadata": {},
     "source": [
      "This star notation can also be used the other way round, to specify arguments from a tuple and/or a dictionary:"
     ]
    },
    {
     "cell_type": "code",
     "collapsed": false,
     "input": [
      "d = {\"u\": 3}\n",
      "mix(1, y=2, **d)\n",
      "\n",
      "t = (1, 3, 7)\n",
      "mix(*t, v=8)\n",
      "\n",
      "mix(*t, **d)"
     ],
     "language": "python",
     "metadata": {},
     "outputs": []
    },
    {
     "cell_type": "heading",
     "level": 4,
     "metadata": {},
     "source": [
      "Anonymous functions"
     ]
    },
    {
     "cell_type": "markdown",
     "metadata": {},
     "source": [
      "Sometimes, it would be overkill to define a new function, for instance when the code holds on a single line, and you use it only once, as an argument to another function.\n",
      "\n",
      "You can specify small, anonymous functions, called *lambda* functions (like in lambda-calculus), with any number of arguments (including catch-all). The syntax is the following:\n",
      "\n",
      "```python\n",
      "lambda arg1, arg2: value\n",
      "```"
     ]
    },
    {
     "cell_type": "code",
     "collapsed": false,
     "input": [
      "lst = range(6)\n",
      "print(lst)\n",
      "lst2 = map(lambda x: x**2, lst)\n",
      "print(lst2)"
     ],
     "language": "python",
     "metadata": {},
     "outputs": []
    },
    {
     "cell_type": "heading",
     "level": 4,
     "metadata": {},
     "source": [
      "Arguments passed by reference"
     ]
    },
    {
     "cell_type": "markdown",
     "metadata": {},
     "source": [
      "In Python, there are two main categories of types, mutable and immutable ones.\n",
      "\n",
      "Most basic types are immutable: ```int, float, str, tuple, set```.\n",
      "\n",
      "Compound types are mutable: ```list, dict, ...```, and also user-defined types.\n",
      "\n",
      "Objects are passed by reference, which means that every in-place modification **to a mutable object** is visible once you leave the function:"
     ]
    },
    {
     "cell_type": "code",
     "collapsed": false,
     "input": [
      "def append_one(lst):\n",
      "    lst.append(1)\n",
      "    return lst\n",
      "\n",
      "lst = [2, 3, \"a\"]\n",
      "lst2 = append_one(lst)\n",
      "print(lst, lst2)"
     ],
     "language": "python",
     "metadata": {},
     "outputs": []
    },
    {
     "cell_type": "markdown",
     "metadata": {},
     "source": [
      "To modify an immutable object, you have to create a new one, breaking the reference. Thus, immutable objects passed down to functions behave as if they were passed by value."
     ]
    },
    {
     "cell_type": "code",
     "collapsed": false,
     "input": [
      "def increment(x):\n",
      "    x += 1\n",
      "    return x\n",
      "\n",
      "x = 2\n",
      "y = increment(x)\n",
      "print(x, y)"
     ],
     "language": "python",
     "metadata": {},
     "outputs": []
    },
    {
     "cell_type": "markdown",
     "metadata": {},
     "source": [
      "This behaviour is also true for default values. Note that default values are evaluated only once:"
     ]
    },
    {
     "cell_type": "code",
     "collapsed": false,
     "input": [
      "def append_one(lst=[]):\n",
      "    lst.append(1)\n",
      "    return lst\n",
      "\n",
      "lst = append_one()\n",
      "print(lst) # The value of the default argument of append_one is now [1]\n",
      "lst2 = append_one()\n",
      "print(lst, lst2)"
     ],
     "language": "python",
     "metadata": {},
     "outputs": []
    },
    {
     "cell_type": "heading",
     "level": 2,
     "metadata": {},
     "source": [
      "Defining your own modules"
     ]
    },
    {
     "cell_type": "markdown",
     "metadata": {},
     "source": [
      "A good practice when writing Python code is to make it reusable: defining functions, and grouping them into modules, which you can import whenever you need."
     ]
    },
    {
     "cell_type": "heading",
     "level": 3,
     "metadata": {},
     "source": [
      "Single-file modules"
     ]
    },
    {
     "cell_type": "markdown",
     "metadata": {},
     "source": [
      "If you wrote a Python script (in a `.py` file), you already did! The simplest way to define a module is to create a `.py` file, where the name before the `.py` is the name of your module (this name must be a valid Python identifier, it should not contain any space, dot or hyphen, etc.)."
     ]
    },
    {
     "cell_type": "code",
     "collapsed": false,
     "input": [
      "%%file mymodule.py\n",
      "\"\"\"My first Python module\"\"\" # <-- Remember about docstrings?\n",
      "# You can (and should) also document modules using docstrings.\n",
      "\n",
      "from __future__ import print_function\n",
      "\n",
      "print(\"Imported, my name is '{}'\".format(__name__)) # __name__ contains the name of the module if it is imported,\n",
      "                                         # or \"__main__\" if it is executed directly\n",
      "# Any code you may put here will be executed, try it!\n",
      "\n",
      "def foo():\n",
      "    \"\"\"Hello world\"\"\"\n",
      "    print(\"Hello, world !\")"
     ],
     "language": "python",
     "metadata": {},
     "outputs": []
    },
    {
     "cell_type": "markdown",
     "metadata": {},
     "source": [
      "A quick remark about `__name__`. Python has several ways to do some introspection. Modules know their name, and also the file name in `__file__`. You can access this information from inside the module as well as from outside.\n",
      "\n",
      "In some modules, you may see constructs like this:\n",
      "\n",
      "```python\n",
      "if __name__ == '__main__':\n",
      "    do_something()\n",
      "```\n",
      "\n",
      "This allows you to do some actions only if the script file is executed directly (because is name is `'__main__'`), and not when it is imported. You can for example do some testing like that."
     ]
    },
    {
     "cell_type": "markdown",
     "metadata": {},
     "source": [
      "Now that we have created `mymodule.py`, we can use it like any other module."
     ]
    },
    {
     "cell_type": "code",
     "collapsed": false,
     "input": [
      "import mymodule\n",
      "help(mymodule)\n",
      "mymodule.foo()"
     ],
     "language": "python",
     "metadata": {},
     "outputs": []
    },
    {
     "cell_type": "heading",
     "level": 3,
     "metadata": {},
     "source": [
      "Packages"
     ]
    },
    {
     "cell_type": "markdown",
     "metadata": {},
     "source": [
      "Most of the time, a library consists of more than one single module. In that case, you can create a package containing your modules. It is just a directory, again, the directory name will be the name of the package.\n",
      "\n",
      "Modules (.py files or subdirectories) contained in a package can be accessed directly by their name, using a dot as hierarchical separator:"
     ]
    },
    {
     "cell_type": "code",
     "collapsed": false,
     "input": [
      "import os.path\n",
      "help(os.path)"
     ],
     "language": "python",
     "metadata": {},
     "outputs": []
    },
    {
     "cell_type": "markdown",
     "metadata": {},
     "source": [
      "This, however, only works if there is a file called `__init__.py` (notice the double underscores) in the directory. This file can be empty. Its contents is executed when you import your package."
     ]
    },
    {
     "cell_type": "code",
     "collapsed": false,
     "input": [
      "%%bash\n",
      "mkdir -p mypackage"
     ],
     "language": "python",
     "metadata": {},
     "outputs": []
    },
    {
     "cell_type": "code",
     "collapsed": false,
     "input": [
      "%%file mypackage/__init__.py\n",
      "\"\"\"Package sample\"\"\"\n",
      "\n",
      "print(\"Hello from my first package!\")"
     ],
     "language": "python",
     "metadata": {},
     "outputs": []
    },
    {
     "cell_type": "code",
     "collapsed": false,
     "input": [
      "import mypackage"
     ],
     "language": "python",
     "metadata": {},
     "outputs": []
    },
    {
     "cell_type": "markdown",
     "metadata": {},
     "source": [
      "You can then make submodules which contain specific features, and can be imported specifically by using their qualified name *packagename*`.`*modulename*. You main nest several levels of packages. Don't forget the `__init__.py`! A good practice is to re-import the most useful objects into `__init__.py`."
     ]
    },
    {
     "cell_type": "code",
     "collapsed": false,
     "input": [
      "%%file mypackage/foo.py\n",
      "\"\"\"A package submodule\"\"\"\n",
      "\n",
      "from __future__ import print_function\n",
      "\n",
      "def foo(x):\n",
      "    \"\"\"Fooes the argument\"\"\"\n",
      "    print(\"Fooing\", repr(x))"
     ],
     "language": "python",
     "metadata": {},
     "outputs": []
    },
    {
     "cell_type": "code",
     "collapsed": false,
     "input": [
      "import mypackage.foo\n",
      "mypackage.foo.foo(42)"
     ],
     "language": "python",
     "metadata": {},
     "outputs": []
    },
    {
     "cell_type": "heading",
     "level": 3,
     "metadata": {},
     "source": [
      "How import finds the module you want"
     ]
    },
    {
     "cell_type": "markdown",
     "metadata": {},
     "source": [
      "Like your shell has a `PATH` environment variable to look for executables, the Python interpreter has the ```sys.path``` variable to look for modules. This variable can be modified directly (not recommended), or by setting the `PYTHONPATH` environment variable just like you would set your `PATH`."
     ]
    },
    {
     "cell_type": "code",
     "collapsed": false,
     "input": [
      "import sys\n",
      "print(sys.path)"
     ],
     "language": "python",
     "metadata": {},
     "outputs": []
    },
    {
     "cell_type": "markdown",
     "metadata": {},
     "source": [
      "The simplest way to make a module available is to put it in your working directory. However, you may want to make your packages available for many scripts, regardless of the working directory. To do that, you can either put the package into one of the system directories (not recommended), add a custom directory to your `PYTHONPATH` and use it as a custom package directory (better).\n",
      "\n",
      "The best way to do it is to make an installable package with a `setup.py` installation script. See https://docs.python.org/2.7/distutils/index.html and https://python-packaging-user-guide.readthedocs.org/en/latest/index.html for more information."
     ]
    },
    {
     "cell_type": "heading",
     "level": 3,
     "metadata": {},
     "source": [
      "How to install a package"
     ]
    },
    {
     "cell_type": "heading",
     "level": 4,
     "metadata": {},
     "source": [
      "Anaconda"
     ]
    },
    {
     "cell_type": "markdown",
     "metadata": {},
     "source": [
      "If you use the Anaconda Python Distribution, you can install many packages with the `conda` utility.\n",
      "See http://docs.continuum.io/anaconda/pkg-docs.html for a list. The command to use is `conda install <package>`"
     ]
    },
    {
     "cell_type": "heading",
     "level": 4,
     "metadata": {},
     "source": [
      "Your OS' package manager"
     ]
    },
    {
     "cell_type": "markdown",
     "metadata": {},
     "source": [
      "If you have a Python distribution installed with a package manager from your operating system, you should be able to install many libraries using it (this method requires administrator rights).\n",
      "\n",
      "For instance, on Debian or Ubuntu, you can use APT (or synaptic, aptitude, the Ubuntu Software Library) to install Python packages. Usually, the names start with `python-`, for instance `python-numpy`."
     ]
    },
    {
     "cell_type": "heading",
     "level": 4,
     "metadata": {},
     "source": [
      "The Python Package Index, pip"
     ]
    },
    {
     "cell_type": "markdown",
     "metadata": {},
     "source": [
      "Most Python packages are available on the Python Package Index (PyPI, http://pypi.python.org). You can install them by using the `pip` command, either as an administrator with `pip install <package>`, or only for you with `pip install --user <package>`. `pip` will download and install the latest version of the package from the Python Package Index. You can also use `pip` to install packages from a tarball or a source repository."
     ]
    },
    {
     "cell_type": "heading",
     "level": 4,
     "metadata": {},
     "source": [
      "Using a `setup.py` file"
     ]
    },
    {
     "cell_type": "markdown",
     "metadata": {},
     "source": [
      "Some packages are not on the PyPI, but come with a standard `setup.py` installation script. You can use `pip install [--user] <package-dir>` or `python setup.py install [--user]` to install the package."
     ]
    },
    {
     "cell_type": "heading",
     "level": 4,
     "metadata": {},
     "source": [
      "By hand"
     ]
    },
    {
     "cell_type": "markdown",
     "metadata": {},
     "source": [
      "If there is no installation script (which is really bad for a public package), you should be able to use the package by putting it into a directory available through ```sys.path```."
     ]
    },
    {
     "cell_type": "heading",
     "level": 2,
     "metadata": {},
     "source": [
      "Some useful modules"
     ]
    },
    {
     "cell_type": "markdown",
     "metadata": {},
     "source": [
      "The Python Standard Library comes with a lot of packages, which are (almost) all documented in the Library Reference part of the official documentation: http://docs.python.org/2/library/index.html\n",
      "\n",
      "Here are some packages which may be very useful for you. The lists are far from exhaustive, you may want to read the module documentation."
     ]
    },
    {
     "cell_type": "heading",
     "level": 3,
     "metadata": {},
     "source": [
      "Mathematical functions -- `math`"
     ]
    },
    {
     "cell_type": "markdown",
     "metadata": {},
     "source": [
      "The ```math``` module defines most of the usual mathematical functions\n",
      " * ```sqrt``` (square root), ```pow``` (exponentiation, also available through the \\** operator)\n",
      " * ```exp```, ```log```, ```log10```\n",
      " * ```sin```, ```cos```, ```tan```, ```asin```, ```acos```, ```atan```, ```atan2```\n",
      " * ```degrees```, ```radians``` (convert between degrees and radians)\n",
      " * ```floor```, ```ceil```\n",
      " * ```pi```, ```e```\n",
      " * ..."
     ]
    },
    {
     "cell_type": "code",
     "collapsed": false,
     "input": [
      "math.sin(0.3 * math.pi)"
     ],
     "language": "python",
     "metadata": {},
     "outputs": []
    },
    {
     "cell_type": "heading",
     "level": 3,
     "metadata": {},
     "source": [
      "Runtime system information -- `sys`"
     ]
    },
    {
     "cell_type": "markdown",
     "metadata": {},
     "source": [
      "The ```sys``` module contains some information about the running interpreter\n",
      "\n",
      " * ```argv``` contains the command-line arguments\n",
      " * ```exit``` causes the interpreter to quit when called (with the given exit code, if given)\n",
      " * ```path``` contains the locations where the interpreter looks for modules\n",
      " * ```modules``` contains all imported modules\n",
      " * ```stdin```, ```stdout``` and ```stderr``` are file-like objects representing the standard input, output and error streams (can be overridden)"
     ]
    },
    {
     "cell_type": "code",
     "collapsed": false,
     "input": [
      "sys.stdout.write(\"Hello!\\n\")"
     ],
     "language": "python",
     "metadata": {},
     "outputs": []
    },
    {
     "cell_type": "heading",
     "level": 3,
     "metadata": {},
     "source": [
      "Operating system utilities -- `os`"
     ]
    },
    {
     "cell_type": "markdown",
     "metadata": {},
     "source": [
      "The ```os``` module contains some useful information and functions to work with the operating system\n",
      "\n",
      " * ```getenv``` and ```setenv``` allow to query and modify the environment variables\n",
      " * There are many functions to manipulate the file system like ```mkdir```, ```listdir```...\n",
      " * You can manipulate paths with the functions in ```os.path```"
     ]
    },
    {
     "cell_type": "code",
     "collapsed": false,
     "input": [
      "print(os.getcwd())"
     ],
     "language": "python",
     "metadata": {},
     "outputs": []
    },
    {
     "cell_type": "heading",
     "level": 3,
     "metadata": {},
     "source": [
      "Time manipulation -- `time`, `datetime`"
     ]
    },
    {
     "cell_type": "markdown",
     "metadata": {},
     "source": [
      "The ```time``` module contains the usual functions for manipulating time\n",
      "\n",
      " * ```time``` returns the number of seconds since January 1st 1970, as a floating point number\n",
      " * ```strftime``` and ```strptime``` deal with formatted times\n",
      " * ```sleep``` causes the program to wait during a given time\n",
      " * ```clock``` returns an measure of the CPU time (it may not correspond to the real time on many systems)"
     ]
    },
    {
     "cell_type": "code",
     "collapsed": false,
     "input": [
      "import time\n",
      "print(time.time(), time.clock())\n",
      "time.sleep(5)\n",
      "print(time.time(), time.clock()) # The sleep function does not use CPU time"
     ],
     "language": "python",
     "metadata": {},
     "outputs": []
    },
    {
     "cell_type": "markdown",
     "metadata": {},
     "source": [
      "The ```datetime``` defines high-level objects to manipulate dates easily\n",
      "\n",
      " * ```datetime``` is designed to hold a precise date and time\n",
      " * ```date``` is a shortcut when you only need the day\n",
      " * ```time``` is a shortcut when you only need the time\n",
      " * ```timedelta``` holds differences\n",
      "\n",
      "You can subtract two ```datetime```s to get a ```timedelta```, add and subtract ```timedelta```s, and add or subtract a ```timedelta``` to a ```datetime```."
     ]
    },
    {
     "cell_type": "code",
     "collapsed": false,
     "input": [
      "import datetime\n",
      "birthdate = datetime.date(1989, 12, 25)\n",
      "age = datetime.date.today() - birthdate\n",
      "print(\"Python is approximately {} days old.\".format(age.days))"
     ],
     "language": "python",
     "metadata": {},
     "outputs": []
    },
    {
     "cell_type": "heading",
     "level": 3,
     "metadata": {},
     "source": [
      "Data serialization -- `pickle`"
     ]
    },
    {
     "cell_type": "markdown",
     "metadata": {},
     "source": [
      "Sometimes you may want to store some data into a file or a string, without caring about the format.\n",
      "\n",
      "The ```pickle``` (and ```cPickle```) serves exactly that purpose. You can use it on many built-in types, and even with custom objects. This is not intended to be used to save data in a portable form (yet it does), but it can be useful to make a quick backup (to allow restarting a long calculation for example)."
     ]
    },
    {
     "cell_type": "code",
     "collapsed": false,
     "input": [
      "import pickle\n",
      "mydata = {'date': datetime.datetime.now(),\n",
      "          'ints': range(5)}\n",
      "x = pickle.dumps(mydata)\n",
      "print(repr(x)) # There are a lot of line breaks, so we show the condensed version\n",
      "data = pickle.loads(x)\n",
      "print(data)"
     ],
     "language": "python",
     "metadata": {},
     "outputs": []
    },
    {
     "cell_type": "heading",
     "level": 3,
     "metadata": {},
     "source": [
      "Handling command-line arguments -- `argparse`"
     ]
    },
    {
     "cell_type": "markdown",
     "metadata": {},
     "source": [
      "As we saw, ```sys.argv``` contains the command-line arguments. To avoid code duplication, several modules are available to parse them in a standard way. I personally recommend ```argparse``` which provides simple high-level interface."
     ]
    },
    {
     "cell_type": "code",
     "collapsed": false,
     "input": [
      "import argparse\n",
      "parser = argparse.ArgumentParser(description=\"Sample program\")\n",
      "parser.add_argument(\"n\", type=int, help=\"a number\")\n",
      "parser.add_argument(\"-v\", \"--verbose\", action=\"store_true\", default=False)\n",
      "\n",
      "try:\n",
      "    parser.parse_args([\"--help\"])\n",
      "except SystemExit: # The help message forces the program to exit\n",
      "    pass"
     ],
     "language": "python",
     "metadata": {},
     "outputs": []
    },
    {
     "cell_type": "code",
     "collapsed": false,
     "input": [
      "parser.parse_args([\"42\"])"
     ],
     "language": "python",
     "metadata": {},
     "outputs": []
    },
    {
     "cell_type": "code",
     "collapsed": false,
     "input": [
      "parser.parse_args([\"-v\", \"36\"])"
     ],
     "language": "python",
     "metadata": {},
     "outputs": []
    },
    {
     "cell_type": "heading",
     "level": 3,
     "metadata": {},
     "source": [
      "Calling external programs -- `subprocess`"
     ]
    },
    {
     "cell_type": "markdown",
     "metadata": {},
     "source": [
      "Sometimes, you may need to call other external commands. You can use the ```subprocess``` module for this. The most generic constructor is ```Popen```, but often you do not need to use it directly. The module defines convenience functions for the most common use cases."
     ]
    },
    {
     "cell_type": "code",
     "collapsed": false,
     "input": [
      "import subprocess\n",
      "output = subprocess.check_output([\"ls\"], shell=True)\n",
      "print(repr(output))"
     ],
     "language": "python",
     "metadata": {},
     "outputs": []
    },
    {
     "cell_type": "heading",
     "level": 3,
     "metadata": {},
     "source": [
      "Finding files using wildcards -- `glob`"
     ]
    },
    {
     "cell_type": "markdown",
     "metadata": {},
     "source": [
      "There is a small yet useful module to find files using wildcards just like in the shell."
     ]
    },
    {
     "cell_type": "code",
     "collapsed": false,
     "input": [
      "import glob\n",
      "glob.glob(\"../*/*.ipynb\")"
     ],
     "language": "python",
     "metadata": {},
     "outputs": []
    },
    {
     "cell_type": "heading",
     "level": 3,
     "metadata": {},
     "source": [
      "Regular expressions -- `re`"
     ]
    },
    {
     "cell_type": "markdown",
     "metadata": {},
     "source": [
      "Regular expressions are well beyond this tutorial, but since they are a very powerful tool to perform searches through character strings, it is worth giving a short introduction.\n",
      "\n",
      "The purpose of a regular expression is to describe a *language*. One can then check if a given string is part of the language, or find occurrences of elements of a language in a string.\n",
      "\n",
      "See also: https://regex101.com/#python for a regular expression debugger and description guide."
     ]
    },
    {
     "cell_type": "heading",
     "level": 4,
     "metadata": {},
     "source": [
      "Quick syntax reference"
     ]
    },
    {
     "cell_type": "markdown",
     "metadata": {},
     "source": [
      " * **Basic characters**\n",
      "\n",
      "  Any character which is **not** in the following set is understood literally:\n",
      "\n",
      "```\n",
      ". ^ $ * + ? \\ | ( ) [ ] { }\n",
      "```\n",
      "\n",
      "  To prevent this behaviour, you can escape any of them with a backslash.\n",
      "  \n",
      " * **Character classes**\n",
      " \n",
      "  To recognize any character (except a newline), you can use a dot.\n",
      " \n",
      "  To recognize any character in a given set, you can put the characters in square brackets (you can use - as a shortcut)\n",
      "  \n",
      "  `[0123456789abcdef]`, or in more concise form `[0-9a-f]` stands for *an hexadecimal digit*\n",
      "  \n",
      "  You can also recognize any character which is not in a given list by adding a `^` at the beginning:\n",
      "  \n",
      "  `[^a-z]` means *not a lowercase letter*\n",
      "  \n",
      "  To include a `-` in a character class, put it at the beginning or at the end.\n",
      "  To include a '^', put it anywhere except at the beginning.\n",
      "  To include a `]`, put it at the beginning.\n",
      "\n",
      "  There are shortcuts for common character classes:\n",
      "  \n",
      "  `\\d` for `[0-9]` (decimal digits)\n",
      "  \n",
      "  `\\s` for `[ \\t\\n\\r\\f\\v]` (white space)\n",
      "  \n",
      "  `\\w` for `[a-zA-Z0-9_]` (\"word\" characters)\n",
      "  \n",
      "  Their negations also exist as `\\D`, `\\S` and `\\W`.\n",
      "  \n",
      "  A special \"character\" exists, matching word boundaries: `\\b`, and its negation is `\\B`.\n",
      " \n",
      " * **Alternatives**\n",
      " \n",
      "  To recognize alternatives, separate them by `|`:\n",
      "  \n",
      "  `foo|bar` describes a language containing the words 'foo' and 'bar'.\n",
      "  \n",
      " * **Multipliers**\n",
      " \n",
      "  To recognize several occurrences of a character, a character class or a group (see below), you can use multipliers:\n",
      "  \n",
      "  `X?` means *`X` or nothing*\n",
      "  \n",
      "  `X*` means *any number of `X`, including 0*\n",
      "  \n",
      "  `X+` means *at least one `X`*\n",
      "  \n",
      "  `X{n}` means *n occurrences of `X`\n",
      "  \n",
      "  `X{m,n}` means *between m and n occurrences of `X`*.\n",
      "  If m is omitted, it is assumed zero. If n is omitted, its value is infinite.\n",
      "  \n",
      "  By default, these multipliers will try to recognize the most characters. If it is not the wanted behaviour, you can use `??`, `*?` and `+?`.\n",
      "  \n",
      " * **Grouping**\n",
      " \n",
      "  You can regroup elements, for instance to repeat them. Groups may also have a special meaning because they are numbered, and can be accessed remotely.\n",
      "  \n",
      "  A group is enclosed in parentheses. To reference a group from within the expression, use a backslash followed by the group number (from 1 to 99).\n",
      "  \n",
      "  To prevent a group from being numbered, you can use `(?: )` instead of `( )`. These are called *non-grouping parentheses*.\n",
      "  \n",
      "  Groups are also useful because they can be accessed from the match objects returning by the searching functions.\n",
      " \n",
      " * **Beginning and end**\n",
      " \n",
      "  There are two special characters meant to represent the beginning and the end of the string. These are `^` and `$`."
     ]
    },
    {
     "cell_type": "heading",
     "level": 4,
     "metadata": {},
     "source": [
      "Functions"
     ]
    },
    {
     "cell_type": "markdown",
     "metadata": {},
     "source": [
      "If you plan to use a regular expression several times, you can compile it to gain a bit of efficiency using ```re.compile```. This also allows you to add flags (see below).\n",
      "\n",
      "To look if a string is in the language described by the expression, use the ```re.match(expr, string)``` or ```compiled.match(string)``` if you have a compiled regular expression object. This returns None, or a match object describing the match (including its groups).\n",
      "\n",
      "To find the first occurrence of an element of a given language, use ```re.search(expr, string)``` or ```compiled.search(string)```.\n",
      "\n",
      "To find all non-overlapping occurrences of elements of a given language, use ```re.findall(expr, string)``` or ```compiled.findall(string)```. This returns a list of matched strings (if there are no numbered groups), or a list of tuples (the groups).\n",
      "\n",
      "To replace elements of a language, use ```re.sub(expr, string, repl)``` or ```compiled.sub(string, repl)```. ```repl``` can be either a string (where references like `\\4` are converted to numbered groups (the whole match is \\0)), or a function taking a match object and returning a string."
     ]
    },
    {
     "cell_type": "heading",
     "level": 4,
     "metadata": {},
     "source": [
      "Flags"
     ]
    },
    {
     "cell_type": "markdown",
     "metadata": {},
     "source": [
      "You can use flags to modify some behavioural elements. Flags are integer values which can be combined using a logical or (`|`).\n",
      "\n",
      " * ```re.I``` (```IGNORECASE```) makes the expression case insensitive\n",
      " * ```re.M``` (```MULTILINE```) makes `^` and `$` also match beginning and ends of lines inside the string\n",
      " * ```re.S``` (```DOTALL```) makes the dot '`.`' recognize newlines\n",
      " * ```re.L``` (```LOCALE```) makes `\\w`, `\\W`, `\\s`, `\\S`, `\\b` and `\\B` depend on the locale settings\n",
      " * ```re.U``` (```UNICODE```) makes `\\w`, `\\W`, `\\d`, `\\D`, `\\s`, `\\S`, `\\b` and `\\B` depend on the properties of the Unicode characters\n",
      " * ```re.X``` (```VERBOSE```) makes the regular expression parser ignore white space (except in square brackets) and allows comments (starting with `#`)"
     ]
    },
    {
     "cell_type": "heading",
     "level": 1,
     "metadata": {},
     "source": [
      "Exercise: Writing a simple program"
     ]
    },
    {
     "cell_type": "markdown",
     "metadata": {},
     "source": [
      "Let's write a program to make distance conversions step by step.\n",
      "\n",
      "$\\rightarrow$ Make a dictionary containing length units (km, au, ly, pc, ...) as keys, and their value in meters as values.\n",
      "\n",
      "Useful module: `scipy.constants`, contains `astronomical_unit`, `c`, `year`, ...\n",
      "\n",
      "$\\rightarrow$ Make a function which takes a value, a unit name, and a second unit name, converting the given value from the first unit to the second. Don't forget to document it.\n",
      "\n",
      "To test, you can use `%run script.py` in IPython.\n",
      "\n",
      "Example:\n",
      "```python\n",
      ">>> convert_distance(1.0, \"km\", \"m\")\n",
      "1000.0\n",
      "```\n",
      "\n",
      "$\\rightarrow$ This function may be useful in many cases, not only for our simple program. Let's create a module for it!\n",
      "\n",
      "*Note: this is a good practice. Whenever you write generic functions, put them in a separate module. It prevents code duplication. Remember one of the Python guidelines: DRY (Don't Repeat Yourself).*\n",
      "\n",
      "Again, don't forget the documentation and tests.\n",
      "\n",
      "Now, we can write a program using this function.\n",
      "\n",
      "$\\rightarrow$ Write a program demonstrating some conversions. You can use the `if __name__ == '__main__':` idiom.\n",
      "\n",
      "That's cool. But it would be even cooler if we could give the value and units as command-line arguments, isn't it ?\n",
      "\n",
      "$\\rightarrow$ Use `argparse` to retrieve the value, source and destination units\n",
      "\n",
      "Example:\n",
      "```bash\n",
      "$ python convert_distance.py --from ly --to km 1.0\n",
      "9.45425495549e+12\n",
      "```\n",
      "\n",
      "See the `argparse` documentation if you need help: https://docs.python.org/2/library/argparse.html\n",
      "\n",
      "$\\rightarrow$ Add a `-p` / `--precision` option giving the number of significant digits to show, in scientific notation\n",
      "\n",
      "Example:\n",
      "```bash\n",
      "$ python convert_distance.py --precision 5 --from ly --to km 1.0\n",
      "9.4543e+12\n",
      "```\n",
      "\n",
      "Useful function:\n",
      "```python\n",
      "def format_precision(precision, value):\n",
      "    \"\"\"Format a value with the given number of digits in scientific notation\"\"\"\n",
      "    p = precision - 1 # the format description takes the number of digits after the point\n",
      "    format_str = \"{{:.{}e}}\".format(p) # the format string is something like \"{:.3e}\"\n",
      "    return format_str.format(value)\n",
      "```\n"
     ]
    },
    {
     "cell_type": "code",
     "collapsed": false,
     "input": [],
     "language": "python",
     "metadata": {},
     "outputs": []
    }
   ],
   "metadata": {}
  }
 ]
}