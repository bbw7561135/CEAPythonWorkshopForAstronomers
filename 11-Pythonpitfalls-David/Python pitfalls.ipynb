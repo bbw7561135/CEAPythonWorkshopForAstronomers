{
 "metadata": {
  "name": "",
  "signature": "sha256:d26f1ffe32d53c0960c5882909d5353b8d786110e5918bea8bb998cf01bf3d0c"
 },
 "nbformat": 3,
 "nbformat_minor": 0,
 "worksheets": [
  {
   "cells": [
    {
     "cell_type": "heading",
     "level": 1,
     "metadata": {},
     "source": [
      "Python pitfalls"
     ]
    },
    {
     "cell_type": "heading",
     "level": 4,
     "metadata": {},
     "source": [
      "Take care that python manage negative indices : the values start then from the end of the table"
     ]
    },
    {
     "cell_type": "code",
     "collapsed": false,
     "input": [
      "a = [1,2,3,4,5]\n",
      "print a[0]\n",
      "print a[-1]\n",
      "print a[-2]"
     ],
     "language": "python",
     "metadata": {},
     "outputs": []
    },
    {
     "cell_type": "heading",
     "level": 6,
     "metadata": {},
     "source": [
      "Generating a double entry table : Warning, when doing :"
     ]
    },
    {
     "cell_type": "code",
     "collapsed": false,
     "input": [
      "def pprint(x):\n",
      "  tab = str(x).split('],')\n",
      "  for elem in tab:\n",
      "    print elem\n",
      "  print \n",
      "  return  \n",
      "\n",
      "a=[[1,2,3,4,5]]*4\n",
      "\n",
      "pprint(a)\n",
      "\n",
      "a[0][0] = 9\n",
      "\n",
      "pprint(a)"
     ],
     "language": "python",
     "metadata": {},
     "outputs": []
    },
    {
     "cell_type": "heading",
     "level": 6,
     "metadata": {},
     "source": [
      "Better do :"
     ]
    },
    {
     "cell_type": "code",
     "collapsed": false,
     "input": [
      "import numpy as np\n",
      "\n",
      "a = np.array([[1,2,3,4,5]]*4)\n",
      "print \"a:\",a,\"\\n\"\n",
      "\n",
      "a[0][0] = 9\n",
      "\n",
      "print \"a:\",a"
     ],
     "language": "python",
     "metadata": {},
     "outputs": []
    },
    {
     "cell_type": "markdown",
     "metadata": {},
     "source": [
      "Solution without using np : less intuitive : the loop generate different objects taking same array as value"
     ]
    },
    {
     "cell_type": "code",
     "collapsed": false,
     "input": [
      "\n",
      "a = [[1,2,3,4,5] for _ in range(4)]\n",
      "\n",
      "pprint(a)\n",
      "\n",
      "a[0][0] = 9\n",
      "\n",
      "pprint(a)\n"
     ],
     "language": "python",
     "metadata": {},
     "outputs": []
    },
    {
     "cell_type": "heading",
     "level": 2,
     "metadata": {},
     "source": [
      "copy (references and assignement)"
     ]
    },
    {
     "cell_type": "code",
     "collapsed": false,
     "input": [
      "a = [1,2,3]\n",
      "\n",
      "b = a\n",
      "\n",
      "b[1] = 7\n",
      "\n",
      "print 'a :', a, '\\nb :', b, ', a is b:',a is b"
     ],
     "language": "python",
     "metadata": {},
     "outputs": []
    },
    {
     "cell_type": "code",
     "collapsed": false,
     "input": [
      "import copy\n",
      "\n",
      "a = [1,2,3]\n",
      "\n",
      "b = copy.deepcopy(a)\n",
      "\n",
      "b[1] = 8\n",
      "\n",
      "print 'a :', a, '\\nb :', b, ', a is b:',a is b\n"
     ],
     "language": "python",
     "metadata": {},
     "outputs": []
    },
    {
     "cell_type": "heading",
     "level": 2,
     "metadata": {},
     "source": [
      "Variables passed by reference as arrays and dictionaries modified in subroutine keep modified in main (mutable type)"
     ]
    },
    {
     "cell_type": "code",
     "collapsed": false,
     "input": [
      "def ff(x):\n",
      "  for i in range(0,len(x)):\n",
      "     ss=x[i]*x[i] \n",
      "     x[i]=ss\n",
      "  print '  x in ff:',x,\"\\n\"      \n",
      "  return  \n",
      "# -------------------------\n",
      "\n",
      "xtab = [0,1,2,3]\n",
      "\n",
      "print 'xtab:',xtab\n",
      "\n",
      "ff(xtab)\n",
      "\n",
      "print 'xtab after ff:',xtab\n",
      "\n"
     ],
     "language": "python",
     "metadata": {},
     "outputs": []
    },
    {
     "cell_type": "code",
     "collapsed": false,
     "input": [
      "def ff(x):\n",
      "  for xk in x.keys():\n",
      "    x[xk] += \"!!\"\n",
      "  return\n",
      "\n",
      "xdict = { 'a' : 'aa', 'b' : 'bb', 'c' : 'cc'}\n",
      "\n",
      "ff(xdict)\n",
      "\n",
      "print xdict"
     ],
     "language": "python",
     "metadata": {},
     "outputs": []
    },
    {
     "cell_type": "heading",
     "level": 2,
     "metadata": {},
     "source": [
      "variable scope (global, local)"
     ]
    },
    {
     "cell_type": "code",
     "collapsed": false,
     "input": [
      "def f(x):\n",
      "  global y\n",
      "  z = 4  \n",
      "  y = 2  \n",
      "  return x + y\n",
      "\n",
      "y = 3\n",
      "\n",
      "z = 5\n",
      "\n",
      "print 'y:',y,'z:',z\n",
      "\n",
      "x = 3\n",
      "\n",
      "print f(x)\n",
      "\n",
      "print 'y:',y,'z:',z,'--> z is not modified, as y is impacted by call to f(x)'"
     ],
     "language": "python",
     "metadata": {},
     "outputs": []
    },
    {
     "cell_type": "heading",
     "level": 2,
     "metadata": {},
     "source": [
      "import collisions :"
     ]
    },
    {
     "cell_type": "heading",
     "level": 3,
     "metadata": {},
     "source": [
      "Take care when using from import *"
     ]
    },
    {
     "cell_type": "code",
     "collapsed": false,
     "input": [
      "%reset -f"
     ],
     "language": "python",
     "metadata": {},
     "outputs": []
    },
    {
     "cell_type": "code",
     "collapsed": false,
     "input": [
      "start = -1\n",
      "print sum(range(5), start)"
     ],
     "language": "python",
     "metadata": {},
     "outputs": []
    },
    {
     "cell_type": "code",
     "collapsed": false,
     "input": [
      "from numpy import *\n",
      "print sum(range(5), start)  # using sum from numpy which works differently than native sum function"
     ],
     "language": "python",
     "metadata": {},
     "outputs": []
    },
    {
     "cell_type": "markdown",
     "metadata": {},
     "source": [
      "Better write :"
     ]
    },
    {
     "cell_type": "code",
     "collapsed": false,
     "input": [
      "import numpy as np \n",
      "print np.sum(range(5), start)"
     ],
     "language": "python",
     "metadata": {},
     "outputs": []
    },
    {
     "cell_type": "raw",
     "metadata": {},
     "source": [
      "Using \"from import *\" does not help for managing dependencies of python modules"
     ]
    },
    {
     "cell_type": "heading",
     "level": 2,
     "metadata": {},
     "source": [
      "implicit type conversion (duck typing)"
     ]
    },
    {
     "cell_type": "code",
     "collapsed": false,
     "input": [
      "print 4/3"
     ],
     "language": "python",
     "metadata": {},
     "outputs": []
    },
    {
     "cell_type": "code",
     "collapsed": false,
     "input": [
      "a = 1\n",
      "print 'type(',a,'):',type(a)\n",
      "a = 1 + 4.5\n",
      "print 'type(',a,'):',type(a)"
     ],
     "language": "python",
     "metadata": {},
     "outputs": []
    },
    {
     "cell_type": "heading",
     "level": 2,
     "metadata": {},
     "source": [
      "integer division (1/2=0 in py 2.x 1/2=0.5 in py3 and 1//2=0 in py3)"
     ]
    },
    {
     "cell_type": "code",
     "collapsed": false,
     "input": [
      "print 1/2\n",
      "\n",
      "from __future__ import division\n",
      "print (1/2)\n",
      "print (1//2)"
     ],
     "language": "python",
     "metadata": {},
     "outputs": []
    },
    {
     "cell_type": "heading",
     "level": 2,
     "metadata": {},
     "source": [
      "Octal numbers start with 0 !, 010+07 = 15 (0x for hex, 0b for bin)"
     ]
    },
    {
     "cell_type": "code",
     "collapsed": false,
     "input": [
      " print '10 + 7   :',10+7\n",
      " print '010 + 07 :',010+07,\"In octal: {0:o}\".format(010+07),\"or {0:#o}\".format(010+07)    \n",
      " print 'x10 + 7  :',0x10+7,\"In hexadecimal: {0:x}\".format(0x10+7),\"or {0:#x}\".format(0x10+7)   \n",
      " print '0b10 + 7 :',0b10+7,\"In binary: {0:b}\".format(0b10+7),\"or {0:#b}\".format(0b10+7) "
     ],
     "language": "python",
     "metadata": {},
     "outputs": []
    },
    {
     "cell_type": "markdown",
     "metadata": {},
     "source": [
      "As a consequence:"
     ]
    },
    {
     "cell_type": "code",
     "collapsed": false,
     "input": [
      "print 09"
     ],
     "language": "python",
     "metadata": {},
     "outputs": []
    },
    {
     "cell_type": "markdown",
     "metadata": {},
     "source": [
      "But numbers with component less than 8 are valid :"
     ]
    },
    {
     "cell_type": "code",
     "collapsed": false,
     "input": [
      "print 01,07"
     ],
     "language": "python",
     "metadata": {},
     "outputs": []
    },
    {
     "cell_type": "heading",
     "level": 2,
     "metadata": {},
     "source": [
      "runtime errors are not caught until function executes"
     ]
    },
    {
     "cell_type": "code",
     "collapsed": false,
     "input": [
      "a = 5\n",
      "if a == 4:\n",
      "  c = a + b\n",
      " \n",
      "if a == 5:\n",
      "  c = a + b\n",
      "    "
     ],
     "language": "python",
     "metadata": {},
     "outputs": []
    },
    {
     "cell_type": "code",
     "collapsed": false,
     "input": [
      "def divisionError():\n",
      "  if a==5:\n",
      "    c = a / 0\n",
      "  return\n",
      "\n",
      "if a==4:\n",
      "  print \"First call:\"\n",
      "  divisionError() \n",
      "    \n",
      "if a==5:\n",
      "  print \"Second call:\"\n",
      "  divisionError()  "
     ],
     "language": "python",
     "metadata": {},
     "outputs": []
    }
   ],
   "metadata": {}
  }
 ]
}