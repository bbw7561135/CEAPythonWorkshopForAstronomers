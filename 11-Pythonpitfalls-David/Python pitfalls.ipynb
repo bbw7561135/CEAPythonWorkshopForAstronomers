{
 "cells": [
  {
   "cell_type": "markdown",
   "metadata": {},
   "source": [
    "# Python pitfalls"
   ]
  },
  {
   "cell_type": "markdown",
   "metadata": {},
   "source": [
    "#### Take care that python manage negative indices : the values start then from the end of the table"
   ]
  },
  {
   "cell_type": "code",
   "execution_count": 1,
   "metadata": {
    "collapsed": false
   },
   "outputs": [
    {
     "name": "stdout",
     "output_type": "stream",
     "text": [
      "1\n",
      "5\n",
      "4\n"
     ]
    }
   ],
   "source": [
    "a = [1,2,3,4,5]\n",
    "print a[0]\n",
    "print a[-1]\n",
    "print a[-2]"
   ]
  },
  {
   "cell_type": "markdown",
   "metadata": {},
   "source": [
    "###### Generating a double entry table : Warning, when doing :"
   ]
  },
  {
   "cell_type": "code",
   "execution_count": 2,
   "metadata": {
    "collapsed": false
   },
   "outputs": [
    {
     "name": "stdout",
     "output_type": "stream",
     "text": [
      "[[1, 2, 3, 4, 5\n",
      " [1, 2, 3, 4, 5\n",
      " [1, 2, 3, 4, 5\n",
      " [1, 2, 3, 4, 5]]\n",
      "\n",
      "[[9, 2, 3, 4, 5\n",
      " [9, 2, 3, 4, 5\n",
      " [9, 2, 3, 4, 5\n",
      " [9, 2, 3, 4, 5]]\n",
      "\n"
     ]
    }
   ],
   "source": [
    "def pprint(x):\n",
    "  tab = str(x).split('],')\n",
    "  for elem in tab:\n",
    "    print elem\n",
    "  print \n",
    "  return  \n",
    "\n",
    "a=[[1,2,3,4,5]]*4\n",
    "\n",
    "pprint(a)\n",
    "\n",
    "a[0][0] = 9\n",
    "\n",
    "pprint(a)"
   ]
  },
  {
   "cell_type": "markdown",
   "metadata": {},
   "source": [
    "###### Better do :"
   ]
  },
  {
   "cell_type": "code",
   "execution_count": 3,
   "metadata": {
    "collapsed": false
   },
   "outputs": [
    {
     "name": "stdout",
     "output_type": "stream",
     "text": [
      "a: [[1 2 3 4 5]\n",
      " [1 2 3 4 5]\n",
      " [1 2 3 4 5]\n",
      " [1 2 3 4 5]] \n",
      "\n",
      "a: [[9 2 3 4 5]\n",
      " [1 2 3 4 5]\n",
      " [1 2 3 4 5]\n",
      " [1 2 3 4 5]]\n"
     ]
    }
   ],
   "source": [
    "import numpy as np\n",
    "\n",
    "a = np.array([[1,2,3,4,5]]*4)\n",
    "print \"a:\",a,\"\\n\"\n",
    "\n",
    "a[0][0] = 9\n",
    "\n",
    "print \"a:\",a"
   ]
  },
  {
   "cell_type": "markdown",
   "metadata": {},
   "source": [
    "Solution without using np : less intuitive : the loop generate different objects taking same array as value"
   ]
  },
  {
   "cell_type": "code",
   "execution_count": 4,
   "metadata": {
    "collapsed": false
   },
   "outputs": [
    {
     "name": "stdout",
     "output_type": "stream",
     "text": [
      "[[1, 2, 3, 4, 5\n",
      " [1, 2, 3, 4, 5\n",
      " [1, 2, 3, 4, 5\n",
      " [1, 2, 3, 4, 5]]\n",
      "\n",
      "[[9, 2, 3, 4, 5\n",
      " [1, 2, 3, 4, 5\n",
      " [1, 2, 3, 4, 5\n",
      " [1, 2, 3, 4, 5]]\n",
      "\n"
     ]
    }
   ],
   "source": [
    "\n",
    "a = [[1,2,3,4,5] for _ in range(4)]\n",
    "\n",
    "pprint(a)\n",
    "\n",
    "a[0][0] = 9\n",
    "\n",
    "pprint(a)\n"
   ]
  },
  {
   "cell_type": "markdown",
   "metadata": {},
   "source": [
    "## copy (references and assignement)"
   ]
  },
  {
   "cell_type": "code",
   "execution_count": 5,
   "metadata": {
    "collapsed": false
   },
   "outputs": [
    {
     "name": "stdout",
     "output_type": "stream",
     "text": [
      "a : [1, 7, 3] \n",
      "b : [1, 7, 3] , a is b: True\n"
     ]
    }
   ],
   "source": [
    "a = [1,2,3]\n",
    "\n",
    "b = a\n",
    "\n",
    "b[1] = 7\n",
    "\n",
    "print 'a :', a, '\\nb :', b, ', a is b:',a is b"
   ]
  },
  {
   "cell_type": "code",
   "execution_count": 6,
   "metadata": {
    "collapsed": false
   },
   "outputs": [
    {
     "name": "stdout",
     "output_type": "stream",
     "text": [
      "a : [1, 2, 3] \n",
      "b : [1, 8, 3] , a is b: False\n"
     ]
    }
   ],
   "source": [
    "import copy\n",
    "\n",
    "a = [1,2,3]\n",
    "\n",
    "b = copy.deepcopy(a)\n",
    "\n",
    "b[1] = 8\n",
    "\n",
    "print 'a :', a, '\\nb :', b, ', a is b:',a is b\n"
   ]
  },
  {
   "cell_type": "markdown",
   "metadata": {},
   "source": [
    "## Variables passed by reference as arrays and dictionaries modified in subroutine keep modified in main (mutable type)"
   ]
  },
  {
   "cell_type": "code",
   "execution_count": 7,
   "metadata": {
    "collapsed": false
   },
   "outputs": [
    {
     "name": "stdout",
     "output_type": "stream",
     "text": [
      "xtab: [0, 1, 2, 3]\n",
      "  x in ff: [0, 1, 4, 9] \n",
      "\n",
      "xtab after ff: [0, 1, 4, 9]\n"
     ]
    }
   ],
   "source": [
    "def ff(x):\n",
    "  for i in range(0,len(x)):\n",
    "     ss=x[i]*x[i] \n",
    "     x[i]=ss\n",
    "  print '  x in ff:',x,\"\\n\"      \n",
    "  return  \n",
    "# -------------------------\n",
    "\n",
    "xtab = [0,1,2,3]\n",
    "\n",
    "print 'xtab:',xtab\n",
    "\n",
    "ff(xtab)\n",
    "\n",
    "print 'xtab after ff:',xtab\n",
    "\n"
   ]
  },
  {
   "cell_type": "code",
   "execution_count": 8,
   "metadata": {
    "collapsed": false
   },
   "outputs": [
    {
     "name": "stdout",
     "output_type": "stream",
     "text": [
      "{'a': 'aa!!', 'c': 'cc!!', 'b': 'bb!!'}\n"
     ]
    }
   ],
   "source": [
    "def ff(x):\n",
    "  for xk in x.keys():\n",
    "    x[xk] += \"!!\"\n",
    "  return\n",
    "\n",
    "xdict = { 'a' : 'aa', 'b' : 'bb', 'c' : 'cc'}\n",
    "\n",
    "ff(xdict)\n",
    "\n",
    "print xdict"
   ]
  },
  {
   "cell_type": "markdown",
   "metadata": {},
   "source": [
    "## variable scope (global, local)"
   ]
  },
  {
   "cell_type": "code",
   "execution_count": 9,
   "metadata": {
    "collapsed": false
   },
   "outputs": [
    {
     "name": "stdout",
     "output_type": "stream",
     "text": [
      "y: 3 z: 5\n",
      "5\n",
      "y: 2 z: 5 --> z is not modified, as y is impacted by call to f(x)\n"
     ]
    }
   ],
   "source": [
    "def f(x):\n",
    "  global y\n",
    "  z = 4  \n",
    "  y = 2  \n",
    "  return x + y\n",
    "\n",
    "y = 3\n",
    "\n",
    "z = 5\n",
    "\n",
    "print 'y:',y,'z:',z\n",
    "\n",
    "x = 3\n",
    "\n",
    "print f(x)\n",
    "\n",
    "print 'y:',y,'z:',z,'--> z is not modified, as y is impacted by call to f(x)'"
   ]
  },
  {
   "cell_type": "markdown",
   "metadata": {},
   "source": [
    "## import collisions :"
   ]
  },
  {
   "cell_type": "markdown",
   "metadata": {},
   "source": [
    "### Take care when using from import *"
   ]
  },
  {
   "cell_type": "code",
   "execution_count": 10,
   "metadata": {
    "collapsed": false
   },
   "outputs": [],
   "source": [
    "%reset -f"
   ]
  },
  {
   "cell_type": "code",
   "execution_count": 11,
   "metadata": {
    "collapsed": false
   },
   "outputs": [
    {
     "name": "stdout",
     "output_type": "stream",
     "text": [
      "9\n"
     ]
    }
   ],
   "source": [
    "start = -1\n",
    "print sum(range(5), start)"
   ]
  },
  {
   "cell_type": "code",
   "execution_count": 12,
   "metadata": {
    "collapsed": false
   },
   "outputs": [
    {
     "name": "stdout",
     "output_type": "stream",
     "text": [
      "10\n"
     ]
    }
   ],
   "source": [
    "from numpy import *\n",
    "print sum(range(5), start)  # using sum from numpy which works differently than native sum function"
   ]
  },
  {
   "cell_type": "markdown",
   "metadata": {},
   "source": [
    "Better write :"
   ]
  },
  {
   "cell_type": "code",
   "execution_count": 13,
   "metadata": {
    "collapsed": false
   },
   "outputs": [
    {
     "name": "stdout",
     "output_type": "stream",
     "text": [
      "10\n"
     ]
    }
   ],
   "source": [
    "import numpy as np \n",
    "print np.sum(range(5), start)"
   ]
  },
  {
   "cell_type": "raw",
   "metadata": {},
   "source": [
    "Using \"from import *\" does not help for managing dependencies of python modules"
   ]
  },
  {
   "cell_type": "markdown",
   "metadata": {},
   "source": [
    "## implicit type conversion (duck typing)"
   ]
  },
  {
   "cell_type": "code",
   "execution_count": 14,
   "metadata": {
    "collapsed": false
   },
   "outputs": [
    {
     "name": "stdout",
     "output_type": "stream",
     "text": [
      "1\n"
     ]
    }
   ],
   "source": [
    "print 4/3"
   ]
  },
  {
   "cell_type": "code",
   "execution_count": 15,
   "metadata": {
    "collapsed": false
   },
   "outputs": [
    {
     "name": "stdout",
     "output_type": "stream",
     "text": [
      "type( 1 ): <type 'int'>\n",
      "type( 5.5 ): <type 'float'>\n"
     ]
    }
   ],
   "source": [
    "a = 1\n",
    "print 'type(',a,'):',type(a)\n",
    "a = 1 + 4.5\n",
    "print 'type(',a,'):',type(a)"
   ]
  },
  {
   "cell_type": "markdown",
   "metadata": {},
   "source": [
    "## integer division (1/2=0 in py 2.x 1/2=0.5 in py3 and 1//2=0 in py3)"
   ]
  },
  {
   "cell_type": "code",
   "execution_count": 16,
   "metadata": {
    "collapsed": false
   },
   "outputs": [
    {
     "name": "stdout",
     "output_type": "stream",
     "text": [
      "0\n",
      "0.5\n",
      "0\n"
     ]
    }
   ],
   "source": [
    "print 1/2\n",
    "\n",
    "from __future__ import division\n",
    "print (1/2)\n",
    "print (1//2)"
   ]
  },
  {
   "cell_type": "markdown",
   "metadata": {},
   "source": [
    "## Octal numbers start with 0 !, 010+07 = 15 (0x for hex, 0b for bin)"
   ]
  },
  {
   "cell_type": "code",
   "execution_count": 17,
   "metadata": {
    "collapsed": false
   },
   "outputs": [
    {
     "name": "stdout",
     "output_type": "stream",
     "text": [
      "10 + 7   : 17\n",
      "010 + 07 : 15 In octal: 17 or 0o17\n",
      "x10 + 7  : 23 In hexadecimal: 17 or 0x17\n",
      "0b10 + 7 : 9 In binary: 1001 or 0b1001\n"
     ]
    }
   ],
   "source": [
    " print '10 + 7   :',10+7\n",
    " print '010 + 07 :',010+07,\"In octal: {0:o}\".format(010+07),\"or {0:#o}\".format(010+07)    \n",
    " print 'x10 + 7  :',0x10+7,\"In hexadecimal: {0:x}\".format(0x10+7),\"or {0:#x}\".format(0x10+7)   \n",
    " print '0b10 + 7 :',0b10+7,\"In binary: {0:b}\".format(0b10+7),\"or {0:#b}\".format(0b10+7) "
   ]
  },
  {
   "cell_type": "markdown",
   "metadata": {},
   "source": [
    "As a consequence:"
   ]
  },
  {
   "cell_type": "code",
   "execution_count": 18,
   "metadata": {
    "collapsed": false
   },
   "outputs": [
    {
     "ename": "SyntaxError",
     "evalue": "invalid token (<ipython-input-18-ede1f0e17502>, line 1)",
     "output_type": "error",
     "traceback": [
      "\u001b[0;36m  File \u001b[0;32m\"<ipython-input-18-ede1f0e17502>\"\u001b[0;36m, line \u001b[0;32m1\u001b[0m\n\u001b[0;31m    print 09\u001b[0m\n\u001b[0m           ^\u001b[0m\n\u001b[0;31mSyntaxError\u001b[0m\u001b[0;31m:\u001b[0m invalid token\n"
     ]
    }
   ],
   "source": [
    "print 09"
   ]
  },
  {
   "cell_type": "markdown",
   "metadata": {},
   "source": [
    "But numbers with component less than 8 are valid :"
   ]
  },
  {
   "cell_type": "code",
   "execution_count": 19,
   "metadata": {
    "collapsed": false
   },
   "outputs": [
    {
     "name": "stdout",
     "output_type": "stream",
     "text": [
      "1 7\n"
     ]
    }
   ],
   "source": [
    "print 01,07"
   ]
  },
  {
   "cell_type": "markdown",
   "metadata": {},
   "source": [
    "## runtime errors are not caught until function executes"
   ]
  },
  {
   "cell_type": "code",
   "execution_count": 20,
   "metadata": {
    "collapsed": false
   },
   "outputs": [
    {
     "ename": "NameError",
     "evalue": "name 'b' is not defined",
     "output_type": "error",
     "traceback": [
      "\u001b[0;31m---------------------------------------------------------------------------\u001b[0m",
      "\u001b[0;31mNameError\u001b[0m                                 Traceback (most recent call last)",
      "\u001b[0;32m<ipython-input-20-eeb5a08b05bb>\u001b[0m in \u001b[0;36m<module>\u001b[0;34m()\u001b[0m\n\u001b[1;32m      4\u001b[0m \u001b[0;34m\u001b[0m\u001b[0m\n\u001b[1;32m      5\u001b[0m \u001b[0;32mif\u001b[0m \u001b[0ma\u001b[0m \u001b[0;34m==\u001b[0m \u001b[0;36m5\u001b[0m\u001b[0;34m:\u001b[0m\u001b[0;34m\u001b[0m\u001b[0m\n\u001b[0;32m----> 6\u001b[0;31m   \u001b[0mc\u001b[0m \u001b[0;34m=\u001b[0m \u001b[0ma\u001b[0m \u001b[0;34m+\u001b[0m \u001b[0mb\u001b[0m\u001b[0;34m\u001b[0m\u001b[0m\n\u001b[0m\u001b[1;32m      7\u001b[0m \u001b[0;34m\u001b[0m\u001b[0m\n",
      "\u001b[0;31mNameError\u001b[0m: name 'b' is not defined"
     ]
    }
   ],
   "source": [
    "a = 5\n",
    "if a == 4:\n",
    "  c = a + b\n",
    " \n",
    "if a == 5:\n",
    "  c = a + b\n",
    "    "
   ]
  },
  {
   "cell_type": "code",
   "execution_count": 21,
   "metadata": {
    "collapsed": false
   },
   "outputs": [
    {
     "name": "stdout",
     "output_type": "stream",
     "text": [
      "Second call:\n"
     ]
    },
    {
     "ename": "ZeroDivisionError",
     "evalue": "division by zero",
     "output_type": "error",
     "traceback": [
      "\u001b[0;31m---------------------------------------------------------------------------\u001b[0m",
      "\u001b[0;31mZeroDivisionError\u001b[0m                         Traceback (most recent call last)",
      "\u001b[0;32m<ipython-input-21-1af33d26bcc0>\u001b[0m in \u001b[0;36m<module>\u001b[0;34m()\u001b[0m\n\u001b[1;32m     10\u001b[0m \u001b[0;32mif\u001b[0m \u001b[0ma\u001b[0m\u001b[0;34m==\u001b[0m\u001b[0;36m5\u001b[0m\u001b[0;34m:\u001b[0m\u001b[0;34m\u001b[0m\u001b[0m\n\u001b[1;32m     11\u001b[0m   \u001b[0;32mprint\u001b[0m \u001b[0;34m\"Second call:\"\u001b[0m\u001b[0;34m\u001b[0m\u001b[0m\n\u001b[0;32m---> 12\u001b[0;31m   \u001b[0mdivisionError\u001b[0m\u001b[0;34m(\u001b[0m\u001b[0;34m)\u001b[0m\u001b[0;34m\u001b[0m\u001b[0m\n\u001b[0m",
      "\u001b[0;32m<ipython-input-21-1af33d26bcc0>\u001b[0m in \u001b[0;36mdivisionError\u001b[0;34m()\u001b[0m\n\u001b[1;32m      1\u001b[0m \u001b[0;32mdef\u001b[0m \u001b[0mdivisionError\u001b[0m\u001b[0;34m(\u001b[0m\u001b[0;34m)\u001b[0m\u001b[0;34m:\u001b[0m\u001b[0;34m\u001b[0m\u001b[0m\n\u001b[1;32m      2\u001b[0m   \u001b[0;32mif\u001b[0m \u001b[0ma\u001b[0m\u001b[0;34m==\u001b[0m\u001b[0;36m5\u001b[0m\u001b[0;34m:\u001b[0m\u001b[0;34m\u001b[0m\u001b[0m\n\u001b[0;32m----> 3\u001b[0;31m     \u001b[0mc\u001b[0m \u001b[0;34m=\u001b[0m \u001b[0ma\u001b[0m \u001b[0;34m/\u001b[0m \u001b[0;36m0\u001b[0m\u001b[0;34m\u001b[0m\u001b[0m\n\u001b[0m\u001b[1;32m      4\u001b[0m   \u001b[0;32mreturn\u001b[0m\u001b[0;34m\u001b[0m\u001b[0m\n\u001b[1;32m      5\u001b[0m \u001b[0;34m\u001b[0m\u001b[0m\n",
      "\u001b[0;31mZeroDivisionError\u001b[0m: division by zero"
     ]
    }
   ],
   "source": [
    "def divisionError():\n",
    "  if a==5:\n",
    "    c = a / 0\n",
    "  return\n",
    "\n",
    "if a==4:\n",
    "  print \"First call:\"\n",
    "  divisionError() \n",
    "    \n",
    "if a==5:\n",
    "  print \"Second call:\"\n",
    "  divisionError()  "
   ]
  },
  {
   "cell_type": "code",
   "execution_count": null,
   "metadata": {
    "collapsed": true
   },
   "outputs": [],
   "source": []
  },
  {
   "cell_type": "code",
   "execution_count": null,
   "metadata": {
    "collapsed": true
   },
   "outputs": [],
   "source": []
  },
  {
   "cell_type": "code",
   "execution_count": null,
   "metadata": {
    "collapsed": true
   },
   "outputs": [],
   "source": []
  },
  {
   "cell_type": "code",
   "execution_count": null,
   "metadata": {
    "collapsed": true
   },
   "outputs": [],
   "source": []
  }
 ],
 "metadata": {
  "kernelspec": {
   "display_name": "Python 2",
   "language": "python",
   "name": "python2"
  },
  "language_info": {
   "codemirror_mode": {
    "name": "ipython",
    "version": 2
   },
   "file_extension": ".py",
   "mimetype": "text/x-python",
   "name": "python",
   "nbconvert_exporter": "python",
   "pygments_lexer": "ipython2",
   "version": "2.7.9"
  }
 },
 "nbformat": 4,
 "nbformat_minor": 0
}
