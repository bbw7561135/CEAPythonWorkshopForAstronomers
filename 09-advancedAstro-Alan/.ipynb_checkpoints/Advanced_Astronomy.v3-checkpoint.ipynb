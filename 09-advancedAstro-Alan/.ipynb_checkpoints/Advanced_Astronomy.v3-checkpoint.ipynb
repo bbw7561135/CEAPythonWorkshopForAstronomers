{
 "cells": [
  {
   "cell_type": "code",
   "execution_count": 3,
   "metadata": {
    "collapsed": false
   },
   "outputs": [
    {
     "name": "stdout",
     "output_type": "stream",
     "text": [
      "Populating the interactive namespace from numpy and matplotlib\n"
     ]
    }
   ],
   "source": [
    "%pylab inline"
   ]
  },
  {
   "cell_type": "markdown",
   "metadata": {},
   "source": [
    "# 'Advanced' Astronomy Tasks - A. Loh\n",
    "Throughout this tutorial, we will use many inputs from the tutorial 'Introduction to Astropy', be sure to check it out! \n",
    "\n",
    "### What we will cover here\n",
    "This tutorial will guide you through the whole process of getting a 'ready-to-publish' astronomical image using Python.\n",
    "We will see how:\n",
    "* Query an online astronomical database;\n",
    "* Read and manipulate a source catalogue (3FGL Fermi-LAT catalogue as an example);\n",
    "* Create a publishable map with every require feature. \n",
    "\n",
    "**Please, follow this guide carefully as some sections will need previously computed results. You also need to have internet access. Two modules that we are going to use do not come with the standard Anaconda installation, please install them by typing in your terminal:**"
   ]
  },
  {
   "cell_type": "code",
   "execution_count": null,
   "metadata": {
    "collapsed": false
   },
   "outputs": [],
   "source": [
    "%%bash\n",
    "pip install astroquery\n",
    "pip install wcsaxes"
   ]
  },
  {
   "cell_type": "markdown",
   "metadata": {},
   "source": [
    "### Online documentation\n",
    "Like almost everything with Python, internet is your friend! Here are some usefull links for this tutorial (although many references are linked in the following):\n",
    "* [Astroquery](https://pypi.python.org/pypi/astroquery/0.2.3)\n",
    "* [Simbad queries](http://astroquery.readthedocs.org/en/latest/simbad/simbad.html)\n",
    "* [SkyCoord](http://astropy.readthedocs.org/en/latest/api/astropy.coordinates.SkyCoord.html#astropy.coordinates.SkyCoord.separation)\n",
    "* [Astropy](http://astropy.readthedocs.org/en/stable/)"
   ]
  },
  {
   "cell_type": "markdown",
   "metadata": {},
   "source": [
    "## Astronomical Database Query using Astroquery\n",
    "Astroquery is a very powerful package designed to acces online astronomical databases like Simbad, Vizier, NED and many others... Many examples can be found on the [Gallery of Queries](http://astroquery.readthedocs.org/en/latest/gallery.html).\n"
   ]
  },
  {
   "cell_type": "markdown",
   "metadata": {},
   "source": [
    "### Simbad Simple Query\n",
    "As an example here, we will query the Simbad database and search for our favorite source (by entering its identifier or coordinates with the format \"05h35m17.3s -05h23m28s\" for instance). It requires a call to the `query_object` method from the `Simbad` module (which is common to most of the database modules):"
   ]
  },
  {
   "cell_type": "code",
   "execution_count": 4,
   "metadata": {
    "collapsed": false
   },
   "outputs": [
    {
     "name": "stdout",
     "output_type": "stream",
     "text": [
      "  MAIN_ID         RA         DEC     ... COO_WAVELENGTH     COO_BIBCODE    \n",
      "               \"h:m:s\"     \"d:m:s\"   ...                                   \n",
      "------------ ----------- ----------- ... -------------- -------------------\n",
      "V* V1521 Cyg 20 32 25.78 +40 57 27.9 ...              I 2003yCat.2246....0C\n"
     ]
    }
   ],
   "source": [
    "from astroquery.simbad import Simbad\n",
    "\n",
    "mysource = Simbad.query_object('Cyg X-3')\n",
    "\n",
    "print mysource"
   ]
  },
  {
   "cell_type": "markdown",
   "metadata": {},
   "source": [
    "...or find all the listed objects in Simbad lying within a given radius of your source/coordinates. Here we use two different methods to specify the angular size of the region, defined by the keyword `radius` (by default, its value is 20 arcmin)."
   ]
  },
  {
   "cell_type": "code",
   "execution_count": 5,
   "metadata": {
    "collapsed": false
   },
   "outputs": [
    {
     "name": "stdout",
     "output_type": "stream",
     "text": [
      "        MAIN_ID               RA      ... COO_WAVELENGTH     COO_BIBCODE    \n",
      "                           \"h:m:s\"    ...                                   \n",
      "----------------------- ------------- ... -------------- -------------------\n",
      "           V* V1521 Cyg   20 32 25.78 ...              I 2003yCat.2246....0C\n",
      "            [TFG2007] C 20 32 25.7715 ...                2007MNRAS.375L..11T\n",
      "    NVSS J203225+405728 20 32 25.7705 ...              R 2011ApJS..194...25I\n",
      "            [TFG2007] A 20 32 25.7716 ...                2007MNRAS.375L..11T\n",
      "            [TFG2007] B 20 32 25.7711 ...                2007MNRAS.375L..11T\n",
      "              KMJ  1329    20 32 27.6 ...                                   \n",
      "2MASS J20322807+4057424  20 32 28.070 ...              I 2003yCat.2246....0C\n",
      "              KMJ  1330    20 32 23.3 ...                                   \n",
      "              KMJ  1327    20 32 31.6 ...                                   \n",
      "              KMJ  1328    20 32 19.5 ...                                   \n",
      "              KMJ  1325    20 32 34.1 ...                                   \n"
     ]
    }
   ],
   "source": [
    "import astropy.units as u\n",
    "\n",
    "results = Simbad.query_region('Cyg X-3', radius=2 * u.arcmin)\n",
    "\n",
    "# Here is another way of specifying the radius, stricly equivalent\n",
    "results = Simbad.query_region('Cyg X-3', radius='0d2m0s')\n",
    "\n",
    "print(results)"
   ]
  },
  {
   "cell_type": "markdown",
   "metadata": {},
   "source": [
    "Once `results` is created, or previously `mysource`, you can access their properties stored in a table. If you want to know the list of features that can be reached, just call the `colnames` method:"
   ]
  },
  {
   "cell_type": "code",
   "execution_count": 6,
   "metadata": {
    "collapsed": false
   },
   "outputs": [
    {
     "name": "stdout",
     "output_type": "stream",
     "text": [
      "['MAIN_ID', 'RA', 'DEC', 'RA_PREC', 'DEC_PREC', 'COO_ERR_MAJA', 'COO_ERR_MINA', 'COO_ERR_ANGLE', 'COO_QUAL', 'COO_WAVELENGTH', 'COO_BIBCODE']\n",
      "V* V1521 Cyg 20 32 25.78 +40 57 27.9\n"
     ]
    }
   ],
   "source": [
    "print results.colnames # print the available fields\n",
    "\n",
    "print results[0]['MAIN_ID'], results[0]['RA'], results[0]['DEC'] # main properties of source no.1"
   ]
  },
  {
   "cell_type": "markdown",
   "metadata": {},
   "source": [
    "### Customizing the Query Output\n",
    "From the last command (`results.colnames`), you see that many fields are available but that's not all!\n",
    "These fields are called 'The VOTable fields' and you can specify other ones that you also want to be fetched in the result. Available fields can be listed: "
   ]
  },
  {
   "cell_type": "code",
   "execution_count": 7,
   "metadata": {
    "collapsed": false
   },
   "outputs": [
    {
     "name": "stdout",
     "output_type": "stream",
     "text": [
      "--NOTES--\n",
      "\n",
      "1. The parameter filtername must correspond to an existing filter. Filters include: B,V,R,I,J,K,L.  They are checked by SIMBAD but not astroquery.simbad\n",
      "\n",
      "2. Fields beginning with rvz display the data as it is in the database. Fields beginning with rv force the display as a radial velocity. Fields beginning with z force the display as a redshift\n",
      "\n",
      "3. For each measurement catalog, the VOTable contains all fields of the first measurement. When applicable, the first measurement is the mean one. \n",
      "\n",
      "Available VOTABLE fields: \n",
      "          col0                   col1              col2     \n",
      "------------------------ -------------------- --------------\n",
      "      bibcodelist(y1-y2) fluxdata(filtername)       plx_qual\n",
      "                     cel                 gcrv             pm\n",
      "                    cl.g                  gen     pm_bibcode\n",
      "                coo(opt)                   gj   pm_err_angle\n",
      "             coo_bibcode                 hbet    pm_err_maja\n",
      "           coo_err_angle                hbet1    pm_err_mina\n",
      "            coo_err_maja                 hgam        pm_qual\n",
      "            coo_err_mina              id(opt)          pmdec\n",
      "                coo_qual                 iras     pmdec_prec\n",
      "          coo_wavelength                  irc           pmra\n",
      "                     ...                  ...            ...\n",
      "          dim_wavelength           mt_bibcode      rvz_error\n",
      "              dimensions              mt_qual       rvz_qual\n",
      "                einstein                  orv     rvz_radvel\n",
      "                    fe_h                otype       rvz_type\n",
      "        flux(filtername)           otype(opt) rvz_wavelength\n",
      "flux_bibcode(filtername)             parallax            sao\n",
      "  flux_error(filtername)                  plx             sp\n",
      "   flux_name(filtername)          plx_bibcode     sp_bibcode\n",
      "flux_quality(filtername)            plx_error      sp_nature\n",
      "   flux_unit(filtername)             plx_prec        sp_qual\n",
      "                  sptype                   --             --\n",
      "Length = 31 rows\n",
      "\n",
      "For more information on a field :\n",
      "Simbad.get_field_description ('field_name')\n",
      "\n",
      "Currently active VOTABLE fields:\n",
      "['main_id', 'coordinates']\n"
     ]
    }
   ],
   "source": [
    "Simbad.list_votable_fields()"
   ]
  },
  {
   "cell_type": "markdown",
   "metadata": {},
   "source": [
    "You can then specify which one you want to see. For example, it is particularly interesting to know the type of the sources returned by the query. This is specified by the `otype` keyword. So if you want your Simbad queries to return this field, it's easy:"
   ]
  },
  {
   "cell_type": "code",
   "execution_count": 8,
   "metadata": {
    "collapsed": false
   },
   "outputs": [
    {
     "name": "stdout",
     "output_type": "stream",
     "text": [
      "        MAIN_ID               RA      ...     COO_BIBCODE      OTYPE  \n",
      "                           \"h:m:s\"    ...                             \n",
      "----------------------- ------------- ... ------------------- --------\n",
      "           V* V1521 Cyg   20 32 25.78 ... 2003yCat.2246....0C     HMXB\n",
      "            [TFG2007] C 20 32 25.7715 ... 2007MNRAS.375L..11T    Radio\n",
      "    NVSS J203225+405728 20 32 25.7705 ... 2011ApJS..194...25I    Radio\n",
      "            [TFG2007] A 20 32 25.7716 ... 2007MNRAS.375L..11T    Radio\n",
      "            [TFG2007] B 20 32 25.7711 ... 2007MNRAS.375L..11T    Radio\n",
      "              KMJ  1329    20 32 27.6 ...                         Star\n",
      "2MASS J20322807+4057424  20 32 28.070 ... 2003yCat.2246....0C *inAssoc\n",
      "              KMJ  1330    20 32 23.3 ...                         Star\n",
      "              KMJ  1327    20 32 31.6 ...                         Star\n",
      "              KMJ  1328    20 32 19.5 ...                         Star\n",
      "              KMJ  1325    20 32 34.1 ...                         Star\n"
     ]
    }
   ],
   "source": [
    "Simbad.add_votable_fields('otype') # add the field for the query output\n",
    "\n",
    "results = Simbad.query_region('Cyg X-3', radius='0d2m0s') # same query as before\n",
    "print results\n",
    "\n",
    "Simbad.remove_votable_fields('otype') # remove the field so it will not interfere with the rest of this tutorial"
   ]
  },
  {
   "cell_type": "markdown",
   "metadata": {},
   "source": [
    "### Manipulating the Astroquery Output\n",
    "You can then play with this output table and apply filters. As an example, we will select only one type of sources from the previous list. For that purpose, we use the `numpy` method `where` along with a condition on the `astropy table`. The result of this command is a list of indices that we apply to the whole list to get our selection. "
   ]
  },
  {
   "cell_type": "code",
   "execution_count": 9,
   "metadata": {
    "collapsed": false,
    "scrolled": true
   },
   "outputs": [
    {
     "name": "stdout",
     "output_type": "stream",
     "text": [
      "  MAIN_ID         RA         DEC     ...     COO_BIBCODE     OTYPE\n",
      "               \"h:m:s\"     \"d:m:s\"   ...                          \n",
      "------------ ----------- ----------- ... ------------------- -----\n",
      "V* V1521 Cyg 20 32 25.78 +40 57 27.9 ... 2003yCat.2246....0C  HMXB\n"
     ]
    }
   ],
   "source": [
    "Simbad.add_votable_fields('otype') # add the field for the query output\n",
    "results = Simbad.query_region('Cyg X-3', radius='0d2m0s') # same query as before\n",
    "\n",
    "hmxb_indices = np.where(results['OTYPE']=='HMXB')\n",
    "print results[hmxb_indices]\n",
    "\n",
    "Simbad.remove_votable_fields('otype') # remove the field so it will not interfere with the rest of this tutorial"
   ]
  },
  {
   "cell_type": "markdown",
   "metadata": {},
   "source": [
    "Now, using our matplotlib skills learned from the course 'Introduction to Matplotlib', we can plot the distribution of Pulsars (`otype='Pulsar'`) in a given region of the sky (...let's say... Cygnus?). We will use another feature of `astroquery.Simbad` called `Simbad.query_criteria`. This method returns the same outputs as the online Simbad option 'Queries by criteria' ant it accepts the same keywords. For example, if the region of interest is a $10 \\times 10$ degrees$^2$ box centred on ($l=79.8$, $b=+0.7$), the syntax would be `'region(box, GAL, 79.8 +0.7, 10d 10d)'`.\n",
    "\n",
    "We also see one usage of `Skycoord`, which transforms coordinates into a 'coordinates objects' with a set of predefined methods (see the course 'Introduction to Astropy').\n",
    "\n",
    "**We will need `psr_gal` variable for the last step of this tutorial.** "
   ]
  },
  {
   "cell_type": "code",
   "execution_count": 10,
   "metadata": {
    "collapsed": false
   },
   "outputs": [
    {
     "name": "stdout",
     "output_type": "stream",
     "text": [
      "           MAIN_ID                 RA      ...     COO_BIBCODE    \n",
      "                                \"h:m:s\"    ...                    \n",
      "----------------------------- ------------ ... -------------------\n",
      "               PSR J2037+3621  20 37 27.44 ... 2004MNRAS.353.1311H\n",
      "               PSR J2030+3641 20 30 00.261 ... 2012ApJ...746...39C\n",
      "               PSR J2032+4127      20 32.2 ... 2010Sci...329..817A\n",
      "               PSR J2022+3842 20 22 21.689 ... 2011ApJ...739...39A\n",
      "               PSR J2030+4415     20 30 55 ... 2010ApJS..188..405A\n",
      "               PSR J2021+4026     20 21 34 ... 2012ApJS..199...31N\n",
      "               PSR J2021+3651   20 21 04.5 ... 2002ApJ...577L..19R\n",
      "                 PSR B2011+38 20 13 10.367 ... 2004MNRAS.353.1311H\n",
      "                 V* V2246 Cyg  20 32 15.28 ... 2003yCat.2246....0C\n",
      "               PSR J2021+4044      20 21.0 ...                    \n",
      "                 PSR B2000+40 20 02 44.030 ... 2004MNRAS.353.1311H\n",
      "[HRR2004] J202105.46+365104.8  20 21 05.40 ... 2012ApJ...756...27L\n",
      "                 PSR B2027+37 20 29 23.872 ... 2004MNRAS.353.1311H\n",
      "               PSR J2027+4557  20 27 16.25 ... 2003yCat.2246....0C\n"
     ]
    },
    {
     "data": {
      "text/plain": [
       "<matplotlib.text.Text at 0x1109e4d50>"
      ]
     },
     "execution_count": 10,
     "metadata": {},
     "output_type": "execute_result"
    },
    {
     "data": {
      "image/png": "[encoded data removed]",
      "text/plain": [
       "<matplotlib.figure.Figure at 0x1109a5f90>"
      ]
     },
     "metadata": {},
     "output_type": "display_data"
    }
   ],
   "source": [
    "from astropy.coordinates import SkyCoord\n",
    "\n",
    "psr = Simbad.query_criteria('region(box, GAL, 79.8 +0.7, 10d 10d)', otype='Pulsar') # takes some time...\n",
    "print psr\n",
    "\n",
    "# Convert their ICRS coordinates returned by Simbad into Galactic \n",
    "psr_gal = SkyCoord(psr['RA'], psr['DEC'], unit=(u.hour,u.deg), frame='icrs').galactic\n",
    "\n",
    "# Initialize the figure environment\n",
    "fig = plt.figure(figsize=(5,5))\n",
    "ax = fig.add_subplot(111)\n",
    "ax.grid(True)\n",
    "\n",
    "# Plot the distribution\n",
    "ax.plot(psr_gal.l.degree, psr_gal.b.degree, marker='o', color='red', linestyle='')\n",
    "ax.set_xlabel('Galactic longitude')\n",
    "ax.set_ylabel('Galactic latitude')"
   ]
  },
  {
   "cell_type": "markdown",
   "metadata": {},
   "source": [
    "### Query a Catalogue\n",
    "You can also directly query a catalogue to return the whole object list. Usually, the list is huge but you can limit the number of entries by defining a `ROW_LIMIT`. Otherwise, the searching time may be very long and `astroquery` will return the error `TimeoutError` after 60 seconds by default. However, if you want to avoid this, you can also modify this parameter by setting `Simbad.TIMEOUT = (whatever in seconds)`. "
   ]
  },
  {
   "cell_type": "code",
   "execution_count": null,
   "metadata": {
    "collapsed": false,
    "scrolled": true
   },
   "outputs": [],
   "source": [
    "limitedSimbad = Simbad() # initialize a Simbad object\n",
    "limitedSimbad.ROW_LIMIT = 6 # limited number of returned objects because the list is huge...\n",
    "\n",
    "wise_catalog = limitedSimbad.query_catalog('wise')\n",
    "print(wise_catalog)"
   ]
  },
  {
   "cell_type": "markdown",
   "metadata": {},
   "source": [
    "### Cross-match Catalogues\n",
    "Cross-matching catalogues might be very usefull and, of course, there is a tool for that! We will use the [method](http://astropy.readthedocs.org/en/latest/coordinates/matchsep.html) `match_to_catalog_sky` from the `SkyCoord` module which compares the positions of two coordinates objects.\n",
    "\n",
    "In the example below, we will:\n",
    "* Query Simbad with the `query_criteria` method by giving two conditions in input: the name of the catalogue and the region of the sky to limit the search;\n",
    "* Transform the output table into `SkyCoord` coordinates objects as we did previously for the pulsar table (**`psr_gal`**);\n",
    "* Cross-match the two lists with `match_to_catalog_sky`. There are three returned lists: indices, angular separations from the closest match and 3D distances;\n",
    "* Print the matching sources from the Fermi table using `table[indices]`. However, if you only print the indices, you would notice that there are several duplicates. Therefore, to avoid printing sources twice or more, we use the function `set` ([documentation](https://docs.python.org/3/library/functions.html#func-set)) which returns unordered collections of distinct objects, then we transform it to a list again with `list()`.\n",
    "\n",
    "**You can also make selections based on the angular separation to get more accuracy.**"
   ]
  },
  {
   "cell_type": "code",
   "execution_count": null,
   "metadata": {
    "collapsed": false,
    "scrolled": true
   },
   "outputs": [],
   "source": [
    "# Simbad query on the 2FGL catalog on the same region where we searched for the pulsars.\n",
    "catalog_fermi = Simbad.query_criteria('region(box, GAL, 79.8 +0.7, 10d 10d)', cat='2FGL') # take some time...\n",
    "print 'Number of selected sources from the Fermi catalogue:', len(catalog_fermi)\n",
    "print 'Number of pulsars from the Simbad query:', len(psr_gal)\n",
    "\n",
    "# Convert this table into coordinates objects with Skycoords\n",
    "fermi_gal = SkyCoord(catalog_fermi['RA'], catalog_fermi['DEC'], unit=(u.hour,u.deg), frame='icrs').galactic \n",
    "\n",
    "# Cross-match the two lists of coordinates objects\n",
    "idx, sep2d, dist3d = psr_gal.match_to_catalog_sky(fermi_gal)\n",
    "\n",
    "print catalog_fermi[ list(set(idx)) ]\n",
    "print 'Number of cross-matched sources:', len(catalog_fermi[list(set(idx))])"
   ]
  },
  {
   "cell_type": "markdown",
   "metadata": {},
   "source": [
    "\n",
    "*There are obviously many more `Astroquery` features that you are now able to discover by yourselves after this general introduction.*\n"
   ]
  },
  {
   "cell_type": "markdown",
   "metadata": {},
   "source": [
    "## Fermi Query and Catalogue Selections\n",
    "Manipulating a source catalogue with Python can be done by several ways. We saw earlier how to perform Simbad searches but we can also directly import a catalogue in FITS format. \n",
    "As an alternative example, we can load the new 3FGL catalogue of the Fermi-LAT sources from the [Fermi Science Support Center](http://fermi.gsfc.nasa.gov/ssc/) webpage using the command:"
   ]
  },
  {
   "cell_type": "code",
   "execution_count": null,
   "metadata": {
    "collapsed": false
   },
   "outputs": [],
   "source": [
    "from astropy.table import Table\n",
    "\n",
    "# takes some time...\n",
    "# forget about the warnings...\n",
    "cat_3FGL = Table.read('http://fermi.gsfc.nasa.gov/ssc/data/access/lat/4yr_catalog/gll_psc_v14.fit')"
   ]
  },
  {
   "cell_type": "markdown",
   "metadata": {},
   "source": [
    "By typing `cat_3FGL.colnames` you would get a list of all the available informations. For example, let's have a look on the first source of this catalog (index=0) and print its name and position (using the column keywords `Source_Name`, `RAJ2000`, `DEJ2000`, `GLON` and `GLAT`):"
   ]
  },
  {
   "cell_type": "code",
   "execution_count": null,
   "metadata": {
    "collapsed": false
   },
   "outputs": [],
   "source": [
    "print 'Its name is', cat_3FGL[0]['Source_Name']\n",
    "print 'located at', cat_3FGL[0]['RAJ2000'], cat_3FGL[0]['DEJ2000'], '(J2000)'\n",
    "print 'or', cat_3FGL[0]['GLON'], cat_3FGL[0]['GLAT'], '(GAL)'"
   ]
  },
  {
   "cell_type": "markdown",
   "metadata": {},
   "source": [
    "And just to play, we are going to check that the two printed sets of coordinates are in good agreement."
   ]
  },
  {
   "cell_type": "code",
   "execution_count": null,
   "metadata": {
    "collapsed": false
   },
   "outputs": [],
   "source": [
    "from astropy.coordinates import SkyCoord\n",
    "\n",
    "# Initializing the coordinates object:\n",
    "FermiSource = SkyCoord(cat_3FGL[0]['RAJ2000'], cat_3FGL[0]['DEJ2000'], unit=u.deg)\n",
    "\n",
    "# If you want to see them in h/m/s:\n",
    "print 'RA(J2000):', FermiSource.ra.hms\n",
    "print 'Dec(J2000):', FermiSource.dec.hms\n",
    "\n",
    "# Do the conversion\n",
    "print 'Here is the Galactic conversion which looks OK:', FermiSource.galactic"
   ]
  },
  {
   "cell_type": "markdown",
   "metadata": {},
   "source": [
    "### Catalogue Selections\n",
    "Now, just as `astroquery`, we can also search for sources in this catalogue. To extract all the Fermi sources around Cyg X-3, we will first create a coordinate object. Using the `from_name` method directly query the SESAME database."
   ]
  },
  {
   "cell_type": "code",
   "execution_count": null,
   "metadata": {
    "collapsed": false
   },
   "outputs": [],
   "source": [
    "cygx3 = SkyCoord.from_name(\"Cyg X-3\")\n",
    "\n",
    "# Check the coordinates:\n",
    "print 'Cyg X-3 coordinates are', cygx3.ra.degree, cygx3.dec.degree"
   ]
  },
  {
   "cell_type": "markdown",
   "metadata": {},
   "source": [
    "By using the `numpy` task [where](http://docs.scipy.org/doc/numpy/reference/generated/numpy.where.html), we can select all the 3FGL sources (stored in the table `cat_3FGL`) located within, let's say, 5 degrees from Cyg X-3. The object `cygx3` is already created so we just have to call the [separation](http://astropy.readthedocs.org/en/latest/coordinates/matchsep.html) method ( *syntax: coord_obj1.separation(coord_obj2)* ) while giving in input a list of coordinates objects and setting the angular separation condition on the returned value (**we will use `RoI` later**):"
   ]
  },
  {
   "cell_type": "code",
   "execution_count": null,
   "metadata": {
    "collapsed": false
   },
   "outputs": [],
   "source": [
    "import numpy as np\n",
    "\n",
    "# Indices list of cat_3FGL sources lying within 10degr of Cyg X-3: \n",
    "index = np.where( (cygx3.separation( SkyCoord(cat_3FGL['RAJ2000'], cat_3FGL['DEJ2000'],\n",
    "                unit=u.deg)).degree < 10.) & (cat_3FGL['Signif_Avg'] > 20.) )\n",
    "\n",
    "# Sub-table of the 3FGL catalogue:\n",
    "RoI = cat_3FGL[index]\n",
    "print RoI"
   ]
  },
  {
   "cell_type": "markdown",
   "metadata": {},
   "source": [
    "*You see in the above example that there are **two** conditions inside the `where` function. One on the angular separation between two coordinates objects, the other is specific to the catalogue and one of its keywords: `Signif_Avg`.*"
   ]
  },
  {
   "cell_type": "markdown",
   "metadata": {},
   "source": [
    "## Plot an Astronomical Image\n",
    "The next and last step is to plot a *beautiful* image of your sky region which will include some of the previously obtained results. Within the `astropy` package, this task is relatively easy. Let's start by loading the data from a FITS file (here it is just a count map of the Cygnus region seen with the Large Area Telescope onboard Fermi)."
   ]
  },
  {
   "cell_type": "markdown",
   "metadata": {},
   "source": [
    "### Check the FITS File\n",
    "It is always crucial to know with what we are playing. As it is well explained in the 'Introduction to Astropy' tutorial, you can easily access the header of a FITS file to get informations about the data."
   ]
  },
  {
   "cell_type": "code",
   "execution_count": null,
   "metadata": {
    "collapsed": false,
    "scrolled": true
   },
   "outputs": [],
   "source": [
    "from astropy.io import fits\n",
    "\n",
    "hdu_list = fits.open('CygX-3_FermiLAT.fits')\n",
    "image = hdu_list[0].data\n",
    "header = hdu_list[0].header\n",
    "\n",
    "header[:55] # print the first 55 rows"
   ]
  },
  {
   "cell_type": "markdown",
   "metadata": {},
   "source": [
    "From this header, you can check many things. Some of them are related to the image properties (e.g., size of the map: `NAXIS1` $\\times$ `NAXIS2` in pixels$^2$, sky coordinates of the center: (`CRVAL1`, `CRVAL2`) and the corresponding pixel numbers, etc.). You can also see how the data are projected by interrogating the `CTYPE1` and `CTYPE2` values (and you will see that the image is projected in Galactic coordinates):"
   ]
  },
  {
   "cell_type": "code",
   "execution_count": null,
   "metadata": {
    "collapsed": false
   },
   "outputs": [],
   "source": [
    "header['CTYPE1'], header['CTYPE2']"
   ]
  },
  {
   "cell_type": "markdown",
   "metadata": {},
   "source": [
    "### First Glimpse on the Image\n",
    "Once the `matplotlib.pylab` module loaded (e.g. `import matplotlib.pylab as plt`) it becomes really straightforward to show our data contained in the FITS file by using the task `imshow` ([documentation](http://matplotlib.org/api/pyplot_api.html#matplotlib.pyplot.imshow)). The `cmap` option defines the color scale, there are many available predefined color templates [here](http://matplotlib.org/examples/color/colormaps_reference.html). "
   ]
  },
  {
   "cell_type": "code",
   "execution_count": null,
   "metadata": {
    "collapsed": false
   },
   "outputs": [],
   "source": [
    "plt.imshow(image, cmap='gist_stern')"
   ]
  },
  {
   "cell_type": "markdown",
   "metadata": {},
   "source": [
    "It is possible to choose the range of plotted data by modifying the `vmin` and `vmax` parameters:"
   ]
  },
  {
   "cell_type": "code",
   "execution_count": null,
   "metadata": {
    "collapsed": false
   },
   "outputs": [],
   "source": [
    "plt.imshow(image, cmap='gist_stern', vmin=image.min()*2, vmax=image.max()/2.)"
   ]
  },
  {
   "cell_type": "markdown",
   "metadata": {},
   "source": [
    "By default, the color scale is linear but you can set another one thanks to the argument `norm` that takes in input an object from the library `matplotlib.colors` ([documentation](http://matplotlib.org/api/colors_api.html)): `LogNorm`, `PowerNorm(gamma=2)` (or `gamma=0.5` to get a SQRT scale), etc."
   ]
  },
  {
   "cell_type": "code",
   "execution_count": null,
   "metadata": {
    "collapsed": false
   },
   "outputs": [],
   "source": [
    "from matplotlib.colors import PowerNorm\n",
    "\n",
    "plt.imshow(image, cmap='gist_stern', norm=PowerNorm(gamma=2))"
   ]
  },
  {
   "cell_type": "markdown",
   "metadata": {},
   "source": [
    "In a few lines, we have been able to visualize our data. However, you may have noticed that the **$x$ and $y$ coordinates are not physical as they just represent the pixel values**. So we will continue playing with these modules to get a nice image in the end."
   ]
  },
  {
   "cell_type": "markdown",
   "metadata": {},
   "source": [
    "### Represent the Real Coordinates\n",
    "We will use for that puprpose the package [WCSAxes](http://wcsaxes.readthedocs.org/en/latest/) affiliated with the `Astropy` project. You should have installed this module at the beginning tf the tutorial, if not, just type in the terminal: `pip install wcsaxes`. We then create a figure using Matplotlib and define the axes with the WCS object. This object is an input for the `projection` keyword of the `add_axes` method."
   ]
  },
  {
   "cell_type": "code",
   "execution_count": null,
   "metadata": {
    "collapsed": false
   },
   "outputs": [],
   "source": [
    "from wcsaxes import WCS # or just 'from astropy.wcs import WCS'\n",
    "\n",
    "wcs = WCS(header) # read coordinates from FITS header\n",
    "\n",
    "fig = plt.figure() # initialize the figure environment\n",
    "ax = fig.add_axes([0.15, 0.1, 0.8, 0.8], projection=wcs) # use physical coordinates\n",
    "ax.imshow(image, cmap='gist_stern', origin='lower')"
   ]
  },
  {
   "cell_type": "markdown",
   "metadata": {},
   "source": [
    "It starts to look right, but there are a few things to do in order to publish this figure... :)\n",
    "For example, add a colorbar to give a meaning to the colours, insert a grid and axis labels."
   ]
  },
  {
   "cell_type": "code",
   "execution_count": null,
   "metadata": {
    "collapsed": false,
    "scrolled": true
   },
   "outputs": [],
   "source": [
    "fig = plt.figure() # initialize the figure environment\n",
    "ax = fig.add_axes([0.15, 0.1, 0.8, 0.8], projection=wcs) # use physical coordinates\n",
    "p = ax.imshow(image, cmap='gist_stern', origin='lower')\n",
    "cbar = fig.colorbar(p)\n",
    "cbar.set_label('Counts/pixel')\n",
    "\n",
    "lon = ax.coords['glon'] # axis objects\n",
    "lat = ax.coords['glat']\n",
    "\n",
    "lon.set_axislabel('Galactic Longitude')\n",
    "lat.set_axislabel('Galactic Latitude')\n",
    "lon.grid(color='white', alpha=0.5, linestyle='solid')\n",
    "lat.grid(color='white', alpha=0.5, linestyle='solid')"
   ]
  },
  {
   "cell_type": "markdown",
   "metadata": {},
   "source": [
    "### Overlaying Coordinate Systems\n",
    "The `axes` method `get_coords_overlay()` allows one to represent the image into another coordinates system (such as 'galactic', 'fk4', 'fk5', 'icrs' etc.):"
   ]
  },
  {
   "cell_type": "code",
   "execution_count": null,
   "metadata": {
    "collapsed": false
   },
   "outputs": [],
   "source": [
    "fig = plt.figure() # initialize the figure environment\n",
    "ax = fig.add_axes([0.15, 0.1, 0.8, 0.8], projection=wcs) # use physical coordinates\n",
    "ax.imshow(image, cmap='gist_stern', origin='lower')\n",
    "\n",
    "lon = ax.coords['glon'] # axis objects\n",
    "lat = ax.coords['glat']\n",
    "\n",
    "lon.set_axislabel('Galactic Longitude')\n",
    "lat.set_axislabel('Galactic Latitude')\n",
    "lon.grid(color='blue', alpha=0.5, linestyle='solid')\n",
    "lat.grid(color='blue', alpha=0.5, linestyle='solid')\n",
    "\n",
    "# Overlay a FK5 grid coordinates\n",
    "ra, dec = ax.get_coords_overlay('fk5')\n",
    "ra.set_axislabel('RA (J2000)')\n",
    "dec.set_axislabel('Dec (J2000)')\n",
    "ra.grid(color='yellow', alpha=0.5, linestyle='solid')\n",
    "dec.grid(color='yellow', alpha=0.5, linestyle='solid')"
   ]
  },
  {
   "cell_type": "markdown",
   "metadata": {},
   "source": [
    "*You can also see [some examples](http://nbviewer.ipython.org/gist/astrofrog/9183554) of how to use the `wcsaxes` package.* "
   ]
  },
  {
   "cell_type": "markdown",
   "metadata": {},
   "source": [
    "### Convolution and Contours"
   ]
  },
  {
   "cell_type": "code",
   "execution_count": null,
   "metadata": {
    "collapsed": false
   },
   "outputs": [],
   "source": [
    "from astropy.convolution import Gaussian2DKernel, convolve\n",
    "gauss = Gaussian2DKernel(stddev=1)\n",
    "\n",
    "convolved_image=convolve(image, gauss, boundary='extend')\n",
    "\n",
    "\n",
    "fig = plt.figure() # initialize the figure environment\n",
    "ax = fig.add_axes([0.15, 0.1, 0.8, 0.8], projection=wcs) # use physical coordinates\n",
    "p = ax.imshow(convolved_image, cmap='gist_stern', origin='lower')\n",
    "cbar = fig.colorbar(p)\n",
    "cbar.set_label('Counts/pixel')\n",
    "\n",
    "lon = ax.coords['glon']\n",
    "lat = ax.coords['glat']\n",
    "\n",
    "lon.set_axislabel('Galactic Longitude')\n",
    "lat.set_axislabel('Galactic Latitude')\n",
    "lon.grid(color='white', alpha=0.5, linestyle='solid')\n",
    "lat.grid(color='white', alpha=0.5, linestyle='solid')\n",
    "\n",
    "# levels=np.linspace(image.min(), image.max(), 10)\n",
    "ax.contour(convolved_image, levels=[50, 100, 150, 300, 500], colors='white', alpha=0.5)"
   ]
  },
  {
   "cell_type": "markdown",
   "metadata": {},
   "source": [
    "### Include Catalogue Informations\n",
    "The last step before saving our figure is to overplot the Fermi-LAT 3FGL source positions that we have previsously selected (**`psr_gal` and `RoI`**). We will have to transform the astronomical coordinates into figure coordinates by using `get_transform` which can be called in many `matplotlib` methods. "
   ]
  },
  {
   "cell_type": "code",
   "execution_count": null,
   "metadata": {
    "collapsed": false
   },
   "outputs": [],
   "source": [
    "fig = plt.figure() # initialize the figure environment\n",
    "ax = fig.add_axes([0.15, 0.1, 0.8, 0.8], projection=wcs) # use physical coordinates\n",
    "p = ax.imshow(convolved_image, cmap='gist_stern', origin='lower')\n",
    "\n",
    "cbar = fig.colorbar(p)\n",
    "cbar.set_label('Counts/pixel')\n",
    "\n",
    "lon = ax.coords['glon']\n",
    "lat = ax.coords['glat']\n",
    "\n",
    "lon.set_axislabel('Galactic Longitude')\n",
    "lat.set_axislabel('Galactic Latitude')\n",
    "lon.grid(color='white', alpha=0.5, linestyle='solid')\n",
    "lat.grid(color='white', alpha=0.5, linestyle='solid')\n",
    "\n",
    "ax.contour(convolved_image, levels=[50, 100, 150, 300, 500], colors='white', alpha=0.5)\n",
    "\n",
    "tr_gal = ax.get_transform(\"galactic\") # Transform coordinates into pixels'\n",
    "\n",
    "for source in RoI:\n",
    "    x, y = source['GLON'], source['GLAT']\n",
    "    ax.plot(x, y, color='white', marker='x', markersize=4, transform=tr_gal)\n",
    "    ax.text(x, y, source['Source_Name'], color='white', size=6, transform=tr_gal)\n",
    "\n",
    "# Overplot the distribution of pulsars that we found earlier with Simbad\n",
    "ax.plot(psr_gal.l.degree, psr_gal.b.degree, marker='*', color='green',\n",
    "        alpha=0.5, linestyle='', transform=tr_gal)\n",
    "\n",
    "fig.savefig('CygX-3.pdf', bbox_inches='tight')"
   ]
  },
  {
   "cell_type": "markdown",
   "metadata": {},
   "source": [
    "Of course, there are many ways of getting this result. One of the most popular require the use of [APLpy](https://aplpy.readthedocs.org/en/stable/) which is a great module, very easy to use. Here is the full [list](http://www.astropython.org/resources) of Python resources for astronomers."
   ]
  },
  {
   "cell_type": "markdown",
   "metadata": {},
   "source": [
    "## Breakout Session\n",
    "You will have some time to apply what we have just learned. Here is the exercise, have fun!\n",
    "\n",
    "Write a small code to save a 'ready-to-publish' `pdf` image. Your code should:\n",
    "* Compute the **residual image** from the files `CygX-3_FermiLAT.fits` (**data**) and `CygX-3_Model.fits` (**model**) which obeys the equation: $residuals = (data-model)/\\sqrt{model}$;\n",
    "* Convolve the image (take `stddev=2`);\n",
    "* Plot the residual image:\n",
    "    * project the image in the correct coordinates system;\n",
    "    * add axis labels, a black grid and a colorbar (label: 'Residual $\\sigma$/pixel');\n",
    "* Use the FITS informations to query Simbad and return all the sources located in the central image square (length=75% image size) from the '2FGL' catalogue;\n",
    "* Plot crosses at the source positions along with their names;\n",
    "* Save the plot as 'breakout_plot.pdf'."
   ]
  }
 ],
 "metadata": {
  "kernelspec": {
   "display_name": "Python 2",
   "language": "python",
   "name": "python2"
  },
  "language_info": {
   "codemirror_mode": {
    "name": "ipython",
    "version": 2
   },
   "file_extension": ".py",
   "mimetype": "text/x-python",
   "name": "python",
   "nbconvert_exporter": "python",
   "pygments_lexer": "ipython2",
   "version": "2.7.9"
  }
 },
 "nbformat": 4,
 "nbformat_minor": 0
}
