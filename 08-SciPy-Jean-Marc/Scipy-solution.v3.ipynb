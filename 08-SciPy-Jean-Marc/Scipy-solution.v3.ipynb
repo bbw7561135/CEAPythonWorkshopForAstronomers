{
 "metadata": {
  "kernelspec": {
   "display_name": "Python 2",
   "language": "python",
   "name": "python2"
  },
  "language_info": {
   "codemirror_mode": {
    "name": "ipython",
    "version": 2
   },
   "file_extension": ".py",
   "mimetype": "text/x-python",
   "name": "python",
   "nbconvert_exporter": "python",
   "pygments_lexer": "ipython2",
   "version": "2.7.9"
  },
  "name": ""
 },
 "nbformat": 3,
 "nbformat_minor": 0,
 "worksheets": [
  {
   "cells": [
    {
     "cell_type": "code",
     "collapsed": false,
     "input": [
      "%matplotlib inline\n",
      "import numpy as np\n",
      "from lmfit.models import GaussianModel, ExponentialModel\n",
      "import sys\n",
      "import matplotlib.pyplot as plt\n",
      "\n",
      "dat = np.loadtxt('Gauss2.dat')\n",
      "x = dat[:, 1]\n",
      "y = dat[:, 0]\n",
      "\n",
      "exp_mod = ExponentialModel(prefix='exp_')\n",
      "pars = exp_mod.guess(y, x=x) # no need to give initial values, it guesses it for the built-in models\n",
      "\n",
      "gauss1  = GaussianModel(prefix='g1_')\n",
      "pars.update( gauss1.make_params())\n",
      "\n",
      "pars['g1_center'].set(105, min=75, max=125)\n",
      "pars['g1_sigma'].set(15, min=3)\n",
      "pars['g1_amplitude'].set(2000, min=10)\n",
      "\n",
      "gauss2  = GaussianModel(prefix='g2_')\n",
      "\n",
      "pars.update(gauss2.make_params())\n",
      "\n",
      "pars['g2_center'].set(155, min=125, max=175)\n",
      "pars['g2_sigma'].set(15, min=3)\n",
      "pars['g2_amplitude'].set(2000, min=10)\n",
      "\n",
      "mod = gauss1 + gauss2 + exp_mod\n",
      "\n",
      "\n",
      "init = mod.eval(pars, x=x)\n",
      "plt.plot(x, y)\n",
      "plt.plot(x, init, 'k--')\n",
      "\n",
      "out = mod.fit(y, pars, x=x)\n",
      "\n",
      "print(out.fit_report(min_correl=0.5))\n",
      "\n",
      "plt.plot(x, out.best_fit, 'r-')\n",
      "plt.show()"
     ],
     "language": "python",
     "metadata": {},
     "outputs": [
      {
       "output_type": "stream",
       "stream": "stdout",
       "text": [
        "[[Model]]\n",
        "    ((Model(gaussian, prefix='g1_') + Model(gaussian, prefix='g2_')) + Model(exponential, prefix='exp_'))\n",
        "[[Fit Statistics]]\n",
        "    # function evals   = 46\n",
        "    # data points      = 250\n",
        "    # variables        = 8\n",
        "    chi-square         = 1247.528\n",
        "    reduced chi-square = 5.155\n",
        "[[Variables]]\n",
        "    exp_amplitude:   99.0183282 +/- 0.537487 (0.54%) (init= 162.2102)\n",
        "    exp_decay:       90.9508859 +/- 1.103105 (1.21%) (init= 93.24905)\n",
        "    g1_sigma:        16.6725753 +/- 0.160481 (0.96%) (init= 15)\n",
        "    g1_center:       107.030954 +/- 0.150067 (0.14%) (init= 105)\n",
        "    g1_amplitude:    4257.77319 +/- 42.38336 (1.00%) (init= 2000)\n",
        "    g1_fwhm:         39.2609138 +/- 0.377905 (0.96%)  == '2.3548200*g1_sigma'\n",
        "    g2_center:       153.270100 +/- 0.194667 (0.13%) (init= 155)\n",
        "    g2_amplitude:    2493.41770 +/- 36.16947 (1.45%) (init= 2000)\n",
        "    g2_sigma:        13.8069484 +/- 0.186794 (1.35%) (init= 15)\n",
        "    g2_fwhm:         32.5128783 +/- 0.439866 (1.35%)  == '2.3548200*g2_sigma'\n",
        "[[Correlations]] (unreported correlations are <  0.500)\n",
        "    C(g1_sigma, g1_amplitude)    =  0.824 \n",
        "    C(g2_amplitude, g2_sigma)    =  0.815 \n",
        "    C(exp_amplitude, exp_decay)  = -0.695 \n",
        "    C(g1_sigma, g2_center)       =  0.684 \n",
        "    C(g1_center, g2_amplitude)   = -0.669 \n",
        "    C(g1_center, g2_sigma)       = -0.652 \n",
        "    C(g1_amplitude, g2_center)   =  0.648 \n",
        "    C(g1_center, g2_center)      =  0.621 \n",
        "    C(g1_sigma, g1_center)       =  0.507 \n",
        "    C(exp_decay, g1_amplitude)   = -0.507 \n"
       ]
      },
      {
       "metadata": {},
       "output_type": "display_data",
       "png": "[encoded data removed]",
       "text": [
        "<matplotlib.figure.Figure at 0x107a92d50>"
       ]
      }
     ],
     "prompt_number": 2
    }
   ],
   "metadata": {}
  }
 ]
}